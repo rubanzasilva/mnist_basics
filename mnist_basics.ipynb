{
  "cells": [
    {
      "cell_type": "markdown",
      "metadata": {
        "id": "view-in-github",
        "colab_type": "text"
      },
      "source": [
        "<a href=\"https://colab.research.google.com/github/rubanzasilva/mnist_basics/blob/main/mnist_basics.ipynb\" target=\"_parent\"><img src=\"https://colab.research.google.com/assets/colab-badge.svg\" alt=\"Open In Colab\"/></a>"
      ]
    },
    {
      "cell_type": "markdown",
      "source": [
        "###Imports"
      ],
      "metadata": {
        "id": "VFvm09knnVkS"
      }
    },
    {
      "cell_type": "code",
      "execution_count": null,
      "metadata": {
        "id": "XjmcviI64Qe1",
        "colab": {
          "base_uri": "https://localhost:8080/"
        },
        "outputId": "61b54445-8f1d-4bfd-8575-9ab9e993dc22"
      },
      "outputs": [
        {
          "output_type": "stream",
          "name": "stdout",
          "text": [
            "\u001b[2K     \u001b[90m━━━━━━━━━━━━━━━━━━━━━━━━━━━━━━━━━━━━━━━━\u001b[0m \u001b[32m719.8/719.8 kB\u001b[0m \u001b[31m5.1 MB/s\u001b[0m eta \u001b[36m0:00:00\u001b[0m\n",
            "\u001b[2K     \u001b[90m━━━━━━━━━━━━━━━━━━━━━━━━━━━━━━━━━━━━━━━━\u001b[0m \u001b[32m507.1/507.1 kB\u001b[0m \u001b[31m7.8 MB/s\u001b[0m eta \u001b[36m0:00:00\u001b[0m\n",
            "\u001b[2K     \u001b[90m━━━━━━━━━━━━━━━━━━━━━━━━━━━━━━━━━━━━━━━━\u001b[0m \u001b[32m1.3/1.3 MB\u001b[0m \u001b[31m11.6 MB/s\u001b[0m eta \u001b[36m0:00:00\u001b[0m\n",
            "\u001b[2K     \u001b[90m━━━━━━━━━━━━━━━━━━━━━━━━━━━━━━━━━━━━━━━━\u001b[0m \u001b[32m115.3/115.3 kB\u001b[0m \u001b[31m12.3 MB/s\u001b[0m eta \u001b[36m0:00:00\u001b[0m\n",
            "\u001b[2K     \u001b[90m━━━━━━━━━━━━━━━━━━━━━━━━━━━━━━━━━━━━━━━━\u001b[0m \u001b[32m134.8/134.8 kB\u001b[0m \u001b[31m14.2 MB/s\u001b[0m eta \u001b[36m0:00:00\u001b[0m\n",
            "\u001b[2K     \u001b[90m━━━━━━━━━━━━━━━━━━━━━━━━━━━━━━━━━━━━━━━━\u001b[0m \u001b[32m1.6/1.6 MB\u001b[0m \u001b[31m16.6 MB/s\u001b[0m eta \u001b[36m0:00:00\u001b[0m\n",
            "\u001b[?25hMounted at /content/gdrive\n"
          ]
        }
      ],
      "source": [
        "#hide\n",
        "#This imports and sets up everything you will need for this notebook\n",
        "! [ -e /content ] && pip install -Uqq fastbook\n",
        "import fastbook\n",
        "fastbook.setup_book()"
      ]
    },
    {
      "cell_type": "code",
      "execution_count": null,
      "metadata": {
        "id": "McH5oRs3pv3l"
      },
      "outputs": [],
      "source": [
        "#hide\n",
        "from fastai.vision.all import *\n",
        "from fastbook import *\n",
        "import numpy as np\n",
        "\n",
        "matplotlib.rc('image', cmap='Greys')"
      ]
    },
    {
      "cell_type": "markdown",
      "source": [
        "#Under The Hood : Training A Digit Classifier\n",
        "\n",
        "Here we are going to build a computer vision model from scratch using the famous [MNIST](https://en.wikipedia.org/wiki/MNIST_database#:~:text=Article%20Talk,the%20field%20of%20machine%20learning.) dataset.\n",
        "This dataset contains images of Handwritten digits and was first used by Yan LeCun to build Lenet5, a handwritten digit classifier.\n",
        "\n",
        "We do this while introducing the fundamental concepts and tools for deep learning such as\n",
        "\n",
        "*   How to use NumPy Arrays and PyTorch Tensors\n",
        "*   Application of broadcasting to them\n",
        "*   Calculating gradients\n",
        "*   Definition and choice of a loss function for our problem\n",
        "*   Updating of the weights using Stochastic Gradient Descent and the role of mini batches.\n",
        "\n",
        "We finally put all the math together to build a simple neural network to classify images"
      ],
      "metadata": {
        "id": "qlEVzFx2jU2O"
      }
    },
    {
      "cell_type": "markdown",
      "source": [
        "##Pixels : Computer Vision Foundations"
      ],
      "metadata": {
        "id": "lsWzNiTyqdQ4"
      }
    },
    {
      "cell_type": "markdown",
      "source": [
        "First things first, lets consider how computers handle images.As we shall see later on, for a computer everything has to represented as numbers.\n",
        "To do this we shall first download the dataset.\n",
        "\n",
        "For the initial example, We are building a model to classify an image as a 3 or 7. With the code below, we download a sample from the original MNIST dataset which contains images of just these two digits.(3 and 7).\n"
      ],
      "metadata": {
        "id": "ScX9ollAq5Fi"
      }
    },
    {
      "cell_type": "code",
      "execution_count": null,
      "metadata": {
        "id": "m84ARw-vpxjx",
        "colab": {
          "base_uri": "https://localhost:8080/",
          "height": 37
        },
        "outputId": "51606c23-8118-4239-fc96-94f8725c05ec"
      },
      "outputs": [
        {
          "output_type": "display_data",
          "data": {
            "text/plain": [
              "<IPython.core.display.HTML object>"
            ],
            "text/html": [
              "\n",
              "<style>\n",
              "    /* Turns off some styling */\n",
              "    progress {\n",
              "        /* gets rid of default border in Firefox and Opera. */\n",
              "        border: none;\n",
              "        /* Needs to be in here for Safari polyfill so background images work as expected. */\n",
              "        background-size: auto;\n",
              "    }\n",
              "    progress:not([value]), progress:not([value])::-webkit-progress-bar {\n",
              "        background: repeating-linear-gradient(45deg, #7e7e7e, #7e7e7e 10px, #5c5c5c 10px, #5c5c5c 20px);\n",
              "    }\n",
              "    .progress-bar-interrupted, .progress-bar-interrupted::-webkit-progress-bar {\n",
              "        background: #F44336;\n",
              "    }\n",
              "</style>\n"
            ]
          },
          "metadata": {}
        },
        {
          "output_type": "display_data",
          "data": {
            "text/plain": [
              "<IPython.core.display.HTML object>"
            ],
            "text/html": [
              "\n",
              "    <div>\n",
              "      <progress value='3219456' class='' max='3214948' style='width:300px; height:20px; vertical-align: middle;'></progress>\n",
              "      100.14% [3219456/3214948 00:00&lt;00:00]\n",
              "    </div>\n",
              "    "
            ]
          },
          "metadata": {}
        }
      ],
      "source": [
        "path = untar_data(URLs.MNIST_SAMPLE)"
      ]
    },
    {
      "cell_type": "code",
      "execution_count": null,
      "metadata": {
        "id": "HctukwiXsA6d"
      },
      "outputs": [],
      "source": [
        "#hide\n",
        "Path.BASE_PATH = path"
      ]
    },
    {
      "cell_type": "markdown",
      "source": [
        "Fastai provides a method ls which we can use to see and get a count of whats inside the path directory.\n",
        "\n",
        "This method returns an object of a special fastai class called L, which has the same functionality as Python's Built-in List but supports advanced functionality such as advanced indexing, additional methods and encourages use of expressive code making it easier to work with Python lists.\n",
        "\n",
        "\n"
      ],
      "metadata": {
        "id": "FMotlZpd7otH"
      }
    },
    {
      "cell_type": "code",
      "execution_count": null,
      "metadata": {
        "id": "57J5slJDsG8M",
        "colab": {
          "base_uri": "https://localhost:8080/"
        },
        "outputId": "ea9ff34e-306d-43e7-b5d7-cb0e9c383703"
      },
      "outputs": [
        {
          "output_type": "execute_result",
          "data": {
            "text/plain": [
              "(#3) [Path('valid'),Path('labels.csv'),Path('train')]"
            ]
          },
          "metadata": {},
          "execution_count": 7
        }
      ],
      "source": [
        "path.ls()"
      ]
    },
    {
      "cell_type": "markdown",
      "metadata": {
        "id": "CB7XL_oxif37"
      },
      "source": [
        "As we can see above, the dataset follows a common pattern for machine learning datasets, where the data is separated into separate train and valid folders.\n"
      ]
    },
    {
      "cell_type": "code",
      "execution_count": null,
      "metadata": {
        "id": "51wUPhMPsHvF",
        "colab": {
          "base_uri": "https://localhost:8080/"
        },
        "outputId": "e8a9e41e-31e3-4bac-a395-9aec151a6024"
      },
      "outputs": [
        {
          "output_type": "execute_result",
          "data": {
            "text/plain": [
              "(#6131) [Path('train/3/45612.png'),Path('train/3/28760.png'),Path('train/3/38670.png'),Path('train/3/21596.png'),Path('train/3/50000.png'),Path('train/3/43773.png'),Path('train/3/5186.png'),Path('train/3/643.png'),Path('train/3/16019.png'),Path('train/3/40914.png')...]"
            ]
          },
          "metadata": {},
          "execution_count": 8
        }
      ],
      "source": [
        "(path/'train/3').ls()"
      ]
    },
    {
      "cell_type": "code",
      "source": [
        "(path/'valid/3').ls()"
      ],
      "metadata": {
        "id": "gM9U7KL7v_qc",
        "colab": {
          "base_uri": "https://localhost:8080/"
        },
        "outputId": "ebb9f9de-f8a6-4069-a79e-6c8e680d44d2"
      },
      "execution_count": null,
      "outputs": [
        {
          "output_type": "execute_result",
          "data": {
            "text/plain": [
              "(#1010) [Path('valid/3/6501.png'),Path('valid/3/9305.png'),Path('valid/3/8362.png'),Path('valid/3/5212.png'),Path('valid/3/4277.png'),Path('valid/3/1092.png'),Path('valid/3/9758.png'),Path('valid/3/7436.png'),Path('valid/3/5708.png'),Path('valid/3/5330.png')...]"
            ]
          },
          "metadata": {},
          "execution_count": 9
        }
      ]
    },
    {
      "cell_type": "markdown",
      "source": [
        "The training dataset is divided into different folders for the 3's and 7's which contains images of digits for 3 and 7 respectively.The '3s' and '7s' are the labels in this dataset.\n",
        "\n",
        "Lets us create a sorted list of our images for the 3's and 7's to ensure reproducibility as we shall always get the same order of files."
      ],
      "metadata": {
        "id": "6mIuh6Z_Gbr9"
      }
    },
    {
      "cell_type": "code",
      "source": [
        "threes = (path/'train/3').ls().sorted()\n",
        "sevens = (path/'train/7').ls().sorted()\n",
        "threes"
      ],
      "metadata": {
        "id": "f60G64azGR-o",
        "colab": {
          "base_uri": "https://localhost:8080/"
        },
        "outputId": "d7a9b5d3-fd40-4e07-ee82-d8214e7d4aa7"
      },
      "execution_count": null,
      "outputs": [
        {
          "output_type": "execute_result",
          "data": {
            "text/plain": [
              "(#6131) [Path('train/3/10.png'),Path('train/3/10000.png'),Path('train/3/10011.png'),Path('train/3/10031.png'),Path('train/3/10034.png'),Path('train/3/10042.png'),Path('train/3/10052.png'),Path('train/3/1007.png'),Path('train/3/10074.png'),Path('train/3/10091.png')...]"
            ]
          },
          "metadata": {},
          "execution_count": 10
        }
      ]
    },
    {
      "cell_type": "code",
      "source": [
        "valid_threes = (path/'valid/3').ls().sorted()\n",
        "valid_sevens = (path/'valid/7').ls().sorted()\n",
        "valid_threes"
      ],
      "metadata": {
        "id": "naotecGIvxSH",
        "colab": {
          "base_uri": "https://localhost:8080/"
        },
        "outputId": "a9faff4f-73a3-42e3-f905-67c96e54f90e"
      },
      "execution_count": null,
      "outputs": [
        {
          "output_type": "execute_result",
          "data": {
            "text/plain": [
              "(#1010) [Path('valid/3/1020.png'),Path('valid/3/1028.png'),Path('valid/3/1042.png'),Path('valid/3/1062.png'),Path('valid/3/1066.png'),Path('valid/3/1067.png'),Path('valid/3/1069.png'),Path('valid/3/1072.png'),Path('valid/3/1092.png'),Path('valid/3/1095.png')...]"
            ]
          },
          "metadata": {},
          "execution_count": 11
        }
      ]
    },
    {
      "cell_type": "code",
      "source": [
        "im3_path = threes[1]\n",
        "im3 = Image.open(im3_path)\n",
        "im3"
      ],
      "metadata": {
        "id": "7lzuN3EwEfrc",
        "colab": {
          "base_uri": "https://localhost:8080/",
          "height": 45
        },
        "outputId": "b974b2d6-2f7a-42ef-c01e-01144bb6fab8"
      },
      "execution_count": null,
      "outputs": [
        {
          "output_type": "execute_result",
          "data": {
            "text/plain": [
              "<PIL.PngImagePlugin.PngImageFile image mode=L size=28x28>"
            ],
            "image/png": "[encoded data removed]"
          },
          "metadata": {},
          "execution_count": 12
        }
      ]
    },
    {
      "cell_type": "markdown",
      "source": [
        "We use the Image class from the Python Imaging Library (PIL) to display a sample image from the 3's folder.\n",
        "\n",
        "Everything in a computer is represented as a number,To represent an image as a number in a computer, We have to convert it to a NumPy array or a PyTorch tensor as shown below."
      ],
      "metadata": {
        "id": "kOQdaoe_Mbsj"
      }
    },
    {
      "cell_type": "code",
      "source": [
        "im3_array = array(im3)\n",
        "im3_array[4:10,4:10]"
      ],
      "metadata": {
        "id": "lTYSYKSpPCum",
        "colab": {
          "base_uri": "https://localhost:8080/"
        },
        "outputId": "53f653bc-21d0-4b3d-f6ef-0f1f72372e5e"
      },
      "execution_count": null,
      "outputs": [
        {
          "output_type": "execute_result",
          "data": {
            "text/plain": [
              "array([[  0,   0,   0,   0,   0,   0],\n",
              "       [  0,   0,   0,   0,   0,  29],\n",
              "       [  0,   0,   0,  48, 166, 224],\n",
              "       [  0,  93, 244, 249, 253, 187],\n",
              "       [  0, 107, 253, 253, 230,  48],\n",
              "       [  0,   3,  20,  20,  15,   0]], dtype=uint8)"
            ]
          },
          "metadata": {},
          "execution_count": 13
        }
      ]
    },
    {
      "cell_type": "code",
      "source": [
        "im3_array"
      ],
      "metadata": {
        "id": "9f4Icq-pbRT9"
      },
      "execution_count": null,
      "outputs": []
    },
    {
      "cell_type": "markdown",
      "source": [
        "NumPy indexes from top to bottom and from left to right, as shown above with the 4:10 indicating the rows at the 4th index to the 9th index for both rows and columns.\n",
        "\n",
        "The same applies to the tensor below."
      ],
      "metadata": {
        "id": "qQ36G9tjSOvZ"
      }
    },
    {
      "cell_type": "code",
      "source": [
        "im3_tensor = tensor(im3)\n",
        "im3_tensor[4:10,4:10]"
      ],
      "metadata": {
        "id": "ckf1RxmMPHTa",
        "colab": {
          "base_uri": "https://localhost:8080/"
        },
        "outputId": "cac98d37-0f5c-49bd-8228-2761a4de8435"
      },
      "execution_count": null,
      "outputs": [
        {
          "output_type": "execute_result",
          "data": {
            "text/plain": [
              "tensor([[  0,   0,   0,   0,   0,   0],\n",
              "        [  0,   0,   0,   0,   0,  29],\n",
              "        [  0,   0,   0,  48, 166, 224],\n",
              "        [  0,  93, 244, 249, 253, 187],\n",
              "        [  0, 107, 253, 253, 230,  48],\n",
              "        [  0,   3,  20,  20,  15,   0]], dtype=torch.uint8)"
            ]
          },
          "metadata": {},
          "execution_count": 13
        }
      ]
    },
    {
      "cell_type": "code",
      "source": [
        "df = pd.DataFrame(im3_tensor[4:30,4:22])\n",
        "df.style.set_properties(**{'font-size':'6pt'}).background_gradient('Greys')"
      ],
      "metadata": {
        "id": "CA--1QbXbCw-"
      },
      "execution_count": null,
      "outputs": []
    },
    {
      "cell_type": "markdown",
      "source": [
        "Pandas Dataframe has an attribute *df.style* which returns a Styler object which contains methods for building a styled HTML representation of the DataFrame.\n",
        "\n",
        "The *set_properties* method is used to set CSS properties for the each cell in the dataframe. In this case that is setting the font-size to 6pt for every cell.\n",
        "\n",
        "The *background_gradient* method is used to add a gradient background color to the DataFrame. The intensity of the color is determined by the value in a particular cell, with the lowest values being specified at the start of the gradient in this case 0 being white and vice versa. In this example, we are using grey which means that our values will range from black to white.\n",
        "\n",
        "In summary, *set_properties* and *background_gradient* operations above will result in a dataframe with a font-size of 6pt and a gradient background color ranging from black to white.\n",
        "\n",
        "> Now the first question i had was why cant you use the set_properties method to set the gradient background color as opposed to using the background_gradient method ?\n",
        "\n",
        "Based on my research, i find out that set_properties can only set a static background color and we would have to write a custom function that calculates the color for each cell based on the value and applies it using set_properties.\n",
        "\n",
        "After taking a look at how our data looks like, we can go ahead to build a very simple model that recognizes 3's and 7's which we can use as our baseline.\n"
      ],
      "metadata": {
        "id": "Cn1WPg7Lh7_I"
      }
    },
    {
      "cell_type": "markdown",
      "metadata": {
        "id": "N4KOkPb8yaBi"
      },
      "source": [
        "## Baseline Model\n",
        "\n",
        "A baseline model should be a simple to implement model that you are confident performs reasonably well, which we can use as our lower bound for the models we are building. We check if the models we are building are better than the baseline.\n",
        "\n",
        "Starting with a simple reasonable baseline helps us ensure that the super complex models we build later on are any good."
      ]
    },
    {
      "cell_type": "markdown",
      "metadata": {
        "id": "dDt7Q4aQydba"
      },
      "source": [
        "### Pixel Similarity\n",
        "\n",
        "For our baseline model, we can use the idea of **pixel similarity**.\n",
        "\n",
        "Here we find the average pixel values for every pixel position for all image groups of 3's and 7's giving us two group averages, One representing the group of 3's and another the group of 7's.\n",
        "This defines what we may call the \"**ideal 3**\" and the **\"ideal 7\"**.\n",
        "\n",
        "To classfify a random image as a 3 or 7, we see which of these two ideal digits the image is most similar to.\n",
        "\n",
        "We previously saw how to convert an image to a tensor, we do the same and create a plain list of single image tensors of all the images in a directory for example we can convert all the threes in **threes** defined above to tensors.\n",
        "\n",
        "We use Python list comprehension to do this and below is an example of this.\n",
        "\n",
        "new_list = [f(0) for o in a_list if o>1].\n",
        "This returns every element in **a_list** that is **greater than 1** after applying function, **f**.\n",
        "\n",
        "Let us view one of the images to test that everything is ok, we can view one of the single image tensors using fastai's *show_image* function.\n",
        "\n"
      ]
    },
    {
      "cell_type": "code",
      "source": [
        "threes_tensors = [tensor(Image.open(o)) for o in threes]\n",
        "sevens_tensors = [tensor(Image.open(o)) for o in sevens]\n",
        "len(threes_tensors), len(sevens_tensors)"
      ],
      "metadata": {
        "id": "f9R9xGE52Ata",
        "colab": {
          "base_uri": "https://localhost:8080/"
        },
        "outputId": "6d22eee8-6807-4873-ce62-3a1b714db178"
      },
      "execution_count": null,
      "outputs": [
        {
          "output_type": "execute_result",
          "data": {
            "text/plain": [
              "(6131, 6265)"
            ]
          },
          "metadata": {},
          "execution_count": 14
        }
      ]
    },
    {
      "cell_type": "code",
      "source": [
        "show_image(threes_tensors[1]);"
      ],
      "metadata": {
        "id": "LXYN2eFikVpU",
        "colab": {
          "base_uri": "https://localhost:8080/",
          "height": 114
        },
        "outputId": "de595745-8155-400a-ecee-ef21d264b9bf"
      },
      "execution_count": null,
      "outputs": [
        {
          "output_type": "display_data",
          "data": {
            "text/plain": [
              "<Figure size 100x100 with 1 Axes>"
            ],
            "image/png": "[encoded data removed]"
          },
          "metadata": {}
        }
      ]
    },
    {
      "cell_type": "markdown",
      "source": [
        "So to get the average/ideal image for each group, we need to compute the average pixel intensity for every pixel position in an image.\n",
        "Inorder to do this ,we need to stack all our respective images in a collection for each group together into a single 3d tensor also called a rank 3 tensor that we can perform operations on.Luckily enough, PyTorch provides a function *stack* that can do this for us.\n",
        "\n",
        "\n",
        "Some common operations such as mean usually require the input to be floats, so we convert all our images in the tensor to float by casting as illustrated below.\n",
        "\n",
        "Generally when images are floats, pixel values are expected to be between 0 and 1. To do this, we divide the results by the max value of 255.\n",
        "\n"
      ],
      "metadata": {
        "id": "kkduOzsAkWbj"
      }
    },
    {
      "cell_type": "code",
      "source": [
        "stacked_threes = torch.stack(threes_tensors).float()/255\n",
        "stacked_sevens = torch.stack(sevens_tensors).float()/255\n",
        "stacked_threes.shape,stacked_sevens.shape"
      ],
      "metadata": {
        "id": "KqAvykCPqvQB",
        "colab": {
          "base_uri": "https://localhost:8080/"
        },
        "outputId": "842e5ada-d509-4491-d3a3-2c3f336f013e"
      },
      "execution_count": null,
      "outputs": [
        {
          "output_type": "execute_result",
          "data": {
            "text/plain": [
              "(torch.Size([6131, 28, 28]), torch.Size([6265, 28, 28]))"
            ]
          },
          "metadata": {},
          "execution_count": 15
        }
      ]
    },
    {
      "cell_type": "markdown",
      "source": [
        "Here we see that for the threes we have 6131 image examples which is made up of a 28 x 28 matix.\n",
        "\n",
        "To get our ideal numbers, we want to compute the mean value intensity for every image pixel position in each tensor.To do this we take the mean over the 0th dimension of our rank 3 tensor specified by passing in the argument 0 in the mean function.\n",
        "\n",
        "This dimension indexes over all images and results in a single average pixel value for every position."
      ],
      "metadata": {
        "id": "QzmtbR8irci_"
      }
    },
    {
      "cell_type": "code",
      "source": [
        "ideal_three = stacked_threes.mean(0)\n",
        "ideal_seven = stacked_sevens.mean(0)\n",
        "show_image(ideal_three);"
      ],
      "metadata": {
        "id": "A79BmoNAuUAm",
        "colab": {
          "base_uri": "https://localhost:8080/",
          "height": 114
        },
        "outputId": "acfaca5f-8df5-4e8a-bd7b-5f7163f0a705"
      },
      "execution_count": null,
      "outputs": [
        {
          "output_type": "display_data",
          "data": {
            "text/plain": [
              "<Figure size 100x100 with 1 Axes>"
            ],
            "image/png": "[encoded data removed]"
          },
          "metadata": {}
        }
      ]
    },
    {
      "cell_type": "code",
      "source": [
        "show_image(ideal_seven);"
      ],
      "metadata": {
        "id": "rLjUS-eErRom",
        "colab": {
          "base_uri": "https://localhost:8080/",
          "height": 114
        },
        "outputId": "b3981061-69c1-45d2-f00e-f9365c633782"
      },
      "execution_count": null,
      "outputs": [
        {
          "output_type": "display_data",
          "data": {
            "text/plain": [
              "<Figure size 100x100 with 1 Axes>"
            ],
            "image/png": "[encoded data removed]"
          },
          "metadata": {}
        }
      ]
    },
    {
      "cell_type": "markdown",
      "source": [
        "Now that we have our ideal digits, we can compute our pixel similarity which is the distance from an abitrary image and our ideal image which we are using as our initial baseline.\n"
      ],
      "metadata": {
        "id": "IyPp5Gh04MvT"
      }
    },
    {
      "cell_type": "markdown",
      "source": [
        "####Measuring Distance\n",
        "\n",
        "How do we measure the distance from an abitrary number and an ideal number.One way would be to take the difference between each pixel position value for the abitrary and ideal images and add it up.\n",
        "\n",
        "If we do this, we notice that some differences are positive while some are negative and this causes the differences to cancel themselves out leading a sitution where an image that is too dark and too light in some postions might be shown as having zero differences from the ideal which is misleading.\n",
        "\n",
        "To avoid this, there are 2 main ways data scientists measure distance in this context\n",
        "- You could take the mean of the absolute value of the differences where the absolute value function in this case replaces negative values with positive values. This is called the mean absolute difference or the L1 norm.\n",
        "\n",
        "- Or we could take the mean of the square of the differences which makes the negative values positive, then take the square root to undo the squaring effect.This is called the Root Mean Squared Error (RMSE) or L2 norm.\n",
        "\n",
        "So lets now pick a random three from our stacked tensor and get the L1 and L2 norm with the random and ideal number."
      ],
      "metadata": {
        "id": "SuNYKS5j5AKI"
      }
    },
    {
      "cell_type": "code",
      "source": [
        "abitrary_three = stacked_threes[1]\n",
        "abitrary_seven = stacked_sevens[1]\n",
        "show_image(abitrary_three);"
      ],
      "metadata": {
        "id": "4sQXBC_u87Zq",
        "colab": {
          "base_uri": "https://localhost:8080/",
          "height": 114
        },
        "outputId": "57fd8e05-8f1f-42b2-f45d-22e2fdc3f4b3"
      },
      "execution_count": null,
      "outputs": [
        {
          "output_type": "display_data",
          "data": {
            "text/plain": [
              "<Figure size 100x100 with 1 Axes>"
            ],
            "image/png": "[encoded data removed]"
          },
          "metadata": {}
        }
      ]
    },
    {
      "cell_type": "code",
      "source": [
        "#L1 norm\n",
        "distance_from_ideal_three_l1 = (abitrary_three - ideal_three).abs().mean()\n",
        "distance_from_ideal_seven_l1 = (abitrary_three - ideal_seven).abs().mean()\n",
        "distance_from_ideal_three_l1,distance_from_ideal_seven_l1"
      ],
      "metadata": {
        "id": "Vu6o5N_m9e8_",
        "colab": {
          "base_uri": "https://localhost:8080/"
        },
        "outputId": "c5d6d535-8e11-4617-a3cc-e46d68c0e8d0"
      },
      "execution_count": null,
      "outputs": [
        {
          "output_type": "execute_result",
          "data": {
            "text/plain": [
              "(tensor(0.1114), tensor(0.1586))"
            ]
          },
          "metadata": {},
          "execution_count": 21
        }
      ]
    },
    {
      "cell_type": "code",
      "source": [
        "#L2 norm\n",
        "distance_from_ideal_three_l2 = ((abitrary_three - ideal_three)**2).mean().sqrt()\n",
        "distance_from_ideal_seven_l2 = ((abitrary_three - ideal_seven)**2).mean().sqrt()\n",
        "distance_from_ideal_three_l2,distance_from_ideal_seven_l2"
      ],
      "metadata": {
        "id": "AgOJWz5Q_4fb",
        "colab": {
          "base_uri": "https://localhost:8080/"
        },
        "outputId": "a7f68cf2-cff9-44af-9cbc-7fe44bf94e1e"
      },
      "execution_count": null,
      "outputs": [
        {
          "output_type": "execute_result",
          "data": {
            "text/plain": [
              "(tensor(0.2021), tensor(0.3021))"
            ]
          },
          "metadata": {},
          "execution_count": 22
        }
      ]
    },
    {
      "cell_type": "markdown",
      "source": [
        "We see that in both cases the distance from the abitrary number to the ideal three is less than the distance from the abitrary number to the ideal seven.\n",
        "\n",
        "This is as expected as the random number was a 3 meaning our simple baseline model gives the right prediction in both cases.\n",
        "\n",
        "Luckily PyTorch provide both the L1 norm and the L2 norm as loss functions you can import from the torch.nn.functional module. which the PyTorch team recommends importing as F."
      ],
      "metadata": {
        "id": "J7qgCFI2-C4S"
      }
    },
    {
      "cell_type": "code",
      "source": [
        "F.l1_loss(abitrary_three.float(),ideal_three),F.l1_loss(abitrary_three.float(),ideal_seven)"
      ],
      "metadata": {
        "id": "JYA6JJcBC797",
        "colab": {
          "base_uri": "https://localhost:8080/"
        },
        "outputId": "9acaf1c3-d422-44dc-ba52-1fa5f446ae12"
      },
      "execution_count": null,
      "outputs": [
        {
          "output_type": "execute_result",
          "data": {
            "text/plain": [
              "(tensor(0.1114), tensor(0.1586))"
            ]
          },
          "metadata": {},
          "execution_count": 23
        }
      ]
    },
    {
      "cell_type": "code",
      "source": [
        "F.mse_loss(abitrary_three,ideal_three).sqrt(),F.mse_loss(abitrary_three,ideal_seven).sqrt()"
      ],
      "metadata": {
        "id": "iYqODos9EJsn",
        "colab": {
          "base_uri": "https://localhost:8080/"
        },
        "outputId": "0b971dfd-b6c8-4ab7-e027-3470aa054319"
      },
      "execution_count": null,
      "outputs": [
        {
          "output_type": "execute_result",
          "data": {
            "text/plain": [
              "(tensor(0.2021), tensor(0.3021))"
            ]
          },
          "metadata": {},
          "execution_count": 24
        }
      ]
    },
    {
      "cell_type": "markdown",
      "source": [
        "So now that we have our baseline model, we need to calculate how good the model is,by this i mean how good the models predictions/ calculations of distance are.We can do this by constructing a metric.\n",
        "\n",
        "But before we get into this, lets look into the fundamental data structures we are working with, NumPy Arrays and PyTorch tensors."
      ],
      "metadata": {
        "id": "5zCl_v1lEkm4"
      }
    },
    {
      "cell_type": "markdown",
      "metadata": {
        "id": "aQnlC467IA1t"
      },
      "source": [
        "#### NumPy Array and PyTorch Tensor data structures\n",
        "\n",
        "Python is a slow language compared to most, anything fast in PyTorch is probably a wrapper of an object written, compiled and optimized in another language, usually C.\n",
        "C is a low level programming language, which is very fast compared to python.\n",
        "\n",
        "The fastai book describes Numpy Arrays and PyTorch tensors as follows\n",
        "\n",
        "\n",
        "\n",
        "> A NumPy array is a multidimensional table of data of the same type. This can be any type i.e. a list, matrix, cube or even an array of arrays (jagged array).If items are all of some simple type e.g. int, floats etc., NumPy arrays can be stored as compact c data structures in memory.NumPy has a wide variety of operators and methods it can use to perform computation on these data structures at the same speed optimized C which is a multitude faster than Python. This is because they are written in optimized C.\n",
        "\n",
        "> A PyTorch tensor is nearly the same thing as a numpy array, with the exception that the tensor can only be of a basic numerical type / simple type such as int, float etc for example a PyTorch tensor cannot be a jagged array, it will always be a multidimensional rectangular structure. PyTorch tensors can also live on GPU and are also optimized for GPU, meaning they can perform faster computations given lots of values to work with.\n",
        "PyTorch also supports calculating gradients which is crucial for machine learning as our loss function and weight optimizations are calculated based on the gradients.\n",
        "As we shall see later on, it would be impossible to do machine learning without this ability.\n",
        "\n",
        "\n"
      ]
    },
    {
      "cell_type": "markdown",
      "metadata": {
        "id": "vXyJp_fWif4G"
      },
      "source": [
        "### Computing Metrics Using Broadcasting\n",
        "\n",
        "Remember above, we have a baseline model that tells us if a number is a 3 or 7. To do machine learning we need to know how good that model is.\n",
        "\n",
        "To do this we define a metric which is just a number that tells us how good our model is. We do this using the correct labels of the data and the predictions of the model.\n",
        "\n",
        "We could use any of our above functions, for example, RMSE as a metric, in this case, we shall use accuracy as the metric as it is more interpretable by the end users.\n",
        "\n",
        "We want to calculate our metric based on the validation set, as this data has not been seen by the model during training. Calculating our metric based on our training set will inadvertently lead to the model overfitting on the train set data which results in poor results when the model sees new data.\n",
        "Our baseline model has no training component, hence this doesn't matter but nonetheless, we shall go ahead and use the validation set as a best practice.\n",
        "\n",
        "Since we already have our ideal value for 3 and 7, we create a stacked tensor as done before using the validation set.\n"
      ]
    },
    {
      "cell_type": "code",
      "execution_count": null,
      "metadata": {
        "id": "btrvB-Niif4J"
      },
      "outputs": [],
      "source": [
        "valid_threes = (path/'valid/3').ls().sorted()\n",
        "valid_sevens = (path/'valid/7').ls().sorted()\n",
        "\n",
        "valid_three_tensors = [tensor(Image.open(o)) for o in valid_threes]\n",
        "valid_seven_tensors = [tensor(Image.open(o)) for o in valid_sevens]\n",
        "\n",
        "valid_stacked_threes = torch.stack(valid_three_tensors).float()/255\n",
        "valid_stacked_sevens = torch.stack(valid_seven_tensors).float()/255"
      ]
    },
    {
      "cell_type": "code",
      "source": [
        "valid_stacked_threes.shape"
      ],
      "metadata": {
        "id": "3WTs_qGNY_a7"
      },
      "execution_count": null,
      "outputs": []
    },
    {
      "cell_type": "markdown",
      "source": [
        "We want to write a function **is_3**, which classifies a digit by determining which ideal number the arbitrary number is closer to.\n",
        "\n",
        "\n",
        "For this, we need to define some notion of distance by defining a function that calculates the distance between two images. We do this by defining a function that calculates the mean absolute error for images a and b as we had done before."
      ],
      "metadata": {
        "id": "ZE7E5ypoTNMS"
      }
    },
    {
      "cell_type": "code",
      "source": [
        "def mnist_distance(a,b):\n",
        "  return (a-b).abs().mean((-1,-2))\n",
        "\n",
        "mnist_distance(abitrary_three, ideal_three), mnist_distance(abitrary_three, ideal_seven)"
      ],
      "metadata": {
        "colab": {
          "base_uri": "https://localhost:8080/"
        },
        "id": "CqhvqML7TROV",
        "outputId": "6f5ff95c-62f1-4157-80b5-d11d1ead6709"
      },
      "execution_count": null,
      "outputs": [
        {
          "output_type": "execute_result",
          "data": {
            "text/plain": [
              "(tensor(0.1114), tensor(0.1586))"
            ]
          },
          "metadata": {},
          "execution_count": 27
        }
      ]
    },
    {
      "cell_type": "code",
      "source": [
        "#effect of .mean((-1,-2))\n",
        "\n",
        "import numpy as np\n",
        "foo = np.random.randn(4, 3, 2)\n",
        "# array of 4 numbers and a single number\n",
        "foo.mean(axis=(-1, -2)), foo.mean()"
      ],
      "metadata": {
        "colab": {
          "base_uri": "https://localhost:8080/"
        },
        "id": "4oFTvb_AUjTf",
        "outputId": "4f1081a9-d334-4818-86fa-ca699cea5053"
      },
      "execution_count": null,
      "outputs": [
        {
          "output_type": "execute_result",
          "data": {
            "text/plain": [
              "(array([ 0.34347965,  0.24843096, -0.77618452, -0.40627921]),\n",
              " -0.1476382809136289)"
            ]
          },
          "metadata": {},
          "execution_count": 28
        }
      ]
    },
    {
      "cell_type": "markdown",
      "source": [
        "You will notice, that we get the same values as previously calculated for these images in distance_from_ideal_three_l1 and distance_from_ideal_seven_l1.\n",
        "\n",
        "This is the distance from the ideal 3 to the arbitrary number and the ideal 7 to the arbitrary number. We have the distance for one image but we want to calculate the distance between the ideal number and all images in the dataset.\n",
        "\n",
        "\n",
        "How do we go ahead doing this? Traditionally we could create a Python loop that takes each image tensor in our stack of shape torch.Size([1010, 28, 28]) which represents 1,010 28 x 28-pixel images stacked up and calculates the distance between each one and the ideal digits image tensor.\n",
        "\n",
        "However, something interesting happens if we define a variable that takes our tensor stacked with all the images as input for our mnist_distance function which we defined to calculate the distance between two images.\n",
        "\n"
      ],
      "metadata": {
        "id": "jIZsX3wvWI56"
      }
    },
    {
      "cell_type": "code",
      "source": [
        "valid_three_distance = mnist_distance(valid_stacked_threes, ideal_three)\n",
        "valid_three_distance"
      ],
      "metadata": {
        "id": "43iOCXbYVkar",
        "colab": {
          "base_uri": "https://localhost:8080/"
        },
        "outputId": "db864d5f-fe5e-4408-f5bb-0d7b90d5f65f"
      },
      "execution_count": null,
      "outputs": [
        {
          "output_type": "execute_result",
          "data": {
            "text/plain": [
              "tensor([0.1280, 0.1623, 0.1242,  ..., 0.1508, 0.1263, 0.1260])"
            ]
          },
          "metadata": {},
          "execution_count": 29
        }
      ]
    },
    {
      "cell_type": "code",
      "source": [
        "valid_three_distance.shape"
      ],
      "metadata": {
        "colab": {
          "base_uri": "https://localhost:8080/"
        },
        "id": "tKzQJ3iMbAzj",
        "outputId": "5f21155c-8618-4908-bb2b-17fd1f7ec72b"
      },
      "execution_count": null,
      "outputs": [
        {
          "output_type": "execute_result",
          "data": {
            "text/plain": [
              "torch.Size([1010])"
            ]
          },
          "metadata": {},
          "execution_count": 30
        }
      ]
    },
    {
      "cell_type": "code",
      "source": [
        "valid_stacked_threes.shape,ideal_three.shape"
      ],
      "metadata": {
        "colab": {
          "base_uri": "https://localhost:8080/"
        },
        "id": "Cypd-wxvgyvl",
        "outputId": "91dc5ea6-63ce-4463-a710-d2777f17f90c"
      },
      "execution_count": null,
      "outputs": [
        {
          "output_type": "execute_result",
          "data": {
            "text/plain": [
              "(torch.Size([1010, 28, 28]), torch.Size([28, 28]))"
            ]
          },
          "metadata": {},
          "execution_count": 31
        }
      ]
    },
    {
      "cell_type": "markdown",
      "source": [
        "The valid_three_distance results in 1,010 different vector values of distance for every image tensor in the stack as opposed to returning an error complaining about mismatching shapes.\n",
        "\n",
        "The trick here is broadcasting.When we perform a simple calculation such as (a-b) on two tensors of different ranks, Broadcasting expands the smaller tensor in memory, to have the same size as the larger tensor.\n",
        "\n",
        "After broadcasting , PyTorch does its usual element wise subtraction.Lets take an example\n"
      ],
      "metadata": {
        "id": "CX6M9IQ_bIhP"
      }
    },
    {
      "cell_type": "code",
      "execution_count": null,
      "metadata": {
        "id": "UPA-ZHtIif4w",
        "colab": {
          "base_uri": "https://localhost:8080/"
        },
        "outputId": "9cb22fbd-ad09-44dd-c6eb-25f1d2b83824"
      },
      "outputs": [
        {
          "output_type": "execute_result",
          "data": {
            "text/plain": [
              "tensor([2, 3, 4])"
            ]
          },
          "metadata": {},
          "execution_count": 32
        }
      ],
      "source": [
        "tensor([1,2,3]) + tensor(1)"
      ]
    },
    {
      "cell_type": "markdown",
      "metadata": {
        "id": "PzvUZD5pif4x"
      },
      "source": [
        "This results in tensor([2,3,4]) which looks like an element-wise addition.\n",
        "\n",
        "PyTorch in this case treats tensor(1) as if it were three copies of the same tensor. Similarly mean3, a rank 2 tensor representing a single image is treated as if it were 1,010 copies of the same image. It then subtracts each copy from an image in our valid_threes_dist calculating the distance between every 3 in the validation set and the ideal 3 resulting in 1,010 different versions.\n",
        "\n",
        "When PyTorch performs broadcasting, it doesn't copy the image 1,010 times. It just pretends that a tensor is of that shape but it doesnt allocate any memory for this.\n",
        "\n",
        "PyTorch performs the whole computation in C code, and CUDA on GPU which is just C for GPU resulting in performance thousands of times faster than using pure Python and millions of times faster on GPU.\n",
        "This is true of all broadcasting and element-wise operations and functions done in PyTorch.\n",
        "\n",
        "In our function mnist_distance, we see .abs() which applies the method to every resulting element in a tensor returning a tensor that contains 1,010 absolute values.\n",
        "\n",
        "Then finally we call .mean((-1,-2)) which contains a tuple of (-1,-2) which are a range of axes that represents the last and second last elements. This tells PyTorch that we want to take the mean ranging over values indexed by the last two axes of the tensor, which are the horizontal and vertical dimensions of an image.\n",
        "\n",
        "After this we are left with the first tensor axis which takes the mean over all images in the tensor, meaning we calculate the average intensity of all pixels for an image.\n",
        "\n",
        "\n",
        "####**is_3**\n",
        "\n",
        "We now define a function is_3 to determine whether an image is a 3 or a 7.\n",
        "\n",
        "We can use mnist_distance defined above to check whether an image is a 3 or 7 by using the following logic, if the distance between the selected image and the ideal 3 is less than the distance to the ideal 7, then the number is a 3.\n",
        "\n",
        "We define a function is_3 with the above logic"
      ]
    },
    {
      "cell_type": "code",
      "execution_count": null,
      "metadata": {
        "id": "if0RQ-5Kif4z"
      },
      "outputs": [],
      "source": [
        "def is_3(x):\n",
        "    return (mnist_distance(x,ideal_three) < mnist_distance(x, ideal_seven))\n",
        "\n",
        "def is_7(x):\n",
        "  return (mnist_distance(ideal_seven, x) < (mnist_distance(ideal_three, x)))\n",
        "\n",
        "is_3(ideal_three),is_3(ideal_seven)"
      ]
    },
    {
      "cell_type": "markdown",
      "source": [
        "Using a comparison or logical operator in a return statement of a function returns a boolean True Or False\n",
        "\n",
        "When the above value is converted to float, the function returns 1 for True or 0 for false."
      ],
      "metadata": {
        "id": "R-B74IpTaN0t"
      }
    },
    {
      "cell_type": "code",
      "source": [
        "is_3(ideal_three).float(), is_3(ideal_seven).float()"
      ],
      "metadata": {
        "colab": {
          "base_uri": "https://localhost:8080/"
        },
        "id": "n8jMjCX9qiSv",
        "outputId": "5f11dbb6-e2ea-49b8-b3d8-995c9de82405"
      },
      "execution_count": null,
      "outputs": [
        {
          "output_type": "execute_result",
          "data": {
            "text/plain": [
              "(tensor(1.), tensor(0.))"
            ]
          },
          "metadata": {},
          "execution_count": 36
        }
      ]
    },
    {
      "cell_type": "markdown",
      "source": [
        "We can now run is_3 with the stacked_tensor of all images in it.This function will automatically apply broadcasting and run this function element-wise for every image tensor."
      ],
      "metadata": {
        "id": "U9ED0wc_tyiH"
      }
    },
    {
      "cell_type": "code",
      "source": [
        "is_3(stacked_threes), is_3(stacked_threes).float()"
      ],
      "metadata": {
        "colab": {
          "base_uri": "https://localhost:8080/"
        },
        "id": "_O4eBZIDtyA7",
        "outputId": "9e5dca82-bbaf-4c55-b262-a515981f544f"
      },
      "execution_count": null,
      "outputs": [
        {
          "output_type": "execute_result",
          "data": {
            "text/plain": [
              "(tensor([True, True, True,  ..., True, True, True]),\n",
              " tensor([1., 1., 1.,  ..., 1., 1., 1.]))"
            ]
          },
          "metadata": {},
          "execution_count": 37
        }
      ]
    },
    {
      "cell_type": "code",
      "source": [
        "is_3(valid_stacked_threes), is_3(valid_stacked_threes).float()"
      ],
      "metadata": {
        "colab": {
          "base_uri": "https://localhost:8080/"
        },
        "id": "7K6akz-nx89_",
        "outputId": "ce225e6f-6074-4835-e871-ea7625cac08e"
      },
      "execution_count": null,
      "outputs": [
        {
          "output_type": "execute_result",
          "data": {
            "text/plain": [
              "(tensor([ True,  True,  True,  ..., False,  True,  True]),\n",
              " tensor([1., 1., 1.,  ..., 0., 1., 1.]))"
            ]
          },
          "metadata": {},
          "execution_count": 38
        }
      ]
    },
    {
      "cell_type": "markdown",
      "source": [
        "We take the average for all threes in the stacked tensor to get the accuracy for all the threes image tensors.\n",
        "To get the accuracy for the sevens, we take the inverse of the same function."
      ],
      "metadata": {
        "id": "vQAwW9Lvy2qP"
      }
    },
    {
      "cell_type": "code",
      "source": [
        "accuracy_threes = is_3(valid_stacked_threes).float().mean()\n",
        "accuracy_sevens = ( 1 - is_3(valid_stacked_sevens).float() ).mean()\n",
        "accuracy_sevens_a = is_7(valid_stacked_sevens).float().mean()\n",
        "accuracy_threes, accuracy_sevens, accuracy_sevens_a, (accuracy_threes + accuracy_sevens_a)/2\n"
      ],
      "metadata": {
        "colab": {
          "base_uri": "https://localhost:8080/"
        },
        "id": "YsHfsPyXytfL",
        "outputId": "7b90922e-da09-4e5f-f06e-7ae8e52f0c60"
      },
      "execution_count": null,
      "outputs": [
        {
          "output_type": "execute_result",
          "data": {
            "text/plain": [
              "(tensor(0.9168), tensor(0.9854), tensor(0.9854), tensor(0.9511))"
            ]
          },
          "metadata": {},
          "execution_count": 39
        }
      ]
    },
    {
      "cell_type": "markdown",
      "source": [
        "So we see we are getting over 90% accuracy for our model when classfying digits 3 and 7.\n",
        "\n",
        "But 3 and 7 are only 2 numbers and they also look quite different, we need to build a system that contiunuosly improve and is more robust.As we see our baseline pixel similarity model has no way to improving or learning.\n",
        "\n",
        "Lets try buidling a model that learns from previous predictions and automatically modifies itself to improve performance.We are now going to see how we can train a model to learn."
      ],
      "metadata": {
        "id": "PIxg_IHizZAv"
      }
    },
    {
      "cell_type": "code",
      "source": [
        "def is_test(a,b,c):\n",
        "  return ((a-b) < (a-c))\n",
        "\n",
        "is_test(6,8,4)"
      ],
      "metadata": {
        "colab": {
          "base_uri": "https://localhost:8080/"
        },
        "id": "N7XsvelTnxOq",
        "outputId": "9e23d568-e8e0-4b2c-8489-8069cfcb5328"
      },
      "execution_count": null,
      "outputs": [
        {
          "output_type": "execute_result",
          "data": {
            "text/plain": [
              "True"
            ]
          },
          "metadata": {},
          "execution_count": 40
        }
      ]
    },
    {
      "cell_type": "code",
      "source": [
        "is_test.float()"
      ],
      "metadata": {
        "id": "3EscoErMarQD"
      },
      "execution_count": null,
      "outputs": []
    },
    {
      "cell_type": "markdown",
      "metadata": {
        "id": "lv3DC2KKif43"
      },
      "source": [
        "### Stochastic Gradient Descent\n",
        "\n",
        "Building a model that continously improves.\n",
        "\n",
        "In 1962, Arthur Samuels described machine learning in his classic essay \"Artificial Intelligence: A frontier of automation\". Here he suggests that instead of telling a computer the exact steps needed to solve a problem like regular programming, we could just show the computer, a number of examples and let it figure out how to solve a problem itself. This indeed turned out to be a powerful idea, as was later shown.\n",
        "\n",
        "Arthur Samuel's basic idea was\n",
        "\n",
        "\n",
        "> Suppose we arrange for some automatic means of testing the effectiveness of any current weight assignment in terms of actual performance and provide a mechanism for altering the weight assignment so as to maximize the performance. We need not go into the details of such a procedure to see that it could be made entirely automatic and to see that a machine so programmed would \"learn\" from its experience.\n",
        "\n",
        "This spells out some powerful concepts\n",
        "- The idea of weight assignment\n",
        "- The fact that weight assignment has some actual performance that can be tested\n",
        "- The idea that there needs to be an automatic means of testing the weight assignment\n",
        "- The need for an automatic means of improving the performance by altering the weights\n",
        "\n",
        "\n",
        "This is the key to building a model that continuously gets better, unfortunately our pixel similarity lacks a learning mechanism, meaning it cannot continuously get better.\n",
        "\n",
        "To take advantage of deep learning, we represent the problem in the form Arthur Samuels described above.\n",
        "To do this, we use the concepts of weights, instead of calculating the distance between the pixels of an image and the ideal image, we assign weights to each pixel whereby the highest weights are associated with the pixels that are most likely to be black.\n",
        "\n",
        "> For instance, pixels toward the bottom right are not very likely to be activated for a 7, so they should have a low weight for a 7, but they are likely to be activated for an 8, so they should have a high weight for an 8. This can be represented as a function and set of weight values for each possible category—for instance the probability of being the number 8\n",
        "\n",
        "This can be represented as a function and a set of weight values for each category, for example the probability of being an 8 can be represented as below\n"
      ]
    },
    {
      "cell_type": "code",
      "execution_count": null,
      "metadata": {
        "id": "ZBc09zkKif44"
      },
      "outputs": [],
      "source": [
        "def pr_eight(x,w):\n",
        "    return (x*w).sum()"
      ]
    },
    {
      "cell_type": "markdown",
      "metadata": {
        "id": "g9HLWFDnif44"
      },
      "source": [
        "Here we assume that the x is an image with the rows stacked up into one line as a single tensor. w, represents the weights. With this we just need to update the weights in such a way that the model improves, we continuously improve the weights until we can't improve them any more, or we reach the selected number of epochs/iterations. We want the values of w to be high for numbers that are actually 8 and low for numbers that are not. With this just need to find the best weights for 8 to come up with the best function that can recognize 8's.\n",
        "\n",
        "To find the above function into a machine learning classifier, we follow the specific steps\n",
        "1. We initialize the weights\n",
        "2. Using set weights, we calculate whether an image is a 3 or 7 and get predictions\n",
        "3. Using predictions from step 2, we calculate our loss which tell us how good our predictions are\n",
        "4. Based on the above loss, we calculate our gradients, which tell us how changing the weights affects the model\n",
        "5. Based on above gradients, we change the weights in the direction that improves the model\n",
        "6. Go back to step 2, and repeat the process\n",
        "7. Iterate until you usually stop because the model is good enough, or you are tired of waiting\n",
        "\n",
        "These steps are illustrated as shown below"
      ]
    },
    {
      "cell_type": "code",
      "execution_count": null,
      "metadata": {
        "id": "-kZvqu8Iif45",
        "colab": {
          "base_uri": "https://localhost:8080/",
          "height": 126
        },
        "outputId": "e136ae0b-968c-4b95-f334-bab4e28dd2b5"
      },
      "outputs": [
        {
          "output_type": "execute_result",
          "data": {
            "image/svg+xml": "<?xml version=\"1.0\" encoding=\"UTF-8\" standalone=\"no\"?>\n<!DOCTYPE svg PUBLIC \"-//W3C//DTD SVG 1.1//EN\"\n \"http://www.w3.org/Graphics/SVG/1.1/DTD/svg11.dtd\">\n<!-- Generated by graphviz version 2.43.0 (0)\n -->\n<!-- Title: G Pages: 1 -->\n<svg width=\"591pt\" height=\"78pt\"\n viewBox=\"0.00 0.00 591.49 78.00\" xmlns=\"http://www.w3.org/2000/svg\" xmlns:xlink=\"http://www.w3.org/1999/xlink\">\n<g id=\"graph0\" class=\"graph\" transform=\"scale(1 1) rotate(0) translate(4 74)\">\n<title>G</title>\n<polygon fill=\"white\" stroke=\"transparent\" points=\"-4,4 -4,-74 587.49,-74 587.49,4 -4,4\"/>\n<!-- init -->\n<g id=\"node1\" class=\"node\">\n<title>init</title>\n<ellipse fill=\"none\" stroke=\"black\" cx=\"27\" cy=\"-18\" rx=\"27\" ry=\"18\"/>\n<text text-anchor=\"middle\" x=\"27\" y=\"-14.3\" font-family=\"Times,serif\" font-size=\"14.00\">init</text>\n</g>\n<!-- predict -->\n<g id=\"node2\" class=\"node\">\n<title>predict</title>\n<ellipse fill=\"none\" stroke=\"black\" cx=\"126.1\" cy=\"-18\" rx=\"35.19\" ry=\"18\"/>\n<text text-anchor=\"middle\" x=\"126.1\" y=\"-14.3\" font-family=\"Times,serif\" font-size=\"14.00\">predict</text>\n</g>\n<!-- init&#45;&gt;predict -->\n<g id=\"edge1\" class=\"edge\">\n<title>init&#45;&gt;predict</title>\n<path fill=\"none\" stroke=\"black\" d=\"M54.02,-18C62.26,-18 71.62,-18 80.78,-18\"/>\n<polygon fill=\"black\" stroke=\"black\" points=\"80.96,-21.5 90.96,-18 80.96,-14.5 80.96,-21.5\"/>\n</g>\n<!-- loss -->\n<g id=\"node3\" class=\"node\">\n<title>loss</title>\n<ellipse fill=\"none\" stroke=\"black\" cx=\"225.19\" cy=\"-52\" rx=\"27\" ry=\"18\"/>\n<text text-anchor=\"middle\" x=\"225.19\" y=\"-48.3\" font-family=\"Times,serif\" font-size=\"14.00\">loss</text>\n</g>\n<!-- predict&#45;&gt;loss -->\n<g id=\"edge2\" class=\"edge\">\n<title>predict&#45;&gt;loss</title>\n<path fill=\"none\" stroke=\"black\" d=\"M155.44,-27.93C166.61,-31.84 179.52,-36.36 191.11,-40.42\"/>\n<polygon fill=\"black\" stroke=\"black\" points=\"190.29,-43.84 200.88,-43.84 192.6,-37.23 190.29,-43.84\"/>\n</g>\n<!-- gradient -->\n<g id=\"node4\" class=\"node\">\n<title>gradient</title>\n<ellipse fill=\"none\" stroke=\"black\" cx=\"361.84\" cy=\"-52\" rx=\"39.79\" ry=\"18\"/>\n<text text-anchor=\"middle\" x=\"361.84\" y=\"-48.3\" font-family=\"Times,serif\" font-size=\"14.00\">gradient</text>\n</g>\n<!-- loss&#45;&gt;gradient -->\n<g id=\"edge3\" class=\"edge\">\n<title>loss&#45;&gt;gradient</title>\n<path fill=\"none\" stroke=\"black\" d=\"M252.47,-52C269.35,-52 291.8,-52 311.88,-52\"/>\n<polygon fill=\"black\" stroke=\"black\" points=\"312.13,-55.5 322.13,-52 312.13,-48.5 312.13,-55.5\"/>\n</g>\n<!-- step -->\n<g id=\"node5\" class=\"node\">\n<title>step</title>\n<ellipse fill=\"none\" stroke=\"black\" cx=\"465.49\" cy=\"-18\" rx=\"27\" ry=\"18\"/>\n<text text-anchor=\"middle\" x=\"465.49\" y=\"-14.3\" font-family=\"Times,serif\" font-size=\"14.00\">step</text>\n</g>\n<!-- gradient&#45;&gt;step -->\n<g id=\"edge4\" class=\"edge\">\n<title>gradient&#45;&gt;step</title>\n<path fill=\"none\" stroke=\"black\" d=\"M394.17,-41.52C405.92,-37.59 419.32,-33.11 431.25,-29.12\"/>\n<polygon fill=\"black\" stroke=\"black\" points=\"432.48,-32.4 440.85,-25.91 430.26,-25.76 432.48,-32.4\"/>\n</g>\n<!-- step&#45;&gt;predict -->\n<g id=\"edge6\" class=\"edge\">\n<title>step&#45;&gt;predict</title>\n<path fill=\"none\" stroke=\"black\" d=\"M438.29,-18C380.72,-18 242.6,-18 171.32,-18\"/>\n<polygon fill=\"black\" stroke=\"black\" points=\"171.3,-14.5 161.3,-18 171.3,-21.5 171.3,-14.5\"/>\n<text text-anchor=\"middle\" x=\"287.19\" y=\"-21.8\" font-family=\"Times,serif\" font-size=\"14.00\">repeat</text>\n</g>\n<!-- stop -->\n<g id=\"node6\" class=\"node\">\n<title>stop</title>\n<ellipse fill=\"none\" stroke=\"black\" cx=\"556.49\" cy=\"-18\" rx=\"27\" ry=\"18\"/>\n<text text-anchor=\"middle\" x=\"556.49\" y=\"-14.3\" font-family=\"Times,serif\" font-size=\"14.00\">stop</text>\n</g>\n<!-- step&#45;&gt;stop -->\n<g id=\"edge5\" class=\"edge\">\n<title>step&#45;&gt;stop</title>\n<path fill=\"none\" stroke=\"black\" d=\"M492.71,-18C501.04,-18 510.4,-18 519.3,-18\"/>\n<polygon fill=\"black\" stroke=\"black\" points=\"519.45,-21.5 529.45,-18 519.45,-14.5 519.45,-21.5\"/>\n</g>\n</g>\n</svg>\n",
            "text/plain": [
              "<graphviz.sources.Source at 0x7afe51694df0>"
            ]
          },
          "metadata": {},
          "execution_count": 42
        }
      ],
      "source": [
        "#id gradient_descent\n",
        "#caption The gradient descent process\n",
        "#alt Graph showing the steps for Gradient Descent\n",
        "gv('''\n",
        "init->predict->loss->gradient->step->stop\n",
        "step->predict[label=repeat]\n",
        "''')\n"
      ]
    },
    {
      "cell_type": "markdown",
      "metadata": {
        "id": "Wd8Xv63bif45"
      },
      "source": [
        "There are several ways to perform the seven steps listed above, but they all follow some general guidelines.\n",
        "\n",
        "- Initialize: we usually initialize the parameters to random values, and because we have a means of automatically improving the weights, it means we shall iterate towards the correct weights no matter where we start at\n",
        "\n",
        "- Loss : This refers to the means of testing the effectiveness of any current weight assignment in terms of actual performance such that the function returns a small number if the performance is good.\n",
        "\n",
        "- Step : How do we know if we are taking the step in the right direction, we can try adjusting the loss in any direction and see if the loss goes up and down. With this, we have the direction and we take a step in the direction using different intensities until we find which amount works best.\n",
        "\n",
        "Calculating gradients gives us an exact direction and number in which to adjust our weights.\n",
        "\n",
        "lets illustrate the above steps with a simple toy example where we assume that a quadratic function can work as as our loss function and x as the weight parameter.\n"
      ]
    },
    {
      "cell_type": "code",
      "execution_count": null,
      "metadata": {
        "id": "keFSGS5yif45"
      },
      "outputs": [],
      "source": [
        "def f(x):\n",
        "    return x**2"
      ]
    },
    {
      "cell_type": "code",
      "execution_count": null,
      "metadata": {
        "id": "-v8YWTAtif46",
        "colab": {
          "base_uri": "https://localhost:8080/",
          "height": 396
        },
        "outputId": "2bcfd829-7e4d-4a1a-eaa0-03388b8f89db"
      },
      "outputs": [
        {
          "output_type": "display_data",
          "data": {
            "text/plain": [
              "<Figure size 600x400 with 1 Axes>"
            ],
            "image/png": "[encoded data removed]"
          },
          "metadata": {}
        }
      ],
      "source": [
        "#Lets plot the following equation\n",
        "#help(plot_function)\n",
        "plot_function(f, 'x', 'x**2')"
      ]
    },
    {
      "cell_type": "markdown",
      "source": [
        "The sequence of the 7 steps starts by picking or initializing the weight with a random parameter value and calculating the loss. Here we use -1.5 and calculate the loss."
      ],
      "metadata": {
        "id": "iR9PT2lix83s"
      }
    },
    {
      "cell_type": "code",
      "execution_count": null,
      "metadata": {
        "id": "2aupWjj1if46",
        "outputId": "a5ad0471-56c9-4d8c-f160-b5d6fefa8736",
        "colab": {
          "base_uri": "https://localhost:8080/",
          "height": 413
        }
      },
      "outputs": [
        {
          "output_type": "execute_result",
          "data": {
            "text/plain": [
              "<matplotlib.collections.PathCollection at 0x7afe4f5be080>"
            ]
          },
          "metadata": {},
          "execution_count": 45
        },
        {
          "output_type": "display_data",
          "data": {
            "text/plain": [
              "<Figure size 600x400 with 1 Axes>"
            ],
            "image/png": "[encoded data removed]"
          },
          "metadata": {}
        }
      ],
      "source": [
        "plot_function(f, 'x', 'x**2')\n",
        "plt.scatter(-1.5,f(-1.5), color=\"red\")"
      ]
    },
    {
      "cell_type": "markdown",
      "source": [
        "We see how well our parameter value does and pick another value in the direction that improves the slope, lets try picking a higher and lower value to see which direction gets closer to the optimal point."
      ],
      "metadata": {
        "id": "5r03PAUNyWFm"
      }
    },
    {
      "cell_type": "code",
      "source": [
        "plot_function(f, 'x', 'x**2')\n",
        "plt.scatter(-1.8,f(-1.8), color=\"red\")"
      ],
      "metadata": {
        "colab": {
          "base_uri": "https://localhost:8080/",
          "height": 413
        },
        "id": "2oUpDH0xxG-J",
        "outputId": "8f198fa5-b12e-498e-e753-3e7c75970b0f"
      },
      "execution_count": null,
      "outputs": [
        {
          "output_type": "execute_result",
          "data": {
            "text/plain": [
              "<matplotlib.collections.PathCollection at 0x7afe4f3f6ef0>"
            ]
          },
          "metadata": {},
          "execution_count": 46
        },
        {
          "output_type": "display_data",
          "data": {
            "text/plain": [
              "<Figure size 600x400 with 1 Axes>"
            ],
            "image/png": "[encoded data removed]"
          },
          "metadata": {}
        }
      ]
    },
    {
      "cell_type": "code",
      "source": [
        "plot_function(f, 'x', 'x**2')\n",
        "plt.scatter(-1.2,f(-1.2), color=\"red\")"
      ],
      "metadata": {
        "colab": {
          "base_uri": "https://localhost:8080/",
          "height": 413
        },
        "id": "UTWBU5e-wpQh",
        "outputId": "371db701-c147-46da-e7cf-e8934466dd00"
      },
      "execution_count": null,
      "outputs": [
        {
          "output_type": "execute_result",
          "data": {
            "text/plain": [
              "<matplotlib.collections.PathCollection at 0x7afe4f3002b0>"
            ]
          },
          "metadata": {},
          "execution_count": 47
        },
        {
          "output_type": "display_data",
          "data": {
            "text/plain": [
              "<Figure size 600x400 with 1 Axes>"
            ],
            "image/png": "[encoded data removed]"
          },
          "metadata": {}
        }
      ]
    },
    {
      "cell_type": "markdown",
      "source": [
        "With this, we see that taking lower values moves us closer to the lowest point on the curve, with this we continuously adjust our weights in the right direction until we reach the lowest point on the curve which minimizes the loss.\n",
        "\n",
        "We can optimize functions regardless of how complex they are this way with gradient descent until we reach the optimal point.\n"
      ],
      "metadata": {
        "id": "lTviIekHy4tT"
      }
    },
    {
      "cell_type": "code",
      "source": [
        "plot_function(f, 'x', 'x**2')\n",
        "plt.scatter(-0.5,f(-0.5), color=\"red\")"
      ],
      "metadata": {
        "colab": {
          "base_uri": "https://localhost:8080/",
          "height": 413
        },
        "id": "qGFWcLXRwupe",
        "outputId": "578ffcab-f8f9-4258-81ec-7ca30de5b4b4"
      },
      "execution_count": null,
      "outputs": [
        {
          "output_type": "execute_result",
          "data": {
            "text/plain": [
              "<matplotlib.collections.PathCollection at 0x7afe4f388c10>"
            ]
          },
          "metadata": {},
          "execution_count": 48
        },
        {
          "output_type": "display_data",
          "data": {
            "text/plain": [
              "<Figure size 600x400 with 1 Axes>"
            ],
            "image/png": "[encoded data removed]"
          },
          "metadata": {}
        }
      ]
    },
    {
      "cell_type": "code",
      "source": [
        "plot_function(f, 'x', 'x**2')\n",
        "plt.scatter(0.1,f(0.1), color=\"red\")"
      ],
      "metadata": {
        "colab": {
          "base_uri": "https://localhost:8080/",
          "height": 413
        },
        "id": "jbWL7H2Zw03n",
        "outputId": "39bd4b27-17c0-42d8-da04-e67076ef1f63"
      },
      "execution_count": null,
      "outputs": [
        {
          "output_type": "execute_result",
          "data": {
            "text/plain": [
              "<matplotlib.collections.PathCollection at 0x7afe4f35ace0>"
            ]
          },
          "metadata": {},
          "execution_count": 49
        },
        {
          "output_type": "display_data",
          "data": {
            "text/plain": [
              "<Figure size 600x400 with 1 Axes>"
            ],
            "image/png": "[encoded data removed]"
          },
          "metadata": {}
        }
      ]
    },
    {
      "cell_type": "markdown",
      "metadata": {
        "id": "dHCY3x-lif47"
      },
      "source": [
        "### Gradients"
      ]
    },
    {
      "cell_type": "markdown",
      "source": [
        "Instead of manually adjusting the weight value, we can use calculus as a performance optimization. This tells us by how much our loss will go up or down if we adjust our parameter in a given direction.\n",
        "\n",
        "With this, this tells us in which direction to adjust our weight and by how much.\n",
        "\n",
        "From calculus, we know that a derivative of a function tells us how much a change in its parameters changes the result of a function. For any given function such as our quadratic function above, we can calculate its derivative which is just another function. We should note that the derivative of a function calculates the rate of change of the function not the value of the function.\n",
        "\n",
        "For example the derivative of our quadratic function at parameter value 3 tells us how much the quadratic function changes at 3. Once we know how our value changes, we know what direction to adjust our weights in to make the function smaller.\n",
        "This is the key to machine learning, having a way to adjust the parameters to improve the model. Calculus provides a computational shortcut which lets us calculate the gradients of a function.These tells us which direction and by how far to adjust our weights.\n",
        "\n",
        "Remember that our function has a lot of weights that we need to adjust.Intrestingly enough, we can calculate the gradient for each weight while taking the rest constant, then do this for each weight using broadcasting.\n",
        "\n",
        "We dont need need to calculate the gradients manually as PyTorch can do this for us as we shall see below.\n",
        "\n",
        "Say we want the gradients at tensor value 3."
      ],
      "metadata": {
        "id": "NrKkl0MN3cor"
      }
    },
    {
      "cell_type": "code",
      "source": [
        "xt = tensor(3.).requires_grad_()"
      ],
      "metadata": {
        "id": "AX-LCWzknuvN"
      },
      "execution_count": null,
      "outputs": []
    },
    {
      "cell_type": "markdown",
      "source": [
        "requires_grad_() tells pytorch to calculate gradients with respect to the variable at the value 3. We go ahead and compute our function f(x) defined above at the value 3."
      ],
      "metadata": {
        "id": "Hp_P3SOAoPnd"
      }
    },
    {
      "cell_type": "code",
      "source": [
        "f(3)"
      ],
      "metadata": {
        "colab": {
          "base_uri": "https://localhost:8080/"
        },
        "id": "gkcxACKvpo_R",
        "outputId": "49276fec-c404-40e3-d98c-d4c6dfc7ab18"
      },
      "execution_count": null,
      "outputs": [
        {
          "output_type": "execute_result",
          "data": {
            "text/plain": [
              "9"
            ]
          },
          "metadata": {},
          "execution_count": 51
        }
      ]
    },
    {
      "cell_type": "code",
      "source": [
        "yt = f(xt)\n",
        "yt"
      ],
      "metadata": {
        "colab": {
          "base_uri": "https://localhost:8080/"
        },
        "id": "M1UZYQ0Lpoy6",
        "outputId": "04128769-c9bb-4d8e-dbdb-0036275d28a6"
      },
      "execution_count": null,
      "outputs": [
        {
          "output_type": "execute_result",
          "data": {
            "text/plain": [
              "tensor(9., grad_fn=<PowBackward0>)"
            ]
          },
          "metadata": {},
          "execution_count": 52
        }
      ]
    },
    {
      "cell_type": "markdown",
      "source": [
        "Notice how when we compute the function using xt which has been told to track gradients, it returns the normal result of a function alongside the grad_fn wich it will be using to compute gradients for us when needed.\n",
        "\n",
        "Calling backward() on the result of the function,yt asks PyTorch to calculate for us the gradients at that value."
      ],
      "metadata": {
        "id": "ZJWzptgkpzv8"
      }
    },
    {
      "cell_type": "code",
      "source": [
        "yt.backward()"
      ],
      "metadata": {
        "id": "zokA9KFLqYfn"
      },
      "execution_count": null,
      "outputs": []
    },
    {
      "cell_type": "markdown",
      "source": [
        "> The backward here refers to backpropagation which is the name given to the process of calculating the derivative for each layer.This is called the backward pass of the network as opposed to the forward pass where activations are calculated.\n",
        "\n",
        "We can view the gradients of a model by calling .grad on the result of the function f(xt) where xt was assigned requires_grad_() in the original initiliazing which tells PyTorch to keep track of the gradients.\n",
        "\n",
        "\n",
        "\n",
        "\n"
      ],
      "metadata": {
        "id": "ENP8tbeDrAtU"
      }
    },
    {
      "cell_type": "code",
      "source": [
        "xt.grad"
      ],
      "metadata": {
        "colab": {
          "base_uri": "https://localhost:8080/"
        },
        "id": "yykN1eNdE1Wp",
        "outputId": "c17cfe9d-ebce-4a6d-e0f7-353059521124"
      },
      "execution_count": null,
      "outputs": [
        {
          "output_type": "execute_result",
          "data": {
            "text/plain": [
              "tensor(6.)"
            ]
          },
          "metadata": {},
          "execution_count": 54
        }
      ]
    },
    {
      "cell_type": "markdown",
      "source": [
        "Per calculus, the derivative of x**2 is 2*x, and since we have x = 3, the gradient value should be 2 * 3 = 6, which is the same as the gradient value we got above.\n",
        "\n",
        "Now we can calculate derivatives while passing in a list of values as an argument to simulate our tensor having multiple weights. To ensure we return a scalar value for our loss function result, we add sum to the definition of the loss function f(x)."
      ],
      "metadata": {
        "id": "qOySKUsEFFij"
      }
    },
    {
      "cell_type": "code",
      "source": [
        "xt = tensor([3.,4.,10.]).requires_grad_()\n",
        "xt"
      ],
      "metadata": {
        "colab": {
          "base_uri": "https://localhost:8080/"
        },
        "id": "fwMXy3wIHc1z",
        "outputId": "ae2e1527-2c3b-480f-d1f7-82ccc073442a"
      },
      "execution_count": null,
      "outputs": [
        {
          "output_type": "execute_result",
          "data": {
            "text/plain": [
              "tensor([ 3.,  4., 10.], requires_grad=True)"
            ]
          },
          "metadata": {},
          "execution_count": 55
        }
      ]
    },
    {
      "cell_type": "code",
      "source": [
        "def f(x):\n",
        "  return (x**2).sum()"
      ],
      "metadata": {
        "id": "cVIdKpBhISpn"
      },
      "execution_count": null,
      "outputs": []
    },
    {
      "cell_type": "code",
      "source": [
        "yt = f(xt)\n",
        "yt"
      ],
      "metadata": {
        "colab": {
          "base_uri": "https://localhost:8080/"
        },
        "id": "UIBJWGMNHpTt",
        "outputId": "523855ee-948a-455c-dc43-b24057f6c677"
      },
      "execution_count": null,
      "outputs": [
        {
          "output_type": "execute_result",
          "data": {
            "text/plain": [
              "tensor(125., grad_fn=<SumBackward0>)"
            ]
          },
          "metadata": {},
          "execution_count": 57
        }
      ]
    },
    {
      "cell_type": "code",
      "source": [
        "yt.backward()"
      ],
      "metadata": {
        "id": "0poNkRFTH3V-"
      },
      "execution_count": null,
      "outputs": []
    },
    {
      "cell_type": "code",
      "source": [
        "xt.grad"
      ],
      "metadata": {
        "colab": {
          "base_uri": "https://localhost:8080/"
        },
        "id": "WZntnfFjHwMt",
        "outputId": "bf411bef-eaf7-4a2f-8428-ac2d0da1db7c"
      },
      "execution_count": null,
      "outputs": [
        {
          "output_type": "execute_result",
          "data": {
            "text/plain": [
              "tensor([ 6.,  8., 20.])"
            ]
          },
          "metadata": {},
          "execution_count": 59
        }
      ]
    },
    {
      "cell_type": "markdown",
      "source": [
        "Calculating gradients only gives you the slope of the function; it doesn't actually tell you how far to adjust the parameters.\n",
        "\n",
        "But looking at the gradients gives us an idea of how far to make our adjustments. If the slope is large, then this suggests that we have many steps to take, while if the slope is small, this suggests we are closer to the optimal value and have fewer adjustments to make."
      ],
      "metadata": {
        "id": "H8D-3i9CKAV_"
      }
    },
    {
      "cell_type": "markdown",
      "metadata": {
        "id": "ErxeBPidif5H"
      },
      "source": [
        "### Stepping with learning rate"
      ]
    },
    {
      "cell_type": "markdown",
      "source": [
        "After calculating the gradients, we now have to adjust our weights. The most common way to do this is to multiply the gradients by an arbitrary number called the learning rate. This is often a number between 0.001 and 0.1, though it can be anything.\n",
        "\n",
        "\n",
        "Often, people select a couple of learning rates, see which one results in the best model after training, and use that. There are automated solutions for this, such as the Fastai learning rate finder.\n",
        "\n",
        "Once you have picked your learning rate, you can adjust the weights using the simple calculation for w shown below."
      ],
      "metadata": {
        "id": "vLIDK05ALobU"
      }
    },
    {
      "cell_type": "code",
      "execution_count": null,
      "metadata": {
        "id": "DT5bva2cif5I"
      },
      "outputs": [],
      "source": [
        "w = -gradient * lr\n",
        "#w = w - (gradients*lr)"
      ]
    },
    {
      "cell_type": "code",
      "source": [
        "lr = 0.01"
      ],
      "metadata": {
        "id": "pft8OHnVNYEX"
      },
      "execution_count": null,
      "outputs": []
    },
    {
      "cell_type": "code",
      "source": [
        "w = w - (xt.grad * lr)"
      ],
      "metadata": {
        "id": "LG7bOM4mNS2d"
      },
      "execution_count": null,
      "outputs": []
    },
    {
      "cell_type": "code",
      "source": [
        "w"
      ],
      "metadata": {
        "id": "rTMPI5dsMt4d"
      },
      "execution_count": null,
      "outputs": []
    },
    {
      "cell_type": "markdown",
      "source": [
        "This is what we call stepping your parameters using an optimizer step. We also subtract the gradient *LR from the parameter to update it. This allows us to adjust the parameter in the direction of the slope by taking the negative of the gradient and multiplying it by the learning rate.\n",
        "\n",
        "Moving the weights in the direction of the slope allows us to minimise our loss function."
      ],
      "metadata": {
        "id": "ih1FvQn7OKu5"
      }
    },
    {
      "cell_type": "code",
      "source": [
        "w -= xt.grad * lr"
      ],
      "metadata": {
        "id": "zXYvj-LfQG1D"
      },
      "execution_count": null,
      "outputs": []
    },
    {
      "cell_type": "code",
      "source": [
        "w"
      ],
      "metadata": {
        "id": "XQ3BfGBiQIgM"
      },
      "execution_count": null,
      "outputs": []
    },
    {
      "cell_type": "markdown",
      "source": [
        "Picking a learning rate that is too low will result in taking too many steps, while a learning rate that is too high also results in poor performance, as this results in a lot of bouncing around, and the model might even skip the optimal point.\n",
        "\n",
        "To show all the above concepts, let's apply the above steps to an example."
      ],
      "metadata": {
        "id": "sfdR6gWhQtRz"
      }
    },
    {
      "cell_type": "markdown",
      "source": [
        "###Example\n",
        "\n",
        "Here we use the gradients to find the minimum, and then we look at how finding a minimum can be used to train a model to better fit the data."
      ],
      "metadata": {
        "id": "VSvcMx3GRdW4"
      }
    },
    {
      "cell_type": "markdown",
      "metadata": {
        "id": "OxxZbAxsif5J"
      },
      "source": [
        "To show this, let's define a simple example.\n",
        "\n",
        "Imagine you are measuring the speed of a roller coaster as it goes over a hump and descends back down.\n",
        "\n",
        "The roller coaster would start fast, getting slower as it climbed the hill; it would be slowest at the top, then slowly accelerate and pick up speed as it descends the hill.\n",
        "\n",
        "So we want to build a model of how speed changes over time. If we were to manually measure the speed of the roller coaster every second for 20 seconds, it might result in something resembling this."
      ]
    },
    {
      "cell_type": "code",
      "execution_count": null,
      "metadata": {
        "id": "OEayt2C-if5K",
        "outputId": "d62d9c9a-82c1-4558-df27-8e672589df06",
        "colab": {
          "base_uri": "https://localhost:8080/"
        }
      },
      "outputs": [
        {
          "output_type": "execute_result",
          "data": {
            "text/plain": [
              "tensor([ 0.,  1.,  2.,  3.,  4.,  5.,  6.,  7.,  8.,  9., 10., 11., 12., 13., 14., 15., 16., 17., 18., 19.])"
            ]
          },
          "metadata": {},
          "execution_count": 61
        }
      ],
      "source": [
        "time"
      ]
    },
    {
      "cell_type": "code",
      "execution_count": null,
      "metadata": {
        "id": "qNYDJnkbif5K",
        "outputId": "0d9d8b65-3e07-4d95-e4dc-9d917fde3baf",
        "colab": {
          "base_uri": "https://localhost:8080/",
          "height": 434
        }
      },
      "outputs": [
        {
          "output_type": "display_data",
          "data": {
            "text/plain": [
              "<Figure size 640x480 with 1 Axes>"
            ],
            "image/png": "[encoded data removed]"
          },
          "metadata": {}
        }
      ],
      "source": [
        "speed = torch.randn(20)*3 + 0.75*(time-9.5)**2 + 1\n",
        "plt.scatter(time,speed);"
      ]
    },
    {
      "cell_type": "markdown",
      "metadata": {
        "id": "SUYkmSieif5L"
      },
      "source": [
        "Using stochastic gradient descent, we can try to find a function that matches the data. We can't consider every possible function, so let's take a guess that the function will be a quadratic in the form ax**2 + bx + c which is represented as\n",
        "\n",
        "a(time)**2 + b(time) + c"
      ]
    },
    {
      "cell_type": "code",
      "execution_count": null,
      "metadata": {
        "id": "p_oBCz_kif5L"
      },
      "outputs": [],
      "source": [
        "#function that takes input and parameters as input and returns a prediction\n",
        "def f(t, params):\n",
        "    a,b,c = params\n",
        "    return a*(t**2) + b*t + c"
      ]
    },
    {
      "cell_type": "markdown",
      "metadata": {
        "id": "xZvjHqwVif5M"
      },
      "source": [
        "We distinguish clearly between the function's input, the time when we are measuring the roller coaster's speed, the parameters, and the values that define the function we are trying.\n",
        "\n",
        "What we have done is restrict our problem of finding the best quadratic that fits to finding the best parameter values for a, b, and c. This simplifies our problem as every quadratic is fully defined by three parameters (a, b, and c).\n",
        "In order to find the best quadratic function, we must find the best values of a, b, and c.\n",
        "\n",
        "If we can solve the problem of finding the best three parameters of the quadratic, we can apply the same logic to more complex functions with more parameters, such as a neural net. So we find the parameters for f and then do the same thing for the MNIST dataset with a neural network.\n",
        "\n",
        "We also need to define what we mean by best values. We do this by choosing a loss function that takes in as input the prediction and target and returns a value, where lower values of the function correspond to better predictions and vice versa.\n",
        "\n",
        "For the above continuous data, we shall use the mean squared error."
      ]
    },
    {
      "cell_type": "code",
      "execution_count": null,
      "metadata": {
        "id": "f-oI-XXrif5M"
      },
      "outputs": [],
      "source": [
        "#loss function\n",
        "def mse(preds,targets):\n",
        "    return ((preds - targets)**2).mean()"
      ]
    },
    {
      "cell_type": "markdown",
      "metadata": {
        "id": "tdgORHQWif5N"
      },
      "source": [
        "We now go through our seven step process"
      ]
    },
    {
      "cell_type": "code",
      "execution_count": null,
      "metadata": {
        "id": "x8YtHNPXif5N"
      },
      "outputs": [],
      "source": [
        "#intialize and tell pytorch to compute gradients\n",
        "params = torch.rand(3).requires_grad_()\n",
        "orig_prams = params.clone()"
      ]
    },
    {
      "cell_type": "code",
      "execution_count": null,
      "metadata": {
        "id": "gUvimCshif5O",
        "outputId": "854c494e-1a8c-448e-c76b-b005b0664b3e",
        "colab": {
          "base_uri": "https://localhost:8080/"
        }
      },
      "outputs": [
        {
          "output_type": "execute_result",
          "data": {
            "text/plain": [
              "tensor([0.5779, 0.9040, 0.5547], requires_grad=True)"
            ]
          },
          "metadata": {},
          "execution_count": 66
        }
      ],
      "source": [
        "params"
      ]
    },
    {
      "cell_type": "code",
      "execution_count": null,
      "metadata": {
        "id": "IRSpbZzJif5P",
        "outputId": "9b15baa8-f8bc-4a9c-af97-3def18aef804",
        "colab": {
          "base_uri": "https://localhost:8080/"
        }
      },
      "outputs": [
        {
          "output_type": "execute_result",
          "data": {
            "text/plain": [
              "tensor([  0.5547,   2.0366,   4.6743,   8.4679,  13.4174,  19.5227,  26.7839,  35.2009,  44.7737,  55.5025,  67.3870,  80.4274,  94.6237, 109.9758, 126.4838, 144.1476, 162.9673, 182.9428, 204.0741,\n",
              "        226.3614], grad_fn=<AddBackward0>)"
            ]
          },
          "metadata": {},
          "execution_count": 67
        }
      ],
      "source": [
        "#Calculate predictions\n",
        "preds = f(time, params)\n",
        "preds"
      ]
    },
    {
      "cell_type": "code",
      "execution_count": null,
      "metadata": {
        "id": "5QATU4TEif5P",
        "outputId": "eb7fca39-ecc3-40d7-8ba8-beb6dadf0d1b",
        "colab": {
          "base_uri": "https://localhost:8080/"
        }
      },
      "outputs": [
        {
          "output_type": "execute_result",
          "data": {
            "text/plain": [
              "20"
            ]
          },
          "metadata": {},
          "execution_count": 68
        }
      ],
      "source": [
        "len(preds)"
      ]
    },
    {
      "cell_type": "code",
      "execution_count": null,
      "metadata": {
        "id": "uwUQup8kif5Q"
      },
      "outputs": [],
      "source": [
        "def show_preds(preds, ax=None):\n",
        " if ax is None: ax=plt.subplots()[1]\n",
        " ax.scatter(time, speed)\n",
        " ax.scatter(time, to_np(preds), color='red')\n",
        " ax.set_ylim(-300,100)\n"
      ]
    },
    {
      "cell_type": "code",
      "execution_count": null,
      "metadata": {
        "id": "_0Gj-FhOif5Q",
        "outputId": "a07c7861-592d-4b15-b4ad-0fd05e00c26d",
        "colab": {
          "base_uri": "https://localhost:8080/",
          "height": 441
        }
      },
      "outputs": [
        {
          "output_type": "display_data",
          "data": {
            "text/plain": [
              "<Figure size 640x480 with 1 Axes>"
            ],
            "image/png": "[encoded data removed]"
          },
          "metadata": {}
        }
      ],
      "source": [
        "show_preds(preds)"
      ]
    },
    {
      "cell_type": "markdown",
      "source": [
        "show_preds below plots the preds against the actual target values for time and speed, this results in two scatter plot with two sets of points with the red representing the preds and vice versa.\n",
        "\n",
        "Our plot shows a variance between the preds and the targets, so we calculate the loss which lets us know how good our model is."
      ],
      "metadata": {
        "id": "Ng_CSfDZXoPs"
      }
    },
    {
      "cell_type": "code",
      "execution_count": null,
      "metadata": {
        "id": "Y-2gBZQ7if5R",
        "outputId": "4d08902c-546f-4b04-fd43-91b3b4926d57",
        "colab": {
          "base_uri": "https://localhost:8080/"
        }
      },
      "outputs": [
        {
          "output_type": "execute_result",
          "data": {
            "text/plain": [
              "tensor(7761.0767, grad_fn=<MeanBackward0>)"
            ]
          },
          "metadata": {},
          "execution_count": 71
        }
      ],
      "source": [
        "#calculate the loss\n",
        "loss = mse(preds,speed)\n",
        "loss"
      ]
    },
    {
      "cell_type": "markdown",
      "source": [
        "Remember, the loss is a number we want to improve and minimize. To do this, we calculate our gradients, which tell us how to move in order to minimize our loss."
      ],
      "metadata": {
        "id": "YSX-du-xY_vy"
      }
    },
    {
      "cell_type": "code",
      "execution_count": null,
      "metadata": {
        "id": "otwU_VMyif5S",
        "outputId": "2a83e6e8-f427-496e-8d9c-b5f8a6d25eaa",
        "colab": {
          "base_uri": "https://localhost:8080/"
        }
      },
      "outputs": [
        {
          "output_type": "execute_result",
          "data": {
            "text/plain": [
              "tensor([28189.2148,  1824.8007,   107.8606])"
            ]
          },
          "metadata": {},
          "execution_count": 72
        }
      ],
      "source": [
        "#calculate gradients\n",
        "loss.backward()\n",
        "params.grad"
      ]
    },
    {
      "cell_type": "code",
      "execution_count": null,
      "metadata": {
        "id": "AysYuVJfif5S"
      },
      "outputs": [],
      "source": [
        "lr = 1e-5"
      ]
    },
    {
      "cell_type": "code",
      "source": [
        "params"
      ],
      "metadata": {
        "id": "l76T3ATUbq8p",
        "colab": {
          "base_uri": "https://localhost:8080/"
        },
        "outputId": "140baafe-09e5-428b-9e96-b1eaa95a67ad"
      },
      "execution_count": null,
      "outputs": [
        {
          "output_type": "execute_result",
          "data": {
            "text/plain": [
              "tensor([0.5779, 0.9040, 0.5547], requires_grad=True)"
            ]
          },
          "metadata": {},
          "execution_count": 74
        }
      ]
    },
    {
      "cell_type": "markdown",
      "source": [
        "params.data contains the parameter values defined above in params allowing us to inspect and modify the parameter values."
      ],
      "metadata": {
        "id": "E6PS2k9uaC3G"
      }
    },
    {
      "cell_type": "code",
      "execution_count": null,
      "metadata": {
        "id": "vvjfoXufif5T",
        "outputId": "52552c77-5c94-43d6-bdb2-a963951f0b4f",
        "colab": {
          "base_uri": "https://localhost:8080/"
        }
      },
      "outputs": [
        {
          "output_type": "execute_result",
          "data": {
            "text/plain": [
              "tensor([0.5779, 0.9040, 0.5547])"
            ]
          },
          "metadata": {},
          "execution_count": 75
        }
      ],
      "source": [
        "i = params.data\n",
        "i"
      ]
    },
    {
      "cell_type": "code",
      "execution_count": null,
      "metadata": {
        "id": "d0ob281yif5T",
        "outputId": "be8da34d-25e1-4f9b-ba9b-d27a0d266ee8",
        "colab": {
          "base_uri": "https://localhost:8080/"
        }
      },
      "outputs": [
        {
          "output_type": "execute_result",
          "data": {
            "text/plain": [
              "tensor([28189.2148,  1824.8007,   107.8606])"
            ]
          },
          "metadata": {},
          "execution_count": 76
        }
      ],
      "source": [
        "u = params.grad.data\n",
        "u"
      ]
    },
    {
      "cell_type": "code",
      "source": [
        "params.grad * lr"
      ],
      "metadata": {
        "colab": {
          "base_uri": "https://localhost:8080/"
        },
        "id": "iYrkMUqMbH5v",
        "outputId": "476a8c37-bc0e-47e7-d244-c9da3bff9fd3"
      },
      "execution_count": null,
      "outputs": [
        {
          "output_type": "execute_result",
          "data": {
            "text/plain": [
              "tensor([0.2819, 0.0182, 0.0011])"
            ]
          },
          "metadata": {},
          "execution_count": 77
        }
      ]
    },
    {
      "cell_type": "code",
      "source": [
        "i2 = params.data\n",
        "i2"
      ],
      "metadata": {
        "colab": {
          "base_uri": "https://localhost:8080/"
        },
        "id": "J7DX1l4KbV1Q",
        "outputId": "518ff13f-62d0-4f6d-a3a6-72a6000c6da5"
      },
      "execution_count": null,
      "outputs": [
        {
          "output_type": "execute_result",
          "data": {
            "text/plain": [
              "tensor([0.5779, 0.9040, 0.5547])"
            ]
          },
          "metadata": {},
          "execution_count": 78
        }
      ]
    },
    {
      "cell_type": "markdown",
      "source": [
        "Step the weights"
      ],
      "metadata": {
        "id": "G7Bs2lC2buxF"
      }
    },
    {
      "cell_type": "code",
      "execution_count": null,
      "metadata": {
        "id": "A2xEaLSFif5U"
      },
      "outputs": [],
      "source": [
        "#lr = 0.05\n",
        "params.data = - lr * params.grad.data"
      ]
    },
    {
      "cell_type": "code",
      "execution_count": null,
      "metadata": {
        "id": "Me1zvSZfif5U",
        "outputId": "d2aa8456-a607-4f8e-df97-b2dc9d573cff",
        "colab": {
          "base_uri": "https://localhost:8080/"
        }
      },
      "outputs": [
        {
          "output_type": "execute_result",
          "data": {
            "text/plain": [
              "tensor([-0.2819, -0.0182, -0.0011])"
            ]
          },
          "metadata": {},
          "execution_count": 80
        }
      ],
      "source": [
        "#new params after adjustmemt\n",
        "#params.data represents the initial parameters\n",
        "#params.grad.data represents the gradients of these initial paramters\n",
        "# lr * params.grad.data changes multiplies the gradients of the parameters by a learning rate\n",
        "#params.data = - lr * params.grad.data sets the initial parameters to the result of gradients * lr\n",
        "#\n",
        "i = params.data\n",
        "i"
      ]
    },
    {
      "cell_type": "code",
      "execution_count": null,
      "metadata": {
        "id": "7KIbGcKNif5V"
      },
      "outputs": [],
      "source": [
        "#step\n",
        "lr = 1e-5\n",
        "params.data = - lr * params.grad.data\n",
        "params.grad = None"
      ]
    },
    {
      "cell_type": "code",
      "execution_count": null,
      "metadata": {
        "id": "mV8V2Aq2if5V",
        "outputId": "8f3ef132-6efa-4a3d-a44d-0b73cb087f0a",
        "colab": {
          "base_uri": "https://localhost:8080/"
        }
      },
      "outputs": [
        {
          "output_type": "execute_result",
          "data": {
            "text/plain": [
              "tensor(5674.8853, grad_fn=<MeanBackward0>)"
            ]
          },
          "metadata": {},
          "execution_count": 82
        }
      ],
      "source": [
        "#go back to step 2\n",
        "preds = f(time,params)\n",
        "loss = mse(preds, speed)\n",
        "loss"
      ]
    },
    {
      "cell_type": "code",
      "execution_count": null,
      "metadata": {
        "id": "ljSA-gU5if5Y",
        "outputId": "4ff55f07-83d3-46af-ebaa-2cf6892c4539",
        "colab": {
          "base_uri": "https://localhost:8080/",
          "height": 441
        }
      },
      "outputs": [
        {
          "output_type": "display_data",
          "data": {
            "text/plain": [
              "<Figure size 640x480 with 1 Axes>"
            ],
            "image/png": "[encoded data removed]"
          },
          "metadata": {}
        }
      ],
      "source": [
        "show_preds(preds)"
      ]
    },
    {
      "cell_type": "markdown",
      "source": [
        "We now know how to update the parameters, so we create a function to do one step"
      ],
      "metadata": {
        "id": "Dr9tVUipdf_A"
      }
    },
    {
      "cell_type": "code",
      "execution_count": null,
      "metadata": {
        "id": "LujRFfdtif5Y"
      },
      "outputs": [],
      "source": [
        "def apply_step(params,prn= True):\n",
        "    preds = f(time,params)\n",
        "    loss = mse(preds, speed)\n",
        "    loss.backward()\n",
        "    params.data -=  lr * params.grad.data\n",
        "    params.grad = None\n",
        "    if prn: print(loss.item())\n",
        "    return preds"
      ]
    },
    {
      "cell_type": "markdown",
      "source": [
        "Repeat"
      ],
      "metadata": {
        "id": "WW61Q_Eddskm"
      }
    },
    {
      "cell_type": "code",
      "execution_count": null,
      "metadata": {
        "id": "5C5Zgw-0if5Z",
        "outputId": "312262d1-ad71-4619-c922-4469c0b5a437",
        "colab": {
          "base_uri": "https://localhost:8080/"
        }
      },
      "outputs": [
        {
          "output_type": "stream",
          "name": "stdout",
          "text": [
            "5674.88525390625\n",
            "1642.954833984375\n",
            "879.9871215820312\n",
            "735.607177734375\n",
            "708.2830810546875\n",
            "703.1094970703125\n",
            "702.1275024414062\n",
            "701.9385986328125\n",
            "701.9000244140625\n",
            "701.8897094726562\n"
          ]
        }
      ],
      "source": [
        "for i in range(10):\n",
        "    apply_step(params)"
      ]
    },
    {
      "cell_type": "code",
      "execution_count": null,
      "metadata": {
        "id": "KMxx-NDeif5a",
        "outputId": "d9bab528-2b11-4611-81b1-047acf91a7a5",
        "colab": {
          "base_uri": "https://localhost:8080/"
        }
      },
      "outputs": [
        {
          "output_type": "execute_result",
          "data": {
            "text/plain": [
              "tensor([0.5779, 0.9040, 0.5547], grad_fn=<CloneBackward0>)"
            ]
          },
          "metadata": {},
          "execution_count": 86
        }
      ],
      "source": [
        "orig_prams"
      ]
    },
    {
      "cell_type": "code",
      "execution_count": null,
      "metadata": {
        "id": "MnVYPwi8if5a"
      },
      "outputs": [],
      "source": [
        "params = orig_prams.detach().requires_grad_()\n"
      ]
    },
    {
      "cell_type": "code",
      "execution_count": null,
      "metadata": {
        "id": "qzSYI_Ikif5b",
        "outputId": "22ee96d9-4787-4ff6-d7ce-125a6420afd1",
        "colab": {
          "base_uri": "https://localhost:8080/",
          "height": 300
        }
      },
      "outputs": [
        {
          "output_type": "display_data",
          "data": {
            "text/plain": [
              "<Figure size 1200x300 with 4 Axes>"
            ],
            "image/png": "[encoded data removed]"
          },
          "metadata": {}
        }
      ],
      "source": [
        "_,axs = plt.subplots(1,4,figsize=(12,3))\n",
        "for ax in axs: show_preds(apply_step(params, False), ax)\n",
        "plt.tight_layout()"
      ]
    },
    {
      "cell_type": "markdown",
      "metadata": {
        "id": "jfXZpltLif5b"
      },
      "source": [
        "To summarize, at the beginning, we initialize the weights to random values since we have means of improving them, or we can use weights from a pretrained model.\n",
        "In the first iteration, the initial weights won't be as good as in the second case.\n",
        "\n",
        "Once we have weights, we can use them to calculate a prediction. We then compare our prediction with our target, which in this case is our labels, which we already have as we are using a labelled dataset.\n",
        "This gives us a number, which we refer to as our loss. This measures the distance between the predictions and the target to tell us how good our model is.\n",
        "We now have a number that we want to make as low as possible, as low values of loss correspond with better predictions.\n",
        "\n",
        "We can make the loss as low as possible by adjusting the parameters of the model, also called the weights, in the direction that minimizes the loss.\n",
        "Calculus gives us a way to calculate which direction to adjust our weights in, calculating the gradients of the above. We adjust the weights by taking the gradients and multiplying them by a small learning rate. We then continuously iterate until we reach the lowest point.\n",
        "\n",
        "All the above steps can be transposed and applied to the MNIST dataset, except for the loss function. So let's now build a loss function for our MNIST dataset and apply the seven steps.\n"
      ]
    },
    {
      "cell_type": "markdown",
      "metadata": {
        "id": "9ywSbVJdif5c"
      },
      "source": [
        "##MNIST LOSS FUNCTION"
      ]
    },
    {
      "cell_type": "markdown",
      "metadata": {
        "id": "X42NOySKif5d"
      },
      "source": [
        "We already have the independent variables, x, which are the images themselves. We concatenate them into a single tensor and also change them from a list of matrices to a list of vectors, changing the shape of the tensor in the process.\n",
        "\n",
        "Furthermore, we do this using .view(), a PyTorch method that changes the shape of a tensor without changing its content.\n",
        "\n",
        "-1 is a special parameter for -1 that tells PyTorch to make this axis as big as necessary to fit all the data."
      ]
    },
    {
      "cell_type": "code",
      "execution_count": null,
      "metadata": {
        "id": "zmuf-tGXif5d"
      },
      "outputs": [],
      "source": [
        "train_x = torch.cat([stacked_threes, stacked_sevens]).view(-1,28*28)"
      ]
    },
    {
      "cell_type": "code",
      "execution_count": null,
      "metadata": {
        "id": "-CdHA_Vxif5e"
      },
      "outputs": [],
      "source": [
        "#train_x = torch.cat([all digits]).view(-1,28*28)"
      ]
    },
    {
      "cell_type": "markdown",
      "metadata": {
        "id": "H1VezUvsif5f"
      },
      "source": [
        "We also need labels for our dataset, in this case we use 1 for the 3's and 0 for the 7's."
      ]
    },
    {
      "cell_type": "code",
      "execution_count": null,
      "metadata": {
        "id": "Yzh92xQkif5f"
      },
      "outputs": [],
      "source": [
        "#unsqueeze(1) adds an extra dimension of 1 to the train_y\n",
        "train_y = tensor([1]*len(threes) + [0]*len(sevens)).unsqueeze(1)"
      ]
    },
    {
      "cell_type": "code",
      "execution_count": null,
      "metadata": {
        "id": "N21pViKIif5f"
      },
      "outputs": [],
      "source": [
        "#train_y = tensor([0]*len(zeros) + [1]*len(ones) + [2]*len(twos)).unsqueeze(1)"
      ]
    },
    {
      "cell_type": "code",
      "execution_count": null,
      "metadata": {
        "id": "9XtibZDRif5g",
        "outputId": "6ff5c23f-8f10-4997-8f72-011fe9c5bb24",
        "colab": {
          "base_uri": "https://localhost:8080/"
        }
      },
      "outputs": [
        {
          "output_type": "execute_result",
          "data": {
            "text/plain": [
              "(torch.Size([12396, 784]), torch.Size([12396, 1]))"
            ]
          },
          "metadata": {},
          "execution_count": 17
        }
      ],
      "source": [
        "train_x.shape,train_y.shape"
      ]
    },
    {
      "cell_type": "markdown",
      "metadata": {
        "id": "-EiUWKQrif5g"
      },
      "source": [
        "A data set is supposed to return a tuple of (x,y) when indexed. We can use the zip function, which, when combined with the list function, provides a simple way to return this.\n",
        "\n",
        "The list and zip functions, when combined and passed in lists of values as arguments, combine the lists into a single list of tuples, where each tuple contains one element from each of the lists.\n",
        "\n",
        "In this case, our first list contains the examples and input features, and the second list contains the labels, for example."
      ]
    },
    {
      "cell_type": "code",
      "source": [
        "# Let's say we have these two lists:\n",
        "train_x_example = ['feature1', 'feature2', 'feature3']\n",
        "train_y_example = ['label1', 'label2', 'label3']\n",
        "\n",
        "# We can zip them together like so:\n",
        "dset_example = list(zip(train_x_example, train_y_example))\n",
        "\n",
        "# And now, dset looks like this:\n",
        "#[('feature1', 'label1'), ('feature2', 'label2'), ('feature3', 'label3')]\n",
        "dset_example"
      ],
      "metadata": {
        "colab": {
          "base_uri": "https://localhost:8080/"
        },
        "id": "WN5NCRN3yHyE",
        "outputId": "4f2d0813-e8bb-415b-da2e-c456680eb778"
      },
      "execution_count": null,
      "outputs": [
        {
          "output_type": "execute_result",
          "data": {
            "text/plain": [
              "[('feature1', 'label1'), ('feature2', 'label2'), ('feature3', 'label3')]"
            ]
          },
          "metadata": {},
          "execution_count": 18
        }
      ]
    },
    {
      "cell_type": "code",
      "execution_count": null,
      "metadata": {
        "id": "Jlr5h1Czif5g",
        "outputId": "bb0797a0-7714-4277-a2d8-a3f417763aba",
        "colab": {
          "base_uri": "https://localhost:8080/"
        }
      },
      "outputs": [
        {
          "output_type": "execute_result",
          "data": {
            "text/plain": [
              "(torch.Size([784]), tensor([1]))"
            ]
          },
          "metadata": {},
          "execution_count": 18
        }
      ],
      "source": [
        "dset = list(zip(train_x,train_y))\n",
        "x,y = dset[0]\n",
        "x.shape,y\n"
      ]
    },
    {
      "cell_type": "code",
      "execution_count": null,
      "metadata": {
        "id": "nDoW7l-Xif5h",
        "outputId": "84ed0635-5021-4917-9da7-160195100177",
        "colab": {
          "base_uri": "https://localhost:8080/",
          "height": 45
        }
      },
      "outputs": [
        {
          "output_type": "execute_result",
          "data": {
            "text/plain": [
              "<PIL.PngImagePlugin.PngImageFile image mode=L size=28x28>"
            ],
            "image/png": "[encoded data removed]"
          },
          "metadata": {},
          "execution_count": 19
        }
      ],
      "source": [
        "Image.open(valid_threes[1])"
      ]
    },
    {
      "cell_type": "code",
      "source": [
        "valid_threes[1].shape"
      ],
      "metadata": {
        "id": "W02N7o0xidgt"
      },
      "execution_count": null,
      "outputs": []
    },
    {
      "cell_type": "code",
      "execution_count": null,
      "metadata": {
        "id": "EA8lUHk0if5h"
      },
      "outputs": [],
      "source": [
        "valid_x = torch.cat([valid_stacked_threes, valid_stacked_sevens]).view(-1,28*28)\n",
        "valid_y = tensor([1]*len(valid_threes) + [0]*len(valid_sevens)).unsqueeze(1)\n",
        "valid_dset = list(zip(valid_x,valid_y))\n"
      ]
    },
    {
      "cell_type": "markdown",
      "metadata": {
        "id": "ocJ4mBNkif5i"
      },
      "source": [
        "Sevens steps"
      ]
    },
    {
      "cell_type": "markdown",
      "source": [
        "In our first step, we define a function that initializes all the weights to random numbers for each weight."
      ],
      "metadata": {
        "id": "xP_avjRQjmnk"
      }
    },
    {
      "cell_type": "code",
      "execution_count": null,
      "metadata": {
        "id": "Eaa2RwOeif5i"
      },
      "outputs": [],
      "source": [
        "#initiliaze parameters\n",
        "def init_params(size,std=1.0):\n",
        "    return (torch.randn(size)*std).requires_grad_()"
      ]
    },
    {
      "cell_type": "markdown",
      "metadata": {
        "id": "OnbRnfTZif5i"
      },
      "source": [
        "std in the init_params function provides more variance in the parameters though this does nothing as it is a 1.\n",
        "\n",
        "std also helps balance the scale of the initial weights, helping stabilize the training process and improving the performance of the model.\n"
      ]
    },
    {
      "cell_type": "code",
      "execution_count": null,
      "metadata": {
        "id": "xv7BPsVHif5j"
      },
      "outputs": [],
      "source": [
        "weights = init_params(28*28,1)"
      ]
    },
    {
      "cell_type": "code",
      "execution_count": null,
      "metadata": {
        "id": "6FoE5vPWif5j",
        "colab": {
          "base_uri": "https://localhost:8080/"
        },
        "outputId": "601e3cd2-0fe6-4313-a2df-abbc04a8d1a4"
      },
      "outputs": [
        {
          "output_type": "execute_result",
          "data": {
            "text/plain": [
              "torch.Size([784])"
            ]
          },
          "metadata": {},
          "execution_count": 24
        }
      ],
      "source": [
        "weights.size()"
      ]
    },
    {
      "cell_type": "markdown",
      "metadata": {
        "id": "qEvFeQJSif5k"
      },
      "source": [
        "The function weights * pixels won't be flexible enough, as it always returns 0 when a pixel value is 0. The formula for a line is y = mx + b, meaning we still need a b variable.\n",
        "We initialize it to a random number too."
      ]
    },
    {
      "cell_type": "code",
      "execution_count": null,
      "metadata": {
        "id": "-TE4-_dkif5k",
        "outputId": "8276adcb-8702-4b96-bb45-3a4755abb3a9",
        "colab": {
          "base_uri": "https://localhost:8080/"
        }
      },
      "outputs": [
        {
          "output_type": "execute_result",
          "data": {
            "text/plain": [
              "tensor([0.3472], requires_grad=True)"
            ]
          },
          "metadata": {},
          "execution_count": 25
        }
      ],
      "source": [
        "bias = init_params(1)\n",
        "bias"
      ]
    },
    {
      "cell_type": "markdown",
      "metadata": {
        "id": "9mh5MsgTif5k"
      },
      "source": [
        "In a neural network, the w represents the weights and the b represents the bias, and together the weights and biases represent the parameters of a neural network."
      ]
    },
    {
      "cell_type": "code",
      "execution_count": null,
      "metadata": {
        "id": "EZ-wXoYdif5l",
        "outputId": "ce153f9d-b8ce-49b5-d7e5-60dbf5173c20",
        "colab": {
          "base_uri": "https://localhost:8080/"
        }
      },
      "outputs": [
        {
          "output_type": "stream",
          "name": "stderr",
          "text": [
            "<ipython-input-26-6ba6bfab5841>:2: UserWarning: The use of `x.T` on tensors of dimension other than 2 to reverse their shape is deprecated and it will throw an error in a future release. Consider `x.mT` to transpose batches of matrices or `x.permute(*torch.arange(x.ndim - 1, -1, -1))` to reverse the dimensions of a tensor. (Triggered internally at ../aten/src/ATen/native/TensorShape.cpp:3614.)\n",
            "  pred = (train_x[0]*weights.T).sum() + bias\n"
          ]
        },
        {
          "output_type": "execute_result",
          "data": {
            "text/plain": [
              "tensor([-6.2330], grad_fn=<AddBackward0>)"
            ]
          },
          "metadata": {},
          "execution_count": 26
        }
      ],
      "source": [
        "#prediction for 1 image\n",
        "pred = (train_x[0]*weights.T).sum() + bias\n",
        "pred"
      ]
    },
    {
      "cell_type": "markdown",
      "metadata": {
        "id": "IH1ZI6UPif5l"
      },
      "source": [
        "NB: .T seems to be depreceated for tensors of dimensions other than 2. In out case we can continue to use it as our tensor is 2D.\n",
        "\n",
        "/tmp/ipykernel_550/1078514746.py:2:\n",
        "\n",
        " UserWarning: The use of `x.T` on tensors of dimension other than 2 to reverse their shape is deprecated and it will throw an error in a future release.\n",
        "\n",
        "Consider `x.mT` to transpose batches of matrices\n",
        "\n",
        "or `x.permute(*torch.arange(x.ndim - 1, -1, -1))` to reverse the dimensions of a tensor.\n",
        "\n",
        "(Triggered internally at /home/conda/feedstock_root/build_artifacts/pytorch-recipe_1696859728060/work/aten/src/ATen/native/TensorShape.cpp:3571.)\n",
        "  (train_x[0]*weights.T).sum( + bias))\n",
        "\n"
      ]
    },
    {
      "cell_type": "markdown",
      "source": [
        "While we could use a Python for loop to calculate the predictions for each image, Python for loops do not run on GPUs, and because Python is also a slow language for loops in general, we need to represent as much of the calculation in a model using higher-level functions when possible.\n",
        "\n",
        "We use matrix multiplication, which calculates the w*x for each row of a matrix. This is represented in Python as an @ operator, as shown below."
      ],
      "metadata": {
        "id": "MEMth8XMvaZw"
      }
    },
    {
      "cell_type": "code",
      "execution_count": null,
      "metadata": {
        "id": "LxKkZKlHif5n"
      },
      "outputs": [],
      "source": [
        "#a function to return predictions for all images\n",
        "def linear1(xb):\n",
        "    return xb@weights + bias"
      ]
    },
    {
      "cell_type": "code",
      "source": [
        "#shoudl give us the same answer as pred\n",
        "preds = linear1(train_x[0])\n",
        "preds,pred"
      ],
      "metadata": {
        "colab": {
          "base_uri": "https://localhost:8080/"
        },
        "id": "kcR1c_Vl3DKq",
        "outputId": "5e3f6f93-32d0-4fc9-83fb-78f29c04426c"
      },
      "execution_count": null,
      "outputs": [
        {
          "output_type": "execute_result",
          "data": {
            "text/plain": [
              "(tensor([-6.2330], grad_fn=<AddBackward0>),\n",
              " tensor([-6.2330], grad_fn=<AddBackward0>))"
            ]
          },
          "metadata": {},
          "execution_count": 28
        }
      ]
    },
    {
      "cell_type": "code",
      "execution_count": null,
      "metadata": {
        "id": "VuUrsPVDif5n",
        "outputId": "6eaad9f8-2c4c-4cb6-d051-e7ccd933508f",
        "colab": {
          "base_uri": "https://localhost:8080/"
        }
      },
      "outputs": [
        {
          "output_type": "execute_result",
          "data": {
            "text/plain": [
              "tensor([ -6.2330, -10.6388, -20.8865,  ..., -15.9176,  -1.6866, -11.3568], grad_fn=<AddBackward0>)"
            ]
          },
          "metadata": {},
          "execution_count": 29
        }
      ],
      "source": [
        "preds = linear1(train_x)\n",
        "preds"
      ]
    },
    {
      "cell_type": "code",
      "execution_count": null,
      "metadata": {
        "id": "V87-MPWTif5o",
        "outputId": "178420db-3120-4852-bbee-4ab1701ee9f5",
        "colab": {
          "base_uri": "https://localhost:8080/"
        }
      },
      "outputs": [
        {
          "output_type": "execute_result",
          "data": {
            "text/plain": [
              "torch.Size([12396])"
            ]
          },
          "metadata": {},
          "execution_count": 30
        }
      ],
      "source": [
        "preds.shape"
      ]
    },
    {
      "cell_type": "code",
      "source": [
        "def is_0(x):\n",
        "  return (x == 0)"
      ],
      "metadata": {
        "id": "NkMemU380Quj"
      },
      "execution_count": null,
      "outputs": []
    },
    {
      "cell_type": "code",
      "source": [
        "is_0(pred)"
      ],
      "metadata": {
        "id": "5vvw-b4k0h0h",
        "colab": {
          "base_uri": "https://localhost:8080/"
        },
        "outputId": "b1634712-677f-45ad-ba83-2a5b54030d4f"
      },
      "execution_count": null,
      "outputs": [
        {
          "output_type": "execute_result",
          "data": {
            "text/plain": [
              "tensor([False])"
            ]
          },
          "metadata": {},
          "execution_count": 32
        }
      ]
    },
    {
      "cell_type": "markdown",
      "metadata": {
        "id": "26jJE_RVif5o"
      },
      "source": [
        "This equation, batch@weights + bias, is one of the two fundamental equations in deep learning, with the other being the activation function.\n",
        "\n",
        "Let's check our accuracy. To decide whether the numbers are 3 or 7, we just check whether they are greater than 0, and our accuracy for each image is calculated using broadcasting (no loops) as shown below.\n",
        "\n",
        "So remember, we gave our train_y labels of 0 for the seven's and 1 for the three's. We build a function that checks whether the image is greater than o and then checks the label to see if it is a 0, and if so, the number is most likely to be a 3.\n"
      ]
    },
    {
      "cell_type": "code",
      "execution_count": null,
      "metadata": {
        "id": "EOHYCCGQif5p",
        "outputId": "55a86c25-0f6e-437a-a384-fa12dc820da1",
        "colab": {
          "base_uri": "https://localhost:8080/"
        }
      },
      "outputs": [
        {
          "output_type": "execute_result",
          "data": {
            "text/plain": [
              "tensor([[False, False, False,  ..., False, False, False],\n",
              "        [False, False, False,  ..., False, False, False],\n",
              "        [False, False, False,  ..., False, False, False],\n",
              "        ...,\n",
              "        [ True,  True,  True,  ...,  True,  True,  True],\n",
              "        [ True,  True,  True,  ...,  True,  True,  True],\n",
              "        [ True,  True,  True,  ...,  True,  True,  True]])"
            ]
          },
          "metadata": {},
          "execution_count": 33
        }
      ],
      "source": [
        "corrects = (preds > 0.0 ).float() == train_y\n",
        "corrects"
      ]
    },
    {
      "cell_type": "code",
      "execution_count": null,
      "metadata": {
        "id": "t00-q8b_if5q",
        "outputId": "8ecb2ab7-78f6-4b3d-c5a7-82eeb81fd6ff",
        "colab": {
          "base_uri": "https://localhost:8080/"
        }
      },
      "outputs": [
        {
          "output_type": "execute_result",
          "data": {
            "text/plain": [
              "torch.Size([12396, 12396])"
            ]
          },
          "metadata": {},
          "execution_count": 34
        }
      ],
      "source": [
        "corrects.shape"
      ]
    },
    {
      "cell_type": "code",
      "execution_count": null,
      "metadata": {
        "id": "QpkOBa_Kif5q",
        "colab": {
          "base_uri": "https://localhost:8080/"
        },
        "outputId": "905532ff-5c10-4a2e-a2b0-7cc1d10b553f"
      },
      "outputs": [
        {
          "output_type": "execute_result",
          "data": {
            "text/plain": [
              "0.5040026903152466"
            ]
          },
          "metadata": {},
          "execution_count": 35
        }
      ],
      "source": [
        "corrects.float().mean().item()"
      ]
    },
    {
      "cell_type": "code",
      "execution_count": null,
      "metadata": {
        "id": "JXhiRgE5if5r"
      },
      "outputs": [],
      "source": [
        "#change one weight and calucalate the new accuracy\n",
        "#torch.no_grad tells pytorch not to calculate gradients\n",
        "with torch.no_grad():\n",
        "    weights[0] *= 1.0001\n",
        "    preds = linear1(train_x)\n",
        "    ((preds>0.0).float() == train_y).float().mean().item()"
      ]
    },
    {
      "cell_type": "markdown",
      "metadata": {
        "id": "HpRd86tQif5r"
      },
      "source": [
        "To improve our model using SGD, we need to calculate gradients, which means we need a loss function that represents how good our model is.\n",
        "The gradients are a measure of how the loss function changes with respect to the change in weights, so we definitely need a loss function.\n",
        "\n",
        "One option would be to use accuracy, which would get the prediction for one image for every image in the dataset, calculate the average accuracy over the whole dataset and then calculate the gradients for each weight of an image with respect to the overall accuracy.\n",
        "\n",
        "As we shall see below, accuracy doesn't respond to small changes in the weights, hence it won't be useful as a loss function.\n",
        "\n",
        "The gradient of a function is its slope or steepness, i.e., rise over run, which is how much the value of the function goes up or down divided by how much the input changed. (y_new - y_old)/(x_new - x_old).\n",
        "\n",
        "\n",
        "This gives us a good approximation of the gradients when x_new is very similar to x_old, meaning their difference is very small. But accuracy only changes when a prediction changes from 3 to 7, or vice versa.\n",
        "\n",
        "\n",
        "The only problem is that a small change in weights from x_old to x_new isn't likely to cause any prediction change, so y_new-y_old will almost always be 0, making the gradient 0, which is not a number a model can learn from.\n",
        "Basically, a small change in weights doesn't result in a change in prediction; hence, the gradient at that point will almost always be zero until the prediction changes. This number 0 doesn't teach the model anything.\n",
        "\n",
        "\n",
        "We need a loss function that, when our weights result in slightly better predictions, gives us a slightly better loss. In this case, if the answer is a 3, the answer is a little higher, and if the answer is a 7, the loss is a little lower.\n",
        "\n",
        "\n",
        "Let's write this function that takes in the predictions as input. Let's make an argument prds of values between 0 and 1, where each value is the prediction that a number is a 3.\n",
        "Let's make another argument trgts which are the targets between 0 and 1, which tells whether an image is a 3 or not.\n",
        "A loss function calculates the difference between the predicted images and the targets.\n",
        "\n",
        "\n",
        "\"initialize params, make preds, calculate the loss, i.e., distance between pred and target, get gradients, update params based on grad, repeat.\".\n",
        "\n",
        "\n",
        "For instance, we might have three numbers, which are 3, 7, and 3. We pass these to the model, which returns a prediction of (0.9) for the first, where the model predicted with high confidence that the value was a 3, the second value is a (0.4), where the model was fairly confident that the number was a 7, and with fair confidence but incorrectly that the last was a 7 (0.2). Since 0.9, 0.4, and 0.2 are the predictions, we pass these to the model as input."
      ]
    },
    {
      "cell_type": "markdown",
      "source": [
        "#Grammar checkpoint"
      ],
      "metadata": {
        "id": "kVeu7pUPdz4J"
      }
    },
    {
      "cell_type": "code",
      "execution_count": null,
      "metadata": {
        "id": "VY82RHu3if5s"
      },
      "outputs": [],
      "source": [
        "trgts = tensor([1,0,1])\n",
        "prds = tensor([0.9,0.4,0.2])"
      ]
    },
    {
      "cell_type": "code",
      "execution_count": null,
      "metadata": {
        "id": "QYSwqRXbif5t"
      },
      "outputs": [],
      "source": [
        "def mnist_loss(predictions, targets):\n",
        "    return torch.where(targets == 1, 1-predictions, predictions).mean()"
      ]
    },
    {
      "cell_type": "markdown",
      "metadata": {
        "id": "9D-6XoWsif5t"
      },
      "source": [
        "This calculates the distance between the target and 1 if it is supposed to be a one and the distance to 0, if its is supposed to be a 0. We then take the mean of those distances.\n",
        "\n",
        "Lets try it on our prds and tgts"
      ]
    },
    {
      "cell_type": "code",
      "execution_count": null,
      "metadata": {
        "id": "Zi4UXvfRif5u",
        "outputId": "bee2da91-756e-47f2-ff5a-1251616b02d0",
        "colab": {
          "base_uri": "https://localhost:8080/"
        }
      },
      "outputs": [
        {
          "output_type": "execute_result",
          "data": {
            "text/plain": [
              "tensor([0.1000, 0.4000, 0.8000])"
            ]
          },
          "metadata": {},
          "execution_count": 39
        }
      ],
      "source": [
        "torch.where(trgts == 1, 1-prds, prds)"
      ]
    },
    {
      "cell_type": "code",
      "execution_count": null,
      "metadata": {
        "id": "0pEen4qZif5v",
        "outputId": "7ea0cf03-989f-48f7-9e77-4687309e8114",
        "colab": {
          "base_uri": "https://localhost:8080/"
        }
      },
      "outputs": [
        {
          "output_type": "execute_result",
          "data": {
            "text/plain": [
              "tensor(0.4333)"
            ]
          },
          "metadata": {},
          "execution_count": 40
        }
      ],
      "source": [
        "mnist_loss(tensor([0.9,0.4,0.2]),trgts)"
      ]
    },
    {
      "cell_type": "code",
      "execution_count": null,
      "metadata": {
        "id": "TkSCTCcFif5w",
        "outputId": "2a46e0b2-75db-4184-a0f2-4c82711fda9d",
        "colab": {
          "base_uri": "https://localhost:8080/"
        }
      },
      "outputs": [
        {
          "output_type": "execute_result",
          "data": {
            "text/plain": [
              "tensor(0.4333)"
            ]
          },
          "metadata": {},
          "execution_count": 41
        }
      ],
      "source": [
        "mnist_loss(prds,trgts)"
      ]
    },
    {
      "cell_type": "markdown",
      "metadata": {
        "id": "1EVZdpD4if5w"
      },
      "source": [
        "This function returns a lower number when the predictions are more accurate, when accurate predictions are more confidentand when inaccurate predicitons are less confident.We take the mean to give us a scalar for the final loss.With loss, a low number is always assuemned to be better i.e if we changed our last p[rediction from 0.2 to 0.8 inidcating high confidence in the number being a three our loss goes down as shown below."
      ]
    },
    {
      "cell_type": "code",
      "execution_count": null,
      "metadata": {
        "id": "ywkFdqHxif5x",
        "outputId": "9eb93de5-e468-457e-ad78-9dbf98c555f8",
        "colab": {
          "base_uri": "https://localhost:8080/"
        }
      },
      "outputs": [
        {
          "output_type": "execute_result",
          "data": {
            "text/plain": [
              "tensor(0.2333)"
            ]
          },
          "metadata": {},
          "execution_count": 42
        }
      ],
      "source": [
        "mnist_loss(tensor([0.9,0.4,0.8]),trgts)"
      ]
    },
    {
      "cell_type": "markdown",
      "source": [
        "Sigmoid"
      ],
      "metadata": {
        "id": "mrGIcgrbB8kp"
      }
    },
    {
      "cell_type": "markdown",
      "metadata": {
        "id": "icPpSXMqif5y"
      },
      "source": [
        "Currently we see that with our mnist loss function, we assume that the preds are between 0 and 1. we need to ensure that is true.\n",
        "\n",
        "Luckily enough, there is a function called sigmoid that does just that."
      ]
    },
    {
      "cell_type": "markdown",
      "metadata": {
        "id": "bWMSXfYeif5y"
      },
      "source": [
        "The sigmoid function always outputs a number between 0 and 1.It takes in any value as input and squishes it into a value between 0 and 1.\n",
        "\n",
        "It is defined as follows"
      ]
    },
    {
      "cell_type": "code",
      "execution_count": null,
      "metadata": {
        "id": "BX4DUhyCif5z"
      },
      "outputs": [],
      "source": [
        "def sigmoid(x):\n",
        "    return 1/(1+torch.exp(-x))"
      ]
    },
    {
      "cell_type": "code",
      "source": [
        "help(sigmoid)"
      ],
      "metadata": {
        "colab": {
          "base_uri": "https://localhost:8080/"
        },
        "id": "Hut9gjEDCiWH",
        "outputId": "6652f562-ba15-4dbf-8d73-c62f5c059bd8"
      },
      "execution_count": null,
      "outputs": [
        {
          "output_type": "stream",
          "name": "stdout",
          "text": [
            "Help on function sigmoid in module __main__:\n",
            "\n",
            "sigmoid(x)\n",
            "\n"
          ]
        }
      ]
    },
    {
      "cell_type": "markdown",
      "metadata": {
        "id": "No4mVlwHif5z"
      },
      "source": [
        "Luckily enough PyTorch defines an accelerated version of the sigmoid function for us, so we dont need to define one.This is a commonly used function in deep learning as we usually want to ensure our predictions are between 0 and 1.\n",
        "\n",
        "We can plot the function to see it looks."
      ]
    },
    {
      "cell_type": "code",
      "execution_count": null,
      "metadata": {
        "id": "Dpr8Weerif51",
        "outputId": "8fb4b19d-b499-451e-85cb-320b588b35dc",
        "colab": {
          "base_uri": "https://localhost:8080/",
          "height": 396
        }
      },
      "outputs": [
        {
          "output_type": "display_data",
          "data": {
            "text/plain": [
              "<Figure size 600x400 with 1 Axes>"
            ],
            "image/png": "[encoded data removed]"
          },
          "metadata": {}
        }
      ],
      "source": [
        "plot_function(torch.sigmoid, title='Sigmoid', min=-4, max=4)"
      ]
    },
    {
      "cell_type": "code",
      "execution_count": null,
      "metadata": {
        "id": "9i0GjoZbif50",
        "outputId": "ed538d93-49f7-40cf-9aad-277a695d227a",
        "colab": {
          "base_uri": "https://localhost:8080/"
        }
      },
      "outputs": [
        {
          "output_type": "stream",
          "name": "stdout",
          "text": [
            "Help on function plot_function in module fastbook:\n",
            "\n",
            "plot_function(f, tx=None, ty=None, title=None, min=-2, max=2, figsize=(6, 4))\n",
            "\n"
          ]
        }
      ],
      "source": [
        "help(plot_function)"
      ]
    },
    {
      "cell_type": "markdown",
      "metadata": {
        "id": "NxlpxI_Tif52"
      },
      "source": [
        "As we can see the above function has values between 0 and 1 and takes any value and squishes into an output value between 0 and 1. It is a smooth curve that goes up, which is the type of function that gives us meaningful derivatives.This means that the function responds to small changes in the gradients.\n",
        "\n",
        "With this we update our mnist function applying sigmoid to the inputs as shown below"
      ]
    },
    {
      "cell_type": "code",
      "execution_count": null,
      "metadata": {
        "id": "qU7o4E7yif6K"
      },
      "outputs": [],
      "source": [
        "#calculates distance from 1 if target is 1,and distance from 0 if target is 0.\n",
        "def mnist_loss(predictions,targets):\n",
        "    predictions = predictions.sigmoid()\n",
        "    return torch.where(targets == 1, 1 - predictions, predictions).mean()"
      ]
    },
    {
      "cell_type": "markdown",
      "metadata": {
        "id": "-FlR7l4Uif6R"
      },
      "source": [
        "With this our loss function will work even the predictions are not between 0 and 1. All that is required is that higher values of predictions correspond to s higher confidence an image is a 3.\n",
        "\n",
        "We already have a metric so the question would be why did we define a loss function ?\n",
        "\n",
        "A metric is used to drive human understanding of how our model is actually performing while a loss function is to drive machine learning.To drive automated learning we need a function which returns meaningful derivatives and responds to small changes in the confidence level.\n",
        "This means that sometimes the loss function is not exaclty an approximation of what we want to achieve, but a compromise between the real goal and a function that can be opimtimized with gradients.\n",
        "\n",
        "The loss function is calculated for every item in the dataset and the end of our epoch the loss values are averaged to give us a single scalar value of the mean loss for each epoch.\n",
        "\n",
        "Metrics on the other hand show us how a model is really doing, we usually look at this  metric when judging the performance of a model."
      ]
    },
    {
      "cell_type": "markdown",
      "metadata": {
        "id": "oiKLS1v7if6S"
      },
      "source": [
        "SGD AND MINI-BATCHES"
      ]
    },
    {
      "cell_type": "markdown",
      "metadata": {
        "id": "91cGEseQif6T"
      },
      "source": [
        "The next step is to change the weights based of the gradients and learning rate, This is called the optimization step.\n",
        "\n",
        "While taking the optimization step, we take the loss over a couple of data items in the dataset.Taking the loss for all the items in the dataset will take long though yield more accurate gradients while taking the loss for one item will result in unstable gradients as calculating the loss on one item does not yield enough information to be helpful i.e. we would be updating the weights in relation to how those weights improve the perfromance of that one item.\n",
        "\n",
        "A compromise would be to take the average loss for a couple of data items in the dataset at a time, this is called the mini batch.The number of data items in a batch is called the batch size.\n",
        "\n",
        "A large mini batch learns more stable and useful gradients but takes longer to converge and you end up having less mini batches per epoch. Deciding on a good batch size is one of the decisions you make as a deep learning practioneer when building models.\n",
        "\n",
        "Another good reason we want to use mini batches as opposed to using one data item is that in real-world we mostly used accelerated compute such as GPU's which work very well when provided with a lot of work to do, though if you provide too much you will run out of memory."
      ]
    },
    {
      "cell_type": "markdown",
      "metadata": {
        "id": "pTHxA9Nvif6U"
      },
      "source": [
        "Random Shuffle\n",
        "\n",
        "In practice we get better generalization if we can vary things abit during training as shown in the antelope classifier blog.\n",
        "\n",
        "Instead of enumerating our dataset in order for every epoch, We can vary the items by randomly shuffling the items for every epoch before we create a mini batch.\n",
        "\n",
        "\n",
        "> PyTorch and fastai provide a class **DataLoader** that does the shuffling and mini batch collation for us.\n",
        "\n",
        "\n",
        "\n",
        "A DataLoader takes any python collection such as a list etc. and turns it into an iterator over mini batches as shown below"
      ]
    },
    {
      "cell_type": "code",
      "execution_count": null,
      "metadata": {
        "id": "ngxdSJUPif6V"
      },
      "outputs": [],
      "source": [
        "coll = range(15)"
      ]
    },
    {
      "cell_type": "code",
      "execution_count": null,
      "metadata": {
        "id": "P1Gzmtdzif6V",
        "outputId": "94c13188-f500-4382-e558-59fb2b3bf31d",
        "colab": {
          "base_uri": "https://localhost:8080/"
        }
      },
      "outputs": [
        {
          "output_type": "execute_result",
          "data": {
            "text/plain": [
              "[0, 1, 2, 3, 4, 5, 6, 7, 8, 9, 10, 11, 12, 13, 14]"
            ]
          },
          "metadata": {},
          "execution_count": 97
        }
      ],
      "source": [
        "list(coll)"
      ]
    },
    {
      "cell_type": "code",
      "execution_count": null,
      "metadata": {
        "id": "7Af8Yb87if6W",
        "colab": {
          "base_uri": "https://localhost:8080/"
        },
        "outputId": "1383b9a9-617a-4694-d251-0b35762bda91"
      },
      "outputs": [
        {
          "output_type": "execute_result",
          "data": {
            "text/plain": [
              "[tensor([ 3, 12,  8]),\n",
              " tensor([10,  2,  9]),\n",
              " tensor([ 4,  7, 14]),\n",
              " tensor([ 5,  1, 13]),\n",
              " tensor([ 0,  6, 11])]"
            ]
          },
          "metadata": {},
          "execution_count": 98
        }
      ],
      "source": [
        "dl = DataLoader(coll, batch_size = 3, shuffle=True)\n",
        "list(dl)"
      ]
    },
    {
      "cell_type": "markdown",
      "metadata": {
        "id": "VJfCjlXZif6X"
      },
      "source": [
        "For training a model, we dont just want any collection but a collection containing the independent and dependent variables (inputs and targets). A collection containing the independent and dependent variables in PyTorch is known as a dataset.\n",
        "\n",
        "When we pass a dataset to a DataLoader, we gain back a mini batch contaning a tuple of tensors containing batches of independent and dependent variables.\n",
        "\n",
        "With this, lets write  training loop using SGD."
      ]
    },
    {
      "cell_type": "markdown",
      "metadata": {
        "id": "50zv8e60if6c"
      },
      "source": [
        "Putting it all together\n",
        "\n",
        "Here we fully implement our 7 step process that we saw in gradient descent.\n",
        "Our process shall be implemented as something like this\n",
        "\n",
        "\n",
        "\n",
        "```\n",
        "for x,y in dl:\n",
        "    prediction = model(x)\n",
        "    loss = loss_function(prediction, y)\n",
        "    loss.backward()\n",
        "    paramters -= parameters.grad * lr\n",
        "```\n",
        "\n"
      ]
    },
    {
      "cell_type": "markdown",
      "metadata": {
        "id": "L79Nus_gif6f"
      },
      "source": [
        "First lets redo our 7 steps"
      ]
    },
    {
      "cell_type": "code",
      "execution_count": null,
      "metadata": {
        "id": "iIGAgUmlif6f",
        "outputId": "4b3f779d-bb19-4d9c-c5c8-d8c08ed30ffe",
        "colab": {
          "base_uri": "https://localhost:8080/"
        }
      },
      "outputs": [
        {
          "output_type": "stream",
          "name": "stdout",
          "text": [
            "Help on function init_params in module __main__:\n",
            "\n",
            "init_params(size, std=1.0)\n",
            "    #initiliaze parameters\n",
            "\n"
          ]
        }
      ],
      "source": [
        "help(init_params)"
      ]
    },
    {
      "cell_type": "markdown",
      "source": [
        "1."
      ],
      "metadata": {
        "id": "i6xKhsGxl9XS"
      }
    },
    {
      "cell_type": "code",
      "execution_count": null,
      "metadata": {
        "id": "O1gYMycIif6g"
      },
      "outputs": [],
      "source": [
        "#reinitialize params\n",
        "weights = init_params(28*28,1)"
      ]
    },
    {
      "cell_type": "code",
      "execution_count": null,
      "metadata": {
        "id": "-r5tMC4rif6g"
      },
      "outputs": [],
      "source": [
        "bias = init_params(1)"
      ]
    },
    {
      "cell_type": "code",
      "execution_count": null,
      "metadata": {
        "id": "MNkMA3THif6h"
      },
      "outputs": [],
      "source": [
        "#dset = list(zip(train_x,train_y))"
      ]
    },
    {
      "cell_type": "code",
      "execution_count": null,
      "metadata": {
        "id": "8A6ZsVZVif6i",
        "colab": {
          "base_uri": "https://localhost:8080/"
        },
        "outputId": "0bc8b37a-ce4b-4529-eff2-2adfd3f267eb"
      },
      "outputs": [
        {
          "output_type": "execute_result",
          "data": {
            "text/plain": [
              "(torch.Size([256, 784]), torch.Size([256, 1]))"
            ]
          },
          "metadata": {},
          "execution_count": 26
        }
      ],
      "source": [
        "dl = DataLoader(dset, batch_size = 256, shuffle = True)\n",
        "\n",
        "#what does first(dl) do\n",
        "xb, yb = first(dl)\n",
        "xb.shape, yb.shape"
      ]
    },
    {
      "cell_type": "code",
      "source": [
        "#valid_dset = list(zip(valid_x,valid_y))"
      ],
      "metadata": {
        "id": "mJEooIuSii6M"
      },
      "execution_count": null,
      "outputs": []
    },
    {
      "cell_type": "code",
      "execution_count": null,
      "metadata": {
        "id": "vMX7OGOQif6i"
      },
      "outputs": [],
      "source": [
        "valid_dl = DataLoader(valid_dset, batch_size= 256, shuffle=True)"
      ]
    },
    {
      "cell_type": "markdown",
      "source": [
        "SO batch is different from batch size because batch size defines how many pixels or say images the model processes at a go. while batch is the actual number of images in the dataset being passed into the linear model. say we define a batch of train_x[:10]., the first 0 -9 index of the images in train_x., and pass 10 28 * 28 px images to the linear model, we could define a batch_size of 256 meaning the model will process 256 pixels out of 784 pixels at a go."
      ],
      "metadata": {
        "id": "75Cfz5Bdkaz4"
      }
    },
    {
      "cell_type": "code",
      "execution_count": null,
      "metadata": {
        "id": "Whhi_Oprif6j",
        "colab": {
          "base_uri": "https://localhost:8080/"
        },
        "outputId": "c3693c24-fee5-40a5-a9d6-f695ac328782"
      },
      "outputs": [
        {
          "output_type": "execute_result",
          "data": {
            "text/plain": [
              "tensor([[0., 0., 0.,  ..., 0., 0., 0.],\n",
              "        [0., 0., 0.,  ..., 0., 0., 0.],\n",
              "        [0., 0., 0.,  ..., 0., 0., 0.],\n",
              "        [0., 0., 0.,  ..., 0., 0., 0.]])"
            ]
          },
          "metadata": {},
          "execution_count": 29
        }
      ],
      "source": [
        "#Mini batch\n",
        "batch = train_x[:4]\n",
        "batch"
      ]
    },
    {
      "cell_type": "code",
      "source": [
        "train_labels_batch = train_y[:4]"
      ],
      "metadata": {
        "id": "jsHvnzqCc3Uh"
      },
      "execution_count": null,
      "outputs": []
    },
    {
      "cell_type": "code",
      "execution_count": null,
      "metadata": {
        "id": "BuHNHyWTif6j",
        "colab": {
          "base_uri": "https://localhost:8080/"
        },
        "outputId": "87185e03-55a7-4237-d4cd-2dcdd6f3512b"
      },
      "outputs": [
        {
          "output_type": "execute_result",
          "data": {
            "text/plain": [
              "tensor([[0., 0., 0.,  ..., 0., 0., 0.],\n",
              "        [0., 0., 0.,  ..., 0., 0., 0.],\n",
              "        [0., 0., 0.,  ..., 0., 0., 0.],\n",
              "        [0., 0., 0.,  ..., 0., 0., 0.]])"
            ]
          },
          "metadata": {},
          "execution_count": 31
        }
      ],
      "source": [
        "valid_batch = valid_x[:4]\n",
        "valid_batch"
      ]
    },
    {
      "cell_type": "markdown",
      "source": [
        "2."
      ],
      "metadata": {
        "id": "I0hMAAZZmBKU"
      }
    },
    {
      "cell_type": "code",
      "execution_count": null,
      "metadata": {
        "id": "nC8zy8NGif6j"
      },
      "outputs": [],
      "source": [
        "#linear1\n",
        "def linear1(xb):\n",
        "    return xb@weights + bias"
      ]
    },
    {
      "cell_type": "code",
      "execution_count": null,
      "metadata": {
        "id": "wYQGT5XNif6k",
        "colab": {
          "base_uri": "https://localhost:8080/"
        },
        "outputId": "77525309-7425-417e-a55d-e3623daca897"
      },
      "outputs": [
        {
          "output_type": "execute_result",
          "data": {
            "text/plain": [
              "tensor([ -6.2330, -10.6388, -20.8865, -17.8700], grad_fn=<AddBackward0>)"
            ]
          },
          "metadata": {},
          "execution_count": 33
        }
      ],
      "source": [
        "#make predictions\n",
        "preds = linear1(batch)\n",
        "preds"
      ]
    },
    {
      "cell_type": "markdown",
      "source": [
        "3."
      ],
      "metadata": {
        "id": "yyilE-ujdIzF"
      }
    },
    {
      "cell_type": "code",
      "execution_count": null,
      "metadata": {
        "id": "Svi13EEGif6k",
        "colab": {
          "base_uri": "https://localhost:8080/"
        },
        "outputId": "c5fdf768-2303-4b25-b1d9-6f952acf720a"
      },
      "outputs": [
        {
          "output_type": "execute_result",
          "data": {
            "text/plain": [
              "tensor(0.9995, grad_fn=<MeanBackward0>)"
            ]
          },
          "metadata": {},
          "execution_count": 38
        }
      ],
      "source": [
        "loss = mnist_loss(preds, train_y[:4])\n",
        "loss"
      ]
    },
    {
      "cell_type": "code",
      "execution_count": null,
      "metadata": {
        "id": "oj4DHCLMif6l"
      },
      "outputs": [],
      "source": [
        "loss.backward()"
      ]
    },
    {
      "cell_type": "code",
      "source": [
        "#weights.grad"
      ],
      "metadata": {
        "id": "Q6LM8oUsfB_U"
      },
      "execution_count": null,
      "outputs": []
    },
    {
      "cell_type": "code",
      "execution_count": null,
      "metadata": {
        "id": "pmVbVbNpif6m",
        "colab": {
          "base_uri": "https://localhost:8080/"
        },
        "outputId": "150ef198-5429-4723-e360-d570e07ecb7c"
      },
      "outputs": [
        {
          "output_type": "execute_result",
          "data": {
            "text/plain": [
              "(torch.Size([784]), tensor(-7.0675e-05), tensor([-0.0005]))"
            ]
          },
          "metadata": {},
          "execution_count": 41
        }
      ],
      "source": [
        "weights.grad.shape, weights.grad.mean(), bias.grad"
      ]
    },
    {
      "cell_type": "markdown",
      "metadata": {
        "id": "r9AQHD46if6n"
      },
      "source": [
        "Lets put what we have done so far in a single function"
      ]
    },
    {
      "cell_type": "code",
      "execution_count": null,
      "metadata": {
        "id": "IV3CYwV7if6o"
      },
      "outputs": [],
      "source": [
        "def calc_grad(xb,yb,model):\n",
        "    preds = model(xb)\n",
        "    loss = mnist_loss(preds,yb)\n",
        "    loss.backward()"
      ]
    },
    {
      "cell_type": "code",
      "execution_count": null,
      "metadata": {
        "id": "SVN5ZfcAif6p",
        "colab": {
          "base_uri": "https://localhost:8080/"
        },
        "outputId": "dfdec1ca-ba44-4f46-d10d-e4965f5eb595"
      },
      "outputs": [
        {
          "output_type": "execute_result",
          "data": {
            "text/plain": [
              "(tensor(-0.0001), tensor([-0.0010]))"
            ]
          },
          "metadata": {},
          "execution_count": 43
        }
      ],
      "source": [
        "#test out calc_grad\n",
        "calc_grad(batch,train_y[:4],linear1)\n",
        "weights.grad.mean(),bias.grad"
      ]
    },
    {
      "cell_type": "markdown",
      "metadata": {
        "id": "najSJFjdif6q"
      },
      "source": [
        "We test the function a second time"
      ]
    },
    {
      "cell_type": "code",
      "execution_count": null,
      "metadata": {
        "id": "f22JcSuQif6s",
        "colab": {
          "base_uri": "https://localhost:8080/"
        },
        "outputId": "e031b0d5-41c3-4ab8-a91a-4bdf4b0b3096"
      },
      "outputs": [
        {
          "output_type": "execute_result",
          "data": {
            "text/plain": [
              "(tensor(-0.0002), tensor([-0.0015]))"
            ]
          },
          "metadata": {},
          "execution_count": 44
        }
      ],
      "source": [
        "#test out calc_grad again\n",
        "calc_grad(batch,train_y[:4],linear1)\n",
        "weights.grad.mean(),bias.grad"
      ]
    },
    {
      "cell_type": "markdown",
      "source": [
        "When calculating gradients,we see that loss.backward() actually adds the gradients computed to the gradients previously computed and stored. For this reason we always set the gradients to 0 whenever we calculate gradients.\n",
        "\n",
        "We add .zero() to weights.grad and bias.grad (the parameters gradients) which is an inplace operation that sets all elements of the tensor to 0.\n"
      ],
      "metadata": {
        "id": "pj0ZFXvbgG0Y"
      }
    },
    {
      "cell_type": "code",
      "source": [
        "loss"
      ],
      "metadata": {
        "colab": {
          "base_uri": "https://localhost:8080/"
        },
        "id": "U-h72Itecary",
        "outputId": "04f9e342-a776-416c-c9b7-8696ce444ce6"
      },
      "execution_count": null,
      "outputs": [
        {
          "output_type": "execute_result",
          "data": {
            "text/plain": [
              "tensor(0.9995, grad_fn=<MeanBackward0>)"
            ]
          },
          "metadata": {},
          "execution_count": 45
        }
      ]
    },
    {
      "cell_type": "code",
      "source": [
        "weights.grad.zero_()\n",
        "bias.grad.zero_()"
      ],
      "metadata": {
        "colab": {
          "base_uri": "https://localhost:8080/"
        },
        "id": "XQadNGccgITm",
        "outputId": "9ca5b3a0-8a9b-4593-de33-87e895c6057e"
      },
      "execution_count": null,
      "outputs": [
        {
          "output_type": "execute_result",
          "data": {
            "text/plain": [
              "tensor([0.])"
            ]
          },
          "metadata": {},
          "execution_count": 46
        }
      ]
    },
    {
      "cell_type": "markdown",
      "metadata": {
        "id": "GPIpFEFyif6u"
      },
      "source": [
        "We now have to make a step where we update the weights and biases based on the gradients and the learning rate. While doing this, we have to tell PyTorch not to calculate the gradient at this point too.\n",
        "\n",
        "> We do that by assigning our parameters a data attribute which tells PyTorch not to take gradients at that step.\n",
        "\n",
        "Below is our basic training loop"
      ]
    },
    {
      "cell_type": "code",
      "execution_count": null,
      "metadata": {
        "id": "EOzj2EiXif6u"
      },
      "outputs": [],
      "source": [
        "def train_epoch(model,lr,params):\n",
        "    for xb,yb in dl:\n",
        "        calc_grad(xb,yb,model)\n",
        "        for p in params:\n",
        "            p.data -= p.grad * lr\n",
        "            p.data.zero_()"
      ]
    },
    {
      "cell_type": "markdown",
      "metadata": {
        "id": "TRHlN8U-if6w"
      },
      "source": [
        "Accuracy check\n",
        "\n",
        "To check whether a number is a 3 or a 7, we can check whether the predixtion is greater than 0.\n",
        "\n",
        "Our accuracy for each item is calculated"
      ]
    },
    {
      "cell_type": "code",
      "execution_count": null,
      "metadata": {
        "id": "DSK8BR0yif6y",
        "colab": {
          "base_uri": "https://localhost:8080/"
        },
        "outputId": "4579dcf3-e54b-478b-c104-0d231665ec44"
      },
      "outputs": [
        {
          "output_type": "execute_result",
          "data": {
            "text/plain": [
              "tensor([[False, False, False, False],\n",
              "        [False, False, False, False],\n",
              "        [False, False, False, False],\n",
              "        [False, False, False, False]])"
            ]
          },
          "metadata": {},
          "execution_count": 48
        }
      ],
      "source": [
        "(preds>0.0).float() == train_y[:4]"
      ]
    },
    {
      "cell_type": "markdown",
      "metadata": {
        "id": "TeXHI27kif6z"
      },
      "source": [
        "This gives us a function to calculate accuracyas defined below"
      ]
    },
    {
      "cell_type": "code",
      "execution_count": null,
      "metadata": {
        "id": "uEj9wWjTif63"
      },
      "outputs": [],
      "source": [
        "def batch_accuracy(xb,yb):\n",
        "    preds = xb.sigmoid()\n",
        "    corrects =(preds>0.5) == yb\n",
        "    return corrects.float().mean()"
      ]
    },
    {
      "cell_type": "code",
      "execution_count": null,
      "metadata": {
        "id": "OaP7c606if63",
        "colab": {
          "base_uri": "https://localhost:8080/"
        },
        "outputId": "e6a669b9-38cc-45ee-f30a-22352fdaead5"
      },
      "outputs": [
        {
          "output_type": "execute_result",
          "data": {
            "text/plain": [
              "tensor(0.)"
            ]
          },
          "metadata": {},
          "execution_count": 51
        }
      ],
      "source": [
        "batch_accuracy(linear1(batch),train_y[:4])"
      ]
    },
    {
      "cell_type": "markdown",
      "metadata": {
        "id": "CCMAGec0if64"
      },
      "source": [
        "Put all batches together"
      ]
    },
    {
      "cell_type": "code",
      "execution_count": null,
      "metadata": {
        "id": "eE-W6BMfif64"
      },
      "outputs": [],
      "source": [
        "def validate_epoch(model):\n",
        "    accs = [batch_accuracy(model(xb),yb) for xb,yb in dl]\n",
        "    return round(torch.stack(accs).mean().item(),4)"
      ]
    },
    {
      "cell_type": "code",
      "source": [
        "u = torch.stack([batch_accuracy(linear1(xb),yb) for xb,yb in dl])\n",
        "u"
      ],
      "metadata": {
        "colab": {
          "base_uri": "https://localhost:8080/"
        },
        "id": "Cx_9jDscQp4K",
        "outputId": "2a1c35d6-88e1-4ee6-a665-686c133f9d34"
      },
      "execution_count": null,
      "outputs": [
        {
          "output_type": "execute_result",
          "data": {
            "text/plain": [
              "tensor([0.4775, 0.4968, 0.4867, 0.5151, 0.5385, 0.4883, 0.5031, 0.5028, 0.5062, 0.4780, 0.4758, 0.5084, 0.5498, 0.4839, 0.4814, 0.4828, 0.5207, 0.4885, 0.5218, 0.4761, 0.5140, 0.4659, 0.5385, 0.5061,\n",
              "        0.5488, 0.4918, 0.5083, 0.5211, 0.5385, 0.4878, 0.4972, 0.5269, 0.4507, 0.4698, 0.5296, 0.5508, 0.4736, 0.5333, 0.4918, 0.5000, 0.5145, 0.5272, 0.5242, 0.4861, 0.5000, 0.4857, 0.5247, 0.5242,\n",
              "        0.4719])"
            ]
          },
          "metadata": {},
          "execution_count": 59
        }
      ]
    },
    {
      "cell_type": "markdown",
      "source": [
        "So accs results in a list of accuracy values for each batch, torch.stack(accs) results in a single tensor where each row corresponds to accuracies for a particular batch.\n",
        "\n",
        ".mean() then calculates the average accuracy for all batches.\n",
        "\n",
        ".item retrives the number as a standard python number. This is because the mean accuracy vaklues is a scalar number not a tensor.\n",
        "\n",
        "\n",
        "> So, overall, this expression calculates the average accuracy of a model on a set of batches, represented as a list of tensors, and returns this average as a Python number rounded to four decimal places.\n",
        "\n"
      ],
      "metadata": {
        "id": "Gm7oC4ZfOyuX"
      }
    },
    {
      "cell_type": "code",
      "execution_count": null,
      "metadata": {
        "id": "QKsUCxF_if65",
        "colab": {
          "base_uri": "https://localhost:8080/"
        },
        "outputId": "d4b8b193-0d12-4289-ad9a-2ef1b5e0f58c"
      },
      "outputs": [
        {
          "output_type": "execute_result",
          "data": {
            "text/plain": [
              "0.5037"
            ]
          },
          "metadata": {},
          "execution_count": 60
        }
      ],
      "source": [
        "validate_epoch(linear1)"
      ]
    },
    {
      "cell_type": "markdown",
      "metadata": {
        "id": "4VSxpN4_if7A"
      },
      "source": [
        "Lets put together all the above for one epoch"
      ]
    },
    {
      "cell_type": "code",
      "execution_count": null,
      "metadata": {
        "id": "VuODBGMnif7A",
        "colab": {
          "base_uri": "https://localhost:8080/"
        },
        "outputId": "c841a7db-026d-490d-9d6b-39a68ad87df4"
      },
      "outputs": [
        {
          "output_type": "execute_result",
          "data": {
            "text/plain": [
              "0.5048"
            ]
          },
          "metadata": {},
          "execution_count": 64
        }
      ],
      "source": [
        "#one epoch\n",
        "lr = 1.\n",
        "params = weights, bias\n",
        "train_epoch(linear1,lr,params)\n",
        "validate_epoch(linear1)"
      ]
    },
    {
      "cell_type": "code",
      "execution_count": null,
      "metadata": {
        "id": "Hw44w3j5if7B",
        "colab": {
          "base_uri": "https://localhost:8080/"
        },
        "outputId": "54dc5b69-32ed-41d7-9c8f-6f64e03a99d2"
      },
      "outputs": [
        {
          "output_type": "stream",
          "name": "stdout",
          "text": [
            "0.50560.50520.50590.50470.5060.50480.50520.50550.50580.50550.50560.50550.50650.50590.50460.50560.50510.5050.50610.5045"
          ]
        }
      ],
      "source": [
        "#We do a couple more epochs\n",
        "for i in range(20):\n",
        "    train_epoch(linear1,lr,params)\n",
        "    print(validate_epoch(linear1), end='')"
      ]
    },
    {
      "cell_type": "markdown",
      "metadata": {
        "id": "0x7VmOyxif7C"
      },
      "source": [
        "So as we see our model above is enough to atleast match the pixle similarity model we created before.This also provides a general foundation we can build on.\n",
        "\n",
        "Our next step will be to create an object called an optimizer in PyTorch, this is a PyTorch object that handles our SGD step for us."
      ]
    },
    {
      "cell_type": "markdown",
      "metadata": {
        "id": "83O7H7Q7if7C"
      },
      "source": [
        "Optimizer"
      ]
    },
    {
      "cell_type": "markdown",
      "metadata": {
        "id": "FZeJbQHyif7D"
      },
      "source": [
        "PyTorch provides some classes to make the above SGD step we took easier to implement.\n",
        "\n",
        "Our first step would be to replace the linear1 function with PyTorch's nn.linear module.\n",
        "A module is an object of a class that inherits from PyTorch's nn.Module class.\n",
        "\n",
        "Objects of this class behave identically to PyTorch functions in that you camn call them using standard parantheses and they will return activations  of a model.\n",
        "\n",
        "nn.linear does the same things as our init_params and linear1 together containing both weights and biases in a single class.\n",
        "\n",
        "We replicate the model from above as shown below"
      ]
    },
    {
      "cell_type": "code",
      "execution_count": null,
      "metadata": {
        "id": "rZU_u5LAif7D"
      },
      "outputs": [],
      "source": [
        "linear_model = nn.Linear((28*28),1)"
      ]
    },
    {
      "cell_type": "markdown",
      "metadata": {
        "id": "CV_3Om8Qif7E"
      },
      "source": [
        "Every PyTorch module knows what parameters it has that can be trained, they can be accesed through the paramters method"
      ]
    },
    {
      "cell_type": "code",
      "execution_count": null,
      "metadata": {
        "id": "KJRAxfScif7E",
        "colab": {
          "base_uri": "https://localhost:8080/"
        },
        "outputId": "e29038e0-eac1-49b1-f832-706b5a007596"
      },
      "outputs": [
        {
          "output_type": "execute_result",
          "data": {
            "text/plain": [
              "(torch.Size([1, 784]), torch.Size([1]))"
            ]
          },
          "metadata": {},
          "execution_count": 71
        }
      ],
      "source": [
        "w,b = linear_model.parameters()\n",
        "w.shape, b.shape"
      ]
    },
    {
      "cell_type": "markdown",
      "metadata": {
        "id": "rofuYzmRif7G"
      },
      "source": [
        "We can use this information to create an optimizer"
      ]
    },
    {
      "cell_type": "code",
      "execution_count": null,
      "metadata": {
        "id": "Tq7dFz5oif7G"
      },
      "outputs": [],
      "source": [
        "class BasicOptim:\n",
        "    def __init__(self,params,lr):\n",
        "        self.params, self.lr = list(params),lr\n",
        "\n",
        "    def step(self,*args,**kwargs):\n",
        "        for p in self.params:\n",
        "            p.data -=  p.grad.data * self.lr\n",
        "\n",
        "    def zero_grad(self,*args,**kwargs):\n",
        "        for p in self.params:\n",
        "            p.grad = None\n"
      ]
    },
    {
      "cell_type": "code",
      "execution_count": null,
      "metadata": {
        "id": "PTthwXAPif7H"
      },
      "outputs": [],
      "source": [
        "opt = BasicOptim(linear_model.parameters(),lr)"
      ]
    },
    {
      "cell_type": "code",
      "execution_count": null,
      "metadata": {
        "id": "JwlIN8eyif7I"
      },
      "outputs": [],
      "source": [
        "#We simplify our training loop\n",
        "def train_epoch(model):\n",
        "    for xb,yb in dl:\n",
        "        calc_grad(xb,yb,model)\n",
        "        opt.step()\n",
        "        opt.zero_grad()\n"
      ]
    },
    {
      "cell_type": "code",
      "execution_count": null,
      "metadata": {
        "id": "lWM76B5Jif7J",
        "colab": {
          "base_uri": "https://localhost:8080/"
        },
        "outputId": "97811e23-e803-425b-edc6-c28e77d62254"
      },
      "outputs": [
        {
          "output_type": "execute_result",
          "data": {
            "text/plain": [
              "0.6537"
            ]
          },
          "metadata": {},
          "execution_count": 82
        }
      ],
      "source": [
        "#our validation_epoch deosnt change\n",
        "validate_epoch(linear_model)"
      ]
    },
    {
      "cell_type": "code",
      "execution_count": null,
      "metadata": {
        "id": "AWEzGXT_if7K"
      },
      "outputs": [],
      "source": [
        "def train_model(model,epochs):\n",
        "  for i in range(epochs):\n",
        "    train_epoch(model)\n",
        "    print(validate_epoch(model), end='')"
      ]
    },
    {
      "cell_type": "code",
      "execution_count": null,
      "metadata": {
        "id": "eTIRQgDOif7L",
        "colab": {
          "base_uri": "https://localhost:8080/"
        },
        "outputId": "6e41e35e-a59d-4462-81ba-f93901d8714c"
      },
      "outputs": [
        {
          "output_type": "stream",
          "name": "stdout",
          "text": [
            "0.98290.98340.9840.98480.98480.98540.98510.98590.9860.98640.9860.98650.98680.98690.98680.98740.98750.98750.98780.9874"
          ]
        }
      ],
      "source": [
        "train_model(linear_model,20)"
      ]
    },
    {
      "cell_type": "markdown",
      "metadata": {
        "id": "cVWtoIJkif7L"
      },
      "source": [
        "fastai provides the SGD class which does the same thing as our BasicOptim"
      ]
    },
    {
      "cell_type": "code",
      "execution_count": null,
      "metadata": {
        "id": "oUWEfeuZif7M",
        "colab": {
          "base_uri": "https://localhost:8080/"
        },
        "outputId": "23b84e78-49a3-4abe-9562-015b2239e1a3"
      },
      "outputs": [
        {
          "output_type": "stream",
          "name": "stdout",
          "text": [
            "0.97910.98080.98240.98330.98360.98460.9850.98520.98580.98570.98610.98630.98660.98680.98680.98690.98680.98750.98770.988"
          ]
        }
      ],
      "source": [
        "linear_model = nn.Linear(28*28,1)\n",
        "opt = SGD(linear_model.parameters(),lr)\n",
        "train_model(linear_model,20)"
      ]
    },
    {
      "cell_type": "markdown",
      "metadata": {
        "id": "5M6bDIU7if7N"
      },
      "source": [
        "fastai also provides Learner.fit which we can use as our train_model function defined above.\n",
        "\n",
        "To create a learner, we first need to create a DataLoaders, by passing in our training and validation DataLoader's."
      ]
    },
    {
      "cell_type": "code",
      "execution_count": null,
      "metadata": {
        "id": "I3bAd13kif7N"
      },
      "outputs": [],
      "source": [
        "dls = DataLoaders(dl, valid_dl)"
      ]
    },
    {
      "cell_type": "code",
      "source": [
        "help(dl)"
      ],
      "metadata": {
        "id": "nKn-RU0O0Njj"
      },
      "execution_count": null,
      "outputs": []
    },
    {
      "cell_type": "markdown",
      "metadata": {
        "id": "oXkOILM2if7O"
      },
      "source": [
        "To create a learner without using a specific application such as vision_learner, we need to pass in all the elements we have created in this chapter i.e. the DataLoaders, The model, the optimization function which is passed the paramters, the loss function and ,metrics if any."
      ]
    },
    {
      "cell_type": "code",
      "source": [
        "learn = Learner( dls, nn.Linear(28*28,1), opt_func=SGD, loss_func=mnist_loss, metrics=batch_accuracy )"
      ],
      "metadata": {
        "id": "fJMSt4Yv00Ze"
      },
      "execution_count": null,
      "outputs": []
    },
    {
      "cell_type": "code",
      "execution_count": null,
      "metadata": {
        "id": "KOVcfIWHif7Q",
        "colab": {
          "base_uri": "https://localhost:8080/",
          "height": 397
        },
        "outputId": "258594cc-4d4f-4765-d6fe-23e97ec1f9a4"
      },
      "outputs": [
        {
          "output_type": "stream",
          "name": "stderr",
          "text": [
            "/usr/local/lib/python3.10/dist-packages/fastai/torch_core.py:263: UserWarning: 'has_mps' is deprecated, please use 'torch.backends.mps.is_built()'\n",
            "  return getattr(torch, 'has_mps', False)\n"
          ]
        },
        {
          "output_type": "display_data",
          "data": {
            "text/plain": [
              "<IPython.core.display.HTML object>"
            ],
            "text/html": [
              "\n",
              "<style>\n",
              "    /* Turns off some styling */\n",
              "    progress {\n",
              "        /* gets rid of default border in Firefox and Opera. */\n",
              "        border: none;\n",
              "        /* Needs to be in here for Safari polyfill so background images work as expected. */\n",
              "        background-size: auto;\n",
              "    }\n",
              "    progress:not([value]), progress:not([value])::-webkit-progress-bar {\n",
              "        background: repeating-linear-gradient(45deg, #7e7e7e, #7e7e7e 10px, #5c5c5c 10px, #5c5c5c 20px);\n",
              "    }\n",
              "    .progress-bar-interrupted, .progress-bar-interrupted::-webkit-progress-bar {\n",
              "        background: #F44336;\n",
              "    }\n",
              "</style>\n"
            ]
          },
          "metadata": {}
        },
        {
          "output_type": "display_data",
          "data": {
            "text/plain": [
              "<IPython.core.display.HTML object>"
            ],
            "text/html": [
              "<table border=\"1\" class=\"dataframe\">\n",
              "  <thead>\n",
              "    <tr style=\"text-align: left;\">\n",
              "      <th>epoch</th>\n",
              "      <th>train_loss</th>\n",
              "      <th>valid_loss</th>\n",
              "      <th>batch_accuracy</th>\n",
              "      <th>time</th>\n",
              "    </tr>\n",
              "  </thead>\n",
              "  <tbody>\n",
              "    <tr>\n",
              "      <td>0</td>\n",
              "      <td>0.058537</td>\n",
              "      <td>0.041406</td>\n",
              "      <td>0.970069</td>\n",
              "      <td>00:00</td>\n",
              "    </tr>\n",
              "    <tr>\n",
              "      <td>1</td>\n",
              "      <td>0.040261</td>\n",
              "      <td>0.034746</td>\n",
              "      <td>0.975466</td>\n",
              "      <td>00:00</td>\n",
              "    </tr>\n",
              "    <tr>\n",
              "      <td>2</td>\n",
              "      <td>0.032166</td>\n",
              "      <td>0.031302</td>\n",
              "      <td>0.976448</td>\n",
              "      <td>00:00</td>\n",
              "    </tr>\n",
              "    <tr>\n",
              "      <td>3</td>\n",
              "      <td>0.028218</td>\n",
              "      <td>0.030044</td>\n",
              "      <td>0.975466</td>\n",
              "      <td>00:00</td>\n",
              "    </tr>\n",
              "    <tr>\n",
              "      <td>4</td>\n",
              "      <td>0.025687</td>\n",
              "      <td>0.028485</td>\n",
              "      <td>0.977429</td>\n",
              "      <td>00:00</td>\n",
              "    </tr>\n",
              "    <tr>\n",
              "      <td>5</td>\n",
              "      <td>0.023976</td>\n",
              "      <td>0.027936</td>\n",
              "      <td>0.976448</td>\n",
              "      <td>00:00</td>\n",
              "    </tr>\n",
              "    <tr>\n",
              "      <td>6</td>\n",
              "      <td>0.022315</td>\n",
              "      <td>0.025996</td>\n",
              "      <td>0.979882</td>\n",
              "      <td>00:00</td>\n",
              "    </tr>\n",
              "    <tr>\n",
              "      <td>7</td>\n",
              "      <td>0.021236</td>\n",
              "      <td>0.025171</td>\n",
              "      <td>0.979392</td>\n",
              "      <td>00:00</td>\n",
              "    </tr>\n",
              "    <tr>\n",
              "      <td>8</td>\n",
              "      <td>0.020777</td>\n",
              "      <td>0.025154</td>\n",
              "      <td>0.979392</td>\n",
              "      <td>00:00</td>\n",
              "    </tr>\n",
              "    <tr>\n",
              "      <td>9</td>\n",
              "      <td>0.020235</td>\n",
              "      <td>0.024183</td>\n",
              "      <td>0.978901</td>\n",
              "      <td>00:00</td>\n",
              "    </tr>\n",
              "  </tbody>\n",
              "</table>"
            ]
          },
          "metadata": {}
        }
      ],
      "source": [
        "#now we call fit\n",
        "learn.fit(10, lr=lr)"
      ]
    },
    {
      "cell_type": "markdown",
      "metadata": {
        "id": "AKoJSeN-if7R"
      },
      "source": [
        "PyTorch and fastai classes are convinently pre-packaged pieces of code that make work somewhat easier.\n",
        "\n",
        "With all these classes defined, we can then replace a linear model with a neural network."
      ]
    },
    {
      "cell_type": "markdown",
      "metadata": {
        "id": "fbQvt06Hif7T"
      },
      "source": [
        "Adding Non-linearilty"
      ]
    },
    {
      "cell_type": "markdown",
      "metadata": {
        "id": "YViiCBfzif7U"
      },
      "source": [
        "remember since we have the general procedure for optimizing the parameters of a function, to turn the above declared learn.fit into one with neural nets instead of a linear model,we repalce the model (nn.linear(28*28,1)) with the simple_net declared below.\n",
        "\n",
        "\n",
        "So far we have a general procedure for optimizing the parameters of a function, and we tried it out on a very simple function i.e. a linear classifier.This linear classifier is contrained in terms of what it can do, To make it abit more complex and handle more tasks, we need to add something non linear between two linear classifiers, this is what gives us a neural network.\n",
        "\n",
        "Below is the entire definition of a basic neural network"
      ]
    },
    {
      "cell_type": "code",
      "execution_count": null,
      "metadata": {
        "id": "Ftd9kaOhif7V"
      },
      "outputs": [],
      "source": [
        "def simple_net(xb):\n",
        "    res = xb@w1 + b1\n",
        "    res = res.max(tensor(0.0))\n",
        "    res = res@w2 + b2\n",
        "    return res"
      ]
    },
    {
      "cell_type": "markdown",
      "metadata": {
        "id": "blrV-DFoif7W"
      },
      "source": [
        "All, we have in our simple net is two linear classifiers with a max function between them.\n",
        "\n",
        "w1 and w2 are weight tensors while b1 and b2 are bias tensors, i.e. randomly initiazed paramters of a function just like we did previously.\n"
      ]
    },
    {
      "cell_type": "code",
      "execution_count": null,
      "metadata": {
        "id": "wjI7U1TMif7X"
      },
      "outputs": [],
      "source": [
        "w1 = init_params((28*28,30))\n",
        "b1 = init_params(30)\n",
        "w2 = init_params(30,1)\n",
        "b2 = init_params(1)"
      ]
    },
    {
      "cell_type": "markdown",
      "metadata": {
        "id": "hXa1MDTeif7X"
      },
      "source": [
        "The key point is that w1 has 30 outputs activations hence w2 must have 30 input activations so they match.That means the first layer constructs 30 different features which represent different sets of pixels. You can change the 30 to any random number you like depending on how complex you want the model.\n",
        "\n",
        "The function res.max(tensor(0.0)) is called a rectified linear unit, also known as a ReLu. what this does is it replaces every negative number with a 0.\n",
        "\n",
        "This is available in PyTorch as F.relu"
      ]
    },
    {
      "cell_type": "code",
      "execution_count": null,
      "metadata": {
        "id": "RDGXVE9lif7Y",
        "colab": {
          "base_uri": "https://localhost:8080/",
          "height": 372
        },
        "outputId": "2a789d7c-a2fb-49ed-8142-6303f6ce09c0"
      },
      "outputs": [
        {
          "output_type": "display_data",
          "data": {
            "text/plain": [
              "<Figure size 600x400 with 1 Axes>"
            ],
            "image/png": "[encoded data removed]"
          },
          "metadata": {}
        }
      ],
      "source": [
        "plot_function(F.relu)"
      ]
    },
    {
      "cell_type": "markdown",
      "metadata": {
        "id": "8-1OF4KDif7Z"
      },
      "source": [
        "Two linear layers added together result in one linear layer, so we can stack as many layers on top of each other, without a non linear function between them, it is the same as one layer.\n",
        "\n",
        "By having our model have more layers we can do more complex computation, and therefore model more complex functions, but there is no point oin doing this as multiplying things multiple times and adding them up multiple times can be replaced by multiplying different things together and once and adding them up just once just as explained above.\n",
        "\n",
        "But if we put a non linear layer between them, then this is no longer true meaning each layer can do their own work as they are decoupled from the other layers.\n",
        "\n",
        "Interestingly, it can be mathematically proven that this little function can solve any computable problem to an abirtary high level of accuracy if we can find the right values of w1 and w2 and make the matrices big enough.\n",
        "\n",
        "The three lines of code in the simple_net each represent layers.The first and third layers being the linear layers, while the second line is know as a non -linearity or an activation function.\n",
        "\n",
        "By taking advantange of PyTorch we can replace the lines of code with some simpler easier to understand code"
      ]
    },
    {
      "cell_type": "code",
      "execution_count": null,
      "metadata": {
        "id": "I7SrDJ8Cif7a"
      },
      "outputs": [],
      "source": [
        "simple_net = nn.Sequential(\n",
        "    nn.Linear(28*28,30),\n",
        "    nn.ReLU(),\n",
        "    nn.Linear(30,1)\n",
        ")"
      ]
    },
    {
      "cell_type": "markdown",
      "metadata": {
        "id": "t9fkAV7bif7b"
      },
      "source": [
        "nn.Sequential creates a module that calls each of the listed layers or functions in turn.\n",
        "\n",
        "nn.ReLu is also a PyTorch module that does the same thing as the F.relu function. Most functions appearing in a model also have identical form that are modules.\n",
        "\n",
        "nn.Sequential requires us to use the module version and since modules are classes, we have to instantiate them such as nn.ReLU().\n",
        "\n",
        "nn.Sequential is a module, so we can get its parameters, which return a list of all the parameters of all the modules it contains. So lets try it out, we give our model a lower learning rate and more epochs as it is a deeper model."
      ]
    },
    {
      "cell_type": "code",
      "execution_count": null,
      "metadata": {
        "id": "AbebBu8jif7d"
      },
      "outputs": [],
      "source": [
        "learn = Learner(dls, simple_net,opt_func=SGD,loss_func=mnist_loss,metrics=batch_accuracy)"
      ]
    },
    {
      "cell_type": "code",
      "execution_count": null,
      "metadata": {
        "id": "KEmR2Bxuif7e",
        "colab": {
          "base_uri": "https://localhost:8080/",
          "height": 676
        },
        "outputId": "9c037fed-a95f-4f41-cd6a-60f9cf6938ec"
      },
      "outputs": [
        {
          "output_type": "display_data",
          "data": {
            "text/plain": [
              "<IPython.core.display.HTML object>"
            ],
            "text/html": [
              "\n",
              "<style>\n",
              "    /* Turns off some styling */\n",
              "    progress {\n",
              "        /* gets rid of default border in Firefox and Opera. */\n",
              "        border: none;\n",
              "        /* Needs to be in here for Safari polyfill so background images work as expected. */\n",
              "        background-size: auto;\n",
              "    }\n",
              "    progress:not([value]), progress:not([value])::-webkit-progress-bar {\n",
              "        background: repeating-linear-gradient(45deg, #7e7e7e, #7e7e7e 10px, #5c5c5c 10px, #5c5c5c 20px);\n",
              "    }\n",
              "    .progress-bar-interrupted, .progress-bar-interrupted::-webkit-progress-bar {\n",
              "        background: #F44336;\n",
              "    }\n",
              "</style>\n"
            ]
          },
          "metadata": {}
        },
        {
          "output_type": "display_data",
          "data": {
            "text/plain": [
              "<IPython.core.display.HTML object>"
            ],
            "text/html": [
              "<table border=\"1\" class=\"dataframe\">\n",
              "  <thead>\n",
              "    <tr style=\"text-align: left;\">\n",
              "      <th>epoch</th>\n",
              "      <th>train_loss</th>\n",
              "      <th>valid_loss</th>\n",
              "      <th>batch_accuracy</th>\n",
              "      <th>time</th>\n",
              "    </tr>\n",
              "  </thead>\n",
              "  <tbody>\n",
              "    <tr>\n",
              "      <td>0</td>\n",
              "      <td>0.217813</td>\n",
              "      <td>0.090105</td>\n",
              "      <td>0.965653</td>\n",
              "      <td>00:01</td>\n",
              "    </tr>\n",
              "    <tr>\n",
              "      <td>1</td>\n",
              "      <td>0.105636</td>\n",
              "      <td>0.054094</td>\n",
              "      <td>0.968597</td>\n",
              "      <td>00:01</td>\n",
              "    </tr>\n",
              "    <tr>\n",
              "      <td>2</td>\n",
              "      <td>0.065732</td>\n",
              "      <td>0.044427</td>\n",
              "      <td>0.970559</td>\n",
              "      <td>00:01</td>\n",
              "    </tr>\n",
              "    <tr>\n",
              "      <td>3</td>\n",
              "      <td>0.048368</td>\n",
              "      <td>0.039606</td>\n",
              "      <td>0.971541</td>\n",
              "      <td>00:00</td>\n",
              "    </tr>\n",
              "    <tr>\n",
              "      <td>4</td>\n",
              "      <td>0.038764</td>\n",
              "      <td>0.036749</td>\n",
              "      <td>0.972522</td>\n",
              "      <td>00:00</td>\n",
              "    </tr>\n",
              "    <tr>\n",
              "      <td>5</td>\n",
              "      <td>0.033835</td>\n",
              "      <td>0.034544</td>\n",
              "      <td>0.973013</td>\n",
              "      <td>00:00</td>\n",
              "    </tr>\n",
              "    <tr>\n",
              "      <td>6</td>\n",
              "      <td>0.030377</td>\n",
              "      <td>0.032891</td>\n",
              "      <td>0.975466</td>\n",
              "      <td>00:00</td>\n",
              "    </tr>\n",
              "    <tr>\n",
              "      <td>7</td>\n",
              "      <td>0.028272</td>\n",
              "      <td>0.031579</td>\n",
              "      <td>0.976448</td>\n",
              "      <td>00:00</td>\n",
              "    </tr>\n",
              "    <tr>\n",
              "      <td>8</td>\n",
              "      <td>0.026999</td>\n",
              "      <td>0.030358</td>\n",
              "      <td>0.976938</td>\n",
              "      <td>00:00</td>\n",
              "    </tr>\n",
              "    <tr>\n",
              "      <td>9</td>\n",
              "      <td>0.025535</td>\n",
              "      <td>0.029610</td>\n",
              "      <td>0.976448</td>\n",
              "      <td>00:00</td>\n",
              "    </tr>\n",
              "    <tr>\n",
              "      <td>10</td>\n",
              "      <td>0.024004</td>\n",
              "      <td>0.028541</td>\n",
              "      <td>0.976938</td>\n",
              "      <td>00:00</td>\n",
              "    </tr>\n",
              "    <tr>\n",
              "      <td>11</td>\n",
              "      <td>0.023410</td>\n",
              "      <td>0.027987</td>\n",
              "      <td>0.975957</td>\n",
              "      <td>00:00</td>\n",
              "    </tr>\n",
              "    <tr>\n",
              "      <td>12</td>\n",
              "      <td>0.022537</td>\n",
              "      <td>0.027553</td>\n",
              "      <td>0.976938</td>\n",
              "      <td>00:00</td>\n",
              "    </tr>\n",
              "    <tr>\n",
              "      <td>13</td>\n",
              "      <td>0.021845</td>\n",
              "      <td>0.026759</td>\n",
              "      <td>0.977429</td>\n",
              "      <td>00:00</td>\n",
              "    </tr>\n",
              "    <tr>\n",
              "      <td>14</td>\n",
              "      <td>0.021237</td>\n",
              "      <td>0.026546</td>\n",
              "      <td>0.976938</td>\n",
              "      <td>00:00</td>\n",
              "    </tr>\n",
              "    <tr>\n",
              "      <td>15</td>\n",
              "      <td>0.020819</td>\n",
              "      <td>0.025822</td>\n",
              "      <td>0.978410</td>\n",
              "      <td>00:00</td>\n",
              "    </tr>\n",
              "    <tr>\n",
              "      <td>16</td>\n",
              "      <td>0.020145</td>\n",
              "      <td>0.025302</td>\n",
              "      <td>0.978901</td>\n",
              "      <td>00:00</td>\n",
              "    </tr>\n",
              "    <tr>\n",
              "      <td>17</td>\n",
              "      <td>0.019845</td>\n",
              "      <td>0.024920</td>\n",
              "      <td>0.978901</td>\n",
              "      <td>00:00</td>\n",
              "    </tr>\n",
              "    <tr>\n",
              "      <td>18</td>\n",
              "      <td>0.019525</td>\n",
              "      <td>0.024622</td>\n",
              "      <td>0.979392</td>\n",
              "      <td>00:00</td>\n",
              "    </tr>\n",
              "    <tr>\n",
              "      <td>19</td>\n",
              "      <td>0.019019</td>\n",
              "      <td>0.024077</td>\n",
              "      <td>0.979392</td>\n",
              "      <td>00:00</td>\n",
              "    </tr>\n",
              "  </tbody>\n",
              "</table>"
            ]
          },
          "metadata": {}
        }
      ],
      "source": [
        "learn.fit(20,0.1)"
      ]
    },
    {
      "cell_type": "markdown",
      "metadata": {
        "id": "gB7_wq1lif7f"
      },
      "source": [
        "The training process is recorded in learn.recoder with the outputs stored in the values attribute.\n",
        "\n",
        "We can plot the accuracy over training as shown below"
      ]
    },
    {
      "cell_type": "code",
      "execution_count": null,
      "metadata": {
        "id": "lgeXgdSQif7g",
        "colab": {
          "base_uri": "https://localhost:8080/",
          "height": 439
        },
        "outputId": "a4e10478-5ac3-464b-ebfc-0c4c4d8889d4"
      },
      "outputs": [
        {
          "output_type": "display_data",
          "data": {
            "text/plain": [
              "<Figure size 640x480 with 1 Axes>"
            ],
            "image/png": "[encoded data removed]"
          },
          "metadata": {}
        }
      ],
      "source": [
        "plt.plot(L(learn.recorder.values).itemgot(2));"
      ]
    },
    {
      "cell_type": "code",
      "execution_count": null,
      "metadata": {
        "id": "rzfZ_NTkif7h",
        "colab": {
          "base_uri": "https://localhost:8080/"
        },
        "outputId": "9a9ff637-5e87-4874-fef6-acfd2ec213b4"
      },
      "outputs": [
        {
          "output_type": "execute_result",
          "data": {
            "text/plain": [
              "0.9793915748596191"
            ]
          },
          "metadata": {},
          "execution_count": 113
        }
      ],
      "source": [
        "#final accuracy\n",
        "learn.recorder.values[-1][2]"
      ]
    },
    {
      "cell_type": "markdown",
      "metadata": {
        "id": "fiwTx79xif7k"
      },
      "source": [
        "We now have\n",
        "1. A function that can solve any problem to any given level of accuracy (neural network) given the correct set of parameters.\n",
        "2.  A way to find the best parameters for any given function (Stochastic Gradient Descent)."
      ]
    },
    {
      "cell_type": "markdown",
      "metadata": {
        "id": "quOHHEU8if7k"
      },
      "source": [
        "To Quote Jeremy Howard/Sylvain\n",
        "\n",
        "This is why deep learning can do things which seem rather magical, such fantastic things.\n",
        "Believing that this combination of simple techniques can really solve any problem is one of the\n",
        "biggest steps that we find many students have to take. It seems too good to be true—surely\n",
        "things should be more difficult and complicated than this?\n",
        "\n",
        "We can build deeper models and add up as many layers as we want, as long there is a non-linearity between the linear layers. In practice the deeper a model is, the harder the parameters are to optimize.\n",
        "\n",
        "If two linear layers with a single linearity are enough to approximate any given function, they why use deeper models.Turns out if we use deeper models, we need less paramters which results in smaller matrices with more layers and get better results than using large matrices with few layers.\n",
        "\n",
        "This means we can train the model quicker and use less memory"
      ]
    },
    {
      "cell_type": "code",
      "execution_count": null,
      "metadata": {
        "id": "RveAqOUDif77"
      },
      "outputs": [],
      "source": [
        "#lets compare our results from our simple net to using an 18 layer resnet model\n",
        "\n",
        "dls = ImageDataLoaders.from_folder(path)\n",
        "learn = vision_learner(dls, resnet18, pretrained=False,\n",
        " loss_func=F.cross_entropy, metrics=accuracy)"
      ]
    },
    {
      "cell_type": "code",
      "execution_count": null,
      "metadata": {
        "id": "U-RcO6OWif8C",
        "colab": {
          "base_uri": "https://localhost:8080/",
          "height": 80
        },
        "outputId": "722fc029-6c2b-4da7-e274-f1063b507eac"
      },
      "outputs": [
        {
          "output_type": "display_data",
          "data": {
            "text/plain": [
              "<IPython.core.display.HTML object>"
            ],
            "text/html": [
              "\n",
              "<style>\n",
              "    /* Turns off some styling */\n",
              "    progress {\n",
              "        /* gets rid of default border in Firefox and Opera. */\n",
              "        border: none;\n",
              "        /* Needs to be in here for Safari polyfill so background images work as expected. */\n",
              "        background-size: auto;\n",
              "    }\n",
              "    progress:not([value]), progress:not([value])::-webkit-progress-bar {\n",
              "        background: repeating-linear-gradient(45deg, #7e7e7e, #7e7e7e 10px, #5c5c5c 10px, #5c5c5c 20px);\n",
              "    }\n",
              "    .progress-bar-interrupted, .progress-bar-interrupted::-webkit-progress-bar {\n",
              "        background: #F44336;\n",
              "    }\n",
              "</style>\n"
            ]
          },
          "metadata": {}
        },
        {
          "output_type": "display_data",
          "data": {
            "text/plain": [
              "<IPython.core.display.HTML object>"
            ],
            "text/html": [
              "<table border=\"1\" class=\"dataframe\">\n",
              "  <thead>\n",
              "    <tr style=\"text-align: left;\">\n",
              "      <th>epoch</th>\n",
              "      <th>train_loss</th>\n",
              "      <th>valid_loss</th>\n",
              "      <th>accuracy</th>\n",
              "      <th>time</th>\n",
              "    </tr>\n",
              "  </thead>\n",
              "  <tbody>\n",
              "    <tr>\n",
              "      <td>0</td>\n",
              "      <td>0.074268</td>\n",
              "      <td>0.010681</td>\n",
              "      <td>0.997056</td>\n",
              "      <td>03:17</td>\n",
              "    </tr>\n",
              "  </tbody>\n",
              "</table>"
            ]
          },
          "metadata": {}
        }
      ],
      "source": [
        "learn.fit_one_cycle(1, 0.1)"
      ]
    },
    {
      "cell_type": "markdown",
      "metadata": {
        "id": "L2_8MMR6if8D"
      },
      "source": [
        "As you can see for the same dataset we got nearly 100% accuracy while using 1 epoch.That is some difference from our simple_net.\n",
        "\n",
        "A neural network contains alot of numbers but they can be generally summed up into to.\n",
        "- Numbers that are calculated by the linear and non-linear layers also called activations.\n",
        "- Parameters that these numbers are calculated from i.e. w,b which are randomly chosen and optimized.\n",
        "  "
      ]
    },
    {
      "cell_type": "markdown",
      "metadata": {
        "id": "lBbX7JHcif8E"
      },
      "source": [
        "Fastai concept summary as quoted from the fastai book\n",
        "\n",
        "|ReLU | Function that returns 0 for negative numbers and doesn't\n",
        "change positive numbers\n",
        ".\n",
        "|Mini-batch | A small group of inputs and labels gathered together\n",
        "in two arrays. A gradient descent step is updated on this batch\n",
        "(rather than a whole epo\n",
        "ch).\n",
        "|Forward pass | Applying the model to some input and computing the\n",
        "predic\n",
        "tions.\n",
        "|Loss | A value that represents how well (or badly) our m\n",
        "del is\n",
        "\n",
        "doing.\n",
        "|Gradient | The derivative of the loss with respect to some\n",
        "parameter of\n",
        "the model.\n",
        "|Backward pass | Computing the gradients of the loss with respect to\n",
        "all model\n",
        " |arameters.\n",
        "|Gradient descent | Taking a step in the directions opposite to the\n",
        "gradients to make the model parameters a litt\n",
        "le bit better.\n",
        "|Learning rate | The size of the step we take when applying SGD to\n",
        "update the parameters of the model.\n"
      ]
    },
    {
      "cell_type": "code",
      "source": [
        "#reinitialize params\n",
        "weights = init_params(28*28,1)\n",
        "bias = init_params(1)\n",
        "dl = DataLoader(dset, batch_size = 256, shuffle = True)\n",
        "\n",
        "#what does first(dl) do\n",
        "xb, yb = first(dl)\n",
        "xb.shape, yb.shape\n",
        "\n",
        "valid_dl = DataLoader(valid_dset, batch_size= 256, shuffle=True)\n",
        "\n",
        "#Mini batch\n",
        "batch = train_x[:4]\n",
        "batch\n",
        "\n",
        "train_labels_batch = train_y[:4]\n",
        "\n",
        "valid_batch = valid_x[:4]\n",
        "valid_batch\n",
        "\n",
        "#linear1\n",
        "def linear1(xb):\n",
        "    return xb@weights + bias\n",
        "\n",
        "#make predictions\n",
        "preds = linear1(batch)\n",
        "preds\n",
        "\n",
        "loss = mnist_loss(preds, train_y[:4])\n",
        "loss.backward()\n",
        "\n",
        "weights.grad.shape, weights.grad.mean(), bias.grad\n",
        "\n",
        "weights.grad.zero_()\n",
        "bias.grad.zero_()"
      ],
      "metadata": {
        "id": "FuYGIltYdZ9s"
      },
      "execution_count": null,
      "outputs": []
    },
    {
      "cell_type": "code",
      "source": [
        "def calc_grad(xb,yb,model):\n",
        "    preds = model(xb)\n",
        "    loss = mnist_loss(preds,yb)\n",
        "    loss.backward()\n",
        "\n",
        "def train_epoch(model, lr, params):\n",
        " for xb,yb in dl:\n",
        " calc_grad(xb, yb, model)\n",
        " for p in params:\n",
        " p.data -= p.grad*lr\n",
        " p.grad.zero_()\n",
        "\n",
        "def batch_accuracy(xb, yb):\n",
        " preds = xb.sigmoid()\n",
        " correct = (preds>0.5) == yb\n",
        " return correct.float().mean()"
      ],
      "metadata": {
        "id": "WGdn6cnrL45K"
      },
      "execution_count": null,
      "outputs": []
    },
    {
      "cell_type": "markdown",
      "metadata": {
        "id": "XCUGOvSsif8G"
      },
      "source": [
        "Questionnaire\n",
        "1. How is a grayscale image represented on a computer? How about a color image?\n",
        "2. How are the files and folders in the MNIST_SAMPLE dataset structured? Why?\n",
        "3. Explain how the \"pixel similarity\" approach to classifying digits works.\n",
        "4. What is a list comprehension? Create one now that selects odd numbers from a list and\n",
        "doubles them.\n",
        "5. What is a \"rank-3 tensor\"?\n",
        "6. What is the difference between tensor rank and shape? How do you get the rank from the\n",
        "shape?\n",
        "7. What are RMSE and L1 norm?\n",
        "10/10/23, 11:21 PM Notebooks\n",
        "https://github.com/fastai/fastbook/blob/master/04_mnist_basics.ipynb 53/54\n",
        "8. How can you apply a calculation on thousands of numbers at once, many thousands of\n",
        "times faster than a Python loop?\n",
        "9. Create a 3×3 tensor or array containing the numbers from 1 to 9. Double it. Select the\n",
        "bottom-right four numbers.\n",
        "10. What is broadcasting?\n",
        "11. Are metrics generally calculated using the training set, or the validation set? Why?\n",
        "12. What is SGD?\n",
        "13. Why does SGD use mini-batches?\n",
        "14. What are the seven steps in SGD for machine learning?\n",
        "15. How do we initialize the weights in a model?\n",
        "16. What is \"loss\"?\n",
        "17. Why can't we always use a high learning rate?\n",
        "18. What is a \"gradient\"?\n",
        "19. Do you need to know how to calculate gradients yourself?\n",
        "20. Why can't we use accuracy as a loss function?\n",
        "21. Draw the sigmoid function. What is special about its shape?\n",
        "22. What is the difference between a loss function and a metric?\n",
        "23. What is the function to calculate new weights using a learning rate?\n",
        "24. What does the DataLoader class do?\n",
        "25. Write pseudocode showing the basic steps taken in each epoch for SGD.\n",
        "26. Create a function that, if passed two arguments [1,2,3,4] and 'abcd' , returns [(1,\n",
        "'a'), (2, 'b'), (3, 'c'), (4, 'd')] . What is special about that output data\n",
        "structure?\n",
        "27. What does view do in PyTorch?\n",
        "28. What are the \"bias\" parameters in a neural network? Why do we need them?\n",
        "29. What does the @ operator do in Python?\n",
        "30. What does the backward method do?\n",
        "31. Why do we have to zero the gradients?\n",
        "32. What information do we have to pass to Learner ?\n",
        "33. Show Python or pseudocode for the basic steps of a training loop.\n",
        "34. What is \"ReLU\"? Draw a plot of it for values from -2 to +2 .\n",
        "35. What is an \"activation function\"?\n",
        "36. What's the difference between F.relu and nn.ReLU ?\n",
        "37. The universal approximation theorem shows that any function can be approximated as\n",
        "closely as needed using just one nonlinearity. So why do we normally use more?\n"
      ]
    },
    {
      "cell_type": "markdown",
      "source": [
        "Difference between args and kwargs\n",
        "Python class definition\n",
        "reproduce jeremy results\n"
      ],
      "metadata": {
        "id": "uuXkxdwO3dYf"
      }
    },
    {
      "cell_type": "code",
      "execution_count": null,
      "metadata": {
        "id": "EiwADh8mif8J"
      },
      "outputs": [],
      "source": []
    }
  ],
  "metadata": {
    "colab": {
      "provenance": [],
      "collapsed_sections": [
        "VFvm09knnVkS"
      ],
      "include_colab_link": true
    },
    "kernelspec": {
      "display_name": "Python 3 (ipykernel)",
      "language": "python",
      "name": "python3"
    },
    "language_info": {
      "codemirror_mode": {
        "name": "ipython",
        "version": 3
      },
      "file_extension": ".py",
      "mimetype": "text/x-python",
      "name": "python",
      "nbconvert_exporter": "python",
      "pygments_lexer": "ipython3",
      "version": "3.10.12"
    }
  },
  "nbformat": 4,
  "nbformat_minor": 0
}