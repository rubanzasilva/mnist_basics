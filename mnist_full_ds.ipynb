{
 "cells": [
  {
   "cell_type": "code",
   "execution_count": null,
   "id": "b88e13d2-23db-4958-aee5-1a7c834858ff",
   "metadata": {},
   "outputs": [],
   "source": [
    "#hide\n",
    "! [ -e /content ] && pip install -Uqq fastbook\n",
    "import fastbook\n",
    "fastbook.setup_book()"
   ]
  },
  {
   "cell_type": "code",
   "execution_count": 20,
   "id": "83ed3702-9eb1-452b-b080-d4d8060b0fa2",
   "metadata": {},
   "outputs": [],
   "source": [
    "#hide\n",
    "from fastai.vision.all import *\n",
    "from fastbook import *\n",
    "import numpy as np\n",
    "import pandas as pd\n",
    "\n",
    "matplotlib.rc('image', cmap='Greys')"
   ]
  },
  {
   "cell_type": "code",
   "execution_count": 30,
   "id": "0d74d745-4f86-4ba9-9b6a-dc66d5bf6a9a",
   "metadata": {},
   "outputs": [
    {
     "name": "stdout",
     "output_type": "stream",
     "text": [
      "mnist_test.csv  mnist_test.csv:Zone.Identifier\n"
     ]
    }
   ],
   "source": [
    "ls ../mnist-ds"
   ]
  },
  {
   "cell_type": "code",
   "execution_count": 26,
   "id": "14e45f9d-2be7-472e-ab46-3513acd07e23",
   "metadata": {},
   "outputs": [],
   "source": [
    "path = ('../mnist-ds')"
   ]
  },
  {
   "cell_type": "code",
   "execution_count": 29,
   "id": "1f6e65ae-6dc6-4114-9fa7-5d741cd68140",
   "metadata": {},
   "outputs": [
    {
     "ename": "AttributeError",
     "evalue": "'str' object has no attribute 'ls'",
     "output_type": "error",
     "traceback": [
      "\u001b[0;31m---------------------------------------------------------------------------\u001b[0m",
      "\u001b[0;31mAttributeError\u001b[0m                            Traceback (most recent call last)",
      "Cell \u001b[0;32mIn[29], line 1\u001b[0m\n\u001b[0;32m----> 1\u001b[0m \u001b[43mpath\u001b[49m\u001b[38;5;241;43m.\u001b[39;49m\u001b[43mls\u001b[49m()\n",
      "\u001b[0;31mAttributeError\u001b[0m: 'str' object has no attribute 'ls'"
     ]
    }
   ],
   "source": [
    "path.ls()"
   ]
  },
  {
   "cell_type": "code",
   "execution_count": 27,
   "id": "9e28711c-8181-49fd-b2cc-7a98c38d09b9",
   "metadata": {},
   "outputs": [
    {
     "ename": "TypeError",
     "evalue": "unsupported operand type(s) for /: 'str' and 'str'",
     "output_type": "error",
     "traceback": [
      "\u001b[0;31m---------------------------------------------------------------------------\u001b[0m",
      "\u001b[0;31mTypeError\u001b[0m                                 Traceback (most recent call last)",
      "Cell \u001b[0;32mIn[27], line 1\u001b[0m\n\u001b[0;32m----> 1\u001b[0m test_set \u001b[38;5;241m=\u001b[39m pd\u001b[38;5;241m.\u001b[39mread_csv(\u001b[43mpath\u001b[49m\u001b[38;5;241;43m/\u001b[39;49m\u001b[38;5;124;43m'\u001b[39;49m\u001b[38;5;124;43mmnist_test.csv\u001b[39;49m\u001b[38;5;124;43m'\u001b[39;49m)\n",
      "\u001b[0;31mTypeError\u001b[0m: unsupported operand type(s) for /: 'str' and 'str'"
     ]
    }
   ],
   "source": [
    "test_set = pd.read_csv(path/'mnist_test.csv')"
   ]
  },
  {
   "cell_type": "code",
   "execution_count": 5,
   "id": "cfbaace4-1f2f-4196-80cf-3dda48c2e34a",
   "metadata": {},
   "outputs": [],
   "source": [
    "!pip install -q kaggle"
   ]
  },
  {
   "cell_type": "code",
   "execution_count": 6,
   "id": "e130ad5b-8736-4ebe-ad76-fc5917f702d0",
   "metadata": {},
   "outputs": [],
   "source": [
    "! mkdir ~/.kaggle\n",
    "! cp kaggle.json ~/.kaggle/"
   ]
  },
  {
   "cell_type": "code",
   "execution_count": 9,
   "id": "d8ee51c7-7f60-4da8-9676-9c797faa883a",
   "metadata": {},
   "outputs": [
    {
     "name": "stdout",
     "output_type": "stream",
     "text": [
      "README.md  kaggle.json  mnist_basics.ipynb  mnist_full_ds.ipynb\n"
     ]
    }
   ],
   "source": [
    "ls "
   ]
  },
  {
   "cell_type": "code",
   "execution_count": 10,
   "id": "6e7eded9-5704-4b5e-9d7e-272a8c4deea0",
   "metadata": {},
   "outputs": [],
   "source": [
    "# This permissions change avoids a warning on Kaggle tool startup.\n",
    "#Change the permissions of the file.\n",
    "!chmod 600 ~/.kaggle/kaggle.json"
   ]
  },
  {
   "cell_type": "code",
   "execution_count": 12,
   "id": "0fe25e22-5762-475d-8c23-acd6cb4bd205",
   "metadata": {},
   "outputs": [
    {
     "name": "stdout",
     "output_type": "stream",
     "text": [
      "ref                                                       title                                               size  lastUpdated          downloadCount  voteCount  usabilityRating  \n",
      "--------------------------------------------------------  -------------------------------------------------  -----  -------------------  -------------  ---------  ---------------  \n",
      "thedrcat/daigt-v2-train-dataset                           DAIGT V2 Train Dataset                              29MB  2023-11-16 01:38:36           1238        136  1.0              \n",
      "muhammadbinimran/housing-price-prediction-data            Housing Price Prediction Data                      763KB  2023-11-21 17:56:32           4894         93  1.0              \n",
      "carlmcbrideellis/llm-7-prompt-training-dataset            LLM: 7 prompt training dataset                      41MB  2023-11-15 07:32:56           1507        115  1.0              \n",
      "thedrcat/daigt-proper-train-dataset                       DAIGT Proper Train Dataset                         119MB  2023-11-05 14:03:25           1465        134  1.0              \n",
      "joebeachcapital/30000-spotify-songs                       30000 Spotify Songs                                  3MB  2023-11-01 06:06:43          10076        217  1.0              \n",
      "ddosad/auto-sales-data                                    Automobile Sales data                               79KB  2023-11-18 12:36:41           3928         70  1.0              \n",
      "julnazz/diabetes-health-indicators-dataset                Diabetes Health Indicators Dataset                   5MB  2023-11-27 07:10:53            926         27  1.0              \n",
      "jacksondivakarr/laptop-price-prediction-dataset           Laptop Price Prediction Dataset                    119KB  2023-11-30 16:23:34            864         30  1.0              \n",
      "stealthtechnologies/predict-lifespan-of-a-comet-goldfish  Predict lifespan of a comet goldfish                25KB  2023-11-26 07:12:18            560         23  1.0              \n",
      "nelgiriyewithana/world-educational-data                   World Educational Data                               9KB  2023-11-04 06:10:17           7957        164  1.0              \n",
      "thedevastator/bank-term-deposit-predictions               Bank Term Deposit Predictions                      541KB  2023-11-30 14:37:39            884         33  1.0              \n",
      "maso0dahmed/video-games-data                              Video Games Data                                     5MB  2023-11-25 19:08:46           1236         36  1.0              \n",
      "alejopaullier/daigt-external-dataset                      DAIGT | External Dataset                             3MB  2023-10-31 19:11:35           1005        123  0.7647059        \n",
      "nelgiriyewithana/australian-vehicle-prices                Australian Vehicle Prices                          582KB  2023-11-27 04:51:30           1161         44  1.0              \n",
      "prasad22/healthcare-dataset                               🩺Healthcare Dataset 🧪                              483KB  2023-10-31 11:30:58           7090        111  1.0              \n",
      "adampq/linkedin-jobs-machine-learning-data-set            LinkedIn Job Postings - Machine Learning Data Set   38MB  2023-11-28 17:18:04            483         25  1.0              \n",
      "jacksondivakarr/online-shopping-dataset                   🛒 Online Shopping Dataset 📊📉📈                        5MB  2023-11-12 12:35:58           4152         77  1.0              \n",
      "asimislam/30-yrs-stock-market-data                        30 yrs Stock Market Data                           882KB  2023-11-29 20:18:02           1095         27  1.0              \n",
      "imtkaggleteam/life-expectancy                             Life Expectancy                                    730KB  2023-11-30 12:22:23            647         33  0.9411765        \n",
      "sujaykapadnis/products-datasets                           Detailed Products Datasets                         100KB  2023-11-24 03:25:10           1088         26  1.0              \n"
     ]
    }
   ],
   "source": [
    "!kaggle datasets list"
   ]
  },
  {
   "cell_type": "code",
   "execution_count": 31,
   "id": "099cfdfb-572f-4176-83d6-81f3059dd829",
   "metadata": {},
   "outputs": [
    {
     "name": "stdout",
     "output_type": "stream",
     "text": [
      "403 - Forbidden - Permission 'competitions.participate' was denied\n"
     ]
    }
   ],
   "source": [
    "! kaggle competitions download -c 'MNIST'"
   ]
  },
  {
   "cell_type": "code",
   "execution_count": null,
   "id": "1655ae29-5005-4a04-b9f0-2201989677f8",
   "metadata": {},
   "outputs": [],
   "source": []
  },
  {
   "cell_type": "code",
   "execution_count": null,
   "id": "3b339148-284f-4b6f-b03b-89321e6081b0",
   "metadata": {},
   "outputs": [],
   "source": []
  },
  {
   "cell_type": "code",
   "execution_count": null,
   "id": "87cef870-b689-4222-8d32-e252f4c65549",
   "metadata": {},
   "outputs": [],
   "source": []
  },
  {
   "cell_type": "code",
   "execution_count": null,
   "id": "ea2ea532-d95d-40d9-b144-dad30976dd59",
   "metadata": {},
   "outputs": [],
   "source": []
  },
  {
   "cell_type": "code",
   "execution_count": null,
   "id": "80b1e7b3-1a5d-4b0f-8857-07e92beb949a",
   "metadata": {},
   "outputs": [],
   "source": []
  },
  {
   "cell_type": "code",
   "execution_count": null,
   "id": "6f226fac-7171-4921-b04e-0036d71aa318",
   "metadata": {},
   "outputs": [],
   "source": []
  }
 ],
 "metadata": {
  "kernelspec": {
   "display_name": "Python 3 (ipykernel)",
   "language": "python",
   "name": "python3"
  },
  "language_info": {
   "codemirror_mode": {
    "name": "ipython",
    "version": 3
   },
   "file_extension": ".py",
   "mimetype": "text/x-python",
   "name": "python",
   "nbconvert_exporter": "python",
   "pygments_lexer": "ipython3",
   "version": "3.10.12"
  }
 },
 "nbformat": 4,
 "nbformat_minor": 5
}
