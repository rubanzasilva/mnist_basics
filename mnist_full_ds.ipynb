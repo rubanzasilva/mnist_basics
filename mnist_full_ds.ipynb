{
  "cells": [
    {
      "cell_type": "markdown",
      "metadata": {
        "id": "view-in-github",
        "colab_type": "text"
      },
      "source": [
        "<a href=\"https://colab.research.google.com/github/rubanzasilva/mnist_basics/blob/main/mnist_full_ds.ipynb\" target=\"_parent\"><img src=\"https://colab.research.google.com/assets/colab-badge.svg\" alt=\"Open In Colab\"/></a>"
      ]
    },
    {
      "cell_type": "code",
      "execution_count": null,
      "id": "b88e13d2-23db-4958-aee5-1a7c834858ff",
      "metadata": {
        "id": "b88e13d2-23db-4958-aee5-1a7c834858ff",
        "outputId": "509f00e5-c29d-47ba-e40e-fdffd5d39d02",
        "colab": {
          "base_uri": "https://localhost:8080/"
        }
      },
      "outputs": [
        {
          "output_type": "stream",
          "name": "stdout",
          "text": [
            "\u001b[2K     \u001b[90m━━━━━━━━━━━━━━━━━━━━━━━━━━━━━━━━━━━━━━━━\u001b[0m \u001b[32m719.8/719.8 kB\u001b[0m \u001b[31m15.1 MB/s\u001b[0m eta \u001b[36m0:00:00\u001b[0m\n",
            "\u001b[2K     \u001b[90m━━━━━━━━━━━━━━━━━━━━━━━━━━━━━━━━━━━━━━━━\u001b[0m \u001b[32m507.1/507.1 kB\u001b[0m \u001b[31m22.1 MB/s\u001b[0m eta \u001b[36m0:00:00\u001b[0m\n",
            "\u001b[2K     \u001b[90m━━━━━━━━━━━━━━━━━━━━━━━━━━━━━━━━━━━━━━━━\u001b[0m \u001b[32m1.3/1.3 MB\u001b[0m \u001b[31m32.6 MB/s\u001b[0m eta \u001b[36m0:00:00\u001b[0m\n",
            "\u001b[2K     \u001b[90m━━━━━━━━━━━━━━━━━━━━━━━━━━━━━━━━━━━━━━━━\u001b[0m \u001b[32m115.3/115.3 kB\u001b[0m \u001b[31m15.7 MB/s\u001b[0m eta \u001b[36m0:00:00\u001b[0m\n",
            "\u001b[2K     \u001b[90m━━━━━━━━━━━━━━━━━━━━━━━━━━━━━━━━━━━━━━━━\u001b[0m \u001b[32m134.8/134.8 kB\u001b[0m \u001b[31m19.8 MB/s\u001b[0m eta \u001b[36m0:00:00\u001b[0m\n",
            "\u001b[2K     \u001b[90m━━━━━━━━━━━━━━━━━━━━━━━━━━━━━━━━━━━━━━━━\u001b[0m \u001b[32m1.6/1.6 MB\u001b[0m \u001b[31m41.9 MB/s\u001b[0m eta \u001b[36m0:00:00\u001b[0m\n",
            "\u001b[?25hMounted at /content/gdrive\n"
          ]
        }
      ],
      "source": [
        "#hide\n",
        "! [ -e /content ] && pip install -Uqq fastbook\n",
        "import fastbook\n",
        "fastbook.setup_book()"
      ]
    },
    {
      "cell_type": "code",
      "execution_count": null,
      "id": "83ed3702-9eb1-452b-b080-d4d8060b0fa2",
      "metadata": {
        "id": "83ed3702-9eb1-452b-b080-d4d8060b0fa2"
      },
      "outputs": [],
      "source": [
        "#hide\n",
        "from fastai.vision.all import *\n",
        "from fastbook import *\n",
        "import numpy as np\n",
        "import pandas as pd\n",
        "\n",
        "matplotlib.rc('image', cmap='Greys')"
      ]
    },
    {
      "cell_type": "code",
      "source": [
        "path = untar_data(URLs.MNIST)"
      ],
      "metadata": {
        "id": "eWYyF2SN719x",
        "colab": {
          "base_uri": "https://localhost:8080/",
          "height": 37
        },
        "outputId": "1f086149-a94c-449d-9374-f303dc9cfa91"
      },
      "id": "eWYyF2SN719x",
      "execution_count": null,
      "outputs": [
        {
          "output_type": "display_data",
          "data": {
            "text/plain": [
              "<IPython.core.display.HTML object>"
            ],
            "text/html": [
              "\n",
              "<style>\n",
              "    /* Turns off some styling */\n",
              "    progress {\n",
              "        /* gets rid of default border in Firefox and Opera. */\n",
              "        border: none;\n",
              "        /* Needs to be in here for Safari polyfill so background images work as expected. */\n",
              "        background-size: auto;\n",
              "    }\n",
              "    progress:not([value]), progress:not([value])::-webkit-progress-bar {\n",
              "        background: repeating-linear-gradient(45deg, #7e7e7e, #7e7e7e 10px, #5c5c5c 10px, #5c5c5c 20px);\n",
              "    }\n",
              "    .progress-bar-interrupted, .progress-bar-interrupted::-webkit-progress-bar {\n",
              "        background: #F44336;\n",
              "    }\n",
              "</style>\n"
            ]
          },
          "metadata": {}
        },
        {
          "output_type": "display_data",
          "data": {
            "text/plain": [
              "<IPython.core.display.HTML object>"
            ],
            "text/html": [
              "\n",
              "    <div>\n",
              "      <progress value='15687680' class='' max='15683414' style='width:300px; height:20px; vertical-align: middle;'></progress>\n",
              "      100.03% [15687680/15683414 00:00&lt;00:00]\n",
              "    </div>\n",
              "    "
            ]
          },
          "metadata": {}
        }
      ]
    },
    {
      "cell_type": "code",
      "source": [
        "#hide\n",
        "Path.BASE_PATH = path"
      ],
      "metadata": {
        "id": "1RcKLUBt8fiS"
      },
      "id": "1RcKLUBt8fiS",
      "execution_count": null,
      "outputs": []
    },
    {
      "cell_type": "code",
      "source": [
        "(path/'testing').ls()"
      ],
      "metadata": {
        "id": "ATF8g9LQ8uXn",
        "outputId": "929e2f64-3420-4eee-f228-d76d178d8d3f",
        "colab": {
          "base_uri": "https://localhost:8080/"
        }
      },
      "id": "ATF8g9LQ8uXn",
      "execution_count": null,
      "outputs": [
        {
          "output_type": "execute_result",
          "data": {
            "text/plain": [
              "(#10) [Path('testing/0'),Path('testing/3'),Path('testing/5'),Path('testing/9'),Path('testing/6'),Path('testing/2'),Path('testing/4'),Path('testing/7'),Path('testing/1'),Path('testing/8')]"
            ]
          },
          "metadata": {},
          "execution_count": 5
        }
      ]
    },
    {
      "cell_type": "code",
      "source": [
        "path.ls()"
      ],
      "metadata": {
        "id": "kp2_YTpR716N",
        "colab": {
          "base_uri": "https://localhost:8080/"
        },
        "outputId": "4edc5698-e581-410e-dcf4-eb82817e6407"
      },
      "id": "kp2_YTpR716N",
      "execution_count": null,
      "outputs": [
        {
          "output_type": "execute_result",
          "data": {
            "text/plain": [
              "(#2) [Path('training'),Path('testing')]"
            ]
          },
          "metadata": {},
          "execution_count": 6
        }
      ]
    },
    {
      "cell_type": "markdown",
      "source": [
        "As we see in the above dataset, there are folders of zeros,ones etc. using .sorted to ensure we get the same order of files"
      ],
      "metadata": {
        "id": "332O5oR7_vzK"
      },
      "id": "332O5oR7_vzK"
    },
    {
      "cell_type": "code",
      "source": [
        "#read in training digits\n",
        "zeros = (path/'training/0').ls().sorted()\n",
        "ones = (path/'training/1').ls().sorted()\n",
        "twos = (path/'training/2').ls().sorted()\n",
        "threes = (path/'training/3').ls().sorted()\n",
        "fours = (path/'training/4').ls().sorted()\n",
        "fives = (path/'training/5').ls().sorted()\n",
        "sixes = (path/'training/6').ls().sorted()\n",
        "sevens = (path/'training/7').ls().sorted()\n",
        "eights = (path/'training/8').ls().sorted()\n",
        "nines = (path/'training/9').ls().sorted()\n",
        "nines"
      ],
      "metadata": {
        "id": "Pa5ccBdH713j",
        "colab": {
          "base_uri": "https://localhost:8080/"
        },
        "outputId": "5f1f574b-82f4-4730-ccd6-ee3a2211897a"
      },
      "id": "Pa5ccBdH713j",
      "execution_count": null,
      "outputs": [
        {
          "output_type": "execute_result",
          "data": {
            "text/plain": [
              "(#5949) [Path('training/9/10003.png'),Path('training/9/10004.png'),Path('training/9/10023.png'),Path('training/9/10028.png'),Path('training/9/10038.png'),Path('training/9/10043.png'),Path('training/9/10047.png'),Path('training/9/1005.png'),Path('training/9/10055.png'),Path('training/9/10059.png')...]"
            ]
          },
          "metadata": {},
          "execution_count": 5
        }
      ]
    },
    {
      "cell_type": "code",
      "source": [
        "im9 = Image.open(nines[5])\n",
        "im9"
      ],
      "metadata": {
        "colab": {
          "base_uri": "https://localhost:8080/",
          "height": 45
        },
        "id": "ugnjxs4OBB58",
        "outputId": "eff8f1cd-585a-4544-f7d3-94797a54c655"
      },
      "id": "ugnjxs4OBB58",
      "execution_count": null,
      "outputs": [
        {
          "output_type": "execute_result",
          "data": {
            "text/plain": [
              "<PIL.PngImagePlugin.PngImageFile image mode=L size=28x28>"
            ],
            "image/png": "[encoded data removed]"
          },
          "metadata": {},
          "execution_count": 6
        }
      ]
    },
    {
      "cell_type": "code",
      "execution_count": null,
      "id": "9e28711c-8181-49fd-b2cc-7a98c38d09b9",
      "metadata": {
        "id": "9e28711c-8181-49fd-b2cc-7a98c38d09b9",
        "colab": {
          "base_uri": "https://localhost:8080/"
        },
        "outputId": "53704401-f7ff-4f56-8dca-dcf02de11822"
      },
      "outputs": [
        {
          "output_type": "execute_result",
          "data": {
            "text/plain": [
              "(#1009) [Path('testing/9/1000.png'),Path('testing/9/1005.png'),Path('testing/9/1013.png'),Path('testing/9/104.png'),Path('testing/9/1045.png'),Path('testing/9/1048.png'),Path('testing/9/105.png'),Path('testing/9/1058.png'),Path('testing/9/1063.png'),Path('testing/9/108.png')...]"
            ]
          },
          "metadata": {},
          "execution_count": 7
        }
      ],
      "source": [
        "#read in test set digits\n",
        "valid_zeros = (path/'testing/0').ls().sorted()\n",
        "valid_ones = (path/'testing/1').ls().sorted()\n",
        "valid_twos = (path/'testing/2').ls().sorted()\n",
        "valid_threes = (path/'testing/3').ls().sorted()\n",
        "valid_fours = (path/'testing/4').ls().sorted()\n",
        "valid_fives = (path/'testing/5').ls().sorted()\n",
        "valid_sixes = (path/'testing/6').ls().sorted()\n",
        "valid_sevens = (path/'testing/7').ls().sorted()\n",
        "valid_eights = (path/'testing/8').ls().sorted()\n",
        "valid_nines = (path/'testing/9').ls().sorted()\n",
        "valid_nines"
      ]
    },
    {
      "cell_type": "code",
      "source": [
        "Image.open(valid_eights[3])"
      ],
      "metadata": {
        "colab": {
          "base_uri": "https://localhost:8080/",
          "height": 45
        },
        "id": "Akw9_TTGyE58",
        "outputId": "aaeedf46-f3fe-4403-d505-e6adb855b59a"
      },
      "id": "Akw9_TTGyE58",
      "execution_count": null,
      "outputs": [
        {
          "output_type": "execute_result",
          "data": {
            "text/plain": [
              "<PIL.PngImagePlugin.PngImageFile image mode=L size=28x28>"
            ],
            "image/png": "[encoded data removed]"
          },
          "metadata": {},
          "execution_count": 8
        }
      ]
    },
    {
      "cell_type": "code",
      "source": [
        "#image conversion to tensor\n",
        "im9_tensor = tensor(im9)\n",
        "im9_tensor"
      ],
      "metadata": {
        "colab": {
          "base_uri": "https://localhost:8080/"
        },
        "id": "xckiQktGyE8d",
        "outputId": "7d18940d-7082-4c68-c34d-7d10dd1f849e"
      },
      "id": "xckiQktGyE8d",
      "execution_count": null,
      "outputs": [
        {
          "output_type": "execute_result",
          "data": {
            "text/plain": [
              "tensor([[  0,   0,   0,   0,   0,   0,   0,   0,   0,   0,   0,   0,   0,   0,   0,   0,   0,   0,   0,   0,   0,   0,   0,   0,   0,   0,   0,   0],\n",
              "        [  0,   0,   0,   0,   0,   0,   0,   0,   0,   0,   0,   0,   0,   0,   0,   0,   0,   0,   0,   0,   0,   0,   0,   0,   0,   0,   0,   0],\n",
              "        [  0,   0,   0,   0,   0,   0,   0,   0,   0,   0,   0,   0,   0,   0,   0,   0,   0,   0,   0,   0,   0,   0,   0,   0,   0,   0,   0,   0],\n",
              "        [  0,   0,   0,   0,   0,   0,   0,   0,   0,   0,   0,   0,   0,   0,   0,   0,   0,   0,   0,   0,   0,   0,   0,   0,   0,   0,   0,   0],\n",
              "        [  0,   0,   0,   0,   0,   0,   0,   0,   0,   0,   0,   0,   0,   0,   0,   0,   0,   0,   0,   0,   0,   0,   0,   0,   0,   0,   0,   0],\n",
              "        [  0,   0,   0,   0,   0,   0,   0,   0,   0,   0,   0,   0,   0,   0,   0,   0,   0,   0,   0,   0,   0,   0,   0,   0,   0,   0,   0,   0],\n",
              "        [  0,   0,   0,   0,   0,   0,   0,   0,   0,   0,   0,   0,   0,  70, 140, 254, 254, 254, 167,  32,   0,   0,   0,   0,   0,   0,   0,   0],\n",
              "        [  0,   0,   0,   0,   0,   0,   0,   0,   0,   0,   0,  10, 134, 249, 254, 253, 253, 253, 253,  60,   0,   0,   0,   0,   0,   0,   0,   0],\n",
              "        [  0,   0,   0,   0,   0,   0,   0,   0,   0,  11,  78, 194, 253, 253, 254, 253, 231, 224, 253,  60,   0,   0,   0,   0,   0,   0,   0,   0],\n",
              "        [  0,   0,   0,   0,   0,   0,   0,   0,  12, 165, 253, 253, 253, 253, 200,  84,  32,  17,  96,  55,   0,   0,   0,   0,   0,   0,   0,   0],\n",
              "        [  0,   0,   0,   0,   0,   0,   0,  12, 165, 253, 253, 253, 198,  77,   0,   0,   0,  41, 107, 233,  34,   0,   0,   0,   0,   0,   0,   0],\n",
              "        [  0,   0,   0,   0,   0,   0,   0,  49, 253, 253, 153,  60,   6,   0,   0,  42,  73, 194, 253, 253,  48,   0,   0,   0,   0,   0,   0,   0],\n",
              "        [  0,   0,   0,   0,   0,   0,   0,  49, 253, 253, 117,  85,  85, 143, 207, 233, 253, 253, 253, 229,  32,   0,   0,   0,   0,   0,   0,   0],\n",
              "        [  0,   0,   0,   0,   0,   0,   0,  30, 226, 253, 253, 253, 253, 253, 254, 198, 217, 253, 253,  77,   0,   0,   0,   0,   0,   0,   0,   0],\n",
              "        [  0,   0,   0,   0,   0,   0,   0,   0,  46, 228, 253, 253, 154,  87,  24,  10, 157, 253, 146,   6,   0,   0,   0,   0,   0,   0,   0,   0],\n",
              "        [  0,   0,   0,   0,   0,   0,   0,   0,   0,   9,  11,  11,   1,   0,   0,  24, 249, 230,  38,   0,   0,   0,   0,   0,   0,   0,   0,   0],\n",
              "        [  0,   0,   0,   0,   0,   0,   0,   0,   0,   0,   0,   0,   0,   0,  19, 254, 254, 200,   0,   0,   0,   0,   0,   0,   0,   0,   0,   0],\n",
              "        [  0,   0,   0,   0,   0,   0,   0,   0,   0,   0,   0,   0,   0,   0, 145, 253, 250,  76,   0,   0,   0,   0,   0,   0,   0,   0,   0,   0],\n",
              "        [  0,   0,   0,   0,   0,   0,   0,   0,   0,   0,   0,   0,   0,  76, 254, 250, 128,   0,   0,   0,   0,   0,   0,   0,   0,   0,   0,   0],\n",
              "        [  0,   0,   0,   0,   0,   0,   0,   0,   0,   0,   0,   0,  45, 204, 254, 229,   0,   0,   0,   0,   0,   0,   0,   0,   0,   0,   0,   0],\n",
              "        [  0,   0,   0,   0,   0,   0,   0,   0,   0,   0,   0,   0, 230, 253, 252, 117,   0,   0,   0,   0,   0,   0,   0,   0,   0,   0,   0,   0],\n",
              "        [  0,   0,   0,   0,   0,   0,   0,   0,   0,   0,   0,  75, 248, 253, 207,   0,   0,   0,   0,   0,   0,   0,   0,   0,   0,   0,   0,   0],\n",
              "        [  0,   0,   0,   0,   0,   0,   0,   0,   0,   0,  29, 207, 253, 253,  23,   0,   0,   0,   0,   0,   0,   0,   0,   0,   0,   0,   0,   0],\n",
              "        [  0,   0,   0,   0,   0,   0,   0,   0,   0,   0, 131, 253, 253, 149,   0,   0,   0,   0,   0,   0,   0,   0,   0,   0,   0,   0,   0,   0],\n",
              "        [  0,   0,   0,   0,   0,   0,   0,   0,   0,  32, 226, 253, 253,  22,   0,   0,   0,   0,   0,   0,   0,   0,   0,   0,   0,   0,   0,   0],\n",
              "        [  0,   0,   0,   0,   0,   0,   0,   0,   0,  97, 173, 253,  92,   1,   0,   0,   0,   0,   0,   0,   0,   0,   0,   0,   0,   0,   0,   0],\n",
              "        [  0,   0,   0,   0,   0,   0,   0,   0,   0,   0,   0,   0,   0,   0,   0,   0,   0,   0,   0,   0,   0,   0,   0,   0,   0,   0,   0,   0],\n",
              "        [  0,   0,   0,   0,   0,   0,   0,   0,   0,   0,   0,   0,   0,   0,   0,   0,   0,   0,   0,   0,   0,   0,   0,   0,   0,   0,   0,   0]], dtype=torch.uint8)"
            ]
          },
          "metadata": {},
          "execution_count": 9
        }
      ]
    },
    {
      "cell_type": "code",
      "source": [
        "#convert all to tensor\n",
        "zeros_tens =  [tensor(Image.open(o)) for o in zeros]\n",
        "ones_tens = [tensor(Image.open(o)) for o in ones]\n",
        "twos_tens = [tensor(Image.open(o)) for o in twos]\n",
        "threes_tens = [tensor(Image.open(o)) for o in threes]\n",
        "fours_tens = [tensor(Image.open(o)) for o in fours]\n",
        "fives_tens = [tensor(Image.open(o)) for o in fives]\n",
        "sixes_tens = [tensor(Image.open(o)) for o in sixes]\n",
        "sevens_tens = [tensor(Image.open(o)) for o in sevens]\n",
        "eights_tens = [tensor(Image.open(o)) for o in eights]\n",
        "nines_tens = [tensor(Image.open(o)) for o in nines]\n"
      ],
      "metadata": {
        "id": "XyeMkMTKyE-0"
      },
      "id": "XyeMkMTKyE-0",
      "execution_count": null,
      "outputs": []
    },
    {
      "cell_type": "code",
      "source": [
        "#convert all to tensor\n",
        "valid_zeros_tens =  [tensor(Image.open(o)) for o in valid_zeros]\n",
        "valid_ones_tens = [tensor(Image.open(o)) for o in valid_ones]\n",
        "valid_twos_tens = [tensor(Image.open(o)) for o in valid_twos]\n",
        "valid_threes_tens = [tensor(Image.open(o)) for o in valid_threes]\n",
        "valid_fours_tens = [tensor(Image.open(o)) for o in valid_fours]\n",
        "valid_fives_tens = [tensor(Image.open(o)) for o in valid_fives]\n",
        "valid_sixes_tens = [tensor(Image.open(o)) for o in valid_sixes]\n",
        "valid_sevens_tens = [tensor(Image.open(o)) for o in valid_sevens]\n",
        "valid_eights_tens = [tensor(Image.open(o)) for o in valid_eights]\n",
        "valid_nines_tens = [tensor(Image.open(o)) for o in valid_nines]\n"
      ],
      "metadata": {
        "id": "ZYwBkOhX5NHR"
      },
      "id": "ZYwBkOhX5NHR",
      "execution_count": null,
      "outputs": []
    },
    {
      "cell_type": "code",
      "source": [
        "show_image(zeros_tens[0])"
      ],
      "metadata": {
        "colab": {
          "base_uri": "https://localhost:8080/",
          "height": 131
        },
        "id": "f8DaiBYjyFBf",
        "outputId": "34ca586f-1790-4788-b26b-74fa9e89b08a"
      },
      "id": "f8DaiBYjyFBf",
      "execution_count": null,
      "outputs": [
        {
          "output_type": "execute_result",
          "data": {
            "text/plain": [
              "<Axes: >"
            ]
          },
          "metadata": {},
          "execution_count": 12
        },
        {
          "output_type": "display_data",
          "data": {
            "text/plain": [
              "<Figure size 100x100 with 1 Axes>"
            ],
            "image/png": "[encoded data removed]"
          },
          "metadata": {}
        }
      ]
    },
    {
      "cell_type": "code",
      "source": [
        "stacked_zeros = torch.stack(zeros_tens).float()/255\n",
        "stacked_ones = torch.stack(ones_tens).float()/255\n",
        "stacked_twos = torch.stack(twos_tens).float()/255\n",
        "stacked_threes = torch.stack(threes_tens).float()/255\n",
        "stacked_fours = torch.stack(fours_tens).float()/255\n",
        "stacked_fives = torch.stack(fives_tens).float()/255\n",
        "stacked_sixes = torch.stack(sixes_tens).float()/255\n",
        "stacked_sevens = torch.stack(sevens_tens).float()/255\n",
        "stacked_eights = torch.stack(eights_tens).float()/255\n",
        "stacked_nines = torch.stack(nines_tens).float()/255"
      ],
      "metadata": {
        "id": "E0KsDeNPyFGj"
      },
      "id": "E0KsDeNPyFGj",
      "execution_count": null,
      "outputs": []
    },
    {
      "cell_type": "code",
      "source": [
        "valid_stacked_zeros = torch.stack(valid_zeros_tens).float()/255\n",
        "valid_stacked_ones = torch.stack(valid_ones_tens).float()/255\n",
        "valid_stacked_twos = torch.stack(valid_twos_tens).float()/255\n",
        "valid_stacked_threes = torch.stack(valid_threes_tens).float()/255\n",
        "valid_stacked_fours = torch.stack(valid_fours_tens).float()/255\n",
        "valid_stacked_fives = torch.stack(valid_fives_tens).float()/255\n",
        "valid_stacked_sixes = torch.stack(valid_sixes_tens).float()/255\n",
        "valid_stacked_sevens = torch.stack(valid_sevens_tens).float()/255\n",
        "valid_stacked_eights = torch.stack(valid_eights_tens).float()/255\n",
        "valid_stacked_nines = torch.stack(valid_nines_tens).float()/255"
      ],
      "metadata": {
        "id": "MMbx6CNt5_dx"
      },
      "id": "MMbx6CNt5_dx",
      "execution_count": null,
      "outputs": []
    },
    {
      "cell_type": "code",
      "source": [
        "stacked_threes.shape"
      ],
      "metadata": {
        "colab": {
          "base_uri": "https://localhost:8080/"
        },
        "id": "TbqmLKBbyFJb",
        "outputId": "201a36a3-bc7b-478d-b2b8-e8e6403078bd"
      },
      "id": "TbqmLKBbyFJb",
      "execution_count": null,
      "outputs": [
        {
          "output_type": "execute_result",
          "data": {
            "text/plain": [
              "torch.Size([6131, 28, 28])"
            ]
          },
          "metadata": {},
          "execution_count": 15
        }
      ]
    },
    {
      "cell_type": "code",
      "source": [
        "#calculate mean3 for fun\n",
        "mean9 = stacked_nines.mean(0)\n",
        "show_image(mean9)"
      ],
      "metadata": {
        "id": "Ey76WmFk_HWD",
        "colab": {
          "base_uri": "https://localhost:8080/",
          "height": 131
        },
        "outputId": "f2ad5de5-67b4-4cb3-ba6c-9800e565866d"
      },
      "id": "Ey76WmFk_HWD",
      "execution_count": null,
      "outputs": [
        {
          "output_type": "execute_result",
          "data": {
            "text/plain": [
              "<Axes: >"
            ]
          },
          "metadata": {},
          "execution_count": 16
        },
        {
          "output_type": "display_data",
          "data": {
            "text/plain": [
              "<Figure size 100x100 with 1 Axes>"
            ],
            "image/png": "[encoded data removed]"
          },
          "metadata": {}
        }
      ]
    },
    {
      "cell_type": "markdown",
      "source": [
        "Mnist Loss Function"
      ],
      "metadata": {
        "id": "A6zk-Pv46ph4"
      },
      "id": "A6zk-Pv46ph4"
    },
    {
      "cell_type": "code",
      "execution_count": null,
      "id": "1655ae29-5005-4a04-b9f0-2201989677f8",
      "metadata": {
        "id": "1655ae29-5005-4a04-b9f0-2201989677f8"
      },
      "outputs": [],
      "source": [
        "train_x = torch.cat([stacked_zeros,stacked_ones,stacked_twos,stacked_threes,stacked_fours,stacked_fives,stacked_sixes,stacked_sevens,stacked_eights,stacked_nines]).view(-1, 28*28)"
      ]
    },
    {
      "cell_type": "code",
      "execution_count": null,
      "id": "87cef870-b689-4222-8d32-e252f4c65549",
      "metadata": {
        "id": "87cef870-b689-4222-8d32-e252f4c65549"
      },
      "outputs": [],
      "source": [
        "train_y = tensor( [0]*len(zeros) + [1]*len(ones) + [2]*len(twos) + [3]*len(threes) + [4]*len(fours) + [5]*len(fives) + [6]*len(sixes) + [7]*len(sevens) + [8]*len(eights) + [9]*len(nines)).unsqueeze(1)"
      ]
    },
    {
      "cell_type": "code",
      "execution_count": null,
      "id": "ea2ea532-d95d-40d9-b144-dad30976dd59",
      "metadata": {
        "id": "ea2ea532-d95d-40d9-b144-dad30976dd59",
        "colab": {
          "base_uri": "https://localhost:8080/"
        },
        "outputId": "73056141-2a48-439f-a498-88e66c70709a"
      },
      "outputs": [
        {
          "output_type": "execute_result",
          "data": {
            "text/plain": [
              "(torch.Size([60000, 784]), torch.Size([60000, 1]))"
            ]
          },
          "metadata": {},
          "execution_count": 19
        }
      ],
      "source": [
        "train_x.shape,train_y.shape"
      ]
    },
    {
      "cell_type": "code",
      "source": [
        "dset = list(zip(train_x,train_y))\n",
        "x,y = dset[0]\n",
        "x.shape,y"
      ],
      "metadata": {
        "colab": {
          "base_uri": "https://localhost:8080/"
        },
        "id": "g7LMlUsWAU2R",
        "outputId": "eba2995e-ee75-4124-c30b-b750cae267e6"
      },
      "id": "g7LMlUsWAU2R",
      "execution_count": null,
      "outputs": [
        {
          "output_type": "execute_result",
          "data": {
            "text/plain": [
              "(torch.Size([784]), tensor([0]))"
            ]
          },
          "metadata": {},
          "execution_count": 20
        }
      ]
    },
    {
      "cell_type": "code",
      "source": [
        "dset = list(zip(train_x,train_y))\n",
        "x,y = dset[5923]\n",
        "x.shape,y"
      ],
      "metadata": {
        "colab": {
          "base_uri": "https://localhost:8080/"
        },
        "id": "VeC9Qe5IFLXk",
        "outputId": "7938f516-64f8-4f47-d80a-adb57dad735d"
      },
      "id": "VeC9Qe5IFLXk",
      "execution_count": null,
      "outputs": [
        {
          "output_type": "execute_result",
          "data": {
            "text/plain": [
              "(torch.Size([784]), tensor([1]))"
            ]
          },
          "metadata": {},
          "execution_count": 21
        }
      ]
    },
    {
      "cell_type": "code",
      "source": [
        "len(zeros)"
      ],
      "metadata": {
        "colab": {
          "base_uri": "https://localhost:8080/"
        },
        "id": "PAJRk0sXHZvi",
        "outputId": "08aafff0-fb2a-489b-9ba7-5a662dd0cbbc"
      },
      "id": "PAJRk0sXHZvi",
      "execution_count": null,
      "outputs": [
        {
          "output_type": "execute_result",
          "data": {
            "text/plain": [
              "5923"
            ]
          },
          "metadata": {},
          "execution_count": 22
        }
      ]
    },
    {
      "cell_type": "markdown",
      "source": [
        "The zip function aggregates the iterables you pass to it in this case train_x and train_y, hereby pairing the first value of train_x with the first value of train_y in a tuple and so on basically the image and label, x and y i.e. [(train_x[0],train_y[0]),(train_x[1],train_y[1])].\n",
        "\n",
        "The list function then transforms this object(iterator) into a list.\n",
        "We can then get the first item of this which would be the first pair.\n",
        "\n",
        "Querying dset[1] up to dset[5922] will still return the value of y stacked as o because we have 5923 o values stacked up first in the tensor.\n",
        "\n",
        "x,y = dset[5923] returns (torch.Size([784]), tensor([1])).\n",
        "\n"
      ],
      "metadata": {
        "id": "GbNrU0J7DODm"
      },
      "id": "GbNrU0J7DODm"
    },
    {
      "cell_type": "code",
      "source": [
        "valid_x = torch.cat([valid_stacked_zeros,valid_stacked_ones,valid_stacked_twos,valid_stacked_threes,valid_stacked_fours,valid_stacked_fives,valid_stacked_sixes,valid_stacked_sevens,valid_stacked_eights,valid_stacked_nines]).view(-1, 28*28)\n",
        "valid_y = tensor( [0]*len(valid_zeros) + [1]*len(valid_ones) + [2]*len(valid_twos) + [3]*len(valid_threes) + [4]*len(valid_fours) + [5]*len(valid_fives) + [6]*len(valid_sixes) + [7]*len(valid_sevens) + [8]*len(valid_eights) + [9]*len(valid_nines)).unsqueeze(1)\n",
        "valid_dset = list(zip(valid_x,valid_y))"
      ],
      "metadata": {
        "id": "JNaliRM9AUy2"
      },
      "id": "JNaliRM9AUy2",
      "execution_count": null,
      "outputs": []
    },
    {
      "cell_type": "code",
      "execution_count": null,
      "id": "6f226fac-7171-4921-b04e-0036d71aa318",
      "metadata": {
        "id": "6f226fac-7171-4921-b04e-0036d71aa318"
      },
      "outputs": [],
      "source": [
        "#define linear model\n",
        "def linear1(xb):\n",
        "  return xb@weights + bias"
      ]
    },
    {
      "cell_type": "code",
      "source": [
        "#Mnist loss function\n",
        "def mnist_loss(predictions,targets):\n",
        "  predictions = predictions.sigmoid()\n",
        "  return torch.where(targets==1, 1-predictions, predictions).mean()"
      ],
      "metadata": {
        "id": "kDbA_U1oQxfc"
      },
      "id": "kDbA_U1oQxfc",
      "execution_count": null,
      "outputs": []
    },
    {
      "cell_type": "code",
      "source": [
        "#define function to Initialize parameters and return random parameters\n",
        "#requires_grad tells PyTorch to track gradients when init_params is used\n",
        "\n",
        "def init_params(size,std=1.0):\n",
        "  return (torch.randn(size)*std).requires_grad_()"
      ],
      "metadata": {
        "id": "3uFUXwOdAUwH"
      },
      "id": "3uFUXwOdAUwH",
      "execution_count": null,
      "outputs": []
    },
    {
      "cell_type": "markdown",
      "source": [
        "##Linear Model"
      ],
      "metadata": {
        "id": "O3-2GIhnWFlT"
      },
      "id": "O3-2GIhnWFlT"
    },
    {
      "cell_type": "markdown",
      "source": [
        "1. Initialize parameters"
      ],
      "metadata": {
        "id": "-7Wp3L4XSTq6"
      },
      "id": "-7Wp3L4XSTq6"
    },
    {
      "cell_type": "code",
      "source": [
        "weights = init_params((28*28,1))"
      ],
      "metadata": {
        "id": "Neus5SheAUts"
      },
      "id": "Neus5SheAUts",
      "execution_count": null,
      "outputs": []
    },
    {
      "cell_type": "code",
      "execution_count": null,
      "id": "80b1e7b3-1a5d-4b0f-8857-07e92beb949a",
      "metadata": {
        "id": "80b1e7b3-1a5d-4b0f-8857-07e92beb949a"
      },
      "outputs": [],
      "source": [
        "bias = init_params(1)"
      ]
    },
    {
      "cell_type": "markdown",
      "source": [
        "Define data loader to do mini batch collation and shuffling"
      ],
      "metadata": {
        "id": "AVE-XS4pSjPe"
      },
      "id": "AVE-XS4pSjPe"
    },
    {
      "cell_type": "code",
      "source": [
        "dl = DataLoader(dset, batch_size=256)\n",
        "xb,yb = first(dl)\n",
        "xb.shape,yb.shape"
      ],
      "metadata": {
        "colab": {
          "base_uri": "https://localhost:8080/"
        },
        "id": "v8JEbCGOSwez",
        "outputId": "89e0ba59-fb3d-4284-9e7a-5a10998db9e2"
      },
      "id": "v8JEbCGOSwez",
      "execution_count": null,
      "outputs": [
        {
          "output_type": "execute_result",
          "data": {
            "text/plain": [
              "(torch.Size([256, 784]), torch.Size([256, 1]))"
            ]
          },
          "metadata": {},
          "execution_count": 29
        }
      ]
    },
    {
      "cell_type": "code",
      "source": [
        "valid_dl = DataLoader(valid_dset, batch_size=256)"
      ],
      "metadata": {
        "id": "bdV7Y4Z1SwNv"
      },
      "id": "bdV7Y4Z1SwNv",
      "execution_count": null,
      "outputs": []
    },
    {
      "cell_type": "code",
      "source": [
        "#mini batch\n",
        "batch = train_x[:4]\n",
        "batch"
      ],
      "metadata": {
        "colab": {
          "base_uri": "https://localhost:8080/"
        },
        "id": "1nfNFjB2UlNt",
        "outputId": "0fb5da35-5a04-4ca0-f64c-3e0ee813ba63"
      },
      "id": "1nfNFjB2UlNt",
      "execution_count": null,
      "outputs": [
        {
          "output_type": "execute_result",
          "data": {
            "text/plain": [
              "tensor([[0., 0., 0.,  ..., 0., 0., 0.],\n",
              "        [0., 0., 0.,  ..., 0., 0., 0.],\n",
              "        [0., 0., 0.,  ..., 0., 0., 0.],\n",
              "        [0., 0., 0.,  ..., 0., 0., 0.]])"
            ]
          },
          "metadata": {},
          "execution_count": 31
        }
      ]
    },
    {
      "cell_type": "code",
      "source": [
        "label_batch = train_y[:4]\n",
        "label_batch.shape"
      ],
      "metadata": {
        "colab": {
          "base_uri": "https://localhost:8080/"
        },
        "id": "bazH7zSuVSKy",
        "outputId": "b028e433-dacc-44e0-a8d2-912146af63eb"
      },
      "id": "bazH7zSuVSKy",
      "execution_count": null,
      "outputs": [
        {
          "output_type": "execute_result",
          "data": {
            "text/plain": [
              "torch.Size([4, 1])"
            ]
          },
          "metadata": {},
          "execution_count": 32
        }
      ]
    },
    {
      "cell_type": "code",
      "source": [
        "preds = linear1(batch)\n",
        "preds"
      ],
      "metadata": {
        "colab": {
          "base_uri": "https://localhost:8080/"
        },
        "id": "IIHXdq7eUlKG",
        "outputId": "6d067fd3-11ed-43a5-daf6-983b4a1b9766"
      },
      "id": "IIHXdq7eUlKG",
      "execution_count": null,
      "outputs": [
        {
          "output_type": "execute_result",
          "data": {
            "text/plain": [
              "tensor([[ -9.2751],\n",
              "        [-23.0076],\n",
              "        [-15.8010],\n",
              "        [ -6.9643]], grad_fn=<AddBackward0>)"
            ]
          },
          "metadata": {},
          "execution_count": 33
        }
      ]
    },
    {
      "cell_type": "code",
      "source": [
        "loss = mnist_loss(preds,label_batch)\n",
        "loss"
      ],
      "metadata": {
        "colab": {
          "base_uri": "https://localhost:8080/"
        },
        "id": "gL0kcfo0UlHP",
        "outputId": "a443e684-beeb-462e-e6e5-7b5d01019ed8"
      },
      "id": "gL0kcfo0UlHP",
      "execution_count": null,
      "outputs": [
        {
          "output_type": "execute_result",
          "data": {
            "text/plain": [
              "tensor(0.0003, grad_fn=<MeanBackward0>)"
            ]
          },
          "metadata": {},
          "execution_count": 34
        }
      ]
    },
    {
      "cell_type": "code",
      "source": [
        "loss.backward()"
      ],
      "metadata": {
        "id": "8EdbNWTHUlEk"
      },
      "id": "8EdbNWTHUlEk",
      "execution_count": null,
      "outputs": []
    },
    {
      "cell_type": "code",
      "source": [
        "weights.grad.mean(),bias.grad"
      ],
      "metadata": {
        "id": "ZxFCTOqMOTg_",
        "colab": {
          "base_uri": "https://localhost:8080/"
        },
        "outputId": "ea65aa4c-4180-4852-d74e-4f8c20995134"
      },
      "id": "ZxFCTOqMOTg_",
      "execution_count": null,
      "outputs": [
        {
          "output_type": "execute_result",
          "data": {
            "text/plain": [
              "(tensor(4.4802e-05), tensor([0.0003]))"
            ]
          },
          "metadata": {},
          "execution_count": 36
        }
      ]
    },
    {
      "cell_type": "code",
      "source": [
        "corrects = (preds>0.0).float() == label_batch\n",
        "corrects"
      ],
      "metadata": {
        "colab": {
          "base_uri": "https://localhost:8080/"
        },
        "id": "QOdy9A_kN_tX",
        "outputId": "61761bc4-752b-43b3-9c98-9a824760507a"
      },
      "id": "QOdy9A_kN_tX",
      "execution_count": null,
      "outputs": [
        {
          "output_type": "execute_result",
          "data": {
            "text/plain": [
              "tensor([[True],\n",
              "        [True],\n",
              "        [True],\n",
              "        [True]])"
            ]
          },
          "metadata": {},
          "execution_count": 37
        }
      ]
    },
    {
      "cell_type": "code",
      "source": [
        "corrects.float().mean().item()"
      ],
      "metadata": {
        "colab": {
          "base_uri": "https://localhost:8080/"
        },
        "id": "nrYF_Xh6RjEX",
        "outputId": "a97bee28-52f5-46d4-ec72-f05ea607c099"
      },
      "id": "nrYF_Xh6RjEX",
      "execution_count": null,
      "outputs": [
        {
          "output_type": "execute_result",
          "data": {
            "text/plain": [
              "1.0"
            ]
          },
          "metadata": {},
          "execution_count": 38
        }
      ]
    },
    {
      "cell_type": "code",
      "source": [
        "def calc_grad(xb,yb,model):\n",
        "  preds = model(xb)\n",
        "  loss = mnist_loss(preds,yb)\n",
        "  loss.backward()"
      ],
      "metadata": {
        "id": "iLmzexsaSKLq"
      },
      "id": "iLmzexsaSKLq",
      "execution_count": null,
      "outputs": []
    },
    {
      "cell_type": "code",
      "source": [
        "calc_grad(batch,label_batch,linear1)"
      ],
      "metadata": {
        "id": "OH5atNSTEfhw"
      },
      "id": "OH5atNSTEfhw",
      "execution_count": null,
      "outputs": []
    },
    {
      "cell_type": "code",
      "source": [
        "weights.grad.mean(),bias.grad"
      ],
      "metadata": {
        "colab": {
          "base_uri": "https://localhost:8080/"
        },
        "id": "MRxcdLKvEt_x",
        "outputId": "5011ca80-ecfd-4b89-d83a-e911c54bf0bc"
      },
      "id": "MRxcdLKvEt_x",
      "execution_count": null,
      "outputs": [
        {
          "output_type": "execute_result",
          "data": {
            "text/plain": [
              "(tensor(8.9603e-05), tensor([0.0005]))"
            ]
          },
          "metadata": {},
          "execution_count": 41
        }
      ]
    },
    {
      "cell_type": "code",
      "source": [
        "\n",
        "#calculate grads second time\n",
        "calc_grad(batch,label_batch,linear1)\n",
        "weights.grad.mean(),bias.grad"
      ],
      "metadata": {
        "colab": {
          "base_uri": "https://localhost:8080/"
        },
        "id": "YPShSgwLExLj",
        "outputId": "7f608018-4056-4973-cda5-29d78f016950"
      },
      "id": "YPShSgwLExLj",
      "execution_count": null,
      "outputs": [
        {
          "output_type": "execute_result",
          "data": {
            "text/plain": [
              "(tensor(0.0001), tensor([0.0008]))"
            ]
          },
          "metadata": {},
          "execution_count": 42
        }
      ]
    },
    {
      "cell_type": "markdown",
      "source": [
        "loss.backward adds the gradients of a loss to any gradients that are currently stored. So we have to set the current gradients to 0 first"
      ],
      "metadata": {
        "id": "A_Z23vVRFlDK"
      },
      "id": "A_Z23vVRFlDK"
    },
    {
      "cell_type": "code",
      "source": [
        "weights.grad.zero_(),bias.grad.zero_()"
      ],
      "metadata": {
        "id": "0KozbaCbExIL"
      },
      "id": "0KozbaCbExIL",
      "execution_count": null,
      "outputs": []
    },
    {
      "cell_type": "markdown",
      "source": [
        "Stepping weights\n",
        "\n",
        "When stepping the weights, we tell PyTorch not to keep track of the gradients. We do this by assigning a data attribute to the params.\n",
        "\n",
        "Below is our basic training loop for an epoch"
      ],
      "metadata": {
        "id": "TAW_y0HRN7op"
      },
      "id": "TAW_y0HRN7op"
    },
    {
      "cell_type": "code",
      "source": [
        "def train_epoch(model,lr,params):\n",
        "  for xb,yb in dl:\n",
        "    calc_grad(xb,yb,model)\n",
        "    for p in params:\n",
        "      p.data -= p.grad*lr\n",
        "      p.grad.zero_()"
      ],
      "metadata": {
        "id": "TzppfkVgExF4"
      },
      "id": "TzppfkVgExF4",
      "execution_count": null,
      "outputs": []
    },
    {
      "cell_type": "code",
      "source": [
        "(preds>0.0).float() == label_batch\n"
      ],
      "metadata": {
        "id": "pbtCY0alExCx",
        "colab": {
          "base_uri": "https://localhost:8080/"
        },
        "outputId": "2005b509-d1b3-443a-c7c9-00cbc0f2f0c2"
      },
      "id": "pbtCY0alExCx",
      "execution_count": null,
      "outputs": [
        {
          "output_type": "execute_result",
          "data": {
            "text/plain": [
              "tensor([[True],\n",
              "        [True],\n",
              "        [True],\n",
              "        [True]])"
            ]
          },
          "metadata": {},
          "execution_count": 45
        }
      ]
    },
    {
      "cell_type": "code",
      "source": [
        "def batch_accuracy(xb,yb):\n",
        "  preds = xb.sigmoid()\n",
        "  corrects = (preds>0.5) == yb\n",
        "  return corrects.float().mean()"
      ],
      "metadata": {
        "id": "CBOudrI8ExAr"
      },
      "id": "CBOudrI8ExAr",
      "execution_count": null,
      "outputs": []
    },
    {
      "cell_type": "code",
      "source": [
        "batch_accuracy(preds,label_batch)"
      ],
      "metadata": {
        "id": "cuZ7cDAKEw3P",
        "colab": {
          "base_uri": "https://localhost:8080/"
        },
        "outputId": "95313a56-3990-461e-d66c-374bfc0520bc"
      },
      "id": "cuZ7cDAKEw3P",
      "execution_count": null,
      "outputs": [
        {
          "output_type": "execute_result",
          "data": {
            "text/plain": [
              "tensor(1.)"
            ]
          },
          "metadata": {},
          "execution_count": 55
        }
      ]
    },
    {
      "cell_type": "code",
      "source": [
        "#put batches together\n",
        "def validate_epoch(model):\n",
        "  accs = [batch_accuracy(model(xb),yb) for xb,yb in valid_dl]\n",
        "  return round(torch.stack(accs).mean().item(),4)"
      ],
      "metadata": {
        "id": "SLw1XA3MEwrn"
      },
      "id": "SLw1XA3MEwrn",
      "execution_count": null,
      "outputs": []
    },
    {
      "cell_type": "code",
      "source": [
        "validate_epoch(linear1)"
      ],
      "metadata": {
        "id": "EHRM3LGMEwIy",
        "colab": {
          "base_uri": "https://localhost:8080/"
        },
        "outputId": "cffd1e30-e11b-418d-cf10-be8ed33310bf"
      },
      "id": "EHRM3LGMEwIy",
      "execution_count": null,
      "outputs": [
        {
          "output_type": "execute_result",
          "data": {
            "text/plain": [
              "0.092"
            ]
          },
          "metadata": {},
          "execution_count": 57
        }
      ]
    },
    {
      "cell_type": "markdown",
      "source": [
        "We now have a starting point, lets train for another epoch to see if our model improves."
      ],
      "metadata": {
        "id": "FdyLBza7Y4Fm"
      },
      "id": "FdyLBza7Y4Fm"
    },
    {
      "cell_type": "code",
      "source": [
        "lr = 1.\n",
        "params = weights, bias\n",
        "train_epoch(linear1,lr,params)\n",
        "validate_epoch(linear1)"
      ],
      "metadata": {
        "colab": {
          "base_uri": "https://localhost:8080/"
        },
        "id": "V2Y7xlfGY3Nl",
        "outputId": "221a252d-c47f-4ed2-c05a-1d4d9985bfdd"
      },
      "id": "V2Y7xlfGY3Nl",
      "execution_count": null,
      "outputs": [
        {
          "output_type": "execute_result",
          "data": {
            "text/plain": [
              "0.0958"
            ]
          },
          "metadata": {},
          "execution_count": 58
        }
      ]
    },
    {
      "cell_type": "code",
      "source": [
        "#do a few more\n",
        "for i in range(20):\n",
        "  train_epoch(linear1,lr,params)\n",
        "  print(validate_epoch(linear1), end='')"
      ],
      "metadata": {
        "colab": {
          "base_uri": "https://localhost:8080/"
        },
        "id": "RdRxLm4LY3J9",
        "outputId": "1e5a8e91-e6fa-40a7-edf6-1796c67d7eb4"
      },
      "id": "RdRxLm4LY3J9",
      "execution_count": null,
      "outputs": [
        {
          "output_type": "stream",
          "name": "stdout",
          "text": [
            "0.09570.09570.09570.09570.09570.09570.09570.09570.09580.09580.09580.09580.0970.10070.10880.12660.15030.15950.1660.1706"
          ]
        }
      ]
    },
    {
      "cell_type": "markdown",
      "source": [
        "##Using a PyTorch optimizer\n",
        "\n",
        "Here we replace linear1 with nn.linear which does the same thing as init_params and linear1"
      ],
      "metadata": {
        "id": "PoswW5GSZzvR"
      },
      "id": "PoswW5GSZzvR"
    },
    {
      "cell_type": "code",
      "source": [
        "linear_model = nn.Linear(28*28,1)"
      ],
      "metadata": {
        "id": "-B07H_-GY3G2"
      },
      "id": "-B07H_-GY3G2",
      "execution_count": null,
      "outputs": []
    },
    {
      "cell_type": "code",
      "source": [
        "w,b = linear_model.parameters()\n",
        "w.shape,b.shape"
      ],
      "metadata": {
        "colab": {
          "base_uri": "https://localhost:8080/"
        },
        "id": "tVr7VwQiY3EC",
        "outputId": "f2ff83cd-a6d0-47bb-c883-ad8270623438"
      },
      "id": "tVr7VwQiY3EC",
      "execution_count": null,
      "outputs": [
        {
          "output_type": "execute_result",
          "data": {
            "text/plain": [
              "(torch.Size([1, 784]), torch.Size([1]))"
            ]
          },
          "metadata": {},
          "execution_count": 61
        }
      ]
    },
    {
      "cell_type": "code",
      "source": [
        "class BasicOptim:\n",
        "  def __init__(self,params,lr): self.params,self.lr = list(params),lr\n",
        "\n",
        "  def step(self, *args, **kwargs):\n",
        "    for p in self.params: p.data -= p.grad.data * self.lr\n",
        "\n",
        "  def zero_grad(self, *args, **kwargs):\n",
        "    for p in self.params: p.grad = None\n"
      ],
      "metadata": {
        "id": "4OZnPXl4Y3BN"
      },
      "id": "4OZnPXl4Y3BN",
      "execution_count": null,
      "outputs": []
    },
    {
      "cell_type": "code",
      "source": [
        "opt = BasicOptim(linear_model.parameters(), lr)"
      ],
      "metadata": {
        "id": "6svTvrIqdRES"
      },
      "id": "6svTvrIqdRES",
      "execution_count": null,
      "outputs": []
    },
    {
      "cell_type": "code",
      "source": [
        "#with this, we can redefine train_epoch\n",
        "def train_epoch(model):\n",
        "  for xb, yb in dl:\n",
        "    calc_grad(xb,yb,model)\n",
        "    opt.step()\n",
        "    opt.zero_grad()"
      ],
      "metadata": {
        "id": "dhbmqhHUdRBP"
      },
      "id": "dhbmqhHUdRBP",
      "execution_count": null,
      "outputs": []
    },
    {
      "cell_type": "markdown",
      "source": [
        "fastai provides an SGD class which by default does the same thing as BasicOptim"
      ],
      "metadata": {
        "id": "9RGWce-i4tKS"
      },
      "id": "9RGWce-i4tKS"
    },
    {
      "cell_type": "code",
      "source": [
        "opt = SGD(linear_model.parameters(),lr)"
      ],
      "metadata": {
        "id": "mwGJzPaY6c88"
      },
      "id": "mwGJzPaY6c88",
      "execution_count": null,
      "outputs": []
    },
    {
      "cell_type": "code",
      "source": [
        "def train_model(model,epochs):\n",
        "  for i in range(epochs):\n",
        "    train_epoch(model)\n",
        "    print(validate_epoch(model), end=' ')"
      ],
      "metadata": {
        "id": "V30x7xsBdQ8Y"
      },
      "id": "V30x7xsBdQ8Y",
      "execution_count": null,
      "outputs": []
    },
    {
      "cell_type": "code",
      "source": [
        "train_model(linear_model,20)"
      ],
      "metadata": {
        "colab": {
          "base_uri": "https://localhost:8080/"
        },
        "id": "0qxpL7qNfFlc",
        "outputId": "d7eecffe-fcde-4443-a7b0-143f7ebe667b"
      },
      "id": "0qxpL7qNfFlc",
      "execution_count": null,
      "outputs": [
        {
          "output_type": "stream",
          "name": "stdout",
          "text": [
            "0.0957 0.1033 0.1172 0.1261 0.1322 0.1379 0.1427 0.1474 0.1523 0.1562 0.1594 0.162 0.1642 0.1669 0.1692 0.1715 0.1729 0.1746 0.1767 0.1773 "
          ]
        }
      ]
    },
    {
      "cell_type": "markdown",
      "source": [
        "fastai also provides Learner.fit which we can use instead of train_model.To create a Learner, first we must create a DataLoaders object by passing in the training and validation **DataLoader**'s object."
      ],
      "metadata": {
        "id": "RTR4cV2SaQb7"
      },
      "id": "RTR4cV2SaQb7"
    },
    {
      "cell_type": "code",
      "source": [
        "dls = DataLoaders(dl, valid_dl)"
      ],
      "metadata": {
        "id": "5U9H9MOwfFiu"
      },
      "id": "5U9H9MOwfFiu",
      "execution_count": null,
      "outputs": []
    },
    {
      "cell_type": "markdown",
      "source": [
        "  To create a Learner without using an application such as Tabular Learner, we need to pass in all the objects that we created above i.e. the model, loss function, DataLoaders, optimzation function which is passed the parameters and any metrics that we might be using."
      ],
      "metadata": {
        "id": "-CNYc4qdl9Bh"
      },
      "id": "-CNYc4qdl9Bh"
    },
    {
      "cell_type": "code",
      "source": [
        "learn = Learner(dls, nn.Linear(28*28,1), opt_func=SGD, loss_func=mnist_loss, metrics=batch_accuracy)"
      ],
      "metadata": {
        "id": "AnI_OzA1fFex"
      },
      "id": "AnI_OzA1fFex",
      "execution_count": null,
      "outputs": []
    },
    {
      "cell_type": "code",
      "source": [
        "learn.fit(30, lr=lr)"
      ],
      "metadata": {
        "colab": {
          "base_uri": "https://localhost:8080/",
          "height": 990
        },
        "id": "WzXejs4vSlo_",
        "outputId": "a4ff8802-70c5-48c5-874d-66f599360438"
      },
      "id": "WzXejs4vSlo_",
      "execution_count": null,
      "outputs": [
        {
          "output_type": "display_data",
          "data": {
            "text/plain": [
              "<IPython.core.display.HTML object>"
            ],
            "text/html": [
              "\n",
              "<style>\n",
              "    /* Turns off some styling */\n",
              "    progress {\n",
              "        /* gets rid of default border in Firefox and Opera. */\n",
              "        border: none;\n",
              "        /* Needs to be in here for Safari polyfill so background images work as expected. */\n",
              "        background-size: auto;\n",
              "    }\n",
              "    progress:not([value]), progress:not([value])::-webkit-progress-bar {\n",
              "        background: repeating-linear-gradient(45deg, #7e7e7e, #7e7e7e 10px, #5c5c5c 10px, #5c5c5c 20px);\n",
              "    }\n",
              "    .progress-bar-interrupted, .progress-bar-interrupted::-webkit-progress-bar {\n",
              "        background: #F44336;\n",
              "    }\n",
              "</style>\n"
            ]
          },
          "metadata": {}
        },
        {
          "output_type": "display_data",
          "data": {
            "text/plain": [
              "<IPython.core.display.HTML object>"
            ],
            "text/html": [
              "<table border=\"1\" class=\"dataframe\">\n",
              "  <thead>\n",
              "    <tr style=\"text-align: left;\">\n",
              "      <th>epoch</th>\n",
              "      <th>train_loss</th>\n",
              "      <th>valid_loss</th>\n",
              "      <th>batch_accuracy</th>\n",
              "      <th>time</th>\n",
              "    </tr>\n",
              "  </thead>\n",
              "  <tbody>\n",
              "    <tr>\n",
              "      <td>0</td>\n",
              "      <td>0.003687</td>\n",
              "      <td>0.103845</td>\n",
              "      <td>0.098100</td>\n",
              "      <td>00:00</td>\n",
              "    </tr>\n",
              "    <tr>\n",
              "      <td>1</td>\n",
              "      <td>0.001804</td>\n",
              "      <td>0.093277</td>\n",
              "      <td>0.107400</td>\n",
              "      <td>00:00</td>\n",
              "    </tr>\n",
              "    <tr>\n",
              "      <td>2</td>\n",
              "      <td>0.001693</td>\n",
              "      <td>0.085595</td>\n",
              "      <td>0.121800</td>\n",
              "      <td>00:00</td>\n",
              "    </tr>\n",
              "    <tr>\n",
              "      <td>3</td>\n",
              "      <td>0.001710</td>\n",
              "      <td>0.079647</td>\n",
              "      <td>0.129700</td>\n",
              "      <td>00:00</td>\n",
              "    </tr>\n",
              "    <tr>\n",
              "      <td>4</td>\n",
              "      <td>0.001764</td>\n",
              "      <td>0.074572</td>\n",
              "      <td>0.136500</td>\n",
              "      <td>00:00</td>\n",
              "    </tr>\n",
              "    <tr>\n",
              "      <td>5</td>\n",
              "      <td>0.001832</td>\n",
              "      <td>0.070107</td>\n",
              "      <td>0.141600</td>\n",
              "      <td>00:00</td>\n",
              "    </tr>\n",
              "    <tr>\n",
              "      <td>6</td>\n",
              "      <td>0.001904</td>\n",
              "      <td>0.066110</td>\n",
              "      <td>0.146400</td>\n",
              "      <td>00:00</td>\n",
              "    </tr>\n",
              "    <tr>\n",
              "      <td>7</td>\n",
              "      <td>0.001978</td>\n",
              "      <td>0.062476</td>\n",
              "      <td>0.151200</td>\n",
              "      <td>00:02</td>\n",
              "    </tr>\n",
              "    <tr>\n",
              "      <td>8</td>\n",
              "      <td>0.002050</td>\n",
              "      <td>0.059136</td>\n",
              "      <td>0.156000</td>\n",
              "      <td>00:01</td>\n",
              "    </tr>\n",
              "    <tr>\n",
              "      <td>9</td>\n",
              "      <td>0.002119</td>\n",
              "      <td>0.056052</td>\n",
              "      <td>0.159600</td>\n",
              "      <td>00:00</td>\n",
              "    </tr>\n",
              "    <tr>\n",
              "      <td>10</td>\n",
              "      <td>0.002185</td>\n",
              "      <td>0.053207</td>\n",
              "      <td>0.163200</td>\n",
              "      <td>00:00</td>\n",
              "    </tr>\n",
              "    <tr>\n",
              "      <td>11</td>\n",
              "      <td>0.002248</td>\n",
              "      <td>0.050595</td>\n",
              "      <td>0.166100</td>\n",
              "      <td>00:00</td>\n",
              "    </tr>\n",
              "    <tr>\n",
              "      <td>12</td>\n",
              "      <td>0.002307</td>\n",
              "      <td>0.048208</td>\n",
              "      <td>0.168000</td>\n",
              "      <td>00:00</td>\n",
              "    </tr>\n",
              "    <tr>\n",
              "      <td>13</td>\n",
              "      <td>0.002363</td>\n",
              "      <td>0.046035</td>\n",
              "      <td>0.171000</td>\n",
              "      <td>00:00</td>\n",
              "    </tr>\n",
              "    <tr>\n",
              "      <td>14</td>\n",
              "      <td>0.002415</td>\n",
              "      <td>0.044061</td>\n",
              "      <td>0.173100</td>\n",
              "      <td>00:00</td>\n",
              "    </tr>\n",
              "    <tr>\n",
              "      <td>15</td>\n",
              "      <td>0.002463</td>\n",
              "      <td>0.042269</td>\n",
              "      <td>0.175900</td>\n",
              "      <td>00:00</td>\n",
              "    </tr>\n",
              "    <tr>\n",
              "      <td>16</td>\n",
              "      <td>0.002508</td>\n",
              "      <td>0.040639</td>\n",
              "      <td>0.176900</td>\n",
              "      <td>00:00</td>\n",
              "    </tr>\n",
              "    <tr>\n",
              "      <td>17</td>\n",
              "      <td>0.002549</td>\n",
              "      <td>0.039153</td>\n",
              "      <td>0.179000</td>\n",
              "      <td>00:00</td>\n",
              "    </tr>\n",
              "    <tr>\n",
              "      <td>18</td>\n",
              "      <td>0.002588</td>\n",
              "      <td>0.037793</td>\n",
              "      <td>0.180600</td>\n",
              "      <td>00:00</td>\n",
              "    </tr>\n",
              "    <tr>\n",
              "      <td>19</td>\n",
              "      <td>0.002625</td>\n",
              "      <td>0.036544</td>\n",
              "      <td>0.181100</td>\n",
              "      <td>00:00</td>\n",
              "    </tr>\n",
              "    <tr>\n",
              "      <td>20</td>\n",
              "      <td>0.002659</td>\n",
              "      <td>0.035391</td>\n",
              "      <td>0.182400</td>\n",
              "      <td>00:00</td>\n",
              "    </tr>\n",
              "    <tr>\n",
              "      <td>21</td>\n",
              "      <td>0.002691</td>\n",
              "      <td>0.034323</td>\n",
              "      <td>0.183000</td>\n",
              "      <td>00:00</td>\n",
              "    </tr>\n",
              "    <tr>\n",
              "      <td>22</td>\n",
              "      <td>0.002721</td>\n",
              "      <td>0.033330</td>\n",
              "      <td>0.183700</td>\n",
              "      <td>00:01</td>\n",
              "    </tr>\n",
              "    <tr>\n",
              "      <td>23</td>\n",
              "      <td>0.002750</td>\n",
              "      <td>0.032403</td>\n",
              "      <td>0.184000</td>\n",
              "      <td>00:01</td>\n",
              "    </tr>\n",
              "    <tr>\n",
              "      <td>24</td>\n",
              "      <td>0.002777</td>\n",
              "      <td>0.031535</td>\n",
              "      <td>0.184700</td>\n",
              "      <td>00:01</td>\n",
              "    </tr>\n",
              "    <tr>\n",
              "      <td>25</td>\n",
              "      <td>0.002803</td>\n",
              "      <td>0.030720</td>\n",
              "      <td>0.186300</td>\n",
              "      <td>00:00</td>\n",
              "    </tr>\n",
              "    <tr>\n",
              "      <td>26</td>\n",
              "      <td>0.002827</td>\n",
              "      <td>0.029953</td>\n",
              "      <td>0.187000</td>\n",
              "      <td>00:00</td>\n",
              "    </tr>\n",
              "    <tr>\n",
              "      <td>27</td>\n",
              "      <td>0.002850</td>\n",
              "      <td>0.029230</td>\n",
              "      <td>0.187900</td>\n",
              "      <td>00:00</td>\n",
              "    </tr>\n",
              "    <tr>\n",
              "      <td>28</td>\n",
              "      <td>0.002872</td>\n",
              "      <td>0.028545</td>\n",
              "      <td>0.188900</td>\n",
              "      <td>00:00</td>\n",
              "    </tr>\n",
              "    <tr>\n",
              "      <td>29</td>\n",
              "      <td>0.002893</td>\n",
              "      <td>0.027898</td>\n",
              "      <td>0.190400</td>\n",
              "      <td>00:00</td>\n",
              "    </tr>\n",
              "  </tbody>\n",
              "</table>"
            ]
          },
          "metadata": {}
        }
      ]
    },
    {
      "cell_type": "markdown",
      "source": [
        "##Neural Network\n",
        "To turn the above linear classifier into a neural network, we add a non-linear function between two linear layers i.e. a ReLu"
      ],
      "metadata": {
        "id": "Iv_tR18IWK23"
      },
      "id": "Iv_tR18IWK23"
    },
    {
      "cell_type": "code",
      "source": [
        "def simple_net(xb):\n",
        "  res = xb@w1 + b1\n",
        "  res = res.max(tensor(0.0))\n",
        "  res = xb@w2 + b2\n",
        "  return res\n"
      ],
      "metadata": {
        "id": "h1jhyZG2WOca"
      },
      "id": "h1jhyZG2WOca",
      "execution_count": null,
      "outputs": []
    },
    {
      "cell_type": "code",
      "source": [
        "w1 = init_params(28*28,30)\n",
        "b1 = init_params(30)\n",
        "w2 = init_params(30,10)\n",
        "b2 = init_params(10)"
      ],
      "metadata": {
        "id": "K3lRxxWOTx0P"
      },
      "id": "K3lRxxWOTx0P",
      "execution_count": null,
      "outputs": []
    },
    {
      "cell_type": "code",
      "source": [
        "#ReLU replaces every negative number with a 0.\n",
        "plot_function(F.relu)"
      ],
      "metadata": {
        "id": "SlRpqPyxTnR8",
        "colab": {
          "base_uri": "https://localhost:8080/",
          "height": 372
        },
        "outputId": "a49d0ed0-2554-4e98-ec1f-7ef308fd30b0"
      },
      "id": "SlRpqPyxTnR8",
      "execution_count": null,
      "outputs": [
        {
          "output_type": "display_data",
          "data": {
            "text/plain": [
              "<Figure size 600x400 with 1 Axes>"
            ],
            "image/png": "[encoded data removed]"
          },
          "metadata": {}
        }
      ]
    },
    {
      "cell_type": "code",
      "source": [
        "simple_net = nn.Sequential(\n",
        "    nn.Linear(28*28,30),\n",
        "    nn.ReLU(),\n",
        "    nn.Linear(30,10)\n",
        ")"
      ],
      "metadata": {
        "id": "oobv7euITv33"
      },
      "id": "oobv7euITv33",
      "execution_count": null,
      "outputs": []
    },
    {
      "cell_type": "code",
      "source": [
        "learn = Learner(dls,simple_net,opt_func=SGD,loss_func=mnist_loss,metrics=batch_accuracy)"
      ],
      "metadata": {
        "id": "SdpkSoBgWgwN"
      },
      "id": "SdpkSoBgWgwN",
      "execution_count": null,
      "outputs": []
    },
    {
      "cell_type": "code",
      "source": [
        "learn.fit(10,0.1)"
      ],
      "metadata": {
        "colab": {
          "base_uri": "https://localhost:8080/",
          "height": 363
        },
        "id": "-6Q9IyB_YynT",
        "outputId": "b19367d3-6ff6-491c-e790-23300e154f83"
      },
      "id": "-6Q9IyB_YynT",
      "execution_count": null,
      "outputs": [
        {
          "output_type": "display_data",
          "data": {
            "text/plain": [
              "<IPython.core.display.HTML object>"
            ],
            "text/html": [
              "\n",
              "<style>\n",
              "    /* Turns off some styling */\n",
              "    progress {\n",
              "        /* gets rid of default border in Firefox and Opera. */\n",
              "        border: none;\n",
              "        /* Needs to be in here for Safari polyfill so background images work as expected. */\n",
              "        background-size: auto;\n",
              "    }\n",
              "    progress:not([value]), progress:not([value])::-webkit-progress-bar {\n",
              "        background: repeating-linear-gradient(45deg, #7e7e7e, #7e7e7e 10px, #5c5c5c 10px, #5c5c5c 20px);\n",
              "    }\n",
              "    .progress-bar-interrupted, .progress-bar-interrupted::-webkit-progress-bar {\n",
              "        background: #F44336;\n",
              "    }\n",
              "</style>\n"
            ]
          },
          "metadata": {}
        },
        {
          "output_type": "display_data",
          "data": {
            "text/plain": [
              "<IPython.core.display.HTML object>"
            ],
            "text/html": [
              "<table border=\"1\" class=\"dataframe\">\n",
              "  <thead>\n",
              "    <tr style=\"text-align: left;\">\n",
              "      <th>epoch</th>\n",
              "      <th>train_loss</th>\n",
              "      <th>valid_loss</th>\n",
              "      <th>batch_accuracy</th>\n",
              "      <th>time</th>\n",
              "    </tr>\n",
              "  </thead>\n",
              "  <tbody>\n",
              "    <tr>\n",
              "      <td>0</td>\n",
              "      <td>0.019993</td>\n",
              "      <td>0.111963</td>\n",
              "      <td>0.098000</td>\n",
              "      <td>00:01</td>\n",
              "    </tr>\n",
              "    <tr>\n",
              "      <td>1</td>\n",
              "      <td>0.015152</td>\n",
              "      <td>0.103872</td>\n",
              "      <td>0.098000</td>\n",
              "      <td>00:01</td>\n",
              "    </tr>\n",
              "    <tr>\n",
              "      <td>2</td>\n",
              "      <td>0.012375</td>\n",
              "      <td>0.083043</td>\n",
              "      <td>0.117770</td>\n",
              "      <td>00:01</td>\n",
              "    </tr>\n",
              "    <tr>\n",
              "      <td>3</td>\n",
              "      <td>0.009623</td>\n",
              "      <td>0.064543</td>\n",
              "      <td>0.153670</td>\n",
              "      <td>00:00</td>\n",
              "    </tr>\n",
              "    <tr>\n",
              "      <td>4</td>\n",
              "      <td>0.008464</td>\n",
              "      <td>0.052453</td>\n",
              "      <td>0.170460</td>\n",
              "      <td>00:01</td>\n",
              "    </tr>\n",
              "    <tr>\n",
              "      <td>5</td>\n",
              "      <td>0.007946</td>\n",
              "      <td>0.044486</td>\n",
              "      <td>0.179460</td>\n",
              "      <td>00:01</td>\n",
              "    </tr>\n",
              "    <tr>\n",
              "      <td>6</td>\n",
              "      <td>0.007655</td>\n",
              "      <td>0.038909</td>\n",
              "      <td>0.184450</td>\n",
              "      <td>00:01</td>\n",
              "    </tr>\n",
              "    <tr>\n",
              "      <td>7</td>\n",
              "      <td>0.007462</td>\n",
              "      <td>0.034808</td>\n",
              "      <td>0.188780</td>\n",
              "      <td>00:01</td>\n",
              "    </tr>\n",
              "    <tr>\n",
              "      <td>8</td>\n",
              "      <td>0.007317</td>\n",
              "      <td>0.031683</td>\n",
              "      <td>0.191800</td>\n",
              "      <td>00:00</td>\n",
              "    </tr>\n",
              "    <tr>\n",
              "      <td>9</td>\n",
              "      <td>0.007199</td>\n",
              "      <td>0.029227</td>\n",
              "      <td>0.193100</td>\n",
              "      <td>00:00</td>\n",
              "    </tr>\n",
              "  </tbody>\n",
              "</table>"
            ]
          },
          "metadata": {}
        }
      ]
    },
    {
      "cell_type": "code",
      "source": [
        "SGD"
      ],
      "metadata": {
        "colab": {
          "base_uri": "https://localhost:8080/"
        },
        "id": "uPFLq9bAYbtu",
        "outputId": "36ccd90e-9009-4fa1-d7ae-67aeea8fb143"
      },
      "id": "uPFLq9bAYbtu",
      "execution_count": null,
      "outputs": [
        {
          "output_type": "execute_result",
          "data": {
            "text/plain": [
              "<function fastai.optimizer.SGD(params: 'Tensor | Iterable', lr: 'float | slice', mom: 'float' = 0.0, wd: 'Real' = 0.0, decouple_wd: 'bool' = True) -> 'Optimizer'>"
            ]
          },
          "metadata": {},
          "execution_count": 77
        }
      ]
    },
    {
      "cell_type": "markdown",
      "source": [
        "New loss function for multi-class classification\n",
        "\n",
        "- change sigmoid to softmax\n",
        "\n",
        "\n",
        "Use softmax function + negative log likelihood (crossEntropyLoss), replace Sigmoid (BinaryCrossEntropy)\n"
      ],
      "metadata": {
        "id": "VnNAr4wEmSc3"
      },
      "id": "VnNAr4wEmSc3"
    },
    {
      "cell_type": "markdown",
      "source": [
        "activations\n",
        "\n",
        "Lets create a neural network that predicts 3's and 7's and returns two activations , one for each class.\n",
        "\n",
        "Assuming we have 6 images and 2 possible categories one for the the 3's which are represented by the 1st column and another for the 7's which are represented by the 2nd column.For this example, we use random numbers with a standard deviation of 2 meaning we multiply randn by 2."
      ],
      "metadata": {
        "id": "_stPip6At7ON"
      },
      "id": "_stPip6At7ON"
    },
    {
      "cell_type": "code",
      "source": [
        "#hide\n",
        "torch.random.manual_seed(42);"
      ],
      "metadata": {
        "id": "dcOcoRhtt5_d"
      },
      "id": "dcOcoRhtt5_d",
      "execution_count": null,
      "outputs": []
    },
    {
      "cell_type": "code",
      "source": [
        "acts = torch.randn((6,2))*2\n",
        "acts"
      ],
      "metadata": {
        "colab": {
          "base_uri": "https://localhost:8080/"
        },
        "id": "TQV5OHvnvPOF",
        "outputId": "617205b8-e201-426d-bcc9-9e48c1d0a18f"
      },
      "id": "TQV5OHvnvPOF",
      "execution_count": null,
      "outputs": [
        {
          "output_type": "execute_result",
          "data": {
            "text/plain": [
              "tensor([[ 0.6734,  0.2576],\n",
              "        [ 0.4689,  0.4607],\n",
              "        [-2.2457, -0.3727],\n",
              "        [ 4.4164, -1.2760],\n",
              "        [ 0.9233,  0.5347],\n",
              "        [ 1.0698,  1.6187]])"
            ]
          },
          "metadata": {},
          "execution_count": 14
        }
      ]
    },
    {
      "cell_type": "markdown",
      "source": [
        "  So we see that we have 6 mnist digits and they have 6 activations in the first column for the how much our model thinks a number is a three and vice versa,"
      ],
      "metadata": {
        "id": "FEJBkmfozMcP"
      },
      "id": "FEJBkmfozMcP"
    },
    {
      "cell_type": "code",
      "source": [
        "acts.sigmoid()"
      ],
      "metadata": {
        "colab": {
          "base_uri": "https://localhost:8080/"
        },
        "id": "Vt6DfNelv95x",
        "outputId": "7b338e2c-0dbf-4b65-e922-02110c38cdce"
      },
      "id": "Vt6DfNelv95x",
      "execution_count": null,
      "outputs": [
        {
          "output_type": "execute_result",
          "data": {
            "text/plain": [
              "tensor([[0.6623, 0.5641],\n",
              "        [0.6151, 0.6132],\n",
              "        [0.0957, 0.4079],\n",
              "        [0.9881, 0.2182],\n",
              "        [0.7157, 0.6306],\n",
              "        [0.7446, 0.8346]])"
            ]
          },
          "metadata": {},
          "execution_count": 15
        }
      ]
    },
    {
      "cell_type": "markdown",
      "source": [
        "If we take the sigmoid of this, we get rows that dont add up to 1 but we want the probabilty of a number being a 3 and 7 to add up to 1."
      ],
      "metadata": {
        "id": "Xxg1qgGavtB-"
      },
      "id": "Xxg1qgGavtB-"
    },
    {
      "cell_type": "markdown",
      "source": [
        "In <<chapter_mnist_basics>>, our neural net created a single activation per image, which we passed through the sigmoid function. That single activation represented the model's confidence that the input was a 3. Binary problems are a special case of classification problems, because the target can be treated as a single boolean value, as we did in mnist_loss. But binary problems can also be thought of in the context of the more general group of classifiers with any number of categories: in this case, we happen to have two categories. As we saw in the bear classifier, our neural net will return one activation per category.\n",
        "\n",
        "So in the binary case, what do those activations really indicate? A single pair of activations simply indicates the relative confidence of the input being a 3 versus being a 7. The overall values, whether they are both high, or both low, don't matter—all that matters is which is higher, and by how much.\n",
        "\n",
        "We would expect that since this is just another way of representing the same problem, that we would be able to use sigmoid directly on the two-activation version of our neural net. And indeed we can! We can just take the difference between the neural net activations, because that reflects how much more sure we are of the input being a 3 than a 7, and then take the sigmoid of that:"
      ],
      "metadata": {
        "id": "gLQOYxvYwhvv"
      },
      "id": "gLQOYxvYwhvv"
    },
    {
      "cell_type": "code",
      "source": [
        "(acts[:,0]-acts[:,1]).sigmoid()"
      ],
      "metadata": {
        "colab": {
          "base_uri": "https://localhost:8080/"
        },
        "id": "MXbl2D2YwfzK",
        "outputId": "a761d3ee-631e-42f5-93da-f619cbc06a37"
      },
      "id": "MXbl2D2YwfzK",
      "execution_count": null,
      "outputs": [
        {
          "output_type": "execute_result",
          "data": {
            "text/plain": [
              "tensor([0.6025, 0.5021, 0.1332, 0.9966, 0.5959, 0.3661])"
            ]
          },
          "metadata": {},
          "execution_count": 16
        }
      ]
    },
    {
      "cell_type": "markdown",
      "source": [
        "What we do is take the difference between the probability of a number being a 3 and that of it being a 7 and call it the probability that a number is a 3 and take the sigmoid of that, which gives us a single number betweeb 0 and 1."
      ],
      "metadata": {
        "id": "ylqjs8AX0FWB"
      },
      "id": "ylqjs8AX0FWB"
    },
    {
      "cell_type": "code",
      "source": [
        "diff = (acts[:,0]-acts[:,1])\n",
        "diff"
      ],
      "metadata": {
        "colab": {
          "base_uri": "https://localhost:8080/"
        },
        "id": "rn_8uqSnyWV0",
        "outputId": "8fafed9d-7aa4-4fd0-e000-b44390b27220"
      },
      "id": "rn_8uqSnyWV0",
      "execution_count": null,
      "outputs": [
        {
          "output_type": "execute_result",
          "data": {
            "text/plain": [
              "tensor([ 0.4158,  0.0083, -1.8731,  5.6924,  0.3886, -0.5489])"
            ]
          },
          "metadata": {},
          "execution_count": 20
        }
      ]
    },
    {
      "cell_type": "code",
      "source": [
        "diff.sigmoid()"
      ],
      "metadata": {
        "colab": {
          "base_uri": "https://localhost:8080/"
        },
        "id": "MAa3S9v7ybix",
        "outputId": "cbcd4041-9727-4ef7-82de-f90fb4f9b985"
      },
      "id": "MAa3S9v7ybix",
      "execution_count": null,
      "outputs": [
        {
          "output_type": "execute_result",
          "data": {
            "text/plain": [
              "tensor([0.6025, 0.5021, 0.1332, 0.9966, 0.5959, 0.3661])"
            ]
          },
          "metadata": {},
          "execution_count": 21
        }
      ]
    },
    {
      "cell_type": "markdown",
      "source": [
        "But remember we want two columns one representing the probabilty of a number being a 3 and the other being the probability of a number being a 7.\n",
        "\n",
        "We can do that by making index 0 the sigmoid and index 1 the difference of that from 1 and the best thing is all these add up to 1."
      ],
      "metadata": {
        "id": "6Q9YI6m31DWU"
      },
      "id": "6Q9YI6m31DWU"
    },
    {
      "cell_type": "code",
      "source": [
        "torch.stack([diff.sigmoid(),1-diff.sigmoid()], dim=1)"
      ],
      "metadata": {
        "colab": {
          "base_uri": "https://localhost:8080/"
        },
        "id": "_8xivNVSytYU",
        "outputId": "cb30bbbf-aaf6-43e4-f82b-4e90100654f3"
      },
      "id": "_8xivNVSytYU",
      "execution_count": null,
      "outputs": [
        {
          "output_type": "execute_result",
          "data": {
            "text/plain": [
              "tensor([[0.6025, 0.3975],\n",
              "        [0.5021, 0.4979],\n",
              "        [0.1332, 0.8668],\n",
              "        [0.9966, 0.0034],\n",
              "        [0.5959, 0.4041],\n",
              "        [0.3661, 0.6339]])"
            ]
          },
          "metadata": {},
          "execution_count": 22
        }
      ]
    },
    {
      "cell_type": "markdown",
      "source": [
        "With this we go from having 2 columns with activations to 2 columns with probabilities for being a 3 and a 7 respectively that add up to 1.\n",
        "\n",
        "The next question would be how do we extend this to more than 2 digits.We can do this by using the softmax function"
      ],
      "metadata": {
        "id": "Ip99bcet34rQ"
      },
      "id": "Ip99bcet34rQ"
    },
    {
      "cell_type": "markdown",
      "source": [
        "Softmax"
      ],
      "metadata": {
        "id": "fTj1t8Li4iUR"
      },
      "id": "fTj1t8Li4iUR"
    },
    {
      "cell_type": "code",
      "source": [
        "def softmax(x):\n",
        "  return exp(x)/exp(x).sum(dim=1, keepdim=True)"
      ],
      "metadata": {
        "id": "KHxwj8oEmZ_G"
      },
      "id": "KHxwj8oEmZ_G",
      "execution_count": null,
      "outputs": []
    },
    {
      "cell_type": "code",
      "source": [
        "sm_acts = torch.softmax(acts, dim=1)\n",
        "sm_acts\n"
      ],
      "metadata": {
        "colab": {
          "base_uri": "https://localhost:8080/"
        },
        "id": "YBGaTd77wpIN",
        "outputId": "34859f3f-2695-4625-d1c2-9f9299b3a6df"
      },
      "id": "YBGaTd77wpIN",
      "execution_count": null,
      "outputs": [
        {
          "output_type": "execute_result",
          "data": {
            "text/plain": [
              "tensor([[0.6025, 0.3975],\n",
              "        [0.5021, 0.4979],\n",
              "        [0.1332, 0.8668],\n",
              "        [0.9966, 0.0034],\n",
              "        [0.5959, 0.4041],\n",
              "        [0.3661, 0.6339]])"
            ]
          },
          "metadata": {},
          "execution_count": 17
        }
      ]
    },
    {
      "cell_type": "markdown",
      "source": [
        "softmax gives you identical results for the binary case as sigmoid probabilities we just calculated but in the multi category case we end up with something where we have 10 activations for all the digits say if we were using the 10 digits in the full mnist dataset which results in probabilites for all the digits which all individually sum up one.\n",
        "\n",
        "To do that in practice, you can just call **torch.softmax**.\n",
        "\n",
        "\"build using sigmoid function, then build using softmax and compare results with the expectation being that softmax results in better and faster training + better performing and robust model because it is able to learn better\"\n",
        "\n",
        "pytorch extends softmax with torch.softmax"
      ],
      "metadata": {
        "id": "A5KyK0FunOYF"
      },
      "id": "A5KyK0FunOYF"
    },
    {
      "cell_type": "markdown",
      "source": [
        "\n",
        "```\n",
        "def mnist_loss(predictions,targets):\n",
        "    predictions = predictions.sigmoid()\n",
        "    return torch.where(targets == 1, 1 - predictions, predictions).mean()\n",
        "```\n",
        "\n",
        "\n",
        "\n"
      ],
      "metadata": {
        "id": "2rFWqhxb7n7z"
      },
      "id": "2rFWqhxb7n7z"
    },
    {
      "cell_type": "markdown",
      "source": [
        "In our originial mnist_basics, we used mnist_loss as our loss function where we took the sigmoid and got the difference of the input from 1 and the original input and took the mean as our loss.\n",
        "\n",
        "For multi class digit classification, we can do exaclty the same while updating the function to handle multiple inputs, meaning we would have to substitute our torch.where as this only works on binary inputs.\n",
        "\n",
        "For example in our 2 digit classifier the targets were either 0 or 1 but in the full dataset with 10 digits, targets could be anywhere from 0 to 10.\n",
        "\n",
        "We replace torch.where() with indexing. Lets do this with an example for our binary classification problem of 2 digits.\n",
        "\n",
        "First lets define some targets for our 6 images.\n"
      ],
      "metadata": {
        "id": "0Y8YjQtq6vjK"
      },
      "id": "0Y8YjQtq6vjK"
    },
    {
      "cell_type": "code",
      "source": [
        "targ = tensor([0,1,0,1,1,0])"
      ],
      "metadata": {
        "id": "PnqkumxwxCnk"
      },
      "id": "PnqkumxwxCnk",
      "execution_count": null,
      "outputs": []
    },
    {
      "cell_type": "code",
      "source": [
        "#our previosuly defined activations\n",
        "sm_acts"
      ],
      "metadata": {
        "colab": {
          "base_uri": "https://localhost:8080/"
        },
        "id": "N8Z97KAC9OmJ",
        "outputId": "0a5010be-7901-4498-c1f1-274a8796aeaa"
      },
      "id": "N8Z97KAC9OmJ",
      "execution_count": null,
      "outputs": [
        {
          "output_type": "execute_result",
          "data": {
            "text/plain": [
              "tensor([[0.6025, 0.3975],\n",
              "        [0.5021, 0.4979],\n",
              "        [0.1332, 0.8668],\n",
              "        [0.9966, 0.0034],\n",
              "        [0.5959, 0.4041],\n",
              "        [0.3661, 0.6339]])"
            ]
          },
          "metadata": {},
          "execution_count": 24
        }
      ]
    },
    {
      "cell_type": "code",
      "source": [
        "idx = range(6)\n",
        "sm_acts[idx, targ]"
      ],
      "metadata": {
        "colab": {
          "base_uri": "https://localhost:8080/"
        },
        "id": "J2W-RTd9xG5x",
        "outputId": "df746010-844d-418b-fcf8-a57ca865bf39"
      },
      "id": "J2W-RTd9xG5x",
      "execution_count": null,
      "outputs": [
        {
          "output_type": "execute_result",
          "data": {
            "text/plain": [
              "tensor([0.6025, 0.4979, 0.1332, 0.0034, 0.4041, 0.3661])"
            ]
          },
          "metadata": {},
          "execution_count": 19
        }
      ]
    },
    {
      "cell_type": "markdown",
      "source": [
        "idx grabs all the numbers from 0 to 5.\n",
        "\n",
        "So we see that here for the row where we our target was 0 (a digit 3), our index returned the probability of the number being a 3 from our sm_scts and vice versa.\n",
        "\n",
        "The 1st argument says which rows should you return and the 2nd argument specifies for each of those rows, which column should you return.\n",
        "Turns out this is identical to torch.where for our binary classification problem."
      ],
      "metadata": {
        "id": "Nequrqo69kUv"
      },
      "id": "Nequrqo69kUv"
    },
    {
      "cell_type": "code",
      "source": [
        "#hide_input\n",
        "from IPython.display import HTML\n",
        "df = pd.DataFrame(sm_acts, columns=[\"3\",\"7\"])\n",
        "df['targ'] = targ\n",
        "df['idx'] = idx\n",
        "df['loss'] = sm_acts[range(6), targ]\n",
        "t = df.style.hide_index()\n",
        "#To have html code compatible with our script\n",
        "html = t._repr_html_().split('</style')[1]\n",
        "html = re.sub(r'<table id=\"([^\"]+)\"\\s*>', r'<table>', html)\n",
        "display(HTML(html))"
      ],
      "metadata": {
        "colab": {
          "base_uri": "https://localhost:8080/",
          "height": 217
        },
        "id": "0V2aBnfy_gBG",
        "outputId": "09860f01-ed8c-4080-9945-cb0ce50b7b41"
      },
      "id": "0V2aBnfy_gBG",
      "execution_count": null,
      "outputs": [
        {
          "output_type": "stream",
          "name": "stderr",
          "text": [
            "<ipython-input-26-1fb15e3eb3ce>:7: FutureWarning: this method is deprecated in favour of `Styler.hide(axis=\"index\")`\n",
            "  t = df.style.hide_index()\n"
          ]
        },
        {
          "output_type": "display_data",
          "data": {
            "text/plain": [
              "<IPython.core.display.HTML object>"
            ],
            "text/html": [
              ">\n",
              "<table>\n",
              "  <thead>\n",
              "    <tr>\n",
              "      <th id=\"T_aaf7d_level0_col0\" class=\"col_heading level0 col0\" >3</th>\n",
              "      <th id=\"T_aaf7d_level0_col1\" class=\"col_heading level0 col1\" >7</th>\n",
              "      <th id=\"T_aaf7d_level0_col2\" class=\"col_heading level0 col2\" >targ</th>\n",
              "      <th id=\"T_aaf7d_level0_col3\" class=\"col_heading level0 col3\" >idx</th>\n",
              "      <th id=\"T_aaf7d_level0_col4\" class=\"col_heading level0 col4\" >loss</th>\n",
              "    </tr>\n",
              "  </thead>\n",
              "  <tbody>\n",
              "    <tr>\n",
              "      <td id=\"T_aaf7d_row0_col0\" class=\"data row0 col0\" >0.602469</td>\n",
              "      <td id=\"T_aaf7d_row0_col1\" class=\"data row0 col1\" >0.397531</td>\n",
              "      <td id=\"T_aaf7d_row0_col2\" class=\"data row0 col2\" >0</td>\n",
              "      <td id=\"T_aaf7d_row0_col3\" class=\"data row0 col3\" >0</td>\n",
              "      <td id=\"T_aaf7d_row0_col4\" class=\"data row0 col4\" >0.602469</td>\n",
              "    </tr>\n",
              "    <tr>\n",
              "      <td id=\"T_aaf7d_row1_col0\" class=\"data row1 col0\" >0.502065</td>\n",
              "      <td id=\"T_aaf7d_row1_col1\" class=\"data row1 col1\" >0.497935</td>\n",
              "      <td id=\"T_aaf7d_row1_col2\" class=\"data row1 col2\" >1</td>\n",
              "      <td id=\"T_aaf7d_row1_col3\" class=\"data row1 col3\" >1</td>\n",
              "      <td id=\"T_aaf7d_row1_col4\" class=\"data row1 col4\" >0.497935</td>\n",
              "    </tr>\n",
              "    <tr>\n",
              "      <td id=\"T_aaf7d_row2_col0\" class=\"data row2 col0\" >0.133188</td>\n",
              "      <td id=\"T_aaf7d_row2_col1\" class=\"data row2 col1\" >0.866811</td>\n",
              "      <td id=\"T_aaf7d_row2_col2\" class=\"data row2 col2\" >0</td>\n",
              "      <td id=\"T_aaf7d_row2_col3\" class=\"data row2 col3\" >2</td>\n",
              "      <td id=\"T_aaf7d_row2_col4\" class=\"data row2 col4\" >0.133188</td>\n",
              "    </tr>\n",
              "    <tr>\n",
              "      <td id=\"T_aaf7d_row3_col0\" class=\"data row3 col0\" >0.996640</td>\n",
              "      <td id=\"T_aaf7d_row3_col1\" class=\"data row3 col1\" >0.003360</td>\n",
              "      <td id=\"T_aaf7d_row3_col2\" class=\"data row3 col2\" >1</td>\n",
              "      <td id=\"T_aaf7d_row3_col3\" class=\"data row3 col3\" >3</td>\n",
              "      <td id=\"T_aaf7d_row3_col4\" class=\"data row3 col4\" >0.003360</td>\n",
              "    </tr>\n",
              "    <tr>\n",
              "      <td id=\"T_aaf7d_row4_col0\" class=\"data row4 col0\" >0.595949</td>\n",
              "      <td id=\"T_aaf7d_row4_col1\" class=\"data row4 col1\" >0.404051</td>\n",
              "      <td id=\"T_aaf7d_row4_col2\" class=\"data row4 col2\" >1</td>\n",
              "      <td id=\"T_aaf7d_row4_col3\" class=\"data row4 col3\" >4</td>\n",
              "      <td id=\"T_aaf7d_row4_col4\" class=\"data row4 col4\" >0.404051</td>\n",
              "    </tr>\n",
              "    <tr>\n",
              "      <td id=\"T_aaf7d_row5_col0\" class=\"data row5 col0\" >0.366118</td>\n",
              "      <td id=\"T_aaf7d_row5_col1\" class=\"data row5 col1\" >0.633882</td>\n",
              "      <td id=\"T_aaf7d_row5_col2\" class=\"data row5 col2\" >0</td>\n",
              "      <td id=\"T_aaf7d_row5_col3\" class=\"data row5 col3\" >5</td>\n",
              "      <td id=\"T_aaf7d_row5_col4\" class=\"data row5 col4\" >0.366118</td>\n",
              "    </tr>\n",
              "  </tbody>\n",
              "</table>\n"
            ]
          },
          "metadata": {}
        }
      ]
    },
    {
      "cell_type": "code",
      "source": [
        "full_acts = torch.randn((3,10))*2\n",
        "full_acts"
      ],
      "metadata": {
        "colab": {
          "base_uri": "https://localhost:8080/"
        },
        "id": "-0ZR4VKJAkQQ",
        "outputId": "38459acd-13cc-497a-9d43-d65ede660b65"
      },
      "id": "-0ZR4VKJAkQQ",
      "execution_count": null,
      "outputs": [
        {
          "output_type": "execute_result",
          "data": {
            "text/plain": [
              "tensor([[ 1.2815e+00,  1.1665e+00,  2.1339e+00, -9.0031e-01, -1.3575e+00,  1.1486e+00,  3.7550e-01, -7.1525e-01,  5.2982e-01,  2.5463e+00],\n",
              "        [-2.6217e-03, -6.0721e-01, -1.9729e+00,  2.4660e-01, -2.8728e+00, -2.2597e+00, -2.7207e-01,  3.2708e+00,  1.3095e+00,  1.1520e+00],\n",
              "        [-7.2182e-01, -1.2118e-01, -3.6116e+00,  1.8509e+00, -7.5069e-01,  2.0662e+00, -1.3733e+00,  1.2736e+00,  4.3511e-01, -9.3310e-02]])"
            ]
          },
          "metadata": {},
          "execution_count": 34
        }
      ]
    },
    {
      "cell_type": "code",
      "source": [
        "full_sm_acts = torch.softmax(full_acts, dim=1)\n",
        "full_sm_acts\n"
      ],
      "metadata": {
        "colab": {
          "base_uri": "https://localhost:8080/"
        },
        "id": "l4k3ZA3VAyYK",
        "outputId": "d8010886-2876-4f59-e4a9-53019fc18b13"
      },
      "id": "l4k3ZA3VAyYK",
      "execution_count": null,
      "outputs": [
        {
          "output_type": "execute_result",
          "data": {
            "text/plain": [
              "tensor([[0.1015, 0.0905, 0.2381, 0.0115, 0.0073, 0.0889, 0.0410, 0.0138, 0.0479, 0.3596],\n",
              "        [0.0269, 0.0147, 0.0037, 0.0345, 0.0015, 0.0028, 0.0205, 0.7101, 0.0999, 0.0853],\n",
              "        [0.0217, 0.0395, 0.0012, 0.2840, 0.0211, 0.3522, 0.0113, 0.1594, 0.0689, 0.0406]])"
            ]
          },
          "metadata": {},
          "execution_count": 35
        }
      ]
    },
    {
      "cell_type": "code",
      "source": [
        "full_targ = tensor([0,1,4])"
      ],
      "metadata": {
        "id": "-tymS2kGBC5T"
      },
      "id": "-tymS2kGBC5T",
      "execution_count": null,
      "outputs": []
    },
    {
      "cell_type": "code",
      "source": [
        "full_idx = range(3)\n",
        "full_sm_acts[full_idx, full_targ]"
      ],
      "metadata": {
        "colab": {
          "base_uri": "https://localhost:8080/"
        },
        "id": "xqNLoMOMA-zH",
        "outputId": "e71629f3-3d5a-4b41-8c54-21841fa1f25e"
      },
      "id": "xqNLoMOMA-zH",
      "execution_count": null,
      "outputs": [
        {
          "output_type": "execute_result",
          "data": {
            "text/plain": [
              "tensor([0.1015, 0.0147, 0.0211])"
            ]
          },
          "metadata": {},
          "execution_count": 39
        }
      ]
    },
    {
      "cell_type": "code",
      "source": [
        "#hide_input\n",
        "from IPython.display import HTML\n",
        "df = pd.DataFrame(full_sm_acts, columns=[\"0\",\"1\",\"2\",\"3\",\"4\",\"5\",\"6\",\"7\",\"8\",\"9\"])\n",
        "df['full_targ'] = full_targ\n",
        "df['full_idx'] = full_idx\n",
        "df['full_loss'] = full_sm_acts[range(3), full_targ]\n",
        "t = df.style.hide_index()\n",
        "#To have html code compatible with our script\n",
        "html = t._repr_html_().split('</style')[1]\n",
        "html = re.sub(r'<table id=\"([^\"]+)\"\\s*>', r'<table>', html)\n",
        "display(HTML(html))"
      ],
      "metadata": {
        "colab": {
          "base_uri": "https://localhost:8080/",
          "height": 154
        },
        "id": "7Y0q2j1AB9nN",
        "outputId": "4c1b7a84-069b-422c-db15-fd7e61ae4012"
      },
      "id": "7Y0q2j1AB9nN",
      "execution_count": null,
      "outputs": [
        {
          "output_type": "stream",
          "name": "stderr",
          "text": [
            "<ipython-input-41-92a8e2ec2099>:7: FutureWarning: this method is deprecated in favour of `Styler.hide(axis=\"index\")`\n",
            "  t = df.style.hide_index()\n"
          ]
        },
        {
          "output_type": "display_data",
          "data": {
            "text/plain": [
              "<IPython.core.display.HTML object>"
            ],
            "text/html": [
              ">\n",
              "<table>\n",
              "  <thead>\n",
              "    <tr>\n",
              "      <th id=\"T_4ee27_level0_col0\" class=\"col_heading level0 col0\" >0</th>\n",
              "      <th id=\"T_4ee27_level0_col1\" class=\"col_heading level0 col1\" >1</th>\n",
              "      <th id=\"T_4ee27_level0_col2\" class=\"col_heading level0 col2\" >2</th>\n",
              "      <th id=\"T_4ee27_level0_col3\" class=\"col_heading level0 col3\" >3</th>\n",
              "      <th id=\"T_4ee27_level0_col4\" class=\"col_heading level0 col4\" >4</th>\n",
              "      <th id=\"T_4ee27_level0_col5\" class=\"col_heading level0 col5\" >5</th>\n",
              "      <th id=\"T_4ee27_level0_col6\" class=\"col_heading level0 col6\" >6</th>\n",
              "      <th id=\"T_4ee27_level0_col7\" class=\"col_heading level0 col7\" >7</th>\n",
              "      <th id=\"T_4ee27_level0_col8\" class=\"col_heading level0 col8\" >8</th>\n",
              "      <th id=\"T_4ee27_level0_col9\" class=\"col_heading level0 col9\" >9</th>\n",
              "      <th id=\"T_4ee27_level0_col10\" class=\"col_heading level0 col10\" >full_targ</th>\n",
              "      <th id=\"T_4ee27_level0_col11\" class=\"col_heading level0 col11\" >full_idx</th>\n",
              "      <th id=\"T_4ee27_level0_col12\" class=\"col_heading level0 col12\" >full_loss</th>\n",
              "    </tr>\n",
              "  </thead>\n",
              "  <tbody>\n",
              "    <tr>\n",
              "      <td id=\"T_4ee27_row0_col0\" class=\"data row0 col0\" >0.101520</td>\n",
              "      <td id=\"T_4ee27_row0_col1\" class=\"data row0 col1\" >0.090490</td>\n",
              "      <td id=\"T_4ee27_row0_col2\" class=\"data row0 col2\" >0.238078</td>\n",
              "      <td id=\"T_4ee27_row0_col3\" class=\"data row0 col3\" >0.011455</td>\n",
              "      <td id=\"T_4ee27_row0_col4\" class=\"data row0 col4\" >0.007252</td>\n",
              "      <td id=\"T_4ee27_row0_col5\" class=\"data row0 col5\" >0.088888</td>\n",
              "      <td id=\"T_4ee27_row0_col6\" class=\"data row0 col6\" >0.041028</td>\n",
              "      <td id=\"T_4ee27_row0_col7\" class=\"data row0 col7\" >0.013784</td>\n",
              "      <td id=\"T_4ee27_row0_col8\" class=\"data row0 col8\" >0.047874</td>\n",
              "      <td id=\"T_4ee27_row0_col9\" class=\"data row0 col9\" >0.359632</td>\n",
              "      <td id=\"T_4ee27_row0_col10\" class=\"data row0 col10\" >0</td>\n",
              "      <td id=\"T_4ee27_row0_col11\" class=\"data row0 col11\" >0</td>\n",
              "      <td id=\"T_4ee27_row0_col12\" class=\"data row0 col12\" >0.101520</td>\n",
              "    </tr>\n",
              "    <tr>\n",
              "      <td id=\"T_4ee27_row1_col0\" class=\"data row1 col0\" >0.026894</td>\n",
              "      <td id=\"T_4ee27_row1_col1\" class=\"data row1 col1\" >0.014692</td>\n",
              "      <td id=\"T_4ee27_row1_col2\" class=\"data row1 col2\" >0.003750</td>\n",
              "      <td id=\"T_4ee27_row1_col3\" class=\"data row1 col3\" >0.034506</td>\n",
              "      <td id=\"T_4ee27_row1_col4\" class=\"data row1 col4\" >0.001525</td>\n",
              "      <td id=\"T_4ee27_row1_col5\" class=\"data row1 col5\" >0.002815</td>\n",
              "      <td id=\"T_4ee27_row1_col6\" class=\"data row1 col6\" >0.020542</td>\n",
              "      <td id=\"T_4ee27_row1_col7\" class=\"data row1 col7\" >0.710061</td>\n",
              "      <td id=\"T_4ee27_row1_col8\" class=\"data row1 col8\" >0.099884</td>\n",
              "      <td id=\"T_4ee27_row1_col9\" class=\"data row1 col9\" >0.085331</td>\n",
              "      <td id=\"T_4ee27_row1_col10\" class=\"data row1 col10\" >1</td>\n",
              "      <td id=\"T_4ee27_row1_col11\" class=\"data row1 col11\" >1</td>\n",
              "      <td id=\"T_4ee27_row1_col12\" class=\"data row1 col12\" >0.014692</td>\n",
              "    </tr>\n",
              "    <tr>\n",
              "      <td id=\"T_4ee27_row2_col0\" class=\"data row2 col0\" >0.021677</td>\n",
              "      <td id=\"T_4ee27_row2_col1\" class=\"data row2 col1\" >0.039524</td>\n",
              "      <td id=\"T_4ee27_row2_col2\" class=\"data row2 col2\" >0.001205</td>\n",
              "      <td id=\"T_4ee27_row2_col3\" class=\"data row2 col3\" >0.283992</td>\n",
              "      <td id=\"T_4ee27_row2_col4\" class=\"data row2 col4\" >0.021060</td>\n",
              "      <td id=\"T_4ee27_row2_col5\" class=\"data row2 col5\" >0.352219</td>\n",
              "      <td id=\"T_4ee27_row2_col6\" class=\"data row2 col6\" >0.011300</td>\n",
              "      <td id=\"T_4ee27_row2_col7\" class=\"data row2 col7\" >0.159446</td>\n",
              "      <td id=\"T_4ee27_row2_col8\" class=\"data row2 col8\" >0.068936</td>\n",
              "      <td id=\"T_4ee27_row2_col9\" class=\"data row2 col9\" >0.040641</td>\n",
              "      <td id=\"T_4ee27_row2_col10\" class=\"data row2 col10\" >4</td>\n",
              "      <td id=\"T_4ee27_row2_col11\" class=\"data row2 col11\" >2</td>\n",
              "      <td id=\"T_4ee27_row2_col12\" class=\"data row2 col12\" >0.021060</td>\n",
              "    </tr>\n",
              "  </tbody>\n",
              "</table>\n"
            ]
          },
          "metadata": {}
        }
      ]
    },
    {
      "cell_type": "code",
      "source": [
        "-full_sm_acts[full_idx, full_targ]"
      ],
      "metadata": {
        "colab": {
          "base_uri": "https://localhost:8080/"
        },
        "id": "iXx0F0JSGVM7",
        "outputId": "6549da63-5b02-46fb-d39e-fb2813a80c9c"
      },
      "id": "iXx0F0JSGVM7",
      "execution_count": null,
      "outputs": [
        {
          "output_type": "execute_result",
          "data": {
            "text/plain": [
              "tensor([-0.1015, -0.0147, -0.0211])"
            ]
          },
          "metadata": {},
          "execution_count": 42
        }
      ]
    },
    {
      "cell_type": "markdown",
      "source": [
        "We negate this. why ?\n",
        "\n",
        "https://youtu.be/p50s63nPq9I?si=Xq0WwpLkseIZ24mY&t=6670"
      ],
      "metadata": {
        "id": "deCzAgfhL3bE"
      },
      "id": "deCzAgfhL3bE"
    },
    {
      "cell_type": "code",
      "source": [
        "\n",
        "F.nll_loss(full_sm_acts, full_targ, reduction='none')"
      ],
      "metadata": {
        "colab": {
          "base_uri": "https://localhost:8080/"
        },
        "id": "zmi3xiueGZcz",
        "outputId": "32f24f48-bea7-4a2e-8a4f-2366df41c75b"
      },
      "id": "zmi3xiueGZcz",
      "execution_count": null,
      "outputs": [
        {
          "output_type": "execute_result",
          "data": {
            "text/plain": [
              "tensor([-0.1015, -0.0147, -0.0211])"
            ]
          },
          "metadata": {},
          "execution_count": 43
        }
      ]
    },
    {
      "cell_type": "markdown",
      "source": [
        "To make this better, we taje the log."
      ],
      "metadata": {
        "id": "NToy7VegGvXX"
      },
      "id": "NToy7VegGvXX"
    },
    {
      "cell_type": "markdown",
      "source": [
        "If we take mean of the log of the results of our probabilities ( -full_sm_acts[full_idx, full_targ] ) we get the negative loss likelihood.\n",
        "\n",
        "When we take the softmax, and the loss likelihood, we get cross entropy loss.PyTorch has a module for this nn.CrossEntropyLoss() which in practice takes log_softmax the cross entropy loss and passes it to nll_loss."
      ],
      "metadata": {
        "id": "XrRuH0E0IJtC"
      },
      "id": "XrRuH0E0IJtC"
    },
    {
      "cell_type": "code",
      "source": [
        "loss_func = nn.CrossEntropyLoss()"
      ],
      "metadata": {
        "id": "LMjf4uXIJshc"
      },
      "id": "LMjf4uXIJshc",
      "execution_count": null,
      "outputs": []
    },
    {
      "cell_type": "code",
      "source": [
        "loss_func(full_acts,full_targ)"
      ],
      "metadata": {
        "colab": {
          "base_uri": "https://localhost:8080/"
        },
        "id": "PPQ0GyCMKk_S",
        "outputId": "d3b99256-8f88-48bc-dac7-bdccae0db4f3"
      },
      "id": "PPQ0GyCMKk_S",
      "execution_count": null,
      "outputs": [
        {
          "output_type": "execute_result",
          "data": {
            "text/plain": [
              "tensor(3.4561)"
            ]
          },
          "metadata": {},
          "execution_count": 45
        }
      ]
    },
    {
      "cell_type": "markdown",
      "source": [
        "PyTorch provides loss funtions in 2 forms the class form above and the plain funtional form"
      ],
      "metadata": {
        "id": "VKziftzjKrn8"
      },
      "id": "VKziftzjKrn8"
    },
    {
      "cell_type": "code",
      "source": [
        "F.cross_entropy(full_acts,full_targ)"
      ],
      "metadata": {
        "colab": {
          "base_uri": "https://localhost:8080/"
        },
        "id": "f8dfAyS3Ky3w",
        "outputId": "7fded5a8-a349-4090-96d3-2b20a937b9ad"
      },
      "id": "f8dfAyS3Ky3w",
      "execution_count": null,
      "outputs": [
        {
          "output_type": "execute_result",
          "data": {
            "text/plain": [
              "tensor(3.4561)"
            ]
          },
          "metadata": {},
          "execution_count": 46
        }
      ]
    },
    {
      "cell_type": "code",
      "source": [],
      "metadata": {
        "id": "7QYJDFgyLIAO"
      },
      "id": "7QYJDFgyLIAO",
      "execution_count": null,
      "outputs": []
    },
    {
      "cell_type": "markdown",
      "source": [
        "remember to check, all probabilities for each row should add up to 1 for example\n",
        "0.101520 +\t0.090490 +\t0.238078\t+ 0.011455\t+ 0.007252 +\t0.088888\t+ 0.041028\t+ 0.013784 +\t0.047874\t+ 0.359632 = 1\n",
        "\n",
        "#to do 3\n",
        "recreate mnist loss function wit sigmoid"
      ],
      "metadata": {
        "id": "0MbDvnG6Diun"
      },
      "id": "0MbDvnG6Diun"
    },
    {
      "cell_type": "code",
      "source": [
        "#for the full mnsit dataset with targ refined redefined\n",
        "#loss_func(full_acts, train_y) or\n",
        "#loss_func(train_x, train_y)\n"
      ],
      "metadata": {
        "id": "dU24oWnOLIzL"
      },
      "id": "dU24oWnOLIzL",
      "execution_count": null,
      "outputs": []
    },
    {
      "cell_type": "code",
      "source": [],
      "metadata": {
        "id": "dZKRn5huMs3O"
      },
      "id": "dZKRn5huMs3O",
      "execution_count": null,
      "outputs": []
    },
    {
      "cell_type": "code",
      "source": [],
      "metadata": {
        "id": "YbD3IOHmMsx9"
      },
      "id": "YbD3IOHmMsx9",
      "execution_count": null,
      "outputs": []
    },
    {
      "cell_type": "code",
      "source": [],
      "metadata": {
        "id": "AAtiG2k7MsuC"
      },
      "id": "AAtiG2k7MsuC",
      "execution_count": null,
      "outputs": []
    },
    {
      "cell_type": "code",
      "source": [
        "plot_function(torch.softmax, title='Sigmoid', min=-4, max=4)"
      ],
      "metadata": {
        "colab": {
          "base_uri": "https://localhost:8080/",
          "height": 693
        },
        "id": "wBH5pToCqc6M",
        "outputId": "e822b961-7166-4791-ed5d-7478ccc58466"
      },
      "id": "wBH5pToCqc6M",
      "execution_count": null,
      "outputs": [
        {
          "output_type": "error",
          "ename": "TypeError",
          "evalue": "softmax() received an invalid combination of arguments - got (Tensor), but expected one of:\n * (Tensor input, int dim, torch.dtype dtype, *, Tensor out)\n * (Tensor input, name dim, *, torch.dtype dtype)\n",
          "traceback": [
            "\u001b[0;31m---------------------------------------------------------------------------\u001b[0m",
            "\u001b[0;31mTypeError\u001b[0m                                 Traceback (most recent call last)",
            "\u001b[0;32m<ipython-input-10-a46a7c9cec7e>\u001b[0m in \u001b[0;36m<cell line: 1>\u001b[0;34m()\u001b[0m\n\u001b[0;32m----> 1\u001b[0;31m \u001b[0mplot_function\u001b[0m\u001b[0;34m(\u001b[0m\u001b[0mtorch\u001b[0m\u001b[0;34m.\u001b[0m\u001b[0msoftmax\u001b[0m\u001b[0;34m,\u001b[0m \u001b[0mtitle\u001b[0m\u001b[0;34m=\u001b[0m\u001b[0;34m'Sigmoid'\u001b[0m\u001b[0;34m,\u001b[0m \u001b[0mmin\u001b[0m\u001b[0;34m=\u001b[0m\u001b[0;34m-\u001b[0m\u001b[0;36m4\u001b[0m\u001b[0;34m,\u001b[0m \u001b[0mmax\u001b[0m\u001b[0;34m=\u001b[0m\u001b[0;36m4\u001b[0m\u001b[0;34m)\u001b[0m\u001b[0;34m\u001b[0m\u001b[0;34m\u001b[0m\u001b[0m\n\u001b[0m",
            "\u001b[0;32m/usr/local/lib/python3.10/dist-packages/fastbook/__init__.py\u001b[0m in \u001b[0;36mplot_function\u001b[0;34m(f, tx, ty, title, min, max, figsize)\u001b[0m\n\u001b[1;32m     75\u001b[0m     \u001b[0mx\u001b[0m \u001b[0;34m=\u001b[0m \u001b[0mtorch\u001b[0m\u001b[0;34m.\u001b[0m\u001b[0mlinspace\u001b[0m\u001b[0;34m(\u001b[0m\u001b[0mmin\u001b[0m\u001b[0;34m,\u001b[0m\u001b[0mmax\u001b[0m\u001b[0;34m,\u001b[0m \u001b[0;36m100\u001b[0m\u001b[0;34m)\u001b[0m\u001b[0;34m\u001b[0m\u001b[0;34m\u001b[0m\u001b[0m\n\u001b[1;32m     76\u001b[0m     \u001b[0mfig\u001b[0m\u001b[0;34m,\u001b[0m\u001b[0max\u001b[0m \u001b[0;34m=\u001b[0m \u001b[0mplt\u001b[0m\u001b[0;34m.\u001b[0m\u001b[0msubplots\u001b[0m\u001b[0;34m(\u001b[0m\u001b[0mfigsize\u001b[0m\u001b[0;34m=\u001b[0m\u001b[0mfigsize\u001b[0m\u001b[0;34m)\u001b[0m\u001b[0;34m\u001b[0m\u001b[0;34m\u001b[0m\u001b[0m\n\u001b[0;32m---> 77\u001b[0;31m     \u001b[0max\u001b[0m\u001b[0;34m.\u001b[0m\u001b[0mplot\u001b[0m\u001b[0;34m(\u001b[0m\u001b[0mx\u001b[0m\u001b[0;34m,\u001b[0m\u001b[0mf\u001b[0m\u001b[0;34m(\u001b[0m\u001b[0mx\u001b[0m\u001b[0;34m)\u001b[0m\u001b[0;34m)\u001b[0m\u001b[0;34m\u001b[0m\u001b[0;34m\u001b[0m\u001b[0m\n\u001b[0m\u001b[1;32m     78\u001b[0m     \u001b[0;32mif\u001b[0m \u001b[0mtx\u001b[0m \u001b[0;32mis\u001b[0m \u001b[0;32mnot\u001b[0m \u001b[0;32mNone\u001b[0m\u001b[0;34m:\u001b[0m \u001b[0max\u001b[0m\u001b[0;34m.\u001b[0m\u001b[0mset_xlabel\u001b[0m\u001b[0;34m(\u001b[0m\u001b[0mtx\u001b[0m\u001b[0;34m)\u001b[0m\u001b[0;34m\u001b[0m\u001b[0;34m\u001b[0m\u001b[0m\n\u001b[1;32m     79\u001b[0m     \u001b[0;32mif\u001b[0m \u001b[0mty\u001b[0m \u001b[0;32mis\u001b[0m \u001b[0;32mnot\u001b[0m \u001b[0;32mNone\u001b[0m\u001b[0;34m:\u001b[0m \u001b[0max\u001b[0m\u001b[0;34m.\u001b[0m\u001b[0mset_ylabel\u001b[0m\u001b[0;34m(\u001b[0m\u001b[0mty\u001b[0m\u001b[0;34m)\u001b[0m\u001b[0;34m\u001b[0m\u001b[0;34m\u001b[0m\u001b[0m\n",
            "\u001b[0;31mTypeError\u001b[0m: softmax() received an invalid combination of arguments - got (Tensor), but expected one of:\n * (Tensor input, int dim, torch.dtype dtype, *, Tensor out)\n * (Tensor input, name dim, *, torch.dtype dtype)\n"
          ]
        },
        {
          "output_type": "display_data",
          "data": {
            "text/plain": [
              "<Figure size 600x400 with 1 Axes>"
            ],
            "image/png": "[encoded data removed]"
          },
          "metadata": {}
        }
      ]
    },
    {
      "cell_type": "code",
      "source": [
        "# Define the plot_function\n",
        "def plot_function(f, tx, ty, title, min, max, figsize):\n",
        "    x = torch.linspace(min,max, 100)\n",
        "    fig,ax = plt.subplots(figsize=figsize)\n",
        "    ax.plot(x,f(x))\n",
        "    if tx is not None: ax.set_xlabel(tx)\n",
        "    if ty is not None: ax.set_ylabel(ty)\n",
        "    ax.set_title(title)\n",
        "    plt.show()\n"
      ],
      "metadata": {
        "id": "gsXIRflGrFqP"
      },
      "id": "gsXIRflGrFqP",
      "execution_count": null,
      "outputs": []
    },
    {
      "cell_type": "code",
      "source": [
        "plot_function(torch.softmax, title='sigmoid', min=-4, max=4)"
      ],
      "metadata": {
        "colab": {
          "base_uri": "https://localhost:8080/",
          "height": 175
        },
        "id": "n8m1ZMINmv4x",
        "outputId": "9212a075-d90e-4745-9def-5fd415fa4796"
      },
      "id": "n8m1ZMINmv4x",
      "execution_count": null,
      "outputs": [
        {
          "output_type": "error",
          "ename": "TypeError",
          "evalue": "plot_function() missing 3 required positional arguments: 'tx', 'ty', and 'figsize'",
          "traceback": [
            "\u001b[0;31m---------------------------------------------------------------------------\u001b[0m",
            "\u001b[0;31mTypeError\u001b[0m                                 Traceback (most recent call last)",
            "\u001b[0;32m<ipython-input-12-eee510e9a7bb>\u001b[0m in \u001b[0;36m<cell line: 1>\u001b[0;34m()\u001b[0m\n\u001b[0;32m----> 1\u001b[0;31m \u001b[0mplot_function\u001b[0m\u001b[0;34m(\u001b[0m\u001b[0mtorch\u001b[0m\u001b[0;34m.\u001b[0m\u001b[0msoftmax\u001b[0m\u001b[0;34m,\u001b[0m \u001b[0mtitle\u001b[0m\u001b[0;34m=\u001b[0m\u001b[0;34m'sigmoid'\u001b[0m\u001b[0;34m,\u001b[0m \u001b[0mmin\u001b[0m\u001b[0;34m=\u001b[0m\u001b[0;34m-\u001b[0m\u001b[0;36m4\u001b[0m\u001b[0;34m,\u001b[0m \u001b[0mmax\u001b[0m\u001b[0;34m=\u001b[0m\u001b[0;36m4\u001b[0m\u001b[0;34m)\u001b[0m\u001b[0;34m\u001b[0m\u001b[0;34m\u001b[0m\u001b[0m\n\u001b[0m",
            "\u001b[0;31mTypeError\u001b[0m: plot_function() missing 3 required positional arguments: 'tx', 'ty', and 'figsize'"
          ]
        }
      ]
    },
    {
      "cell_type": "code",
      "source": [
        "plot_function(torch.sigmoid, title='Sigmoid', min=-4, max=4)"
      ],
      "metadata": {
        "colab": {
          "base_uri": "https://localhost:8080/",
          "height": 396
        },
        "id": "OqX_jxe_p1Ao",
        "outputId": "3f8d992a-66fe-4cbd-a73b-0bf3857cc925"
      },
      "id": "OqX_jxe_p1Ao",
      "execution_count": null,
      "outputs": [
        {
          "output_type": "display_data",
          "data": {
            "text/plain": [
              "<Figure size 600x400 with 1 Axes>"
            ],
            "image/png": "[encoded data removed]"
          },
          "metadata": {}
        }
      ]
    },
    {
      "cell_type": "code",
      "source": [],
      "metadata": {
        "id": "sBvXrA2IpoYP"
      },
      "id": "sBvXrA2IpoYP",
      "execution_count": null,
      "outputs": []
    }
  ],
  "metadata": {
    "kernelspec": {
      "display_name": "Python 3",
      "name": "python3"
    },
    "language_info": {
      "codemirror_mode": {
        "name": "ipython",
        "version": 3
      },
      "file_extension": ".py",
      "mimetype": "text/x-python",
      "name": "python",
      "nbconvert_exporter": "python",
      "pygments_lexer": "ipython3",
      "version": "3.10.12"
    },
    "colab": {
      "provenance": [],
      "gpuType": "T4",
      "include_colab_link": true
    },
    "accelerator": "GPU"
  },
  "nbformat": 4,
  "nbformat_minor": 5
}