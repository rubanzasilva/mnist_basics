{
 "cells": [
  {
   "cell_type": "code",
   "execution_count": 1,
   "metadata": {
    "colab": {
     "base_uri": "https://localhost:8080/"
    },
    "id": "XjmcviI64Qe1",
    "outputId": "fdc3cffe-529b-47f9-ccc8-a9e2ca93fa52"
   },
   "outputs": [],
   "source": [
    "#hide\n",
    "! [ -e /content ] && pip install -Uqq fastbook\n",
    "import fastbook\n",
    "fastbook.setup_book()"
   ]
  },
  {
   "cell_type": "code",
   "execution_count": 2,
   "metadata": {
    "id": "McH5oRs3pv3l"
   },
   "outputs": [],
   "source": [
    "#hide\n",
    "from fastai.vision.all import *\n",
    "from fastbook import *\n",
    "import numpy as np\n",
    "\n",
    "matplotlib.rc('image', cmap='Greys')"
   ]
  },
  {
   "cell_type": "markdown",
   "metadata": {},
   "source": [
    "Under the Hood : Mnist Digit Classifier\n",
    "\n",
    "Here we build a model from scratch using the Mnist dataset. We see how to use numpy arrays and tensors, application of broadcasting to them, , Calculating gradients, Definintion and choice of a loss function2, Updating of the weights using Stochastic Gradient Descent and the role of mini btaches.\n",
    "\n",
    "We finally put all the math together to build a simple neural network to classify images"
   ]
  },
  {
   "cell_type": "markdown",
   "metadata": {
    "id": "QdYuMMUvp0ne"
   },
   "source": [
    "Download Mnist dataset\n",
    "First we start by downloading the dataset"
   ]
  },
  {
   "cell_type": "code",
   "execution_count": 3,
   "metadata": {
    "colab": {
     "base_uri": "https://localhost:8080/",
     "height": 37
    },
    "id": "m84ARw-vpxjx",
    "outputId": "0e32d5ec-933f-4327-c911-e7b60d85dc72"
   },
   "outputs": [
    {
     "data": {
      "text/html": [
       "\n",
       "<style>\n",
       "    /* Turns off some styling */\n",
       "    progress {\n",
       "        /* gets rid of default border in Firefox and Opera. */\n",
       "        border: none;\n",
       "        /* Needs to be in here for Safari polyfill so background images work as expected. */\n",
       "        background-size: auto;\n",
       "    }\n",
       "    progress:not([value]), progress:not([value])::-webkit-progress-bar {\n",
       "        background: repeating-linear-gradient(45deg, #7e7e7e, #7e7e7e 10px, #5c5c5c 10px, #5c5c5c 20px);\n",
       "    }\n",
       "    .progress-bar-interrupted, .progress-bar-interrupted::-webkit-progress-bar {\n",
       "        background: #F44336;\n",
       "    }\n",
       "</style>\n"
      ],
      "text/plain": [
       "<IPython.core.display.HTML object>"
      ]
     },
     "metadata": {},
     "output_type": "display_data"
    },
    {
     "data": {
      "text/html": [
       "\n",
       "    <div>\n",
       "      <progress value='3219456' class='' max='3214948' style='width:300px; height:20px; vertical-align: middle;'></progress>\n",
       "      100.14% [3219456/3214948 00:05&lt;00:00]\n",
       "    </div>\n",
       "    "
      ],
      "text/plain": [
       "<IPython.core.display.HTML object>"
      ]
     },
     "metadata": {},
     "output_type": "display_data"
    }
   ],
   "source": [
    "path = untar_data(URLs.MNIST_SAMPLE)"
   ]
  },
  {
   "cell_type": "code",
   "execution_count": 4,
   "metadata": {
    "id": "HctukwiXsA6d"
   },
   "outputs": [],
   "source": [
    "#hide\n",
    "Path.BASE_PATH = path"
   ]
  },
  {
   "cell_type": "code",
   "execution_count": 5,
   "metadata": {
    "colab": {
     "base_uri": "https://localhost:8080/"
    },
    "id": "57J5slJDsG8M",
    "outputId": "662edcf4-757a-4be5-a1f2-f2d22f90aca4"
   },
   "outputs": [
    {
     "data": {
      "text/plain": [
       "(#3) [Path('valid'),Path('train'),Path('labels.csv')]"
      ]
     },
     "execution_count": 5,
     "metadata": {},
     "output_type": "execute_result"
    }
   ],
   "source": [
    "path.ls()"
   ]
  },
  {
   "cell_type": "markdown",
   "metadata": {},
   "source": [
    "For the initial example, we choose to work with a subset of data to be specific we initially build a classfier to check whether an image is a 3 or 7.\n"
   ]
  },
  {
   "cell_type": "code",
   "execution_count": 6,
   "metadata": {
    "colab": {
     "base_uri": "https://localhost:8080/"
    },
    "id": "51wUPhMPsHvF",
    "outputId": "86b5688f-a51f-4716-e3ac-35c7574ec23b"
   },
   "outputs": [
    {
     "data": {
      "text/plain": [
       "(#6131) [Path('train/3/24672.png'),Path('train/3/1130.png'),Path('train/3/1150.png'),Path('train/3/39327.png'),Path('train/3/26478.png'),Path('train/3/14401.png'),Path('train/3/24597.png'),Path('train/3/9059.png'),Path('train/3/24451.png'),Path('train/3/48859.png')...]"
      ]
     },
     "execution_count": 6,
     "metadata": {},
     "output_type": "execute_result"
    }
   ],
   "source": [
    "(path/'train/3').ls()"
   ]
  },
  {
   "cell_type": "markdown",
   "metadata": {
    "id": "N4KOkPb8yaBi"
   },
   "source": [
    "# Baseline Model"
   ]
  },
  {
   "cell_type": "markdown",
   "metadata": {
    "id": "dDt7Q4aQydba"
   },
   "source": [
    "## Pixel Similarity\n",
    "For our baseline model, we shall use the idea of pixel similarity.\n",
    "Here we find the average pixel values for every pixel position for all image groups of 3 and 7 giving us two group averages,One representing the threes and another the sevens.\n",
    "This defines what we may call the \"ideal\" 3 and 7.\n",
    "\n",
    "To classfify an image as a 3 or 7, we see which of these two ideal digits the image is most similar to.\n",
    "We then choose an abitrairy number and measure the distance between that and our two classfication choices."
   ]
  },
  {
   "cell_type": "markdown",
   "metadata": {
    "id": "bhuNHQ5d2MPP"
   },
   "source": [
    "### Group averages for 3 and 7\n",
    "\n",
    "To do this, we need to stack all the images in a folder into one tensor.\n",
    "\n",
    "We shall use the 3's for illustration.\n",
    "To stack the images, first we create a python list containing all the threes in the 3 folder.\n",
    "\n",
    "new_list = [f(0) for o in a_list if o>1].\n",
    "This returns every element in **a_list** that is **greater than 1** after applying function, **f**."
   ]
  },
  {
   "cell_type": "markdown",
   "metadata": {
    "id": "3-6Fwazf7OUj"
   },
   "source": [
    "To calculate the average for each pizel position for all images, we have to combine the images into a single 3d tensor by stacking up the individual tensors in a collection into a single tensor.\n",
    "\n",
    "PyTorch has a stack function which we can use to do this.\n",
    "Some operations such as taking mean require inputs to be floats, so we cast our stacked tensor to float by typing the name of the type we want to cast to and treating it as a method.\n",
    "\n",
    "Generally, when images are floats, the pixel values are expected to be between 0 and 1."
   ]
  },
  {
   "cell_type": "markdown",
   "metadata": {
    "id": "9qU8UYN-BFQT"
   },
   "source": [
    "Finally we can compute the mean / average values for each pixel position. We do this by taking the mean of the stacked image tensor alongside dimension 0 of our stacked 3d tensor which indexes over all images."
   ]
  },
  {
   "cell_type": "markdown",
   "metadata": {
    "id": "RWlk7H9DFJka"
   },
   "source": [
    "Once we are done getting our ideal digits. We pick an abitrary 3 and measure the distance from the ideal digits."
   ]
  },
  {
   "cell_type": "markdown",
   "metadata": {
    "id": "EsF5toUfH2Yd"
   },
   "source": [
    "### **Measuring distance**\n",
    "\n",
    "How do we measure the distance from an abitrary 3 to the ideal digits?\n",
    "\n",
    "If we just add up the differences between the pixels of the abitrary image and the ideal image. we find that some differences are positive while others are negative.\n",
    "\n",
    "This causes the differences to cancel themselves out, resulting in an image that is too light or dark in some places being shown as having zero difference from the ideal.\n",
    "\n",
    "To counter this, data scientist generally measure distance in this context.\n",
    "\n",
    "\n",
    "\n"
   ]
  },
  {
   "cell_type": "markdown",
   "metadata": {
    "id": "BekatKjID6Rw"
   },
   "source": [
    "1. L1 norm where we take the mean of the absolute value of differences (the absolute value is the function which replaces negative values with positive values ). This is called the mean absolute difference or L1 norm."
   ]
  },
  {
   "cell_type": "code",
   "execution_count": null,
   "metadata": {
    "id": "lvDkDKnnDCUL"
   },
   "outputs": [],
   "source": [
    "dist_sample_3_abs = (sample_3 - mean3).abs().mean()\n",
    "dist_sample_7_abs = (sample_3 - mean7).abs().mean()"
   ]
  },
  {
   "cell_type": "code",
   "execution_count": null,
   "metadata": {
    "colab": {
     "base_uri": "https://localhost:8080/"
    },
    "id": "YEtX07FBEYKJ",
    "outputId": "e244e418-bb29-4f0a-be7e-85123eabadef"
   },
   "outputs": [],
   "source": [
    "dist_sample_3_abs, dist_sample_7_abs"
   ]
  },
  {
   "cell_type": "markdown",
   "metadata": {
    "id": "624L6k5bDxZt"
   },
   "source": [
    "2. L2 Norm or Root mean square error, here we take the mean of the square differences (which makes everything positive), we then take the square root to undo the squaring."
   ]
  },
  {
   "cell_type": "code",
   "execution_count": null,
   "metadata": {
    "id": "pgZOkDaPJYPg"
   },
   "outputs": [],
   "source": [
    "dist_sample_3_sqrt = ((sample_3 - mean3)**2).mean().sqrt()\n",
    "dist_sample_7_sqrt = ((sample_3 - mean7)**2).mean().sqrt()"
   ]
  },
  {
   "cell_type": "code",
   "execution_count": null,
   "metadata": {
    "colab": {
     "base_uri": "https://localhost:8080/"
    },
    "id": "NmUlZ9xtDr5X",
    "outputId": "f5da5296-0b93-4390-9ebd-a55d20e1a2fd"
   },
   "outputs": [],
   "source": [
    "dist_sample_3_sqrt, dist_sample_7_sqrt"
   ]
  },
  {
   "cell_type": "markdown",
   "metadata": {
    "id": "VimDu7FJFzkl"
   },
   "source": [
    "In both cases, the distance between our abitrary 3 and the ideal 3 is less than than the distance to the ideal 7.\n",
    "PyTorch provides both the L1 and L2 Norm as loss functions which you can import as F from torch.nn.functional\n",
    "Mse penalizes bigger mistakes more than L1 norm while being more lenient with small mistakes."
   ]
  },
  {
   "cell_type": "code",
   "execution_count": null,
   "metadata": {
    "id": "_vrJB6LIEk7M"
   },
   "outputs": [],
   "source": [
    "#from torch.nn.functional import F"
   ]
  },
  {
   "cell_type": "code",
   "execution_count": null,
   "metadata": {
    "colab": {
     "base_uri": "https://localhost:8080/"
    },
    "id": "l78eOhxWFWMC",
    "outputId": "20781769-2dcf-450d-9e8b-c5537360912f"
   },
   "outputs": [],
   "source": [
    "F.l1_loss(sample_3.float(),mean3),F.l1_loss(sample_3.float(),mean7)"
   ]
  },
  {
   "cell_type": "code",
   "execution_count": null,
   "metadata": {
    "colab": {
     "base_uri": "https://localhost:8080/"
    },
    "id": "KQ3vbRr_Gzsr",
    "outputId": "11de0bb1-9be3-4690-dd3e-c94f862d3ab1"
   },
   "outputs": [],
   "source": [
    "F.mse_loss(sample_3,mean3).sqrt(), F.mse_loss(sample_3,mean7).sqrt()"
   ]
  },
  {
   "cell_type": "markdown",
   "metadata": {
    "id": "aQnlC467IA1t"
   },
   "source": [
    "## NumPy Array and PyTorch Tensor data structures"
   ]
  },
  {
   "cell_type": "code",
   "execution_count": null,
   "metadata": {},
   "outputs": [],
   "source": [
    "#qfinal\n",
    "threes = (path/'train/3').ls().sorted()\n",
    "sevens = (path/'train/7').ls().sorted\n",
    "\n",
    "im3 = Image.open(threes[0])\n",
    "im7 = Image.open(sevens[0])\n",
    "\n",
    "im3_tens = tensor(im3)\n",
    "show_image(im3_tens)\n",
    "\n",
    "im3_tens_df = pd.DataFrame(im3_tens)\n",
    "im3_tens_df.style.set_properties(**{'font-size':'6pt'}).background_gradient('Greys')\n",
    "\n",
    "three_tensors = [tensor(Image.open(o) for o in threes)]\n",
    "seven_tensors = [tensor(Image.open(0) for o in sevens)]\n",
    "\n",
    "show_image(three_tensors[0])\n",
    "\n",
    "stacked_threes = torch.stack(three_tensors).float()/255\n",
    "stacked_sevens = torch.stack(seven_tensors).float()/255\n",
    "\n",
    "mean3 = stacked_threes.mean(0)\n",
    "mean7 = stacked_sevens.mean(0)\n",
    "\n",
    "show_image(mean3)\n",
    "\n",
    "#measuring distance between random input and ideal 3, mean 3\n",
    "#L1 norm or L2 norm\n",
    "a_3 = stacked_threes[1]\n",
    "a_7 = stacked_sevens[1]\n",
    "\n",
    "L1_threes = (a_3 - mean3).abs().mean()\n",
    "L1_sevens = (a_7 - mean3).abs().mean()\n",
    "\n",
    "L2 = ((a_3 - mean3)**2).mean().sqrt()\n",
    "\n",
    "#pytorch provides both these loss functions inside torch.nn.functional\n",
    "F.l1_loss(a_3.float,mean3), F.mse_loss(a_3,mean3).sqrt()\n",
    "F.mse_loss(sample_3,mean3).sqrt(), F.mse_loss(sample_3,mean7).sqrt()\n",
    "\n"
   ]
  },
  {
   "cell_type": "markdown",
   "metadata": {
    "id": "aQnlC467IA1t"
   },
   "source": [
    "Python is a slow language compared to most, anything fast in PyTorch is probably a wrapper of an object written, compiled and optimized in another language, usually C.\n",
    "C is a low level programming language, which is very fast compared to python.\n",
    "\n",
    "A NumPy array is a multidimensional table of data of the same type. This can be any type i.e. a list, matrix, cube or even an array of arrays (jagged array).\n",
    "If items are all of some simple type e.g. int, floats etc., NumPy arrays can be stored as compact c data structures in memory.\n",
    "NumPy has a wide variety of operators and methods it can use to perform computation on these data structures at the same speed optimized C which is a multitude faster than Python. This is because they are written in optimized C."
   ]
  },
  {
   "cell_type": "markdown",
   "metadata": {},
   "source": [
    "A PyTorch tensor is nearly the same thing as a numpy array, with the exception that the tensor can only be of a basic numerical type / simple type such as int, float etc for example a PyTorch tensor cannot be a jagged array, it will always be a multidimensional rectangular structure.\n",
    "\n",
    "PyTorch tensor can also live on GPU, and are also optimized for GPU, meaning it can perform faster computations given lots of values to work with.\n",
    "PyTorch also supports calculating gradients which is crucial for machine learning as our loss function, weight optimizations are calculated based of the gradients.\n",
    "It would be impossible to do machine learning without this ability."
   ]
  },
  {
   "cell_type": "code",
   "execution_count": null,
   "metadata": {},
   "outputs": [],
   "source": [
    "#Define list object\n",
    "dataSet = [[1,2,3],[4,5,6]]\n",
    "dataSet"
   ]
  },
  {
   "cell_type": "code",
   "execution_count": null,
   "metadata": {},
   "outputs": [],
   "source": [
    "#convert python object to an array\n",
    "dataSetArray = array(dataSet)\n",
    "dataSetArray"
   ]
  },
  {
   "cell_type": "code",
   "execution_count": null,
   "metadata": {},
   "outputs": [],
   "source": [
    "#convert python object to a tensor\n",
    "dataSetTensor = tensor(dataSet)\n",
    "dataSetTensor,dataSetTensor[0],dataSetTensor.type()"
   ]
  },
  {
   "cell_type": "code",
   "execution_count": null,
   "metadata": {},
   "outputs": [],
   "source": [
    "dataSetTensor + 1"
   ]
  },
  {
   "cell_type": "markdown",
   "metadata": {
    "id": "JPDYeRlgKBgO"
   },
   "source": [
    "## Computing Metrics Using Broadcasting"
   ]
  },
  {
   "cell_type": "markdown",
   "metadata": {},
   "source": [
    "Remember above, we have a baseline model that tells us how if a number is a 3 or 7. To do machine learning we need to know how good that model is, to do this we define a metric which is just a number that tells us how good our model is. We do this using the correct labels of the data and the predictions of the model.\n",
    "We want to calculate our metric based on the validation set, as this data has not been seen by the model during training. Calculating our metric based of our training set will inadvertently lead to the model overfitting on the train set which results in poor results when the model sees new data.\n",
    "Our baseline model has no training component, hence this doesn't matter but nonetheless we shall go ahead and use the validation set as a best practice.To do this we follow the same steps we did to define the training set as shown below."
   ]
  },
  {
   "cell_type": "markdown",
   "metadata": {},
   "source": [
    "We already have a value for the ideal 3 and 7, so we define a stacked tensor containing all the sevens and threes respectively in the validation set.\n",
    "To calculate the distance from the ideal 7 or 3 for the whole dataset, we subtract each image from the ideal 3 just like we did for the individual image.\n",
    "Broadcasting allows us to do calculations on tensor of different shapes."
   ]
  },
  {
   "cell_type": "code",
   "execution_count": null,
   "metadata": {},
   "outputs": [],
   "source": [
    "#We stack the sevens and threes in one tensor\n",
    "\n",
    "#qfinal\n",
    "valid_threes = (path/'valid/3').ls().sorted()\n",
    "valid_sevens = (path/'valid/7').ls().sorted()\n",
    "\n",
    "valid_three_tensors = [tensor(Image.open(o) for o in valid_threes)]\n",
    "valid_seven_tensors = [tensor(Image.open(0) for o in valid_sevens)]\n",
    "\n",
    "valid_stacked_threes = torch.stack(valid_three_tensors).float()/255\n",
    "valid_stacked_sevens = torch.stack(valid_seven_tensors).float()/255"
   ]
  },
  {
   "cell_type": "markdown",
   "metadata": {},
   "source": [
    "We create a function mnist_distance that calculates the l1 norm/mean absolute error."
   ]
  },
  {
   "cell_type": "code",
   "execution_count": null,
   "metadata": {},
   "outputs": [],
   "source": [
    "def mnist_distance(a,b):\n",
    "    (a-b).abs().mean((-1,-2))\n",
    "\n",
    "#this should give us the same result as L1_threes calculated above\n",
    "mnist_distance(a_3,mean3), L1_threes"
   ]
  },
  {
   "cell_type": "code",
   "execution_count": null,
   "metadata": {},
   "outputs": [],
   "source": [
    "valid_stack"
   ]
  },
  {
   "cell_type": "code",
   "execution_count": null,
   "metadata": {},
   "outputs": [],
   "source": [
    "ed_threes.shape(),mean3.shape()"
   ]
  },
  {
   "cell_type": "code",
   "execution_count": null,
   "metadata": {},
   "outputs": [],
   "source": [
    "#Here the distance to the ideal image 3 from every single image in the dataset is calculated.\n",
    "valid_threes_dist = mnist_distance(valid_stacked_threes, mean3)\n",
    "valid_threes_dist"
   ]
  },
  {
   "cell_type": "markdown",
   "metadata": {
    "id": "rrl_MmRAMTNo"
   },
   "source": [
    "When we perform a simple calculation such as (a-b) on two tensors of different ranks, Broadcasting expands the smaller tensor in memory, to have the same size as the larger tensor.\n",
    "It results in a value for every image expressed as a rank 1 tensor of 1,010 different values, the number of 3's in our dataset.After broadcasting , PyTorch does it usual element wise subtraction.Lets take an example\n"
   ]
  },
  {
   "cell_type": "code",
   "execution_count": null,
   "metadata": {},
   "outputs": [],
   "source": [
    "tensor([1,2,3]) + tensor(1) "
   ]
  },
  {
   "cell_type": "markdown",
   "metadata": {},
   "source": [
    "This results in tensor([2,3,4]) which looks like an element wise addittion. PyTorch in this case treats tensor(1) as if it were three copies of the same tensor.Similary mean3, a rank 2 tensor representing a single image is treated as if it were 1,010 copies of the same image. It then subtracts each copy from an image in our valid_threes_dist calculating the distance between every 3 in the validation set and the ideal 3 resulting in 1,010 different values."
   ]
  },
  {
   "cell_type": "markdown",
   "metadata": {},
   "source": [
    "When PyTorch performs broadcasting, it doesnt actually copy the image 1,010 times. It just pretends that a tensor is of that shape but it doesnt actually allocate any memory for this.\n",
    "PyTorch performs the whole computation in c code, and CUDA on GPU which is just C for GPU resulting in performance thousands of times faster than using pure python and millions of times faster on GPU.\n",
    "This is true of all broadcasting and element wise operations and functions done in PyTorch."
   ]
  },
  {
   "cell_type": "markdown",
   "metadata": {},
   "source": [
    "Next in our function, we see .abs() which applies the method to every resulting element in a tensor returning a tensor that contains 1,010 absolute values.\n",
    "Then finally we call .mean((-1,-2)) which contains a tuple of (-1,-2) which are a range of axes which represents the last and second last elements. This tells PyTorch that we want to take the mean ranging over values indexed by the last two axes of the tensor, which are the horizontal and vertical dimensions of an image. After this we are left with the first tensor axis which takes the mean over all images in the tensor, meaning we calculate the average intensity of all pixels for an image."
   ]
  },
  {
   "cell_type": "markdown",
   "metadata": {},
   "source": [
    "###is_3\n",
    "We can use mnsit_distance defined above to check whether an image is a 3 or 7 by using the following logic, if the distance between the selected image and the ideal 3 is less than the distance to the ideal 7, then the number is a 3.\n",
    "We define a function is_3 with the above logic"
   ]
  },
  {
   "cell_type": "code",
   "execution_count": null,
   "metadata": {},
   "outputs": [],
   "source": [
    "def is_3(x):\n",
    "    return (mnist_distance(x,mean3) < mnist_distance(x, mean7))"
   ]
  },
  {
   "cell_type": "code",
   "execution_count": null,
   "metadata": {},
   "outputs": [],
   "source": [
    "#function returns true or false\n",
    "is_3(a_3), is_3(a_3).float()"
   ]
  },
  {
   "cell_type": "markdown",
   "metadata": {},
   "source": [
    "When converted to a float, True returns 1 and False returns 0. We can then run is_3 on the whole dataset."
   ]
  },
  {
   "cell_type": "code",
   "execution_count": null,
   "metadata": {},
   "outputs": [],
   "source": [
    "is_3(valid_stacked_threes)"
   ]
  },
  {
   "cell_type": "markdown",
   "metadata": {},
   "source": [
    "Previously we used L1 normalization as a metric, but in practice we usually use metrics like accuracy that are easier to understand. We use the is_3 function over the whole dataset to calculate the accuracy by taking the average of the function for threes, and the inverse to calculate the accuracy for the sevens, as shown below."
   ]
  },
  {
   "cell_type": "code",
   "execution_count": null,
   "metadata": {},
   "outputs": [],
   "source": [
    "accuracy_3 = (is_3(valid_stacked_threes).float()).mean()\n",
    "accuracy_7 = (1- (is_3(valid_stacked_sevens).float())).mean()\n",
    "accuracy_3,accuracy_7,(accuracy_3 + accuracy_7)/2"
   ]
  },
  {
   "cell_type": "markdown",
   "metadata": {},
   "source": [
    "This gives us the accuracy for all the threes. But in reality, 3 and 7 are quite similar, making it easy to classify between the two.\n",
    "The model is trained to classify between 3 and 7 are also just two numbers out of 10.\n",
    "To build a more robust model, we need to build a model that constantly improves, learns from the previous predictions and automatically improve itself.\n",
    "To do this, we further explore the training process and Stochastic Gradient Descent (SGD)."
   ]
  },
  {
   "cell_type": "markdown",
   "metadata": {},
   "source": [
    "Stochastic Gradient Descent"
   ]
  },
  {
   "cell_type": "markdown",
   "metadata": {},
   "source": [
    "In 1962, Arthur Samuels described machine learning in his classic essay \"Artificial Intelligence: A frontier of automation\". Here he suggests that instead of telling a computer the exact steps need to solve a problem as in regular programming, we could just show a number of examples and let it figure out how to solve a problem itself. This indeed turned out to be a powerful idea, as was later shown.\n",
    "\n",
    "Arthur Samuel's basic idea was \n",
    "\n",
    "Suppose we arrange for some automatic means of testing the effectiveness of any current weight assignment in terms of actual performance and provide a mechanism for altering the weight assignment so as to maximize the performance. We need not go into the details of such a procedure to see that it could be made entirely automatic and to see that a machine so programmed would \"learn\" from its experience.\n",
    "\n",
    "This spells out some powerful concepts\n",
    "- The idea of weight assignment\n",
    "- The fact that weight assignment has some actual performance\n",
    "- The idea that there needs to be an automatic means of testing\n",
    "- The need for an automatic means of improving the performance by altering the weights"
   ]
  },
  {
   "cell_type": "markdown",
   "metadata": {},
   "source": [
    "This is the key to building a model that continuously gets better, unfortunately our pixel similarity lacks a learning mechanism, meaning it cannot continuously get better. To take advantage of deep learning, we represent the problem in the form Arthur Samuels described above.\n",
    "To do this, we use the concepts of weights, instead of calculating the distance between the pixels of an image and the ideal image, we assign weights to each pixel whereby the highest weights are associated with the pixels that are most likely to be black.\n",
    "For example, if an image is a 7, the pixels in the bottom right corner are unlikely to be activated hence the pixels in the bottom right should have a low weight assignment for a 7 while if it was an 8 or a 9 say, the pixels would be activated hence they should have a high weight assignment for 8 or 9.\n",
    "\\n This can be represented as a function and a set of weight values for each category, for example the probability of being an 8 can be represented as below\n"
   ]
  },
  {
   "cell_type": "code",
   "execution_count": 1,
   "metadata": {},
   "outputs": [],
   "source": [
    "def pr_eight(x,w):\n",
    "    return (x*w).sum()"
   ]
  },
  {
   "cell_type": "markdown",
   "metadata": {},
   "source": [
    "Here we assume that the x is an image with the rows stacked up into one line as a single tensor. w, represents the weights. With this we just need to update the weights in such a way that the model improves, we continuously improve the weights until we can't improve them any more, or we reach the selected number of epochs/iterations. We want the values of w to be high for numbers that are actually 8 and low for numbers that are not. With this just need to find the best weights for 8 to come up with the best function that can recognize 8's."
   ]
  },
  {
   "cell_type": "markdown",
   "metadata": {},
   "source": [
    "To find the above function into a machine learning classifier, we follow the specific steps\n",
    "1. We initialize the weights\n",
    "2. Using set weights, we calculate whether an image is a 3 or 7 and get predictions\n",
    "3. Using predictions from step 2, we calculate our loss which tell us how good our predictions are\n",
    "4. Based on the above loss, we calculate our gradients, which tell us how changing the weights affects the model\n",
    "5. Based on above gradients, we change the weights in the direction that improves the model\n",
    "6. Go back to step 2, and repeat the process\n",
    "7. Iterate until you usually stop because the model is good enough, or you are tired of waiting "
   ]
  },
  {
   "cell_type": "markdown",
   "metadata": {},
   "source": [
    "These steps are illustrated as shown below "
   ]
  },
  {
   "cell_type": "code",
   "execution_count": null,
   "metadata": {},
   "outputs": [],
   "source": [
    "#id gradient_descent\n",
    "#caption The gradient descent process\n",
    "#alt Graph showing the steps for Gradient Descent\n",
    "gv('''\n",
    "init->predict->loss->gradient->step->stop\n",
    "step->predict[label=repeat]\n",
    "''')\n"
   ]
  },
  {
   "cell_type": "markdown",
   "metadata": {},
   "source": [
    "There are several ways to perfrom the seven steps listed above, but they all follow some general guidelines\n",
    "- initilize: we usually initialize the parameters to random values and because we have a means of automatically improving the weights, it means we shall iterate towards the correct weights no matter where we start at\n",
    "- Loss : This refers to the means of testing the effectiveness of any current weight assignment in terms of actual performance such that the function returns a small number if the performance is good.\n",
    "- Step, how do we know if we are taking the step in the right direction, we can try adjusting the loss in any direction and see if the loss goes up and down, with this we have the direction, then we take a step in the direction using different intensities until we find which amount works best.\n",
    "  Calculating gradients gives us an exact direction and number in which to adjust our weights."
   ]
  },
  {
   "cell_type": "markdown",
   "metadata": {},
   "source": [
    "lets illustrate the above steps with a simple toy example where we define a quadratic as a simple loss function and x as the weight parameter.\n"
   ]
  },
  {
   "cell_type": "code",
   "execution_count": 1,
   "metadata": {},
   "outputs": [],
   "source": [
    "def f(x):\n",
    "    return x**2"
   ]
  },
  {
   "cell_type": "code",
   "execution_count": 6,
   "metadata": {},
   "outputs": [
    {
     "data": {
      "image/png": "[encoded data removed]",
      "text/plain": [
       "<Figure size 600x400 with 1 Axes>"
      ]
     },
     "metadata": {},
     "output_type": "display_data"
    }
   ],
   "source": [
    "#Lets plot the following equation\n",
    "#help(plot_function)\n",
    "plot_function(f, 'x', 'x**2')"
   ]
  },
  {
   "cell_type": "code",
   "execution_count": 14,
   "metadata": {},
   "outputs": [
    {
     "data": {
      "text/plain": [
       "<matplotlib.collections.PathCollection at 0x7f5b17dddc00>"
      ]
     },
     "execution_count": 14,
     "metadata": {},
     "output_type": "execute_result"
    },
    {
     "data": {
      "image/png": "[encoded data removed]",
      "text/plain": [
       "<Figure size 600x400 with 1 Axes>"
      ]
     },
     "metadata": {},
     "output_type": "display_data"
    }
   ],
   "source": [
    "#As per steps above, we pick a random parameter value of -1.5 and calculate the loss.\n",
    "#f(-1.5)\n",
    "\n",
    "plot_function(f, 'x', 'x**2')\n",
    "plt.scatter(-1.5,f(-1.5), color=\"red\")"
   ]
  },
  {
   "cell_type": "markdown",
   "metadata": {},
   "source": [
    "We continously adjust our model in the direction of the slope until it reasches the lowest point.We can calculate the adjustment number using gradients whcih tell us how far to adjust the weights to improve performance."
   ]
  },
  {
   "cell_type": "markdown",
   "metadata": {},
   "source": [
    "Gradients"
   ]
  },
  {
   "cell_type": "markdown",
   "metadata": {},
   "source": [
    "Calculus tells us how much our loss will go up or down when we adjust our parameter values up or down.\n",
    "A derivative of a function tells us about the rate of change of a function not the function value.\n",
    "Remember that a function usually has a bunch of gradients, here we calculate the gradient for each weight while taking the rest as constant, then repeat this for each weight."
   ]
  },
  {
   "cell_type": "markdown",
   "metadata": {},
   "source": [
    "PyTorch can automatically calculate gradients for us but first lets pick a value where you want to calcualte derivatives of"
   ]
  },
  {
   "cell_type": "code",
   "execution_count": 11,
   "metadata": {},
   "outputs": [],
   "source": [
    "#this tells pytorch to calculate gradients with respect to a variable at the value,3\n",
    "#x values\n",
    "xt = tensor(3.).requires_grad_()"
   ]
  },
  {
   "cell_type": "code",
   "execution_count": 17,
   "metadata": {},
   "outputs": [
    {
     "data": {
      "text/plain": [
       "tensor(9., grad_fn=<PowBackward0>)"
      ]
     },
     "execution_count": 17,
     "metadata": {},
     "output_type": "execute_result"
    }
   ],
   "source": [
    "#yt prints out the values and the gradient function it uses to calculate gradients when asked to\n",
    "yt = f(xt)\n",
    "yt"
   ]
  },
  {
   "cell_type": "code",
   "execution_count": 18,
   "metadata": {},
   "outputs": [],
   "source": [
    "#backward pass/ backpropagtion where we calculate the drivatives\n",
    "yt.backward()"
   ]
  },
  {
   "cell_type": "code",
   "execution_count": 19,
   "metadata": {},
   "outputs": [
    {
     "data": {
      "text/plain": [
       "tensor(6.)"
      ]
     },
     "execution_count": 19,
     "metadata": {},
     "output_type": "execute_result"
    }
   ],
   "source": [
    "#We can view the gradient by calling the grad attribute of our input tensor\n",
    "xt.grad"
   ]
  },
  {
   "cell_type": "markdown",
   "metadata": {},
   "source": [
    "The derivative of x**2 is 2*x, hence 2*3 results in 6 as shown above.Lets do the same for multiple values."
   ]
  },
  {
   "cell_type": "code",
   "execution_count": 25,
   "metadata": {},
   "outputs": [
    {
     "data": {
      "text/plain": [
       "tensor([3., 4., 5.], requires_grad=True)"
      ]
     },
     "execution_count": 25,
     "metadata": {},
     "output_type": "execute_result"
    }
   ],
   "source": [
    "xt = tensor([3.,4.,5.]).requires_grad_()\n",
    "xt"
   ]
  },
  {
   "cell_type": "markdown",
   "metadata": {},
   "source": [
    "We redefine our function f(x) adding sum so the function takes a vector rank 1 tensor and converts into a scalar 0 rank tensor"
   ]
  },
  {
   "cell_type": "code",
   "execution_count": 28,
   "metadata": {},
   "outputs": [
    {
     "data": {
      "text/plain": [
       "tensor(50., grad_fn=<SumBackward0>)"
      ]
     },
     "execution_count": 28,
     "metadata": {},
     "output_type": "execute_result"
    }
   ],
   "source": [
    "def f(x):\n",
    "    return (x**2).sum()\n",
    "\n",
    "yt = f(xt)\n",
    "yt"
   ]
  },
  {
   "cell_type": "code",
   "execution_count": 29,
   "metadata": {},
   "outputs": [],
   "source": [
    "yt.backward()"
   ]
  },
  {
   "cell_type": "code",
   "execution_count": 30,
   "metadata": {},
   "outputs": [
    {
     "data": {
      "text/plain": [
       "tensor([ 6.,  8., 10.])"
      ]
     },
     "execution_count": 30,
     "metadata": {},
     "output_type": "execute_result"
    }
   ],
   "source": [
    "xt.grad"
   ]
  },
  {
   "cell_type": "markdown",
   "metadata": {},
   "source": [
    "This gives us the slope of a function, they dint actually tell us how far to adjust the parameters but it gives us an idea, large slope means we still have alot of adjustment to do while a small slope means we are closer to the optimum value."
   ]
  },
  {
   "cell_type": "markdown",
   "metadata": {},
   "source": [
    "Stepping with learning rate"
   ]
  },
  {
   "cell_type": "markdown",
   "metadata": {},
   "source": [
    "This involves changing the weights/parameters based on the gradients. It is commonplace to multiply the gradient values by a small number usually between 0.001 and 0.1 called the learning rate.This results in new paramter values.We can adjust the learning rate as follows"
   ]
  },
  {
   "cell_type": "code",
   "execution_count": null,
   "metadata": {},
   "outputs": [],
   "source": [
    "w = -gradient * lr"
   ]
  },
  {
   "cell_type": "markdown",
   "metadata": {},
   "source": [
    "We usually adjust our paramters in the direction of the slope as we are trying to find the minimum.The - ensures that the we increase the paramter if the slope is negative and we decrease the parameters if the slope is positive."
   ]
  },
  {
   "cell_type": "markdown",
   "metadata": {},
   "source": [
    "Example of SGD.Here we use the gradients to find the minimum and we see how finding a minimum can be used to train a model to better fit the data."
   ]
  },
  {
   "cell_type": "markdown",
   "metadata": {},
   "source": [
    "Description\n",
    "Say you are measuring the speed of a roller coaster every 20 seconds as it goes over a hill , and slopes back down.\n",
    "The roller coaster would start fast, getting slower as it climbs the hill, would be slowest at the top then slowly accelerate and pick up speed as it descents down the hill."
   ]
  },
  {
   "cell_type": "code",
   "execution_count": 14,
   "metadata": {},
   "outputs": [
    {
     "data": {
      "text/plain": [
       "tensor([ 0.,  1.,  2.,  3.,  4.,  5.,  6.,  7.,  8.,  9., 10., 11., 12., 13., 14., 15., 16., 17., 18., 19.])"
      ]
     },
     "execution_count": 14,
     "metadata": {},
     "output_type": "execute_result"
    }
   ],
   "source": [
    "time = torch.arange(0,20).float()\n",
    "time"
   ]
  },
  {
   "cell_type": "code",
   "execution_count": 18,
   "metadata": {},
   "outputs": [
    {
     "data": {
      "image/png": "[encoded data removed]",
      "text/plain": [
       "<Figure size 640x480 with 1 Axes>"
      ]
     },
     "metadata": {},
     "output_type": "display_data"
    }
   ],
   "source": [
    "speed = torch.randn(20)*3 + 0.75*(time-9.5)**2 + 1\n",
    "plt.scatter(time,speed);"
   ]
  },
  {
   "cell_type": "markdown",
   "metadata": {},
   "source": [
    "Using stochastic gradient descent, we can build a function that matches the data. Lets start with a quadratic in the format ax**2 + bx + c assuming that this function can fit and match our observations"
   ]
  },
  {
   "cell_type": "code",
   "execution_count": null,
   "metadata": {},
   "outputs": [],
   "source": [
    "#time is the input and a,b,c are the parameters\n",
    "a(time)**2 + b(time) + c"
   ]
  },
  {
   "cell_type": "code",
   "execution_count": 27,
   "metadata": {},
   "outputs": [],
   "source": [
    "def f(t, params):\n",
    "    a,b,c = params\n",
    "    return a*(t**2) + b*t + c"
   ]
  },
  {
   "cell_type": "markdown",
   "metadata": {},
   "source": [
    "We distinguish clearly between the functions input and the parameters in the function above. What we have done is restrict the problem of finding the best quadartic that fits to finding the best paramter values for a,b, and c which greatly simplifies our problem as every quadrastic is fully defined by 3 paramaters a,b,c.\n",
    "In order to find the best quadratic function we  find the best values of a,b and c."
   ]
  },
  {
   "cell_type": "markdown",
   "metadata": {},
   "source": [
    "If we can solve the problem above, we can apply the same logic to solve other problems such as our mnist classification with more complex functions and paramters just like we are doing above. We also need to define what we mean by best values. We do this by choosing a loss function where smaller values correspond to bette predictions and vice versa.For the above continous data, we shall use mean squared error"
   ]
  },
  {
   "cell_type": "code",
   "execution_count": 35,
   "metadata": {},
   "outputs": [],
   "source": [
    "def mse(preds,targets):\n",
    "    return ((preds - targets)**2).mean()\n",
    "    "
   ]
  },
  {
   "cell_type": "code",
   "execution_count": null,
   "metadata": {},
   "outputs": [],
   "source": []
  },
  {
   "cell_type": "markdown",
   "metadata": {},
   "source": [
    "We now go through our seven step process"
   ]
  },
  {
   "cell_type": "code",
   "execution_count": 124,
   "metadata": {},
   "outputs": [],
   "source": [
    "#intialize\n",
    "params = torch.rand(3).requires_grad_()\n",
    "orig_prams = params.clone()"
   ]
  },
  {
   "cell_type": "code",
   "execution_count": 125,
   "metadata": {},
   "outputs": [
    {
     "data": {
      "text/plain": [
       "tensor([0.3155, 0.9211, 0.6948], requires_grad=True)"
      ]
     },
     "execution_count": 125,
     "metadata": {},
     "output_type": "execute_result"
    }
   ],
   "source": [
    "params"
   ]
  },
  {
   "cell_type": "code",
   "execution_count": 126,
   "metadata": {},
   "outputs": [
    {
     "data": {
      "text/plain": [
       "tensor([  0.6948,   1.9313,   3.7988,   6.2973,   9.4267,  13.1871,  17.5785,  22.6008,  28.2541,  34.5383,  41.4535,  48.9997,  57.1768,  65.9849,  75.4240,  85.4940,  96.1950, 107.5269, 119.4898,\n",
       "        132.0837], grad_fn=<AddBackward0>)"
      ]
     },
     "execution_count": 126,
     "metadata": {},
     "output_type": "execute_result"
    }
   ],
   "source": [
    "#Calculate predictions\n",
    "preds = f(time, params)\n",
    "preds"
   ]
  },
  {
   "cell_type": "code",
   "execution_count": 127,
   "metadata": {},
   "outputs": [],
   "source": [
    "def show_preds(preds, ax=None):\n",
    " if ax is None: ax=plt.subplots()[1]\n",
    " ax.scatter(time, speed)\n",
    " ax.scatter(time, to_np(preds), color='red')\n",
    " ax.set_ylim(-300,100)\n"
   ]
  },
  {
   "cell_type": "code",
   "execution_count": 128,
   "metadata": {},
   "outputs": [
    {
     "data": {
      "image/png": "[encoded data removed]",
      "text/plain": [
       "<Figure size 640x480 with 1 Axes>"
      ]
     },
     "metadata": {},
     "output_type": "display_data"
    }
   ],
   "source": [
    "show_preds(preds)"
   ]
  },
  {
   "cell_type": "code",
   "execution_count": 129,
   "metadata": {},
   "outputs": [
    {
     "data": {
      "text/plain": [
       "tensor(2233.9285, grad_fn=<MeanBackward0>)"
      ]
     },
     "execution_count": 129,
     "metadata": {},
     "output_type": "execute_result"
    }
   ],
   "source": [
    "#calculate the loss\n",
    "loss = mse(preds,speed)\n",
    "loss"
   ]
  },
  {
   "cell_type": "code",
   "execution_count": 130,
   "metadata": {},
   "outputs": [
    {
     "data": {
      "text/plain": [
       "tensor([13319.2920,   870.3298,    43.1070])"
      ]
     },
     "execution_count": 130,
     "metadata": {},
     "output_type": "execute_result"
    }
   ],
   "source": [
    "#calculate gradients\n",
    "loss.backward()\n",
    "params.grad"
   ]
  },
  {
   "cell_type": "code",
   "execution_count": null,
   "metadata": {},
   "outputs": [],
   "source": [
    "lr = 1e-5"
   ]
  },
  {
   "cell_type": "code",
   "execution_count": 104,
   "metadata": {},
   "outputs": [
    {
     "data": {
      "text/plain": [
       "tensor([0.3881, 0.5073, 0.4701])"
      ]
     },
     "execution_count": 104,
     "metadata": {},
     "output_type": "execute_result"
    }
   ],
   "source": [
    "i = params.data\n",
    "i"
   ]
  },
  {
   "cell_type": "code",
   "execution_count": 105,
   "metadata": {},
   "outputs": [
    {
     "data": {
      "text/plain": [
       "tensor([15853.3945,  1025.8402,    52.7210])"
      ]
     },
     "execution_count": 105,
     "metadata": {},
     "output_type": "execute_result"
    }
   ],
   "source": [
    "u = params.grad.data\n",
    "u"
   ]
  },
  {
   "cell_type": "code",
   "execution_count": 106,
   "metadata": {},
   "outputs": [],
   "source": [
    "lr = 0.05\n",
    "params.data = - lr * params.grad.data "
   ]
  },
  {
   "cell_type": "code",
   "execution_count": 107,
   "metadata": {},
   "outputs": [
    {
     "data": {
      "text/plain": [
       "tensor([-792.6697,  -51.2920,   -2.6360])"
      ]
     },
     "execution_count": 107,
     "metadata": {},
     "output_type": "execute_result"
    }
   ],
   "source": [
    "#new params after adjustmemt\n",
    "#params.data represents the initial parameters\n",
    "#params.grad.data represents the gradients of these initial paramters\n",
    "# lr * params.grad.data changes multiplies the gradients of the parameters by a learning rate\n",
    "#params.data = - lr * params.grad.data sets the initial parameters to the result of gradients * lr\n",
    "#\n",
    "i = params.data\n",
    "i"
   ]
  },
  {
   "cell_type": "code",
   "execution_count": 131,
   "metadata": {},
   "outputs": [],
   "source": [
    "#step\n",
    "lr = 1e-5\n",
    "params.data = - lr * params.grad.data\n",
    "params.grad = None"
   ]
  },
  {
   "cell_type": "code",
   "execution_count": 132,
   "metadata": {},
   "outputs": [
    {
     "data": {
      "text/plain": [
       "tensor(2784.7336, grad_fn=<MeanBackward0>)"
      ]
     },
     "execution_count": 132,
     "metadata": {},
     "output_type": "execute_result"
    }
   ],
   "source": [
    "#go back to step 2\n",
    "preds = f(time,params)\n",
    "loss = mse(preds, speed)\n",
    "loss"
   ]
  },
  {
   "cell_type": "code",
   "execution_count": 133,
   "metadata": {},
   "outputs": [
    {
     "data": {
      "image/png": "[encoded data removed]",
      "text/plain": [
       "<Figure size 640x480 with 1 Axes>"
      ]
     },
     "metadata": {},
     "output_type": "display_data"
    }
   ],
   "source": [
    "show_preds(preds)"
   ]
  },
  {
   "cell_type": "code",
   "execution_count": 134,
   "metadata": {},
   "outputs": [],
   "source": [
    "#We need to do this a couple of times so we create one step\n",
    "def apply_step(params,prn= True):\n",
    "    preds = f(time,params)\n",
    "    loss = mse(preds, speed)\n",
    "    loss.backward()\n",
    "    params.data -=  lr * params.grad.data\n",
    "    params.grad = None\n",
    "    if prn: print(loss.item())\n",
    "    return preds"
   ]
  },
  {
   "cell_type": "code",
   "execution_count": 135,
   "metadata": {},
   "outputs": [
    {
     "name": "stdout",
     "output_type": "stream",
     "text": [
      "2784.733642578125\n",
      "1063.973876953125\n",
      "738.3505249023438\n",
      "676.729736328125\n",
      "665.0664672851562\n",
      "662.8563842773438\n",
      "662.4353637695312\n",
      "662.352783203125\n",
      "662.3343505859375\n",
      "662.3277587890625\n"
     ]
    }
   ],
   "source": [
    "for i in range(10):\n",
    "    apply_step(params)"
   ]
  },
  {
   "cell_type": "code",
   "execution_count": 136,
   "metadata": {},
   "outputs": [
    {
     "data": {
      "text/plain": [
       "tensor([0.3155, 0.9211, 0.6948], grad_fn=<CloneBackward0>)"
      ]
     },
     "execution_count": 136,
     "metadata": {},
     "output_type": "execute_result"
    }
   ],
   "source": [
    "orig_prams"
   ]
  },
  {
   "cell_type": "code",
   "execution_count": 137,
   "metadata": {},
   "outputs": [],
   "source": [
    "params = orig_prams.detach().requires_grad_()\n"
   ]
  },
  {
   "cell_type": "code",
   "execution_count": 138,
   "metadata": {},
   "outputs": [
    {
     "data": {
      "image/png": "[encoded data removed]",
      "text/plain": [
       "<Figure size 1200x300 with 4 Axes>"
      ]
     },
     "metadata": {},
     "output_type": "display_data"
    }
   ],
   "source": [
    "_,axs = plt.subplots(1,4,figsize=(12,3))\n",
    "for ax in axs: show_preds(apply_step(params, False), ax)\n",
    "plt.tight_layout()"
   ]
  },
  {
   "cell_type": "code",
   "execution_count": null,
   "metadata": {},
   "outputs": [],
   "source": []
  },
  {
   "cell_type": "code",
   "execution_count": null,
   "metadata": {},
   "outputs": [],
   "source": []
  },
  {
   "cell_type": "code",
   "execution_count": null,
   "metadata": {},
   "outputs": [],
   "source": []
  },
  {
   "cell_type": "code",
   "execution_count": null,
   "metadata": {},
   "outputs": [],
   "source": []
  },
  {
   "cell_type": "code",
   "execution_count": null,
   "metadata": {},
   "outputs": [],
   "source": []
  },
  {
   "cell_type": "code",
   "execution_count": null,
   "metadata": {},
   "outputs": [],
   "source": []
  },
  {
   "cell_type": "code",
   "execution_count": null,
   "metadata": {},
   "outputs": [],
   "source": []
  },
  {
   "cell_type": "markdown",
   "metadata": {},
   "source": [
    "## Mnist Loss"
   ]
  },
  {
   "cell_type": "markdown",
   "metadata": {},
   "source": [
    "concat all images into a single tensor. Change from matrix to vector using .view()\n"
   ]
  },
  {
   "cell_type": "code",
   "execution_count": null,
   "metadata": {},
   "outputs": [],
   "source": [
    "train_x = torch.cat([stacked_threes, stacked_sevens]).view(-1,28*28)"
   ]
  },
  {
   "cell_type": "markdown",
   "metadata": {},
   "source": [
    "We need a label for each image. we use 1 for 3 and 0 if it is a 7."
   ]
  },
  {
   "cell_type": "code",
   "execution_count": null,
   "metadata": {},
   "outputs": [],
   "source": [
    "train_y = tensor([1]*len(sevens) + [0]*len(threes)).unsqueeze(1)"
   ]
  },
  {
   "cell_type": "code",
   "execution_count": null,
   "metadata": {},
   "outputs": [],
   "source": [
    "train_x.shape, train_y.shape"
   ]
  },
  {
   "cell_type": "markdown",
   "metadata": {},
   "source": [
    "A dataset is supposed to return a tuple of (x,y) when indexed. We use pythons zip function combined with a list to get this functionality"
   ]
  },
  {
   "cell_type": "code",
   "execution_count": null,
   "metadata": {},
   "outputs": [],
   "source": [
    "dset = list(zip(train_x,train_y))"
   ]
  },
  {
   "cell_type": "code",
   "execution_count": null,
   "metadata": {},
   "outputs": [],
   "source": [
    "valid_x = torch.cat([val_stacked_threes,val_stacked_sevens]).view(-1,28*28)\n",
    "valid_y = tensor([1]*len(valid_threes) + [0]*len(valid_sevens)).unsqueeze(1)\n",
    "val_dset = list(zip(valid_x,valid_y))"
   ]
  },
  {
   "cell_type": "code",
   "execution_count": null,
   "metadata": {},
   "outputs": [],
   "source": [
    "valid_x.shape,valid_y.shape"
   ]
  },
  {
   "cell_type": "markdown",
   "metadata": {},
   "source": [
    "### Seven steps"
   ]
  },
  {
   "cell_type": "markdown",
   "metadata": {},
   "source": [
    "#### Initialize Parameters"
   ]
  },
  {
   "cell_type": "code",
   "execution_count": null,
   "metadata": {},
   "outputs": [],
   "source": [
    "def init_params(size,std=1.0):\n",
    "    return torch.randn((size)*std).requires_grad_()"
   ]
  },
  {
   "cell_type": "code",
   "execution_count": null,
   "metadata": {},
   "outputs": [],
   "source": [
    "weights = init_params((28*28,1))"
   ]
  },
  {
   "cell_type": "code",
   "execution_count": null,
   "metadata": {},
   "outputs": [],
   "source": [
    "bias = init_params(1)"
   ]
  },
  {
   "cell_type": "code",
   "execution_count": 2,
   "metadata": {},
   "outputs": [],
   "source": [
    "#from y = wx + b where w is the weights\n",
    "#we add bias as wx can be 0 when pixels equals 0\n",
    "#single prediction\n",
    "prediction = (train_x[[0]*weights.T).sum + bias"
   ]
  },
  {
   "cell_type": "code",
   "execution_count": null,
   "metadata": {},
   "outputs": [],
   "source": [
    "#in python matrix multiplication is represented using an @\n",
    "#batch@weights + bias\n",
    "def linear1(xb):\n",
    "    return xb@weights + bias"
   ]
  },
  {
   "cell_type": "code",
   "execution_count": null,
   "metadata": {},
   "outputs": [],
   "source": [
    "one_prediction = linear1(train_x[0])"
   ]
  },
  {
   "cell_type": "code",
   "execution_count": null,
   "metadata": {},
   "outputs": [],
   "source": [
    "preds = linear1(train_x)\n",
    "preds"
   ]
  },
  {
   "cell_type": "markdown",
   "metadata": {},
   "source": [
    "Accuracy"
   ]
  },
  {
   "cell_type": "markdown",
   "metadata": {},
   "source": [
    "#### Loss function"
   ]
  },
  {
   "cell_type": "markdown",
   "metadata": {},
   "source": [
    "The loss function receives argument preds as input, with each value being between 0 and 1 where each value is the prediction that an image is a 3."
   ]
  },
  {
   "cell_type": "markdown",
   "metadata": {},
   "source": [
    "Lets create another argument for trgts with each value being 1 when it is a 3 and vice versa."
   ]
  },
  {
   "cell_type": "markdown",
   "metadata": {},
   "source": [
    "Suppose we had 3 images with values being a 3, 7 and a 3.Suppose our model predicted with high confidence that our first image was a 1 (0.9) , with slight coinfidence that our 2nd image was a 7(0.4), and with fair confidence but incorrectly that the third was a 7.(0.2) meaning our loss function would receive the following values as input"
   ]
  },
  {
   "cell_type": "code",
   "execution_count": null,
   "metadata": {},
   "outputs": [],
   "source": [
    "trgts = ([1,0,1])\n",
    "prds = ([0.9,0.4,0.2])"
   ]
  },
  {
   "cell_type": "markdown",
   "metadata": {},
   "source": [
    "Below we build a loss function that measures distance from the targets"
   ]
  },
  {
   "cell_type": "markdown",
   "metadata": {},
   "source": [
    "torch.where(a,b,c) is the same as running the list comprehension [b[i] if a[i] is true else c[i] for i in range(len(a))]"
   ]
  },
  {
   "cell_type": "code",
   "execution_count": null,
   "metadata": {},
   "outputs": [],
   "source": [
    "#function will measure distance from 1 if target is 1 and distance from 0 if target is 0\n",
    "def mnist_loss(predictions, targets):\n",
    "    return torch.where(targets == 1, 1 - predictions, predictions).mean()"
   ]
  },
  {
   "cell_type": "code",
   "execution_count": null,
   "metadata": {},
   "outputs": [],
   "source": []
  },
  {
   "cell_type": "code",
   "execution_count": null,
   "metadata": {},
   "outputs": [],
   "source": [
    "#loss function should return a lower number when the predicton is correct, when accurate predictions are more confident and a higher number when the prediction is false.\n",
    "torch.where(trgts == 1, 1- prds, prds)"
   ]
  },
  {
   "cell_type": "code",
   "execution_count": null,
   "metadata": {},
   "outputs": [],
   "source": [
    "#this gives us a scalar for loss by taking the mean of the previous tensor\n",
    "mnist_loss(trgts, prds)"
   ]
  },
  {
   "cell_type": "code",
   "execution_count": null,
   "metadata": {},
   "outputs": [],
   "source": [
    "#say we change the 0.2 to 0.8 giving a more accurate predicition for the 7, i.e. 0.8 says it is highly unlikely the 3rd float in the tuple is 7\n",
    "#this results in a smaller loss, meaning this is a better prediction\n",
    "mnist_loss(tensor([0.9,0.4,0.8]), trgts)"
   ]
  },
  {
   "cell_type": "markdown",
   "metadata": {},
   "source": [
    "One potential issue with the mnist_loss currenlty defined we assume all the preds are between 0 and 1, we need to then ensure that this is always the case. We can do this using a sigmoid function."
   ]
  },
  {
   "cell_type": "markdown",
   "metadata": {},
   "source": [
    "#### Sigmoid"
   ]
  },
  {
   "cell_type": "markdown",
   "metadata": {},
   "source": [
    "This function always outputs a number between 0 and 1.It takes any input value negative or positive and squeeshes it into an output value between 0 and 1.It can be defined as follows"
   ]
  },
  {
   "cell_type": "code",
   "execution_count": 1,
   "metadata": {},
   "outputs": [],
   "source": [
    "def sigmoid(x):\n",
    "    return 1/(1 + torch.exp(-x))"
   ]
  },
  {
   "cell_type": "markdown",
   "metadata": {},
   "source": [
    "so we update our mnist_loss to include sigmoid"
   ]
  },
  {
   "cell_type": "code",
   "execution_count": null,
   "metadata": {},
   "outputs": [],
   "source": [
    "def mnist_loss(predictions, targets):\n",
    "    predictions = predictions.sigmoid()\n",
    "    return (torch.where(targets==1, 1 - predictions, predictions))"
   ]
  },
  {
   "cell_type": "markdown",
   "metadata": {},
   "source": [
    "- A metric is to drive human understanding and a loss function is to drive automated learning"
   ]
  },
  {
   "cell_type": "markdown",
   "metadata": {},
   "source": [
    "Mini batches"
   ]
  },
  {
   "cell_type": "markdown",
   "metadata": {},
   "source": [
    "In order to take an optimization step, we need to calculate the loss over one or more data items.Calculating the loss for one single item gives too little information to build a model for all items as the model being built would be optimized for that item whereas using all items in the dataset would take too long."
   ]
  },
  {
   "cell_type": "markdown",
   "metadata": {},
   "source": [
    "As a compromise, we take the average loss of a few data items at a time. This is called a mini batch. The number of data items in a mini batch is refered to as the batch size. and proic\n",
    "A larger batch size means you will get more accurate and stable estimate of our parameter gradients from the loss, but it also takes longer and processes fewere mini batches per epoch."
   ]
  },
  {
   "cell_type": "markdown",
   "metadata": {},
   "source": [
    "Another reason for getting the gradients of parameters in mini batches as opposed to for single data items is the use of accelerated compute like GPU's which only perform well when fed many data items to work with but if you feed them to much data at once they run out of memory."
   ]
  },
  {
   "cell_type": "markdown",
   "metadata": {},
   "source": [
    "If you remember in the production chapter, we get better generalization when we vary the items we show the network when training. Hence on simple and effective thing we can do is vary the items in each mini batch. To do this rather than simply enumerating our dataset in order for every epoch, we randomly shuffle the dataset on every epoch before choosing a mini batch.\n",
    "PyTorch and fastai provide a class for you called a DataLoader that does the shuffling and mini batch collation. A DataLoader can take any python collection and turn it into an iterator over mini batches for example"
   ]
  },
  {
   "cell_type": "code",
   "execution_count": null,
   "metadata": {},
   "outputs": [],
   "source": [
    "coll = range(15)\n",
    "dl = DataLoader(coll, batch_size = 5, shuffle=True)\n",
    "list(dl)"
   ]
  },
  {
   "cell_type": "markdown",
   "metadata": {},
   "source": [
    "Putting it all together"
   ]
  },
  {
   "cell_type": "code",
   "execution_count": null,
   "metadata": {},
   "outputs": [],
   "source": [
    "#We want to create a loop like this\n",
    "for x,y in dl:\n",
    "    pred = model(x)\n",
    "    loss = loss_func(preds,y)\n",
    "    loss.backwards()\n",
    "    params.data -= params.grad * lr"
   ]
  },
  {
   "cell_type": "code",
   "execution_count": null,
   "metadata": {},
   "outputs": [],
   "source": [
    "#step 1 \n",
    "#initialize parameters\n",
    "weights = init_params(28*28,1)\n",
    "bias = init_params(1)"
   ]
  },
  {
   "cell_type": "code",
   "execution_count": null,
   "metadata": {},
   "outputs": [],
   "source": [
    "#create dataloader\n",
    "dl = DataLoader(dset, batch_size=256)\n",
    "valid_dl = DataLoader(valid_dset, batch_size=256)"
   ]
  },
  {
   "cell_type": "code",
   "execution_count": null,
   "metadata": {},
   "outputs": [],
   "source": [
    "#create mini batch\n",
    "batch = train_x[:4]\n",
    "batch.shape"
   ]
  },
  {
   "cell_type": "code",
   "execution_count": null,
   "metadata": {},
   "outputs": [],
   "source": [
    "#make preds\n",
    "preds = linear1(batch)\n",
    "preds"
   ]
  },
  {
   "cell_type": "code",
   "execution_count": null,
   "metadata": {},
   "outputs": [],
   "source": [
    "#calculate loss\n",
    "loss = mnist_loss(preds, train_y[:4])\n",
    "loss"
   ]
  },
  {
   "cell_type": "code",
   "execution_count": null,
   "metadata": {},
   "outputs": [],
   "source": [
    "#calculate gradients\n",
    "loss.backwards()\n",
    "weights.grad.shape, weights.grad.mean(), bias.grad"
   ]
  },
  {
   "cell_type": "markdown",
   "metadata": {},
   "source": [
    "Lets put the prediction, loss and gradient part in a function"
   ]
  },
  {
   "cell_type": "code",
   "execution_count": null,
   "metadata": {},
   "outputs": [],
   "source": [
    "def calc_grad(xb, yb, model):\n",
    "    preds = model(xb)\n",
    "    loss = mnist_loss(preds, yb)\n",
    "    loss.backward()"
   ]
  },
  {
   "cell_type": "code",
   "execution_count": null,
   "metadata": {},
   "outputs": [],
   "source": [
    "calc_grad(batch,train_y[:4], linear1)\n",
    "weights.grad.mean(),bias.grad"
   ]
  },
  {
   "cell_type": "markdown",
   "metadata": {},
   "source": [
    "loss.backward() actually adds up the gradients of loss to any other gradients that are stored.Because of this we usually set our weights and bias to 0."
   ]
  },
  {
   "cell_type": "code",
   "execution_count": null,
   "metadata": {},
   "outputs": [],
   "source": [
    "weights.grad.zero_()\n",
    "bias.grad.zero_();"
   ]
  },
  {
   "cell_type": "markdown",
   "metadata": {},
   "source": [
    "Our remaining step is to update our weights and biases based of the gradient values.When doing this we have to tell PyTorch not to take the gradient of this step too otherwise things get confusing when we try to take the derivative at the next step.The data attribute of a tensor signals PyTorch not to calculate gradients at a particular step."
   ]
  },
  {
   "cell_type": "code",
   "execution_count": 3,
   "metadata": {},
   "outputs": [],
   "source": [
    "#training loop for an epoch\n",
    "def train_epoch(model, lr, params):\n",
    "    for x,y in dl:\n",
    "        calc_grad(xb,yb,model)\n",
    "        for p in params:\n",
    "            p.data -= p.grad.lr\n",
    "            p.grad.zero_()"
   ]
  },
  {
   "cell_type": "code",
   "execution_count": null,
   "metadata": {},
   "outputs": [],
   "source": [
    "(preds>0.0).float() == train_y[:4]\n"
   ]
  },
  {
   "cell_type": "code",
   "execution_count": null,
   "metadata": {},
   "outputs": [],
   "source": []
  },
  {
   "cell_type": "code",
   "execution_count": null,
   "metadata": {},
   "outputs": [],
   "source": []
  },
  {
   "cell_type": "code",
   "execution_count": null,
   "metadata": {},
   "outputs": [],
   "source": []
  },
  {
   "cell_type": "code",
   "execution_count": null,
   "metadata": {},
   "outputs": [],
   "source": []
  },
  {
   "cell_type": "code",
   "execution_count": null,
   "metadata": {},
   "outputs": [],
   "source": [
    "#step"
   ]
  },
  {
   "cell_type": "code",
   "execution_count": null,
   "metadata": {},
   "outputs": [],
   "source": []
  }
 ],
 "metadata": {
  "colab": {
   "provenance": []
  },
  "kernelspec": {
   "display_name": "Python 3 (ipykernel)",
   "language": "python",
   "name": "python3"
  },
  "language_info": {
   "codemirror_mode": {
    "name": "ipython",
    "version": 3
   },
   "file_extension": ".py",
   "mimetype": "text/x-python",
   "name": "python",
   "nbconvert_exporter": "python",
   "pygments_lexer": "ipython3",
   "version": "3.10.12"
  }
 },
 "nbformat": 4,
 "nbformat_minor": 4
}
