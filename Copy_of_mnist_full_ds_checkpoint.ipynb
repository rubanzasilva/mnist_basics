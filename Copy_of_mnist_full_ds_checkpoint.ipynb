{
  "cells": [
    {
      "cell_type": "markdown",
      "metadata": {
        "id": "view-in-github",
        "colab_type": "text"
      },
      "source": [
        "<a href=\"https://colab.research.google.com/github/rubanzasilva/mnist_basics/blob/dev/Copy_of_mnist_full_ds_checkpoint.ipynb\" target=\"_parent\"><img src=\"https://colab.research.google.com/assets/colab-badge.svg\" alt=\"Open In Colab\"/></a>"
      ]
    },
    {
      "cell_type": "code",
      "execution_count": 1,
      "id": "b88e13d2-23db-4958-aee5-1a7c834858ff",
      "metadata": {
        "id": "b88e13d2-23db-4958-aee5-1a7c834858ff",
        "outputId": "a1371cbc-27e0-4cdd-8dee-f5bfbbcdbdd5",
        "colab": {
          "base_uri": "https://localhost:8080/"
        }
      },
      "outputs": [
        {
          "output_type": "stream",
          "name": "stdout",
          "text": [
            "\u001b[2K     \u001b[90m━━━━━━━━━━━━━━━━━━━━━━━━━━━━━━━━━━━━━━━━\u001b[0m \u001b[32m719.8/719.8 kB\u001b[0m \u001b[31m7.9 MB/s\u001b[0m eta \u001b[36m0:00:00\u001b[0m\n",
            "\u001b[2K     \u001b[90m━━━━━━━━━━━━━━━━━━━━━━━━━━━━━━━━━━━━━━━━\u001b[0m \u001b[32m521.2/521.2 kB\u001b[0m \u001b[31m6.8 MB/s\u001b[0m eta \u001b[36m0:00:00\u001b[0m\n",
            "\u001b[2K     \u001b[90m━━━━━━━━━━━━━━━━━━━━━━━━━━━━━━━━━━━━━━━━\u001b[0m \u001b[32m1.3/1.3 MB\u001b[0m \u001b[31m19.4 MB/s\u001b[0m eta \u001b[36m0:00:00\u001b[0m\n",
            "\u001b[2K     \u001b[90m━━━━━━━━━━━━━━━━━━━━━━━━━━━━━━━━━━━━━━━━\u001b[0m \u001b[32m115.3/115.3 kB\u001b[0m \u001b[31m15.5 MB/s\u001b[0m eta \u001b[36m0:00:00\u001b[0m\n",
            "\u001b[2K     \u001b[90m━━━━━━━━━━━━━━━━━━━━━━━━━━━━━━━━━━━━━━━━\u001b[0m \u001b[32m134.8/134.8 kB\u001b[0m \u001b[31m17.6 MB/s\u001b[0m eta \u001b[36m0:00:00\u001b[0m\n",
            "\u001b[2K     \u001b[90m━━━━━━━━━━━━━━━━━━━━━━━━━━━━━━━━━━━━━━━━\u001b[0m \u001b[32m1.6/1.6 MB\u001b[0m \u001b[31m24.8 MB/s\u001b[0m eta \u001b[36m0:00:00\u001b[0m\n",
            "\u001b[?25hMounted at /content/gdrive\n"
          ]
        }
      ],
      "source": [
        "#hide\n",
        "! [ -e /content ] && pip install -Uqq fastbook\n",
        "import fastbook\n",
        "fastbook.setup_book()"
      ]
    },
    {
      "cell_type": "code",
      "execution_count": 2,
      "id": "83ed3702-9eb1-452b-b080-d4d8060b0fa2",
      "metadata": {
        "id": "83ed3702-9eb1-452b-b080-d4d8060b0fa2"
      },
      "outputs": [],
      "source": [
        "#hide\n",
        "from fastai.vision.all import *\n",
        "from fastbook import *\n",
        "import numpy as np\n",
        "import pandas as pd\n",
        "\n",
        "matplotlib.rc('image', cmap='Greys')"
      ]
    },
    {
      "cell_type": "code",
      "source": [
        "path = untar_data(URLs.MNIST)"
      ],
      "metadata": {
        "id": "eWYyF2SN719x",
        "colab": {
          "base_uri": "https://localhost:8080/",
          "height": 37
        },
        "outputId": "250d3b34-4efb-47c6-8424-aa41f594ed14"
      },
      "id": "eWYyF2SN719x",
      "execution_count": 3,
      "outputs": [
        {
          "output_type": "display_data",
          "data": {
            "text/plain": [
              "<IPython.core.display.HTML object>"
            ],
            "text/html": [
              "\n",
              "<style>\n",
              "    /* Turns off some styling */\n",
              "    progress {\n",
              "        /* gets rid of default border in Firefox and Opera. */\n",
              "        border: none;\n",
              "        /* Needs to be in here for Safari polyfill so background images work as expected. */\n",
              "        background-size: auto;\n",
              "    }\n",
              "    progress:not([value]), progress:not([value])::-webkit-progress-bar {\n",
              "        background: repeating-linear-gradient(45deg, #7e7e7e, #7e7e7e 10px, #5c5c5c 10px, #5c5c5c 20px);\n",
              "    }\n",
              "    .progress-bar-interrupted, .progress-bar-interrupted::-webkit-progress-bar {\n",
              "        background: #F44336;\n",
              "    }\n",
              "</style>\n"
            ]
          },
          "metadata": {}
        },
        {
          "output_type": "display_data",
          "data": {
            "text/plain": [
              "<IPython.core.display.HTML object>"
            ],
            "text/html": [
              "\n",
              "    <div>\n",
              "      <progress value='15687680' class='' max='15683414' style='width:300px; height:20px; vertical-align: middle;'></progress>\n",
              "      100.03% [15687680/15683414 00:00&lt;00:00]\n",
              "    </div>\n",
              "    "
            ]
          },
          "metadata": {}
        }
      ]
    },
    {
      "cell_type": "code",
      "source": [
        "#hide\n",
        "Path.BASE_PATH = path"
      ],
      "metadata": {
        "id": "1RcKLUBt8fiS"
      },
      "id": "1RcKLUBt8fiS",
      "execution_count": 4,
      "outputs": []
    },
    {
      "cell_type": "code",
      "source": [
        "(path/'testing').ls()"
      ],
      "metadata": {
        "id": "ATF8g9LQ8uXn",
        "outputId": "392439bd-91a3-419f-bb7f-7e0189f6cd76",
        "colab": {
          "base_uri": "https://localhost:8080/"
        }
      },
      "id": "ATF8g9LQ8uXn",
      "execution_count": 5,
      "outputs": [
        {
          "output_type": "execute_result",
          "data": {
            "text/plain": [
              "(#10) [Path('testing/0'),Path('testing/3'),Path('testing/5'),Path('testing/9'),Path('testing/6'),Path('testing/2'),Path('testing/4'),Path('testing/7'),Path('testing/1'),Path('testing/8')]"
            ]
          },
          "metadata": {},
          "execution_count": 5
        }
      ]
    },
    {
      "cell_type": "code",
      "source": [
        "path.ls()"
      ],
      "metadata": {
        "id": "kp2_YTpR716N",
        "colab": {
          "base_uri": "https://localhost:8080/"
        },
        "outputId": "550f7f03-1130-4380-b8f5-d21b5a7db883"
      },
      "id": "kp2_YTpR716N",
      "execution_count": 6,
      "outputs": [
        {
          "output_type": "execute_result",
          "data": {
            "text/plain": [
              "(#2) [Path('training'),Path('testing')]"
            ]
          },
          "metadata": {},
          "execution_count": 6
        }
      ]
    },
    {
      "cell_type": "markdown",
      "source": [
        "As we see in the above dataset, there are folders of zeros,ones etc. using .sorted to ensure we get the same order of files"
      ],
      "metadata": {
        "id": "332O5oR7_vzK"
      },
      "id": "332O5oR7_vzK"
    },
    {
      "cell_type": "code",
      "source": [
        "#read in training digits\n",
        "zeros = (path/'training/0').ls().sorted()\n",
        "ones = (path/'training/1').ls().sorted()\n",
        "twos = (path/'training/2').ls().sorted()\n",
        "threes = (path/'training/3').ls().sorted()\n",
        "fours = (path/'training/4').ls().sorted()\n",
        "fives = (path/'training/5').ls().sorted()\n",
        "sixes = (path/'training/6').ls().sorted()\n",
        "sevens = (path/'training/7').ls().sorted()\n",
        "eights = (path/'training/8').ls().sorted()\n",
        "nines = (path/'training/9').ls().sorted()\n",
        "nines"
      ],
      "metadata": {
        "id": "Pa5ccBdH713j",
        "colab": {
          "base_uri": "https://localhost:8080/"
        },
        "outputId": "decbf1ff-d1de-4834-edf5-ec96009935f5"
      },
      "id": "Pa5ccBdH713j",
      "execution_count": 7,
      "outputs": [
        {
          "output_type": "execute_result",
          "data": {
            "text/plain": [
              "(#5949) [Path('training/9/10003.png'),Path('training/9/10004.png'),Path('training/9/10023.png'),Path('training/9/10028.png'),Path('training/9/10038.png'),Path('training/9/10043.png'),Path('training/9/10047.png'),Path('training/9/1005.png'),Path('training/9/10055.png'),Path('training/9/10059.png')...]"
            ]
          },
          "metadata": {},
          "execution_count": 7
        }
      ]
    },
    {
      "cell_type": "code",
      "source": [
        "im9 = Image.open(nines[5])\n",
        "im9"
      ],
      "metadata": {
        "colab": {
          "base_uri": "https://localhost:8080/",
          "height": 45
        },
        "id": "ugnjxs4OBB58",
        "outputId": "fdee1eeb-9b63-446b-9a50-41cbe8d6ccf8"
      },
      "id": "ugnjxs4OBB58",
      "execution_count": 8,
      "outputs": [
        {
          "output_type": "execute_result",
          "data": {
            "text/plain": [
              "<PIL.PngImagePlugin.PngImageFile image mode=L size=28x28>"
            ],
            "image/png": "[encoded data removed]"
          },
          "metadata": {},
          "execution_count": 8
        }
      ]
    },
    {
      "cell_type": "code",
      "execution_count": 9,
      "id": "9e28711c-8181-49fd-b2cc-7a98c38d09b9",
      "metadata": {
        "id": "9e28711c-8181-49fd-b2cc-7a98c38d09b9",
        "colab": {
          "base_uri": "https://localhost:8080/"
        },
        "outputId": "53a054c7-28f4-4220-8da0-aef3bb9ae3f1"
      },
      "outputs": [
        {
          "output_type": "execute_result",
          "data": {
            "text/plain": [
              "(#1009) [Path('testing/9/1000.png'),Path('testing/9/1005.png'),Path('testing/9/1013.png'),Path('testing/9/104.png'),Path('testing/9/1045.png'),Path('testing/9/1048.png'),Path('testing/9/105.png'),Path('testing/9/1058.png'),Path('testing/9/1063.png'),Path('testing/9/108.png')...]"
            ]
          },
          "metadata": {},
          "execution_count": 9
        }
      ],
      "source": [
        "#read in test set digits\n",
        "valid_zeros = (path/'testing/0').ls().sorted()\n",
        "valid_ones = (path/'testing/1').ls().sorted()\n",
        "valid_twos = (path/'testing/2').ls().sorted()\n",
        "valid_threes = (path/'testing/3').ls().sorted()\n",
        "valid_fours = (path/'testing/4').ls().sorted()\n",
        "valid_fives = (path/'testing/5').ls().sorted()\n",
        "valid_sixes = (path/'testing/6').ls().sorted()\n",
        "valid_sevens = (path/'testing/7').ls().sorted()\n",
        "valid_eights = (path/'testing/8').ls().sorted()\n",
        "valid_nines = (path/'testing/9').ls().sorted()\n",
        "valid_nines"
      ]
    },
    {
      "cell_type": "code",
      "source": [
        "Image.open(valid_eights[3])"
      ],
      "metadata": {
        "colab": {
          "base_uri": "https://localhost:8080/",
          "height": 45
        },
        "id": "Akw9_TTGyE58",
        "outputId": "a8f7a4e6-03cf-4292-d2e2-237785b6cee0"
      },
      "id": "Akw9_TTGyE58",
      "execution_count": 10,
      "outputs": [
        {
          "output_type": "execute_result",
          "data": {
            "text/plain": [
              "<PIL.PngImagePlugin.PngImageFile image mode=L size=28x28>"
            ],
            "image/png": "[encoded data removed]"
          },
          "metadata": {},
          "execution_count": 10
        }
      ]
    },
    {
      "cell_type": "code",
      "source": [
        "#image conversion to tensor\n",
        "im9_tensor = tensor(im9)\n",
        "im9_tensor"
      ],
      "metadata": {
        "colab": {
          "base_uri": "https://localhost:8080/"
        },
        "id": "xckiQktGyE8d",
        "outputId": "ca9cee6d-eddd-4e90-a5b7-4a421f13c858"
      },
      "id": "xckiQktGyE8d",
      "execution_count": 11,
      "outputs": [
        {
          "output_type": "execute_result",
          "data": {
            "text/plain": [
              "tensor([[  0,   0,   0,   0,   0,   0,   0,   0,   0,   0,   0,   0,   0,   0,   0,   0,   0,   0,   0,   0,   0,   0,   0,   0,   0,   0,   0,   0],\n",
              "        [  0,   0,   0,   0,   0,   0,   0,   0,   0,   0,   0,   0,   0,   0,   0,   0,   0,   0,   0,   0,   0,   0,   0,   0,   0,   0,   0,   0],\n",
              "        [  0,   0,   0,   0,   0,   0,   0,   0,   0,   0,   0,   0,   0,   0,   0,   0,   0,   0,   0,   0,   0,   0,   0,   0,   0,   0,   0,   0],\n",
              "        [  0,   0,   0,   0,   0,   0,   0,   0,   0,   0,   0,   0,   0,   0,   0,   0,   0,   0,   0,   0,   0,   0,   0,   0,   0,   0,   0,   0],\n",
              "        [  0,   0,   0,   0,   0,   0,   0,   0,   0,   0,   0,   0,   0,   0,   0,   0,   0,   0,   0,   0,   0,   0,   0,   0,   0,   0,   0,   0],\n",
              "        [  0,   0,   0,   0,   0,   0,   0,   0,   0,   0,   0,   0,   0,   0,   0,   0,   0,   0,   0,   0,   0,   0,   0,   0,   0,   0,   0,   0],\n",
              "        [  0,   0,   0,   0,   0,   0,   0,   0,   0,   0,   0,   0,   0,  70, 140, 254, 254, 254, 167,  32,   0,   0,   0,   0,   0,   0,   0,   0],\n",
              "        [  0,   0,   0,   0,   0,   0,   0,   0,   0,   0,   0,  10, 134, 249, 254, 253, 253, 253, 253,  60,   0,   0,   0,   0,   0,   0,   0,   0],\n",
              "        [  0,   0,   0,   0,   0,   0,   0,   0,   0,  11,  78, 194, 253, 253, 254, 253, 231, 224, 253,  60,   0,   0,   0,   0,   0,   0,   0,   0],\n",
              "        [  0,   0,   0,   0,   0,   0,   0,   0,  12, 165, 253, 253, 253, 253, 200,  84,  32,  17,  96,  55,   0,   0,   0,   0,   0,   0,   0,   0],\n",
              "        [  0,   0,   0,   0,   0,   0,   0,  12, 165, 253, 253, 253, 198,  77,   0,   0,   0,  41, 107, 233,  34,   0,   0,   0,   0,   0,   0,   0],\n",
              "        [  0,   0,   0,   0,   0,   0,   0,  49, 253, 253, 153,  60,   6,   0,   0,  42,  73, 194, 253, 253,  48,   0,   0,   0,   0,   0,   0,   0],\n",
              "        [  0,   0,   0,   0,   0,   0,   0,  49, 253, 253, 117,  85,  85, 143, 207, 233, 253, 253, 253, 229,  32,   0,   0,   0,   0,   0,   0,   0],\n",
              "        [  0,   0,   0,   0,   0,   0,   0,  30, 226, 253, 253, 253, 253, 253, 254, 198, 217, 253, 253,  77,   0,   0,   0,   0,   0,   0,   0,   0],\n",
              "        [  0,   0,   0,   0,   0,   0,   0,   0,  46, 228, 253, 253, 154,  87,  24,  10, 157, 253, 146,   6,   0,   0,   0,   0,   0,   0,   0,   0],\n",
              "        [  0,   0,   0,   0,   0,   0,   0,   0,   0,   9,  11,  11,   1,   0,   0,  24, 249, 230,  38,   0,   0,   0,   0,   0,   0,   0,   0,   0],\n",
              "        [  0,   0,   0,   0,   0,   0,   0,   0,   0,   0,   0,   0,   0,   0,  19, 254, 254, 200,   0,   0,   0,   0,   0,   0,   0,   0,   0,   0],\n",
              "        [  0,   0,   0,   0,   0,   0,   0,   0,   0,   0,   0,   0,   0,   0, 145, 253, 250,  76,   0,   0,   0,   0,   0,   0,   0,   0,   0,   0],\n",
              "        [  0,   0,   0,   0,   0,   0,   0,   0,   0,   0,   0,   0,   0,  76, 254, 250, 128,   0,   0,   0,   0,   0,   0,   0,   0,   0,   0,   0],\n",
              "        [  0,   0,   0,   0,   0,   0,   0,   0,   0,   0,   0,   0,  45, 204, 254, 229,   0,   0,   0,   0,   0,   0,   0,   0,   0,   0,   0,   0],\n",
              "        [  0,   0,   0,   0,   0,   0,   0,   0,   0,   0,   0,   0, 230, 253, 252, 117,   0,   0,   0,   0,   0,   0,   0,   0,   0,   0,   0,   0],\n",
              "        [  0,   0,   0,   0,   0,   0,   0,   0,   0,   0,   0,  75, 248, 253, 207,   0,   0,   0,   0,   0,   0,   0,   0,   0,   0,   0,   0,   0],\n",
              "        [  0,   0,   0,   0,   0,   0,   0,   0,   0,   0,  29, 207, 253, 253,  23,   0,   0,   0,   0,   0,   0,   0,   0,   0,   0,   0,   0,   0],\n",
              "        [  0,   0,   0,   0,   0,   0,   0,   0,   0,   0, 131, 253, 253, 149,   0,   0,   0,   0,   0,   0,   0,   0,   0,   0,   0,   0,   0,   0],\n",
              "        [  0,   0,   0,   0,   0,   0,   0,   0,   0,  32, 226, 253, 253,  22,   0,   0,   0,   0,   0,   0,   0,   0,   0,   0,   0,   0,   0,   0],\n",
              "        [  0,   0,   0,   0,   0,   0,   0,   0,   0,  97, 173, 253,  92,   1,   0,   0,   0,   0,   0,   0,   0,   0,   0,   0,   0,   0,   0,   0],\n",
              "        [  0,   0,   0,   0,   0,   0,   0,   0,   0,   0,   0,   0,   0,   0,   0,   0,   0,   0,   0,   0,   0,   0,   0,   0,   0,   0,   0,   0],\n",
              "        [  0,   0,   0,   0,   0,   0,   0,   0,   0,   0,   0,   0,   0,   0,   0,   0,   0,   0,   0,   0,   0,   0,   0,   0,   0,   0,   0,   0]], dtype=torch.uint8)"
            ]
          },
          "metadata": {},
          "execution_count": 11
        }
      ]
    },
    {
      "cell_type": "code",
      "source": [
        "#convert all to tensor\n",
        "zeros_tens =  [tensor(Image.open(o)) for o in zeros]\n",
        "ones_tens = [tensor(Image.open(o)) for o in ones]\n",
        "twos_tens = [tensor(Image.open(o)) for o in twos]\n",
        "threes_tens = [tensor(Image.open(o)) for o in threes]\n",
        "fours_tens = [tensor(Image.open(o)) for o in fours]\n",
        "fives_tens = [tensor(Image.open(o)) for o in fives]\n",
        "sixes_tens = [tensor(Image.open(o)) for o in sixes]\n",
        "sevens_tens = [tensor(Image.open(o)) for o in sevens]\n",
        "eights_tens = [tensor(Image.open(o)) for o in eights]\n",
        "nines_tens = [tensor(Image.open(o)) for o in nines]\n"
      ],
      "metadata": {
        "id": "XyeMkMTKyE-0"
      },
      "id": "XyeMkMTKyE-0",
      "execution_count": 12,
      "outputs": []
    },
    {
      "cell_type": "code",
      "source": [
        "#convert all to tensor\n",
        "valid_zeros_tens =  [tensor(Image.open(o)) for o in valid_zeros]\n",
        "valid_ones_tens = [tensor(Image.open(o)) for o in valid_ones]\n",
        "valid_twos_tens = [tensor(Image.open(o)) for o in valid_twos]\n",
        "valid_threes_tens = [tensor(Image.open(o)) for o in valid_threes]\n",
        "valid_fours_tens = [tensor(Image.open(o)) for o in valid_fours]\n",
        "valid_fives_tens = [tensor(Image.open(o)) for o in valid_fives]\n",
        "valid_sixes_tens = [tensor(Image.open(o)) for o in valid_sixes]\n",
        "valid_sevens_tens = [tensor(Image.open(o)) for o in valid_sevens]\n",
        "valid_eights_tens = [tensor(Image.open(o)) for o in valid_eights]\n",
        "valid_nines_tens = [tensor(Image.open(o)) for o in valid_nines]\n"
      ],
      "metadata": {
        "id": "ZYwBkOhX5NHR"
      },
      "id": "ZYwBkOhX5NHR",
      "execution_count": 13,
      "outputs": []
    },
    {
      "cell_type": "code",
      "source": [
        "show_image(zeros_tens[0])"
      ],
      "metadata": {
        "colab": {
          "base_uri": "https://localhost:8080/",
          "height": 131
        },
        "id": "f8DaiBYjyFBf",
        "outputId": "906e83f6-2fd7-4983-d686-580b32d7fef1"
      },
      "id": "f8DaiBYjyFBf",
      "execution_count": 14,
      "outputs": [
        {
          "output_type": "execute_result",
          "data": {
            "text/plain": [
              "<Axes: >"
            ]
          },
          "metadata": {},
          "execution_count": 14
        },
        {
          "output_type": "display_data",
          "data": {
            "text/plain": [
              "<Figure size 100x100 with 1 Axes>"
            ],
            "image/png": "[encoded data removed]"
          },
          "metadata": {}
        }
      ]
    },
    {
      "cell_type": "code",
      "source": [
        "stacked_zeros = torch.stack(zeros_tens).float()/255\n",
        "stacked_ones = torch.stack(ones_tens).float()/255\n",
        "stacked_twos = torch.stack(twos_tens).float()/255\n",
        "stacked_threes = torch.stack(threes_tens).float()/255\n",
        "stacked_fours = torch.stack(fours_tens).float()/255\n",
        "stacked_fives = torch.stack(fives_tens).float()/255\n",
        "stacked_sixes = torch.stack(sixes_tens).float()/255\n",
        "stacked_sevens = torch.stack(sevens_tens).float()/255\n",
        "stacked_eights = torch.stack(eights_tens).float()/255\n",
        "stacked_nines = torch.stack(nines_tens).float()/255"
      ],
      "metadata": {
        "id": "E0KsDeNPyFGj"
      },
      "id": "E0KsDeNPyFGj",
      "execution_count": 15,
      "outputs": []
    },
    {
      "cell_type": "code",
      "source": [
        "valid_stacked_zeros = torch.stack(valid_zeros_tens).float()/255\n",
        "valid_stacked_ones = torch.stack(valid_ones_tens).float()/255\n",
        "valid_stacked_twos = torch.stack(valid_twos_tens).float()/255\n",
        "valid_stacked_threes = torch.stack(valid_threes_tens).float()/255\n",
        "valid_stacked_fours = torch.stack(valid_fours_tens).float()/255\n",
        "valid_stacked_fives = torch.stack(valid_fives_tens).float()/255\n",
        "valid_stacked_sixes = torch.stack(valid_sixes_tens).float()/255\n",
        "valid_stacked_sevens = torch.stack(valid_sevens_tens).float()/255\n",
        "valid_stacked_eights = torch.stack(valid_eights_tens).float()/255\n",
        "valid_stacked_nines = torch.stack(valid_nines_tens).float()/255"
      ],
      "metadata": {
        "id": "MMbx6CNt5_dx"
      },
      "id": "MMbx6CNt5_dx",
      "execution_count": 16,
      "outputs": []
    },
    {
      "cell_type": "code",
      "source": [
        "stacked_threes.shape"
      ],
      "metadata": {
        "colab": {
          "base_uri": "https://localhost:8080/"
        },
        "id": "TbqmLKBbyFJb",
        "outputId": "45f33294-7970-4951-fb76-be9f2313d88d"
      },
      "id": "TbqmLKBbyFJb",
      "execution_count": 17,
      "outputs": [
        {
          "output_type": "execute_result",
          "data": {
            "text/plain": [
              "torch.Size([6131, 28, 28])"
            ]
          },
          "metadata": {},
          "execution_count": 17
        }
      ]
    },
    {
      "cell_type": "code",
      "source": [
        "#calculate mean3 for fun\n",
        "mean9 = stacked_nines.mean(0)\n",
        "show_image(mean9)"
      ],
      "metadata": {
        "id": "Ey76WmFk_HWD",
        "colab": {
          "base_uri": "https://localhost:8080/",
          "height": 131
        },
        "outputId": "87947ff9-9ab2-4b41-f6ec-1405658be157"
      },
      "id": "Ey76WmFk_HWD",
      "execution_count": 18,
      "outputs": [
        {
          "output_type": "execute_result",
          "data": {
            "text/plain": [
              "<Axes: >"
            ]
          },
          "metadata": {},
          "execution_count": 18
        },
        {
          "output_type": "display_data",
          "data": {
            "text/plain": [
              "<Figure size 100x100 with 1 Axes>"
            ],
            "image/png": "[encoded data removed]"
          },
          "metadata": {}
        }
      ]
    },
    {
      "cell_type": "markdown",
      "source": [
        "Mnist Loss Function"
      ],
      "metadata": {
        "id": "A6zk-Pv46ph4"
      },
      "id": "A6zk-Pv46ph4"
    },
    {
      "cell_type": "code",
      "execution_count": 19,
      "id": "1655ae29-5005-4a04-b9f0-2201989677f8",
      "metadata": {
        "id": "1655ae29-5005-4a04-b9f0-2201989677f8"
      },
      "outputs": [],
      "source": [
        "train_x = torch.cat([stacked_zeros,stacked_ones,stacked_twos,stacked_threes,stacked_fours,stacked_fives,stacked_sixes,stacked_sevens,stacked_eights,stacked_nines]).view(-1, 28*28)"
      ]
    },
    {
      "cell_type": "code",
      "execution_count": 20,
      "id": "87cef870-b689-4222-8d32-e252f4c65549",
      "metadata": {
        "id": "87cef870-b689-4222-8d32-e252f4c65549"
      },
      "outputs": [],
      "source": [
        "train_y = tensor( [0]*len(zeros) + [1]*len(ones) + [2]*len(twos) + [3]*len(threes) + [4]*len(fours) + [5]*len(fives) + [6]*len(sixes) + [7]*len(sevens) + [8]*len(eights) + [9]*len(nines)).unsqueeze(1)"
      ]
    },
    {
      "cell_type": "code",
      "execution_count": 21,
      "id": "ea2ea532-d95d-40d9-b144-dad30976dd59",
      "metadata": {
        "id": "ea2ea532-d95d-40d9-b144-dad30976dd59",
        "colab": {
          "base_uri": "https://localhost:8080/"
        },
        "outputId": "677c7b1c-2929-42ea-8f43-7c5c96c463e1"
      },
      "outputs": [
        {
          "output_type": "execute_result",
          "data": {
            "text/plain": [
              "(torch.Size([60000, 784]), torch.Size([60000, 1]))"
            ]
          },
          "metadata": {},
          "execution_count": 21
        }
      ],
      "source": [
        "train_x.shape,train_y.shape"
      ]
    },
    {
      "cell_type": "code",
      "source": [
        "dset = list(zip(train_x,train_y))\n",
        "x,y = dset[0]\n",
        "x.shape,y"
      ],
      "metadata": {
        "colab": {
          "base_uri": "https://localhost:8080/"
        },
        "id": "g7LMlUsWAU2R",
        "outputId": "e50f7b63-b7fc-4c58-ccc2-046b69b96b75"
      },
      "id": "g7LMlUsWAU2R",
      "execution_count": 22,
      "outputs": [
        {
          "output_type": "execute_result",
          "data": {
            "text/plain": [
              "(torch.Size([784]), tensor([0]))"
            ]
          },
          "metadata": {},
          "execution_count": 22
        }
      ]
    },
    {
      "cell_type": "code",
      "source": [
        "dset = list(zip(train_x,train_y))\n",
        "x,y = dset[5923]\n",
        "x.shape,y"
      ],
      "metadata": {
        "colab": {
          "base_uri": "https://localhost:8080/"
        },
        "id": "VeC9Qe5IFLXk",
        "outputId": "0415d67e-d1d8-452c-d5e9-855f13e4357e"
      },
      "id": "VeC9Qe5IFLXk",
      "execution_count": 23,
      "outputs": [
        {
          "output_type": "execute_result",
          "data": {
            "text/plain": [
              "(torch.Size([784]), tensor([1]))"
            ]
          },
          "metadata": {},
          "execution_count": 23
        }
      ]
    },
    {
      "cell_type": "code",
      "source": [
        "len(zeros)"
      ],
      "metadata": {
        "colab": {
          "base_uri": "https://localhost:8080/"
        },
        "id": "PAJRk0sXHZvi",
        "outputId": "4c413f89-5e78-4307-942f-8bc9c3a192f1"
      },
      "id": "PAJRk0sXHZvi",
      "execution_count": 24,
      "outputs": [
        {
          "output_type": "execute_result",
          "data": {
            "text/plain": [
              "5923"
            ]
          },
          "metadata": {},
          "execution_count": 24
        }
      ]
    },
    {
      "cell_type": "markdown",
      "source": [
        "The zip function aggregates the iterables you pass to it in this case train_x and train_y, hereby pairing the first value of train_x with the first value of train_y in a tuple and so on basically the image and label, x and y i.e. [(train_x[0],train_y[0]),(train_x[1],train_y[1])].\n",
        "\n",
        "The list function then transforms this object(iterator) into a list.\n",
        "We can then get the first item of this which would be the first pair.\n",
        "\n",
        "Querying dset[1] up to dset[5922] will still return the value of y stacked as o because we have 5923 o values stacked up first in the tensor.\n",
        "\n",
        "x,y = dset[5923] returns (torch.Size([784]), tensor([1])).\n",
        "\n"
      ],
      "metadata": {
        "id": "GbNrU0J7DODm"
      },
      "id": "GbNrU0J7DODm"
    },
    {
      "cell_type": "code",
      "source": [
        "valid_x = torch.cat([valid_stacked_zeros,valid_stacked_ones,valid_stacked_twos,valid_stacked_threes,valid_stacked_fours,valid_stacked_fives,valid_stacked_sixes,valid_stacked_sevens,valid_stacked_eights,valid_stacked_nines]).view(-1, 28*28)\n",
        "valid_y = tensor( [0]*len(valid_zeros) + [1]*len(valid_ones) + [2]*len(valid_twos) + [3]*len(valid_threes) + [4]*len(valid_fours) + [5]*len(valid_fives) + [6]*len(valid_sixes) + [7]*len(valid_sevens) + [8]*len(valid_eights) + [9]*len(valid_nines)).unsqueeze(1)\n",
        "valid_dset = list(zip(valid_x,valid_y))"
      ],
      "metadata": {
        "id": "JNaliRM9AUy2"
      },
      "id": "JNaliRM9AUy2",
      "execution_count": 25,
      "outputs": []
    },
    {
      "cell_type": "code",
      "execution_count": 26,
      "id": "6f226fac-7171-4921-b04e-0036d71aa318",
      "metadata": {
        "id": "6f226fac-7171-4921-b04e-0036d71aa318"
      },
      "outputs": [],
      "source": [
        "#define linear model\n",
        "def linear1(xb):\n",
        "  return xb@weights + bias"
      ]
    },
    {
      "cell_type": "code",
      "source": [
        "#Mnist loss function\n",
        "def mnist_loss(predictions,targets):\n",
        "  predictions = predictions.sigmoid()\n",
        "  return torch.where(targets==1, 1-predictions, predictions).mean()"
      ],
      "metadata": {
        "id": "kDbA_U1oQxfc"
      },
      "id": "kDbA_U1oQxfc",
      "execution_count": 27,
      "outputs": []
    },
    {
      "cell_type": "code",
      "source": [
        "#define function to Initialize parameters and return random parameters\n",
        "#requires_grad tells PyTorch to track gradients when init_params is used\n",
        "\n",
        "def init_params(size,std=1.0):\n",
        "  return (torch.randn(size)*std).requires_grad_()"
      ],
      "metadata": {
        "id": "3uFUXwOdAUwH"
      },
      "id": "3uFUXwOdAUwH",
      "execution_count": 28,
      "outputs": []
    },
    {
      "cell_type": "markdown",
      "source": [
        "##Linear Model"
      ],
      "metadata": {
        "id": "O3-2GIhnWFlT"
      },
      "id": "O3-2GIhnWFlT"
    },
    {
      "cell_type": "markdown",
      "source": [
        "1. Initialize parameters"
      ],
      "metadata": {
        "id": "-7Wp3L4XSTq6"
      },
      "id": "-7Wp3L4XSTq6"
    },
    {
      "cell_type": "code",
      "source": [
        "weights = init_params((28*28,1))"
      ],
      "metadata": {
        "id": "Neus5SheAUts"
      },
      "id": "Neus5SheAUts",
      "execution_count": 29,
      "outputs": []
    },
    {
      "cell_type": "code",
      "execution_count": 30,
      "id": "80b1e7b3-1a5d-4b0f-8857-07e92beb949a",
      "metadata": {
        "id": "80b1e7b3-1a5d-4b0f-8857-07e92beb949a"
      },
      "outputs": [],
      "source": [
        "bias = init_params(1)"
      ]
    },
    {
      "cell_type": "markdown",
      "source": [
        "Define data loader to do mini batch collation and shuffling"
      ],
      "metadata": {
        "id": "AVE-XS4pSjPe"
      },
      "id": "AVE-XS4pSjPe"
    },
    {
      "cell_type": "code",
      "source": [
        "dl = DataLoader(dset, batch_size=256)\n",
        "xb,yb = first(dl)\n",
        "xb.shape,yb.shape"
      ],
      "metadata": {
        "colab": {
          "base_uri": "https://localhost:8080/"
        },
        "id": "v8JEbCGOSwez",
        "outputId": "c00255ca-0131-46fc-b345-9d405a816294"
      },
      "id": "v8JEbCGOSwez",
      "execution_count": 31,
      "outputs": [
        {
          "output_type": "execute_result",
          "data": {
            "text/plain": [
              "(torch.Size([256, 784]), torch.Size([256, 1]))"
            ]
          },
          "metadata": {},
          "execution_count": 31
        }
      ]
    },
    {
      "cell_type": "code",
      "source": [
        "valid_dl = DataLoader(valid_dset, batch_size=256)"
      ],
      "metadata": {
        "id": "bdV7Y4Z1SwNv"
      },
      "id": "bdV7Y4Z1SwNv",
      "execution_count": 32,
      "outputs": []
    },
    {
      "cell_type": "code",
      "source": [
        "#mini batch\n",
        "batch = train_x[:4]\n",
        "batch"
      ],
      "metadata": {
        "colab": {
          "base_uri": "https://localhost:8080/"
        },
        "id": "1nfNFjB2UlNt",
        "outputId": "4cf58136-6b7d-413e-a74f-981686ef15de"
      },
      "id": "1nfNFjB2UlNt",
      "execution_count": 33,
      "outputs": [
        {
          "output_type": "execute_result",
          "data": {
            "text/plain": [
              "tensor([[0., 0., 0.,  ..., 0., 0., 0.],\n",
              "        [0., 0., 0.,  ..., 0., 0., 0.],\n",
              "        [0., 0., 0.,  ..., 0., 0., 0.],\n",
              "        [0., 0., 0.,  ..., 0., 0., 0.]])"
            ]
          },
          "metadata": {},
          "execution_count": 33
        }
      ]
    },
    {
      "cell_type": "code",
      "source": [
        "label_batch = train_y[:4]\n",
        "label_batch.shape"
      ],
      "metadata": {
        "colab": {
          "base_uri": "https://localhost:8080/"
        },
        "id": "bazH7zSuVSKy",
        "outputId": "7bd61fb1-bfc5-44bf-8286-ed2047404368"
      },
      "id": "bazH7zSuVSKy",
      "execution_count": 34,
      "outputs": [
        {
          "output_type": "execute_result",
          "data": {
            "text/plain": [
              "torch.Size([4, 1])"
            ]
          },
          "metadata": {},
          "execution_count": 34
        }
      ]
    },
    {
      "cell_type": "code",
      "source": [
        "preds = linear1(batch)\n",
        "preds"
      ],
      "metadata": {
        "colab": {
          "base_uri": "https://localhost:8080/"
        },
        "id": "IIHXdq7eUlKG",
        "outputId": "bd50dc7a-d7f9-4c2b-c0c5-5c719b27f581"
      },
      "id": "IIHXdq7eUlKG",
      "execution_count": 35,
      "outputs": [
        {
          "output_type": "execute_result",
          "data": {
            "text/plain": [
              "tensor([[ -9.2751],\n",
              "        [-23.0076],\n",
              "        [-15.8010],\n",
              "        [ -6.9643]], grad_fn=<AddBackward0>)"
            ]
          },
          "metadata": {},
          "execution_count": 35
        }
      ]
    },
    {
      "cell_type": "code",
      "source": [
        "loss = mnist_loss(preds,label_batch)\n",
        "loss"
      ],
      "metadata": {
        "colab": {
          "base_uri": "https://localhost:8080/"
        },
        "id": "gL0kcfo0UlHP",
        "outputId": "c503e8f3-4dbf-46e9-e9ae-84f168aa71c8"
      },
      "id": "gL0kcfo0UlHP",
      "execution_count": 36,
      "outputs": [
        {
          "output_type": "execute_result",
          "data": {
            "text/plain": [
              "tensor(0.0003, grad_fn=<MeanBackward0>)"
            ]
          },
          "metadata": {},
          "execution_count": 36
        }
      ]
    },
    {
      "cell_type": "code",
      "source": [
        "loss.backward()"
      ],
      "metadata": {
        "id": "8EdbNWTHUlEk"
      },
      "id": "8EdbNWTHUlEk",
      "execution_count": 37,
      "outputs": []
    },
    {
      "cell_type": "code",
      "source": [
        "weights.grad.mean(),bias.grad"
      ],
      "metadata": {
        "id": "ZxFCTOqMOTg_",
        "colab": {
          "base_uri": "https://localhost:8080/"
        },
        "outputId": "23246dc3-2f49-4285-9b64-1f779995ff34"
      },
      "id": "ZxFCTOqMOTg_",
      "execution_count": 38,
      "outputs": [
        {
          "output_type": "execute_result",
          "data": {
            "text/plain": [
              "(tensor(4.4802e-05), tensor([0.0003]))"
            ]
          },
          "metadata": {},
          "execution_count": 38
        }
      ]
    },
    {
      "cell_type": "code",
      "source": [
        "corrects = (preds>0.0).float() == label_batch\n",
        "corrects"
      ],
      "metadata": {
        "colab": {
          "base_uri": "https://localhost:8080/"
        },
        "id": "QOdy9A_kN_tX",
        "outputId": "ff294628-9bf2-4827-a5b3-9467e8112d1a"
      },
      "id": "QOdy9A_kN_tX",
      "execution_count": 39,
      "outputs": [
        {
          "output_type": "execute_result",
          "data": {
            "text/plain": [
              "tensor([[True],\n",
              "        [True],\n",
              "        [True],\n",
              "        [True]])"
            ]
          },
          "metadata": {},
          "execution_count": 39
        }
      ]
    },
    {
      "cell_type": "code",
      "source": [
        "corrects.float().mean().item()"
      ],
      "metadata": {
        "colab": {
          "base_uri": "https://localhost:8080/"
        },
        "id": "nrYF_Xh6RjEX",
        "outputId": "889c8e4b-3a58-4045-e563-2c9e89b28172"
      },
      "id": "nrYF_Xh6RjEX",
      "execution_count": 40,
      "outputs": [
        {
          "output_type": "execute_result",
          "data": {
            "text/plain": [
              "1.0"
            ]
          },
          "metadata": {},
          "execution_count": 40
        }
      ]
    },
    {
      "cell_type": "code",
      "source": [
        "def calc_grad(xb,yb,model):\n",
        "  preds = model(xb)\n",
        "  loss = mnist_loss(preds,yb)\n",
        "  loss.backward()"
      ],
      "metadata": {
        "id": "iLmzexsaSKLq"
      },
      "id": "iLmzexsaSKLq",
      "execution_count": 41,
      "outputs": []
    },
    {
      "cell_type": "code",
      "source": [
        "calc_grad(batch,label_batch,linear1)"
      ],
      "metadata": {
        "id": "OH5atNSTEfhw"
      },
      "id": "OH5atNSTEfhw",
      "execution_count": 42,
      "outputs": []
    },
    {
      "cell_type": "code",
      "source": [
        "weights.grad.mean(),bias.grad"
      ],
      "metadata": {
        "colab": {
          "base_uri": "https://localhost:8080/"
        },
        "id": "MRxcdLKvEt_x",
        "outputId": "665969a2-8584-4efb-b09a-39af95bc25e8"
      },
      "id": "MRxcdLKvEt_x",
      "execution_count": 43,
      "outputs": [
        {
          "output_type": "execute_result",
          "data": {
            "text/plain": [
              "(tensor(8.9603e-05), tensor([0.0005]))"
            ]
          },
          "metadata": {},
          "execution_count": 43
        }
      ]
    },
    {
      "cell_type": "code",
      "source": [
        "\n",
        "#calculate grads second time\n",
        "calc_grad(batch,label_batch,linear1)\n",
        "weights.grad.mean(),bias.grad"
      ],
      "metadata": {
        "colab": {
          "base_uri": "https://localhost:8080/"
        },
        "id": "YPShSgwLExLj",
        "outputId": "9aaa957d-17e4-4b8b-e8ed-8dfb915a37a7"
      },
      "id": "YPShSgwLExLj",
      "execution_count": 44,
      "outputs": [
        {
          "output_type": "execute_result",
          "data": {
            "text/plain": [
              "(tensor(0.0001), tensor([0.0008]))"
            ]
          },
          "metadata": {},
          "execution_count": 44
        }
      ]
    },
    {
      "cell_type": "markdown",
      "source": [
        "loss.backward adds the gradients of a loss to any gradients that are currently stored. So we have to set the current gradients to 0 first"
      ],
      "metadata": {
        "id": "A_Z23vVRFlDK"
      },
      "id": "A_Z23vVRFlDK"
    },
    {
      "cell_type": "code",
      "source": [
        "weights.grad.zero_(),bias.grad.zero_()"
      ],
      "metadata": {
        "id": "0KozbaCbExIL",
        "colab": {
          "base_uri": "https://localhost:8080/"
        },
        "outputId": "a4ceda7e-bc56-46bd-a90d-29dc4a55a259"
      },
      "id": "0KozbaCbExIL",
      "execution_count": 45,
      "outputs": [
        {
          "output_type": "execute_result",
          "data": {
            "text/plain": [
              "(tensor([[0.],\n",
              "         [0.],\n",
              "         [0.],\n",
              "         [0.],\n",
              "         [0.],\n",
              "         [0.],\n",
              "         [0.],\n",
              "         [0.],\n",
              "         [0.],\n",
              "         [0.],\n",
              "         [0.],\n",
              "         [0.],\n",
              "         [0.],\n",
              "         [0.],\n",
              "         [0.],\n",
              "         [0.],\n",
              "         [0.],\n",
              "         [0.],\n",
              "         [0.],\n",
              "         [0.],\n",
              "         [0.],\n",
              "         [0.],\n",
              "         [0.],\n",
              "         [0.],\n",
              "         [0.],\n",
              "         [0.],\n",
              "         [0.],\n",
              "         [0.],\n",
              "         [0.],\n",
              "         [0.],\n",
              "         [0.],\n",
              "         [0.],\n",
              "         [0.],\n",
              "         [0.],\n",
              "         [0.],\n",
              "         [0.],\n",
              "         [0.],\n",
              "         [0.],\n",
              "         [0.],\n",
              "         [0.],\n",
              "         [0.],\n",
              "         [0.],\n",
              "         [0.],\n",
              "         [0.],\n",
              "         [0.],\n",
              "         [0.],\n",
              "         [0.],\n",
              "         [0.],\n",
              "         [0.],\n",
              "         [0.],\n",
              "         [0.],\n",
              "         [0.],\n",
              "         [0.],\n",
              "         [0.],\n",
              "         [0.],\n",
              "         [0.],\n",
              "         [0.],\n",
              "         [0.],\n",
              "         [0.],\n",
              "         [0.],\n",
              "         [0.],\n",
              "         [0.],\n",
              "         [0.],\n",
              "         [0.],\n",
              "         [0.],\n",
              "         [0.],\n",
              "         [0.],\n",
              "         [0.],\n",
              "         [0.],\n",
              "         [0.],\n",
              "         [0.],\n",
              "         [0.],\n",
              "         [0.],\n",
              "         [0.],\n",
              "         [0.],\n",
              "         [0.],\n",
              "         [0.],\n",
              "         [0.],\n",
              "         [0.],\n",
              "         [0.],\n",
              "         [0.],\n",
              "         [0.],\n",
              "         [0.],\n",
              "         [0.],\n",
              "         [0.],\n",
              "         [0.],\n",
              "         [0.],\n",
              "         [0.],\n",
              "         [0.],\n",
              "         [0.],\n",
              "         [0.],\n",
              "         [0.],\n",
              "         [0.],\n",
              "         [0.],\n",
              "         [0.],\n",
              "         [0.],\n",
              "         [0.],\n",
              "         [0.],\n",
              "         [0.],\n",
              "         [0.],\n",
              "         [0.],\n",
              "         [0.],\n",
              "         [0.],\n",
              "         [0.],\n",
              "         [0.],\n",
              "         [0.],\n",
              "         [0.],\n",
              "         [0.],\n",
              "         [0.],\n",
              "         [0.],\n",
              "         [0.],\n",
              "         [0.],\n",
              "         [0.],\n",
              "         [0.],\n",
              "         [0.],\n",
              "         [0.],\n",
              "         [0.],\n",
              "         [0.],\n",
              "         [0.],\n",
              "         [0.],\n",
              "         [0.],\n",
              "         [0.],\n",
              "         [0.],\n",
              "         [0.],\n",
              "         [0.],\n",
              "         [0.],\n",
              "         [0.],\n",
              "         [0.],\n",
              "         [0.],\n",
              "         [0.],\n",
              "         [0.],\n",
              "         [0.],\n",
              "         [0.],\n",
              "         [0.],\n",
              "         [0.],\n",
              "         [0.],\n",
              "         [0.],\n",
              "         [0.],\n",
              "         [0.],\n",
              "         [0.],\n",
              "         [0.],\n",
              "         [0.],\n",
              "         [0.],\n",
              "         [0.],\n",
              "         [0.],\n",
              "         [0.],\n",
              "         [0.],\n",
              "         [0.],\n",
              "         [0.],\n",
              "         [0.],\n",
              "         [0.],\n",
              "         [0.],\n",
              "         [0.],\n",
              "         [0.],\n",
              "         [0.],\n",
              "         [0.],\n",
              "         [0.],\n",
              "         [0.],\n",
              "         [0.],\n",
              "         [0.],\n",
              "         [0.],\n",
              "         [0.],\n",
              "         [0.],\n",
              "         [0.],\n",
              "         [0.],\n",
              "         [0.],\n",
              "         [0.],\n",
              "         [0.],\n",
              "         [0.],\n",
              "         [0.],\n",
              "         [0.],\n",
              "         [0.],\n",
              "         [0.],\n",
              "         [0.],\n",
              "         [0.],\n",
              "         [0.],\n",
              "         [0.],\n",
              "         [0.],\n",
              "         [0.],\n",
              "         [0.],\n",
              "         [0.],\n",
              "         [0.],\n",
              "         [0.],\n",
              "         [0.],\n",
              "         [0.],\n",
              "         [0.],\n",
              "         [0.],\n",
              "         [0.],\n",
              "         [0.],\n",
              "         [0.],\n",
              "         [0.],\n",
              "         [0.],\n",
              "         [0.],\n",
              "         [0.],\n",
              "         [0.],\n",
              "         [0.],\n",
              "         [0.],\n",
              "         [0.],\n",
              "         [0.],\n",
              "         [0.],\n",
              "         [0.],\n",
              "         [0.],\n",
              "         [0.],\n",
              "         [0.],\n",
              "         [0.],\n",
              "         [0.],\n",
              "         [0.],\n",
              "         [0.],\n",
              "         [0.],\n",
              "         [0.],\n",
              "         [0.],\n",
              "         [0.],\n",
              "         [0.],\n",
              "         [0.],\n",
              "         [0.],\n",
              "         [0.],\n",
              "         [0.],\n",
              "         [0.],\n",
              "         [0.],\n",
              "         [0.],\n",
              "         [0.],\n",
              "         [0.],\n",
              "         [0.],\n",
              "         [0.],\n",
              "         [0.],\n",
              "         [0.],\n",
              "         [0.],\n",
              "         [0.],\n",
              "         [0.],\n",
              "         [0.],\n",
              "         [0.],\n",
              "         [0.],\n",
              "         [0.],\n",
              "         [0.],\n",
              "         [0.],\n",
              "         [0.],\n",
              "         [0.],\n",
              "         [0.],\n",
              "         [0.],\n",
              "         [0.],\n",
              "         [0.],\n",
              "         [0.],\n",
              "         [0.],\n",
              "         [0.],\n",
              "         [0.],\n",
              "         [0.],\n",
              "         [0.],\n",
              "         [0.],\n",
              "         [0.],\n",
              "         [0.],\n",
              "         [0.],\n",
              "         [0.],\n",
              "         [0.],\n",
              "         [0.],\n",
              "         [0.],\n",
              "         [0.],\n",
              "         [0.],\n",
              "         [0.],\n",
              "         [0.],\n",
              "         [0.],\n",
              "         [0.],\n",
              "         [0.],\n",
              "         [0.],\n",
              "         [0.],\n",
              "         [0.],\n",
              "         [0.],\n",
              "         [0.],\n",
              "         [0.],\n",
              "         [0.],\n",
              "         [0.],\n",
              "         [0.],\n",
              "         [0.],\n",
              "         [0.],\n",
              "         [0.],\n",
              "         [0.],\n",
              "         [0.],\n",
              "         [0.],\n",
              "         [0.],\n",
              "         [0.],\n",
              "         [0.],\n",
              "         [0.],\n",
              "         [0.],\n",
              "         [0.],\n",
              "         [0.],\n",
              "         [0.],\n",
              "         [0.],\n",
              "         [0.],\n",
              "         [0.],\n",
              "         [0.],\n",
              "         [0.],\n",
              "         [0.],\n",
              "         [0.],\n",
              "         [0.],\n",
              "         [0.],\n",
              "         [0.],\n",
              "         [0.],\n",
              "         [0.],\n",
              "         [0.],\n",
              "         [0.],\n",
              "         [0.],\n",
              "         [0.],\n",
              "         [0.],\n",
              "         [0.],\n",
              "         [0.],\n",
              "         [0.],\n",
              "         [0.],\n",
              "         [0.],\n",
              "         [0.],\n",
              "         [0.],\n",
              "         [0.],\n",
              "         [0.],\n",
              "         [0.],\n",
              "         [0.],\n",
              "         [0.],\n",
              "         [0.],\n",
              "         [0.],\n",
              "         [0.],\n",
              "         [0.],\n",
              "         [0.],\n",
              "         [0.],\n",
              "         [0.],\n",
              "         [0.],\n",
              "         [0.],\n",
              "         [0.],\n",
              "         [0.],\n",
              "         [0.],\n",
              "         [0.],\n",
              "         [0.],\n",
              "         [0.],\n",
              "         [0.],\n",
              "         [0.],\n",
              "         [0.],\n",
              "         [0.],\n",
              "         [0.],\n",
              "         [0.],\n",
              "         [0.],\n",
              "         [0.],\n",
              "         [0.],\n",
              "         [0.],\n",
              "         [0.],\n",
              "         [0.],\n",
              "         [0.],\n",
              "         [0.],\n",
              "         [0.],\n",
              "         [0.],\n",
              "         [0.],\n",
              "         [0.],\n",
              "         [0.],\n",
              "         [0.],\n",
              "         [0.],\n",
              "         [0.],\n",
              "         [0.],\n",
              "         [0.],\n",
              "         [0.],\n",
              "         [0.],\n",
              "         [0.],\n",
              "         [0.],\n",
              "         [0.],\n",
              "         [0.],\n",
              "         [0.],\n",
              "         [0.],\n",
              "         [0.],\n",
              "         [0.],\n",
              "         [0.],\n",
              "         [0.],\n",
              "         [0.],\n",
              "         [0.],\n",
              "         [0.],\n",
              "         [0.],\n",
              "         [0.],\n",
              "         [0.],\n",
              "         [0.],\n",
              "         [0.],\n",
              "         [0.],\n",
              "         [0.],\n",
              "         [0.],\n",
              "         [0.],\n",
              "         [0.],\n",
              "         [0.],\n",
              "         [0.],\n",
              "         [0.],\n",
              "         [0.],\n",
              "         [0.],\n",
              "         [0.],\n",
              "         [0.],\n",
              "         [0.],\n",
              "         [0.],\n",
              "         [0.],\n",
              "         [0.],\n",
              "         [0.],\n",
              "         [0.],\n",
              "         [0.],\n",
              "         [0.],\n",
              "         [0.],\n",
              "         [0.],\n",
              "         [0.],\n",
              "         [0.],\n",
              "         [0.],\n",
              "         [0.],\n",
              "         [0.],\n",
              "         [0.],\n",
              "         [0.],\n",
              "         [0.],\n",
              "         [0.],\n",
              "         [0.],\n",
              "         [0.],\n",
              "         [0.],\n",
              "         [0.],\n",
              "         [0.],\n",
              "         [0.],\n",
              "         [0.],\n",
              "         [0.],\n",
              "         [0.],\n",
              "         [0.],\n",
              "         [0.],\n",
              "         [0.],\n",
              "         [0.],\n",
              "         [0.],\n",
              "         [0.],\n",
              "         [0.],\n",
              "         [0.],\n",
              "         [0.],\n",
              "         [0.],\n",
              "         [0.],\n",
              "         [0.],\n",
              "         [0.],\n",
              "         [0.],\n",
              "         [0.],\n",
              "         [0.],\n",
              "         [0.],\n",
              "         [0.],\n",
              "         [0.],\n",
              "         [0.],\n",
              "         [0.],\n",
              "         [0.],\n",
              "         [0.],\n",
              "         [0.],\n",
              "         [0.],\n",
              "         [0.],\n",
              "         [0.],\n",
              "         [0.],\n",
              "         [0.],\n",
              "         [0.],\n",
              "         [0.],\n",
              "         [0.],\n",
              "         [0.],\n",
              "         [0.],\n",
              "         [0.],\n",
              "         [0.],\n",
              "         [0.],\n",
              "         [0.],\n",
              "         [0.],\n",
              "         [0.],\n",
              "         [0.],\n",
              "         [0.],\n",
              "         [0.],\n",
              "         [0.],\n",
              "         [0.],\n",
              "         [0.],\n",
              "         [0.],\n",
              "         [0.],\n",
              "         [0.],\n",
              "         [0.],\n",
              "         [0.],\n",
              "         [0.],\n",
              "         [0.],\n",
              "         [0.],\n",
              "         [0.],\n",
              "         [0.],\n",
              "         [0.],\n",
              "         [0.],\n",
              "         [0.],\n",
              "         [0.],\n",
              "         [0.],\n",
              "         [0.],\n",
              "         [0.],\n",
              "         [0.],\n",
              "         [0.],\n",
              "         [0.],\n",
              "         [0.],\n",
              "         [0.],\n",
              "         [0.],\n",
              "         [0.],\n",
              "         [0.],\n",
              "         [0.],\n",
              "         [0.],\n",
              "         [0.],\n",
              "         [0.],\n",
              "         [0.],\n",
              "         [0.],\n",
              "         [0.],\n",
              "         [0.],\n",
              "         [0.],\n",
              "         [0.],\n",
              "         [0.],\n",
              "         [0.],\n",
              "         [0.],\n",
              "         [0.],\n",
              "         [0.],\n",
              "         [0.],\n",
              "         [0.],\n",
              "         [0.],\n",
              "         [0.],\n",
              "         [0.],\n",
              "         [0.],\n",
              "         [0.],\n",
              "         [0.],\n",
              "         [0.],\n",
              "         [0.],\n",
              "         [0.],\n",
              "         [0.],\n",
              "         [0.],\n",
              "         [0.],\n",
              "         [0.],\n",
              "         [0.],\n",
              "         [0.],\n",
              "         [0.],\n",
              "         [0.],\n",
              "         [0.],\n",
              "         [0.],\n",
              "         [0.],\n",
              "         [0.],\n",
              "         [0.],\n",
              "         [0.],\n",
              "         [0.],\n",
              "         [0.],\n",
              "         [0.],\n",
              "         [0.],\n",
              "         [0.],\n",
              "         [0.],\n",
              "         [0.],\n",
              "         [0.],\n",
              "         [0.],\n",
              "         [0.],\n",
              "         [0.],\n",
              "         [0.],\n",
              "         [0.],\n",
              "         [0.],\n",
              "         [0.],\n",
              "         [0.],\n",
              "         [0.],\n",
              "         [0.],\n",
              "         [0.],\n",
              "         [0.],\n",
              "         [0.],\n",
              "         [0.],\n",
              "         [0.],\n",
              "         [0.],\n",
              "         [0.],\n",
              "         [0.],\n",
              "         [0.],\n",
              "         [0.],\n",
              "         [0.],\n",
              "         [0.],\n",
              "         [0.],\n",
              "         [0.],\n",
              "         [0.],\n",
              "         [0.],\n",
              "         [0.],\n",
              "         [0.],\n",
              "         [0.],\n",
              "         [0.],\n",
              "         [0.],\n",
              "         [0.],\n",
              "         [0.],\n",
              "         [0.],\n",
              "         [0.],\n",
              "         [0.],\n",
              "         [0.],\n",
              "         [0.],\n",
              "         [0.],\n",
              "         [0.],\n",
              "         [0.],\n",
              "         [0.],\n",
              "         [0.],\n",
              "         [0.],\n",
              "         [0.],\n",
              "         [0.],\n",
              "         [0.],\n",
              "         [0.],\n",
              "         [0.],\n",
              "         [0.],\n",
              "         [0.],\n",
              "         [0.],\n",
              "         [0.],\n",
              "         [0.],\n",
              "         [0.],\n",
              "         [0.],\n",
              "         [0.],\n",
              "         [0.],\n",
              "         [0.],\n",
              "         [0.],\n",
              "         [0.],\n",
              "         [0.],\n",
              "         [0.],\n",
              "         [0.],\n",
              "         [0.],\n",
              "         [0.],\n",
              "         [0.],\n",
              "         [0.],\n",
              "         [0.],\n",
              "         [0.],\n",
              "         [0.],\n",
              "         [0.],\n",
              "         [0.],\n",
              "         [0.],\n",
              "         [0.],\n",
              "         [0.],\n",
              "         [0.],\n",
              "         [0.],\n",
              "         [0.],\n",
              "         [0.],\n",
              "         [0.],\n",
              "         [0.],\n",
              "         [0.],\n",
              "         [0.],\n",
              "         [0.],\n",
              "         [0.],\n",
              "         [0.],\n",
              "         [0.],\n",
              "         [0.],\n",
              "         [0.],\n",
              "         [0.],\n",
              "         [0.],\n",
              "         [0.],\n",
              "         [0.],\n",
              "         [0.],\n",
              "         [0.],\n",
              "         [0.],\n",
              "         [0.],\n",
              "         [0.],\n",
              "         [0.],\n",
              "         [0.],\n",
              "         [0.],\n",
              "         [0.],\n",
              "         [0.],\n",
              "         [0.],\n",
              "         [0.],\n",
              "         [0.],\n",
              "         [0.],\n",
              "         [0.],\n",
              "         [0.],\n",
              "         [0.],\n",
              "         [0.],\n",
              "         [0.],\n",
              "         [0.],\n",
              "         [0.],\n",
              "         [0.],\n",
              "         [0.],\n",
              "         [0.],\n",
              "         [0.],\n",
              "         [0.],\n",
              "         [0.],\n",
              "         [0.],\n",
              "         [0.],\n",
              "         [0.],\n",
              "         [0.],\n",
              "         [0.],\n",
              "         [0.],\n",
              "         [0.],\n",
              "         [0.],\n",
              "         [0.],\n",
              "         [0.],\n",
              "         [0.],\n",
              "         [0.],\n",
              "         [0.],\n",
              "         [0.],\n",
              "         [0.],\n",
              "         [0.],\n",
              "         [0.],\n",
              "         [0.],\n",
              "         [0.],\n",
              "         [0.],\n",
              "         [0.],\n",
              "         [0.],\n",
              "         [0.],\n",
              "         [0.],\n",
              "         [0.],\n",
              "         [0.],\n",
              "         [0.],\n",
              "         [0.],\n",
              "         [0.],\n",
              "         [0.],\n",
              "         [0.],\n",
              "         [0.],\n",
              "         [0.],\n",
              "         [0.],\n",
              "         [0.],\n",
              "         [0.],\n",
              "         [0.],\n",
              "         [0.],\n",
              "         [0.],\n",
              "         [0.],\n",
              "         [0.],\n",
              "         [0.],\n",
              "         [0.],\n",
              "         [0.],\n",
              "         [0.],\n",
              "         [0.],\n",
              "         [0.],\n",
              "         [0.],\n",
              "         [0.],\n",
              "         [0.],\n",
              "         [0.],\n",
              "         [0.],\n",
              "         [0.],\n",
              "         [0.],\n",
              "         [0.],\n",
              "         [0.],\n",
              "         [0.],\n",
              "         [0.],\n",
              "         [0.],\n",
              "         [0.],\n",
              "         [0.],\n",
              "         [0.],\n",
              "         [0.],\n",
              "         [0.],\n",
              "         [0.],\n",
              "         [0.],\n",
              "         [0.],\n",
              "         [0.],\n",
              "         [0.],\n",
              "         [0.],\n",
              "         [0.],\n",
              "         [0.],\n",
              "         [0.],\n",
              "         [0.],\n",
              "         [0.],\n",
              "         [0.],\n",
              "         [0.],\n",
              "         [0.],\n",
              "         [0.],\n",
              "         [0.],\n",
              "         [0.],\n",
              "         [0.],\n",
              "         [0.],\n",
              "         [0.],\n",
              "         [0.],\n",
              "         [0.],\n",
              "         [0.],\n",
              "         [0.],\n",
              "         [0.],\n",
              "         [0.],\n",
              "         [0.],\n",
              "         [0.],\n",
              "         [0.],\n",
              "         [0.],\n",
              "         [0.],\n",
              "         [0.],\n",
              "         [0.],\n",
              "         [0.],\n",
              "         [0.],\n",
              "         [0.],\n",
              "         [0.],\n",
              "         [0.],\n",
              "         [0.],\n",
              "         [0.],\n",
              "         [0.],\n",
              "         [0.],\n",
              "         [0.],\n",
              "         [0.],\n",
              "         [0.],\n",
              "         [0.],\n",
              "         [0.],\n",
              "         [0.],\n",
              "         [0.],\n",
              "         [0.],\n",
              "         [0.],\n",
              "         [0.],\n",
              "         [0.],\n",
              "         [0.],\n",
              "         [0.],\n",
              "         [0.],\n",
              "         [0.],\n",
              "         [0.],\n",
              "         [0.],\n",
              "         [0.],\n",
              "         [0.],\n",
              "         [0.],\n",
              "         [0.],\n",
              "         [0.],\n",
              "         [0.],\n",
              "         [0.],\n",
              "         [0.]]),\n",
              " tensor([0.]))"
            ]
          },
          "metadata": {},
          "execution_count": 45
        }
      ]
    },
    {
      "cell_type": "markdown",
      "source": [
        "Stepping weights\n",
        "\n",
        "When stepping the weights, we tell PyTorch not to keep track of the gradients. We do this by assigning a data attribute to the params.\n",
        "\n",
        "Below is our basic training loop for an epoch"
      ],
      "metadata": {
        "id": "TAW_y0HRN7op"
      },
      "id": "TAW_y0HRN7op"
    },
    {
      "cell_type": "code",
      "source": [
        "def train_epoch(model,lr,params):\n",
        "  for xb,yb in dl:\n",
        "    calc_grad(xb,yb,model)\n",
        "    for p in params:\n",
        "      p.data -= p.grad*lr\n",
        "      p.grad.zero_()"
      ],
      "metadata": {
        "id": "TzppfkVgExF4"
      },
      "id": "TzppfkVgExF4",
      "execution_count": 46,
      "outputs": []
    },
    {
      "cell_type": "code",
      "source": [
        "(preds>0.0).float() == label_batch\n"
      ],
      "metadata": {
        "id": "pbtCY0alExCx",
        "colab": {
          "base_uri": "https://localhost:8080/"
        },
        "outputId": "09342caf-b94e-42ba-c574-bfbd4ccb1cb4"
      },
      "id": "pbtCY0alExCx",
      "execution_count": 47,
      "outputs": [
        {
          "output_type": "execute_result",
          "data": {
            "text/plain": [
              "tensor([[True],\n",
              "        [True],\n",
              "        [True],\n",
              "        [True]])"
            ]
          },
          "metadata": {},
          "execution_count": 47
        }
      ]
    },
    {
      "cell_type": "code",
      "source": [
        "def batch_accuracy(xb,yb):\n",
        "  preds = xb.sigmoid()\n",
        "  corrects = (preds>0.5) == yb\n",
        "  return corrects.float().mean()"
      ],
      "metadata": {
        "id": "CBOudrI8ExAr"
      },
      "id": "CBOudrI8ExAr",
      "execution_count": 48,
      "outputs": []
    },
    {
      "cell_type": "code",
      "source": [
        "batch_accuracy(preds,label_batch)"
      ],
      "metadata": {
        "id": "cuZ7cDAKEw3P",
        "colab": {
          "base_uri": "https://localhost:8080/"
        },
        "outputId": "bf3dfca7-6e5a-4042-f91e-cba7e902cb0b"
      },
      "id": "cuZ7cDAKEw3P",
      "execution_count": 49,
      "outputs": [
        {
          "output_type": "execute_result",
          "data": {
            "text/plain": [
              "tensor(1.)"
            ]
          },
          "metadata": {},
          "execution_count": 49
        }
      ]
    },
    {
      "cell_type": "code",
      "source": [
        "#put batches together\n",
        "def validate_epoch(model):\n",
        "  accs = [batch_accuracy(model(xb),yb) for xb,yb in valid_dl]\n",
        "  return round(torch.stack(accs).mean().item(),4)"
      ],
      "metadata": {
        "id": "SLw1XA3MEwrn"
      },
      "id": "SLw1XA3MEwrn",
      "execution_count": 50,
      "outputs": []
    },
    {
      "cell_type": "code",
      "source": [
        "validate_epoch(linear1)"
      ],
      "metadata": {
        "id": "EHRM3LGMEwIy",
        "colab": {
          "base_uri": "https://localhost:8080/"
        },
        "outputId": "395e4813-2ba1-4969-89b6-2c622050e998"
      },
      "id": "EHRM3LGMEwIy",
      "execution_count": 51,
      "outputs": [
        {
          "output_type": "execute_result",
          "data": {
            "text/plain": [
              "0.092"
            ]
          },
          "metadata": {},
          "execution_count": 51
        }
      ]
    },
    {
      "cell_type": "markdown",
      "source": [
        "We now have a starting point, lets train for another epoch to see if our model improves."
      ],
      "metadata": {
        "id": "FdyLBza7Y4Fm"
      },
      "id": "FdyLBza7Y4Fm"
    },
    {
      "cell_type": "code",
      "source": [
        "lr = 1.\n",
        "params = weights, bias\n",
        "train_epoch(linear1,lr,params)\n",
        "validate_epoch(linear1)"
      ],
      "metadata": {
        "colab": {
          "base_uri": "https://localhost:8080/"
        },
        "id": "V2Y7xlfGY3Nl",
        "outputId": "d8e04c7e-6238-4434-bc39-ecb8d2d81f14"
      },
      "id": "V2Y7xlfGY3Nl",
      "execution_count": 52,
      "outputs": [
        {
          "output_type": "execute_result",
          "data": {
            "text/plain": [
              "0.0958"
            ]
          },
          "metadata": {},
          "execution_count": 52
        }
      ]
    },
    {
      "cell_type": "code",
      "source": [
        "#do a few more\n",
        "for i in range(20):\n",
        "  train_epoch(linear1,lr,params)\n",
        "  print(validate_epoch(linear1), end='')"
      ],
      "metadata": {
        "colab": {
          "base_uri": "https://localhost:8080/"
        },
        "id": "RdRxLm4LY3J9",
        "outputId": "0a51aff9-cf97-44bc-afd5-8f43426e5181"
      },
      "id": "RdRxLm4LY3J9",
      "execution_count": 53,
      "outputs": [
        {
          "output_type": "stream",
          "name": "stdout",
          "text": [
            "0.09570.09570.09570.09570.09570.09570.09570.09570.09580.09580.09580.09580.0970.10070.10880.12660.15030.15950.1660.1706"
          ]
        }
      ]
    },
    {
      "cell_type": "markdown",
      "source": [
        "##Using a PyTorch optimizer\n",
        "\n",
        "Here we replace linear1 with nn.linear which does the same thing as init_params and linear1"
      ],
      "metadata": {
        "id": "PoswW5GSZzvR"
      },
      "id": "PoswW5GSZzvR"
    },
    {
      "cell_type": "code",
      "source": [
        "linear_model = nn.Linear(28*28,1)"
      ],
      "metadata": {
        "id": "-B07H_-GY3G2"
      },
      "id": "-B07H_-GY3G2",
      "execution_count": 54,
      "outputs": []
    },
    {
      "cell_type": "code",
      "source": [
        "w,b = linear_model.parameters()\n",
        "w.shape,b.shape"
      ],
      "metadata": {
        "colab": {
          "base_uri": "https://localhost:8080/"
        },
        "id": "tVr7VwQiY3EC",
        "outputId": "9c83481d-d185-4119-f75c-6cd682379e24"
      },
      "id": "tVr7VwQiY3EC",
      "execution_count": 55,
      "outputs": [
        {
          "output_type": "execute_result",
          "data": {
            "text/plain": [
              "(torch.Size([1, 784]), torch.Size([1]))"
            ]
          },
          "metadata": {},
          "execution_count": 55
        }
      ]
    },
    {
      "cell_type": "code",
      "source": [
        "class BasicOptim:\n",
        "  def __init__(self,params,lr): self.params,self.lr = list(params),lr\n",
        "\n",
        "  def step(self, *args, **kwargs):\n",
        "    for p in self.params: p.data -= p.grad.data * self.lr\n",
        "\n",
        "  def zero_grad(self, *args, **kwargs):\n",
        "    for p in self.params: p.grad = None\n"
      ],
      "metadata": {
        "id": "4OZnPXl4Y3BN"
      },
      "id": "4OZnPXl4Y3BN",
      "execution_count": 56,
      "outputs": []
    },
    {
      "cell_type": "code",
      "source": [
        "opt = BasicOptim(linear_model.parameters(), lr)"
      ],
      "metadata": {
        "id": "6svTvrIqdRES"
      },
      "id": "6svTvrIqdRES",
      "execution_count": 57,
      "outputs": []
    },
    {
      "cell_type": "code",
      "source": [
        "#with this, we can redefine train_epoch\n",
        "def train_epoch(model):\n",
        "  for xb, yb in dl:\n",
        "    calc_grad(xb,yb,model)\n",
        "    opt.step()\n",
        "    opt.zero_grad()"
      ],
      "metadata": {
        "id": "dhbmqhHUdRBP"
      },
      "id": "dhbmqhHUdRBP",
      "execution_count": 58,
      "outputs": []
    },
    {
      "cell_type": "markdown",
      "source": [
        "fastai provides an SGD class which by default does the same thing as BasicOptim"
      ],
      "metadata": {
        "id": "9RGWce-i4tKS"
      },
      "id": "9RGWce-i4tKS"
    },
    {
      "cell_type": "code",
      "source": [
        "opt = SGD(linear_model.parameters(),lr)"
      ],
      "metadata": {
        "id": "mwGJzPaY6c88"
      },
      "id": "mwGJzPaY6c88",
      "execution_count": 59,
      "outputs": []
    },
    {
      "cell_type": "code",
      "source": [
        "def train_model(model,epochs):\n",
        "  for i in range(epochs):\n",
        "    train_epoch(model)\n",
        "    print(validate_epoch(model), end=' ')"
      ],
      "metadata": {
        "id": "V30x7xsBdQ8Y"
      },
      "id": "V30x7xsBdQ8Y",
      "execution_count": 60,
      "outputs": []
    },
    {
      "cell_type": "code",
      "source": [
        "train_model(linear_model,20)"
      ],
      "metadata": {
        "colab": {
          "base_uri": "https://localhost:8080/"
        },
        "id": "0qxpL7qNfFlc",
        "outputId": "260c5935-6bd3-407a-f01f-e05e77a7fe9d"
      },
      "id": "0qxpL7qNfFlc",
      "execution_count": 61,
      "outputs": [
        {
          "output_type": "stream",
          "name": "stdout",
          "text": [
            "0.0957 0.1016 0.1157 0.125 0.1322 0.1378 0.1423 0.1471 0.1521 0.1556 0.1593 0.1619 0.1643 0.1668 0.1689 0.1709 0.1728 0.1744 0.1762 0.177 "
          ]
        }
      ]
    },
    {
      "cell_type": "markdown",
      "source": [
        "fastai also provides Learner.fit which we can use instead of train_model.To create a Learner, first we must create a DataLoaders object by passing in the training and validation **DataLoader**'s object."
      ],
      "metadata": {
        "id": "RTR4cV2SaQb7"
      },
      "id": "RTR4cV2SaQb7"
    },
    {
      "cell_type": "code",
      "source": [
        "dls = DataLoaders(dl, valid_dl)"
      ],
      "metadata": {
        "id": "5U9H9MOwfFiu"
      },
      "id": "5U9H9MOwfFiu",
      "execution_count": 62,
      "outputs": []
    },
    {
      "cell_type": "markdown",
      "source": [
        "  To create a Learner without using an application such as Tabular Learner, we need to pass in all the objects that we created above i.e. the model, loss function, DataLoaders, optimzation function which is passed the parameters and any metrics that we might be using."
      ],
      "metadata": {
        "id": "-CNYc4qdl9Bh"
      },
      "id": "-CNYc4qdl9Bh"
    },
    {
      "cell_type": "code",
      "source": [
        "learn = Learner(dls, nn.Linear(28*28,1), opt_func=SGD, loss_func=mnist_loss, metrics=accuracy)"
      ],
      "metadata": {
        "id": "AnI_OzA1fFex"
      },
      "id": "AnI_OzA1fFex",
      "execution_count": 64,
      "outputs": []
    },
    {
      "cell_type": "code",
      "source": [
        "learn.fit(30, 0.1)"
      ],
      "metadata": {
        "colab": {
          "base_uri": "https://localhost:8080/",
          "height": 990
        },
        "id": "WzXejs4vSlo_",
        "outputId": "a29ed72d-7390-4fcc-ba65-8acc2918e243"
      },
      "id": "WzXejs4vSlo_",
      "execution_count": 65,
      "outputs": [
        {
          "output_type": "display_data",
          "data": {
            "text/plain": [
              "<IPython.core.display.HTML object>"
            ],
            "text/html": [
              "\n",
              "<style>\n",
              "    /* Turns off some styling */\n",
              "    progress {\n",
              "        /* gets rid of default border in Firefox and Opera. */\n",
              "        border: none;\n",
              "        /* Needs to be in here for Safari polyfill so background images work as expected. */\n",
              "        background-size: auto;\n",
              "    }\n",
              "    progress:not([value]), progress:not([value])::-webkit-progress-bar {\n",
              "        background: repeating-linear-gradient(45deg, #7e7e7e, #7e7e7e 10px, #5c5c5c 10px, #5c5c5c 20px);\n",
              "    }\n",
              "    .progress-bar-interrupted, .progress-bar-interrupted::-webkit-progress-bar {\n",
              "        background: #F44336;\n",
              "    }\n",
              "</style>\n"
            ]
          },
          "metadata": {}
        },
        {
          "output_type": "display_data",
          "data": {
            "text/plain": [
              "<IPython.core.display.HTML object>"
            ],
            "text/html": [
              "<table border=\"1\" class=\"dataframe\">\n",
              "  <thead>\n",
              "    <tr style=\"text-align: left;\">\n",
              "      <th>epoch</th>\n",
              "      <th>train_loss</th>\n",
              "      <th>valid_loss</th>\n",
              "      <th>accuracy</th>\n",
              "      <th>time</th>\n",
              "    </tr>\n",
              "  </thead>\n",
              "  <tbody>\n",
              "    <tr>\n",
              "      <td>0</td>\n",
              "      <td>0.008557</td>\n",
              "      <td>0.105880</td>\n",
              "      <td>0.098000</td>\n",
              "      <td>00:02</td>\n",
              "    </tr>\n",
              "    <tr>\n",
              "      <td>1</td>\n",
              "      <td>0.008973</td>\n",
              "      <td>0.085236</td>\n",
              "      <td>0.098000</td>\n",
              "      <td>00:01</td>\n",
              "    </tr>\n",
              "    <tr>\n",
              "      <td>2</td>\n",
              "      <td>0.008184</td>\n",
              "      <td>0.067288</td>\n",
              "      <td>0.098000</td>\n",
              "      <td>00:01</td>\n",
              "    </tr>\n",
              "    <tr>\n",
              "      <td>3</td>\n",
              "      <td>0.008266</td>\n",
              "      <td>0.054978</td>\n",
              "      <td>0.098000</td>\n",
              "      <td>00:00</td>\n",
              "    </tr>\n",
              "    <tr>\n",
              "      <td>4</td>\n",
              "      <td>0.008422</td>\n",
              "      <td>0.046486</td>\n",
              "      <td>0.098000</td>\n",
              "      <td>00:00</td>\n",
              "    </tr>\n",
              "    <tr>\n",
              "      <td>5</td>\n",
              "      <td>0.008554</td>\n",
              "      <td>0.040430</td>\n",
              "      <td>0.098000</td>\n",
              "      <td>00:00</td>\n",
              "    </tr>\n",
              "    <tr>\n",
              "      <td>6</td>\n",
              "      <td>0.008648</td>\n",
              "      <td>0.035966</td>\n",
              "      <td>0.098000</td>\n",
              "      <td>00:00</td>\n",
              "    </tr>\n",
              "    <tr>\n",
              "      <td>7</td>\n",
              "      <td>0.008709</td>\n",
              "      <td>0.032573</td>\n",
              "      <td>0.098000</td>\n",
              "      <td>00:00</td>\n",
              "    </tr>\n",
              "    <tr>\n",
              "      <td>8</td>\n",
              "      <td>0.008745</td>\n",
              "      <td>0.029922</td>\n",
              "      <td>0.098000</td>\n",
              "      <td>00:00</td>\n",
              "    </tr>\n",
              "    <tr>\n",
              "      <td>9</td>\n",
              "      <td>0.008760</td>\n",
              "      <td>0.027801</td>\n",
              "      <td>0.098000</td>\n",
              "      <td>00:00</td>\n",
              "    </tr>\n",
              "    <tr>\n",
              "      <td>10</td>\n",
              "      <td>0.008760</td>\n",
              "      <td>0.026070</td>\n",
              "      <td>0.098000</td>\n",
              "      <td>00:00</td>\n",
              "    </tr>\n",
              "    <tr>\n",
              "      <td>11</td>\n",
              "      <td>0.008749</td>\n",
              "      <td>0.024631</td>\n",
              "      <td>0.098000</td>\n",
              "      <td>00:00</td>\n",
              "    </tr>\n",
              "    <tr>\n",
              "      <td>12</td>\n",
              "      <td>0.008729</td>\n",
              "      <td>0.023416</td>\n",
              "      <td>0.098000</td>\n",
              "      <td>00:00</td>\n",
              "    </tr>\n",
              "    <tr>\n",
              "      <td>13</td>\n",
              "      <td>0.008702</td>\n",
              "      <td>0.022377</td>\n",
              "      <td>0.098000</td>\n",
              "      <td>00:01</td>\n",
              "    </tr>\n",
              "    <tr>\n",
              "      <td>14</td>\n",
              "      <td>0.008671</td>\n",
              "      <td>0.021478</td>\n",
              "      <td>0.098000</td>\n",
              "      <td>00:02</td>\n",
              "    </tr>\n",
              "    <tr>\n",
              "      <td>15</td>\n",
              "      <td>0.008636</td>\n",
              "      <td>0.020691</td>\n",
              "      <td>0.098000</td>\n",
              "      <td>00:02</td>\n",
              "    </tr>\n",
              "    <tr>\n",
              "      <td>16</td>\n",
              "      <td>0.008598</td>\n",
              "      <td>0.019997</td>\n",
              "      <td>0.098000</td>\n",
              "      <td>00:01</td>\n",
              "    </tr>\n",
              "    <tr>\n",
              "      <td>17</td>\n",
              "      <td>0.008558</td>\n",
              "      <td>0.019379</td>\n",
              "      <td>0.098000</td>\n",
              "      <td>00:01</td>\n",
              "    </tr>\n",
              "    <tr>\n",
              "      <td>18</td>\n",
              "      <td>0.008517</td>\n",
              "      <td>0.018826</td>\n",
              "      <td>0.098000</td>\n",
              "      <td>00:01</td>\n",
              "    </tr>\n",
              "    <tr>\n",
              "      <td>19</td>\n",
              "      <td>0.008475</td>\n",
              "      <td>0.018327</td>\n",
              "      <td>0.098000</td>\n",
              "      <td>00:01</td>\n",
              "    </tr>\n",
              "    <tr>\n",
              "      <td>20</td>\n",
              "      <td>0.008432</td>\n",
              "      <td>0.017875</td>\n",
              "      <td>0.098000</td>\n",
              "      <td>00:01</td>\n",
              "    </tr>\n",
              "    <tr>\n",
              "      <td>21</td>\n",
              "      <td>0.008390</td>\n",
              "      <td>0.017463</td>\n",
              "      <td>0.098000</td>\n",
              "      <td>00:01</td>\n",
              "    </tr>\n",
              "    <tr>\n",
              "      <td>22</td>\n",
              "      <td>0.008347</td>\n",
              "      <td>0.017085</td>\n",
              "      <td>0.098000</td>\n",
              "      <td>00:00</td>\n",
              "    </tr>\n",
              "    <tr>\n",
              "      <td>23</td>\n",
              "      <td>0.008305</td>\n",
              "      <td>0.016737</td>\n",
              "      <td>0.098000</td>\n",
              "      <td>00:00</td>\n",
              "    </tr>\n",
              "    <tr>\n",
              "      <td>24</td>\n",
              "      <td>0.008262</td>\n",
              "      <td>0.016416</td>\n",
              "      <td>0.098000</td>\n",
              "      <td>00:00</td>\n",
              "    </tr>\n",
              "    <tr>\n",
              "      <td>25</td>\n",
              "      <td>0.008221</td>\n",
              "      <td>0.016119</td>\n",
              "      <td>0.098000</td>\n",
              "      <td>00:00</td>\n",
              "    </tr>\n",
              "    <tr>\n",
              "      <td>26</td>\n",
              "      <td>0.008180</td>\n",
              "      <td>0.015842</td>\n",
              "      <td>0.098000</td>\n",
              "      <td>00:00</td>\n",
              "    </tr>\n",
              "    <tr>\n",
              "      <td>27</td>\n",
              "      <td>0.008139</td>\n",
              "      <td>0.015583</td>\n",
              "      <td>0.098000</td>\n",
              "      <td>00:00</td>\n",
              "    </tr>\n",
              "    <tr>\n",
              "      <td>28</td>\n",
              "      <td>0.008099</td>\n",
              "      <td>0.015341</td>\n",
              "      <td>0.098000</td>\n",
              "      <td>00:00</td>\n",
              "    </tr>\n",
              "    <tr>\n",
              "      <td>29</td>\n",
              "      <td>0.008060</td>\n",
              "      <td>0.015114</td>\n",
              "      <td>0.098000</td>\n",
              "      <td>00:00</td>\n",
              "    </tr>\n",
              "  </tbody>\n",
              "</table>"
            ]
          },
          "metadata": {}
        }
      ]
    },
    {
      "cell_type": "markdown",
      "source": [],
      "metadata": {
        "id": "TKvknOxeY2rP"
      },
      "id": "TKvknOxeY2rP"
    },
    {
      "cell_type": "markdown",
      "source": [
        "##Neural Network\n",
        "To turn the above linear classifier into a neural network, we add a non-linear function between two linear layers i.e. a ReLu"
      ],
      "metadata": {
        "id": "Iv_tR18IWK23"
      },
      "id": "Iv_tR18IWK23"
    },
    {
      "cell_type": "code",
      "source": [
        "def simple_net(xb):\n",
        "  res = xb@w1 + b1\n",
        "  res = res.max(tensor(0.0))\n",
        "  res = xb@w2 + b2\n",
        "  return res\n"
      ],
      "metadata": {
        "id": "h1jhyZG2WOca"
      },
      "id": "h1jhyZG2WOca",
      "execution_count": 66,
      "outputs": []
    },
    {
      "cell_type": "code",
      "source": [
        "w1 = init_params(28*28,30)\n",
        "b1 = init_params(30)\n",
        "w2 = init_params(30,10)\n",
        "b2 = init_params(10)"
      ],
      "metadata": {
        "id": "K3lRxxWOTx0P"
      },
      "id": "K3lRxxWOTx0P",
      "execution_count": 67,
      "outputs": []
    },
    {
      "cell_type": "code",
      "source": [
        "#ReLU replaces every negative number with a 0.\n",
        "plot_function(F.relu)"
      ],
      "metadata": {
        "id": "SlRpqPyxTnR8",
        "colab": {
          "base_uri": "https://localhost:8080/",
          "height": 372
        },
        "outputId": "ee825a6e-6e97-43b0-8261-7843b8060004"
      },
      "id": "SlRpqPyxTnR8",
      "execution_count": 68,
      "outputs": [
        {
          "output_type": "display_data",
          "data": {
            "text/plain": [
              "<Figure size 600x400 with 1 Axes>"
            ],
            "image/png": "[encoded data removed]"
          },
          "metadata": {}
        }
      ]
    },
    {
      "cell_type": "code",
      "source": [
        "simple_net = nn.Sequential(\n",
        "    nn.Linear(28*28,90),\n",
        "    nn.ReLU(),\n",
        "    nn.Linear(90,60),\n",
        "    nn.ReLU(),\n",
        "    nn.Linear(60,30),\n",
        "    nn.ReLU(),\n",
        "    nn.Linear(30,10)\n",
        ")"
      ],
      "metadata": {
        "id": "oobv7euITv33"
      },
      "id": "oobv7euITv33",
      "execution_count": 73,
      "outputs": []
    },
    {
      "cell_type": "code",
      "source": [
        "learn = Learner(dls,simple_net,opt_func=SGD,loss_func=mnist_loss,metrics=accuracy)"
      ],
      "metadata": {
        "id": "SdpkSoBgWgwN"
      },
      "id": "SdpkSoBgWgwN",
      "execution_count": 74,
      "outputs": []
    },
    {
      "cell_type": "code",
      "source": [
        "learn.fit(30,0.1)"
      ],
      "metadata": {
        "colab": {
          "base_uri": "https://localhost:8080/",
          "height": 990
        },
        "id": "-6Q9IyB_YynT",
        "outputId": "042c390a-a96b-4cd8-9a00-cf2500b827a1"
      },
      "id": "-6Q9IyB_YynT",
      "execution_count": 76,
      "outputs": [
        {
          "output_type": "display_data",
          "data": {
            "text/plain": [
              "<IPython.core.display.HTML object>"
            ],
            "text/html": [
              "\n",
              "<style>\n",
              "    /* Turns off some styling */\n",
              "    progress {\n",
              "        /* gets rid of default border in Firefox and Opera. */\n",
              "        border: none;\n",
              "        /* Needs to be in here for Safari polyfill so background images work as expected. */\n",
              "        background-size: auto;\n",
              "    }\n",
              "    progress:not([value]), progress:not([value])::-webkit-progress-bar {\n",
              "        background: repeating-linear-gradient(45deg, #7e7e7e, #7e7e7e 10px, #5c5c5c 10px, #5c5c5c 20px);\n",
              "    }\n",
              "    .progress-bar-interrupted, .progress-bar-interrupted::-webkit-progress-bar {\n",
              "        background: #F44336;\n",
              "    }\n",
              "</style>\n"
            ]
          },
          "metadata": {}
        },
        {
          "output_type": "display_data",
          "data": {
            "text/plain": [
              "<IPython.core.display.HTML object>"
            ],
            "text/html": [
              "<table border=\"1\" class=\"dataframe\">\n",
              "  <thead>\n",
              "    <tr style=\"text-align: left;\">\n",
              "      <th>epoch</th>\n",
              "      <th>train_loss</th>\n",
              "      <th>valid_loss</th>\n",
              "      <th>accuracy</th>\n",
              "      <th>time</th>\n",
              "    </tr>\n",
              "  </thead>\n",
              "  <tbody>\n",
              "    <tr>\n",
              "      <td>0</td>\n",
              "      <td>0.001876</td>\n",
              "      <td>0.054224</td>\n",
              "      <td>0.114200</td>\n",
              "      <td>00:01</td>\n",
              "    </tr>\n",
              "    <tr>\n",
              "      <td>1</td>\n",
              "      <td>0.001799</td>\n",
              "      <td>0.052015</td>\n",
              "      <td>0.104200</td>\n",
              "      <td>00:01</td>\n",
              "    </tr>\n",
              "    <tr>\n",
              "      <td>2</td>\n",
              "      <td>0.001772</td>\n",
              "      <td>0.049999</td>\n",
              "      <td>0.102000</td>\n",
              "      <td>00:01</td>\n",
              "    </tr>\n",
              "    <tr>\n",
              "      <td>3</td>\n",
              "      <td>0.001762</td>\n",
              "      <td>0.048061</td>\n",
              "      <td>0.101400</td>\n",
              "      <td>00:01</td>\n",
              "    </tr>\n",
              "    <tr>\n",
              "      <td>4</td>\n",
              "      <td>0.001759</td>\n",
              "      <td>0.046220</td>\n",
              "      <td>0.101300</td>\n",
              "      <td>00:01</td>\n",
              "    </tr>\n",
              "    <tr>\n",
              "      <td>5</td>\n",
              "      <td>0.001759</td>\n",
              "      <td>0.044480</td>\n",
              "      <td>0.101400</td>\n",
              "      <td>00:01</td>\n",
              "    </tr>\n",
              "    <tr>\n",
              "      <td>6</td>\n",
              "      <td>0.001762</td>\n",
              "      <td>0.042859</td>\n",
              "      <td>0.101300</td>\n",
              "      <td>00:01</td>\n",
              "    </tr>\n",
              "    <tr>\n",
              "      <td>7</td>\n",
              "      <td>0.001767</td>\n",
              "      <td>0.041354</td>\n",
              "      <td>0.101500</td>\n",
              "      <td>00:01</td>\n",
              "    </tr>\n",
              "    <tr>\n",
              "      <td>8</td>\n",
              "      <td>0.001772</td>\n",
              "      <td>0.039970</td>\n",
              "      <td>0.101600</td>\n",
              "      <td>00:01</td>\n",
              "    </tr>\n",
              "    <tr>\n",
              "      <td>9</td>\n",
              "      <td>0.001776</td>\n",
              "      <td>0.038701</td>\n",
              "      <td>0.101600</td>\n",
              "      <td>00:01</td>\n",
              "    </tr>\n",
              "    <tr>\n",
              "      <td>10</td>\n",
              "      <td>0.001780</td>\n",
              "      <td>0.037552</td>\n",
              "      <td>0.101400</td>\n",
              "      <td>00:01</td>\n",
              "    </tr>\n",
              "    <tr>\n",
              "      <td>11</td>\n",
              "      <td>0.001783</td>\n",
              "      <td>0.036512</td>\n",
              "      <td>0.101300</td>\n",
              "      <td>00:01</td>\n",
              "    </tr>\n",
              "    <tr>\n",
              "      <td>12</td>\n",
              "      <td>0.001785</td>\n",
              "      <td>0.035570</td>\n",
              "      <td>0.101300</td>\n",
              "      <td>00:01</td>\n",
              "    </tr>\n",
              "    <tr>\n",
              "      <td>13</td>\n",
              "      <td>0.001786</td>\n",
              "      <td>0.034718</td>\n",
              "      <td>0.101200</td>\n",
              "      <td>00:01</td>\n",
              "    </tr>\n",
              "    <tr>\n",
              "      <td>14</td>\n",
              "      <td>0.001787</td>\n",
              "      <td>0.033947</td>\n",
              "      <td>0.101200</td>\n",
              "      <td>00:01</td>\n",
              "    </tr>\n",
              "    <tr>\n",
              "      <td>15</td>\n",
              "      <td>0.001789</td>\n",
              "      <td>0.033240</td>\n",
              "      <td>0.101100</td>\n",
              "      <td>00:01</td>\n",
              "    </tr>\n",
              "    <tr>\n",
              "      <td>16</td>\n",
              "      <td>0.001791</td>\n",
              "      <td>0.032589</td>\n",
              "      <td>0.101100</td>\n",
              "      <td>00:01</td>\n",
              "    </tr>\n",
              "    <tr>\n",
              "      <td>17</td>\n",
              "      <td>0.001794</td>\n",
              "      <td>0.031979</td>\n",
              "      <td>0.101100</td>\n",
              "      <td>00:01</td>\n",
              "    </tr>\n",
              "    <tr>\n",
              "      <td>18</td>\n",
              "      <td>0.001798</td>\n",
              "      <td>0.031414</td>\n",
              "      <td>0.101100</td>\n",
              "      <td>00:01</td>\n",
              "    </tr>\n",
              "    <tr>\n",
              "      <td>19</td>\n",
              "      <td>0.001802</td>\n",
              "      <td>0.030878</td>\n",
              "      <td>0.101200</td>\n",
              "      <td>00:01</td>\n",
              "    </tr>\n",
              "    <tr>\n",
              "      <td>20</td>\n",
              "      <td>0.001806</td>\n",
              "      <td>0.030375</td>\n",
              "      <td>0.101200</td>\n",
              "      <td>00:01</td>\n",
              "    </tr>\n",
              "    <tr>\n",
              "      <td>21</td>\n",
              "      <td>0.001810</td>\n",
              "      <td>0.029895</td>\n",
              "      <td>0.100900</td>\n",
              "      <td>00:01</td>\n",
              "    </tr>\n",
              "    <tr>\n",
              "      <td>22</td>\n",
              "      <td>0.001813</td>\n",
              "      <td>0.029438</td>\n",
              "      <td>0.100900</td>\n",
              "      <td>00:01</td>\n",
              "    </tr>\n",
              "    <tr>\n",
              "      <td>23</td>\n",
              "      <td>0.001816</td>\n",
              "      <td>0.029007</td>\n",
              "      <td>0.101000</td>\n",
              "      <td>00:01</td>\n",
              "    </tr>\n",
              "    <tr>\n",
              "      <td>24</td>\n",
              "      <td>0.001819</td>\n",
              "      <td>0.028586</td>\n",
              "      <td>0.101000</td>\n",
              "      <td>00:01</td>\n",
              "    </tr>\n",
              "    <tr>\n",
              "      <td>25</td>\n",
              "      <td>0.001820</td>\n",
              "      <td>0.028187</td>\n",
              "      <td>0.101000</td>\n",
              "      <td>00:01</td>\n",
              "    </tr>\n",
              "    <tr>\n",
              "      <td>26</td>\n",
              "      <td>0.001822</td>\n",
              "      <td>0.027796</td>\n",
              "      <td>0.101000</td>\n",
              "      <td>00:01</td>\n",
              "    </tr>\n",
              "    <tr>\n",
              "      <td>27</td>\n",
              "      <td>0.001822</td>\n",
              "      <td>0.027414</td>\n",
              "      <td>0.101000</td>\n",
              "      <td>00:01</td>\n",
              "    </tr>\n",
              "    <tr>\n",
              "      <td>28</td>\n",
              "      <td>0.001822</td>\n",
              "      <td>0.027046</td>\n",
              "      <td>0.100900</td>\n",
              "      <td>00:01</td>\n",
              "    </tr>\n",
              "    <tr>\n",
              "      <td>29</td>\n",
              "      <td>0.001821</td>\n",
              "      <td>0.026689</td>\n",
              "      <td>0.100900</td>\n",
              "      <td>00:01</td>\n",
              "    </tr>\n",
              "  </tbody>\n",
              "</table>"
            ]
          },
          "metadata": {}
        }
      ]
    },
    {
      "cell_type": "code",
      "source": [
        "SGD"
      ],
      "metadata": {
        "colab": {
          "base_uri": "https://localhost:8080/"
        },
        "id": "uPFLq9bAYbtu",
        "outputId": "67533d4e-b044-4764-daf6-c40bcc2a99d1"
      },
      "id": "uPFLq9bAYbtu",
      "execution_count": null,
      "outputs": [
        {
          "output_type": "execute_result",
          "data": {
            "text/plain": [
              "<function fastai.optimizer.SGD(params: 'Tensor | Iterable', lr: 'float | slice', mom: 'float' = 0.0, wd: 'Real' = 0.0, decouple_wd: 'bool' = True) -> 'Optimizer'>"
            ]
          },
          "metadata": {},
          "execution_count": 109
        }
      ]
    },
    {
      "cell_type": "code",
      "source": [],
      "metadata": {
        "id": "63QAXwB4b8sT"
      },
      "id": "63QAXwB4b8sT",
      "execution_count": null,
      "outputs": []
    }
  ],
  "metadata": {
    "kernelspec": {
      "display_name": "Python 3",
      "name": "python3"
    },
    "language_info": {
      "codemirror_mode": {
        "name": "ipython",
        "version": 3
      },
      "file_extension": ".py",
      "mimetype": "text/x-python",
      "name": "python",
      "nbconvert_exporter": "python",
      "pygments_lexer": "ipython3",
      "version": "3.10.12"
    },
    "colab": {
      "provenance": [],
      "gpuType": "T4",
      "include_colab_link": true
    },
    "accelerator": "GPU"
  },
  "nbformat": 4,
  "nbformat_minor": 5
}