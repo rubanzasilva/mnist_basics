{
  "nbformat": 4,
  "nbformat_minor": 0,
  "metadata": {
    "colab": {
      "provenance": [],
      "authorship_tag": "ABX9TyPu6K8oczZ9Dck77XrsoLhR",
      "include_colab_link": true
    },
    "kernelspec": {
      "name": "python3",
      "display_name": "Python 3"
    },
    "language_info": {
      "name": "python"
    }
  },
  "cells": [
    {
      "cell_type": "markdown",
      "metadata": {
        "id": "view-in-github",
        "colab_type": "text"
      },
      "source": [
        "<a href=\"https://colab.research.google.com/github/rubanzasilva/mnist_basics/blob/main/find_the_percentage.ipynb\" target=\"_parent\"><img src=\"https://colab.research.google.com/assets/colab-badge.svg\" alt=\"Open In Colab\"/></a>"
      ]
    },
    {
      "cell_type": "markdown",
      "source": [
        "\n",
        "In name , *line = int(input()) name read in a variable,\n",
        "\n",
        "Here name gets assigned a word and the rest are assigned to line.input.split() takes in input from the user and splits it into a list of word.\n",
        "\n",
        "The * is used to capture the rest of the words after the first one.\n",
        "\n",
        "which allows us to assign multiple variables from a tuple at once."
      ],
      "metadata": {
        "id": "lbrXGSgcJXyf"
      }
    },
    {
      "cell_type": "code",
      "execution_count": 9,
      "metadata": {
        "colab": {
          "base_uri": "https://localhost:8080/"
        },
        "id": "W6Y60HdZDeDY",
        "outputId": "4c5a20be-e3d6-4ca5-cb02-429686e3c07d"
      },
      "outputs": [
        {
          "output_type": "stream",
          "name": "stdout",
          "text": [
            "4\n",
            "jay\n",
            "gringo 20 30 25 \n",
            "silva 32 54 80 24\n",
            "david 23 34 28\n",
            "silva\n",
            "{'jay': [], 'gringo': [20.0, 30.0, 25.0], 'silva': [32.0, 54.0, 80.0, 24.0], 'david': [23.0, 34.0, 28.0]}\n"
          ]
        }
      ],
      "source": [
        "if __name__ == '__main__':\n",
        "    n = int(input())\n",
        "    student_marks = {}\n",
        "    for _ in range(n):\n",
        "        name, *line = input().split()\n",
        "        scores = list(map(float, line))\n",
        "        student_marks[name] = scores\n",
        "    query_name = input()\n",
        "    print(sum(student_marks[query_name]))\n"
      ]
    },
    {
      "cell_type": "code",
      "source": [
        "print(round(sum(student_marks[query_name])/3),2)"
      ],
      "metadata": {
        "colab": {
          "base_uri": "https://localhost:8080/"
        },
        "id": "7qKwQS2CSAqD",
        "outputId": "43987851-c8ad-4b3d-e18e-12d3e1720967"
      },
      "execution_count": 23,
      "outputs": [
        {
          "output_type": "stream",
          "name": "stdout",
          "text": [
            "63 2\n"
          ]
        }
      ]
    },
    {
      "cell_type": "code",
      "source": [
        "query_name"
      ],
      "metadata": {
        "colab": {
          "base_uri": "https://localhost:8080/",
          "height": 35
        },
        "id": "fE9Z-FMeR5kG",
        "outputId": "2ebe013f-d0ac-4b8b-f896-2cf49e7aa3a7"
      },
      "execution_count": 20,
      "outputs": [
        {
          "output_type": "execute_result",
          "data": {
            "text/plain": [
              "'silva'"
            ],
            "application/vnd.google.colaboratory.intrinsic+json": {
              "type": "string"
            }
          },
          "metadata": {},
          "execution_count": 20
        }
      ]
    },
    {
      "cell_type": "code",
      "source": [
        "queried_student_marks = student_marks['silva']"
      ],
      "metadata": {
        "id": "hqOxLvnLDknu"
      },
      "execution_count": 13,
      "outputs": []
    },
    {
      "cell_type": "code",
      "source": [
        "queried_student_marks"
      ],
      "metadata": {
        "colab": {
          "base_uri": "https://localhost:8080/"
        },
        "id": "cETrin_QOWaJ",
        "outputId": "ff8e4184-cb3d-4cda-d48a-33c635889c84"
      },
      "execution_count": 18,
      "outputs": [
        {
          "output_type": "execute_result",
          "data": {
            "text/plain": [
              "[32.0, 54.0, 80.0, 24.0]"
            ]
          },
          "metadata": {},
          "execution_count": 18
        }
      ]
    },
    {
      "cell_type": "code",
      "source": [
        "type(queried_student_marks)"
      ],
      "metadata": {
        "colab": {
          "base_uri": "https://localhost:8080/"
        },
        "id": "D6dQ-9B4M-zf",
        "outputId": "8389f4fd-06a7-43f2-e30d-7342ab410d1b"
      },
      "execution_count": 17,
      "outputs": [
        {
          "output_type": "execute_result",
          "data": {
            "text/plain": [
              "list"
            ]
          },
          "metadata": {},
          "execution_count": 17
        }
      ]
    },
    {
      "cell_type": "code",
      "source": [
        "sum(queried_student_marks)"
      ],
      "metadata": {
        "colab": {
          "base_uri": "https://localhost:8080/"
        },
        "id": "zEqg2NR1O2Bq",
        "outputId": "3f202e68-b2af-4790-a08a-2ba628a081b4"
      },
      "execution_count": 19,
      "outputs": [
        {
          "output_type": "execute_result",
          "data": {
            "text/plain": [
              "190.0"
            ]
          },
          "metadata": {},
          "execution_count": 19
        }
      ]
    },
    {
      "cell_type": "code",
      "source": [
        "for x in queried_student_marks:\n",
        "  print(sum)"
      ],
      "metadata": {
        "id": "uJKozyzqOSi9"
      },
      "execution_count": null,
      "outputs": []
    },
    {
      "cell_type": "code",
      "source": [
        "a_dict = {'one': 1} # Here 'one' is the key.\n",
        "a_dict['two'] = 2 # Adds key 'two' which points to 2\n",
        "print (a_dict['one'])"
      ],
      "metadata": {
        "colab": {
          "base_uri": "https://localhost:8080/"
        },
        "id": "Kz3L880MEFy0",
        "outputId": "c20dcac3-6b7f-4854-842e-7cf3924b55dc"
      },
      "execution_count": 7,
      "outputs": [
        {
          "output_type": "stream",
          "name": "stdout",
          "text": [
            "1\n"
          ]
        }
      ]
    },
    {
      "cell_type": "code",
      "source": [
        "print (a_dict['two'])"
      ],
      "metadata": {
        "colab": {
          "base_uri": "https://localhost:8080/"
        },
        "id": "eCJ6YoJgE3pX",
        "outputId": "1ae8e794-f833-4fd3-f879-0c2fd2c23a80"
      },
      "execution_count": 8,
      "outputs": [
        {
          "output_type": "stream",
          "name": "stdout",
          "text": [
            "2\n"
          ]
        }
      ]
    },
    {
      "cell_type": "code",
      "source": [
        "#to print the values of a dict, we can call out the name of the dictionary and pass in the key as follows, this prints out the values\n",
        "student_marks = {}\n",
        "n = int(input)\n"
      ],
      "metadata": {
        "id": "H8e1IdTfFBZ8"
      },
      "execution_count": null,
      "outputs": []
    }
  ]
}