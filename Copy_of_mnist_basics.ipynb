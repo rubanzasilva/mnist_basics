{
  "cells": [
    {
      "cell_type": "markdown",
      "metadata": {
        "id": "view-in-github",
        "colab_type": "text"
      },
      "source": [
        "<a href=\"https://colab.research.google.com/github/rubanzasilva/mnist_basics/blob/main/Copy_of_mnist_basics.ipynb\" target=\"_parent\"><img src=\"https://colab.research.google.com/assets/colab-badge.svg\" alt=\"Open In Colab\"/></a>"
      ]
    },
    {
      "cell_type": "markdown",
      "source": [
        "###Imports"
      ],
      "metadata": {
        "id": "VFvm09knnVkS"
      }
    },
    {
      "cell_type": "code",
      "execution_count": 1,
      "metadata": {
        "colab": {
          "base_uri": "https://localhost:8080/"
        },
        "id": "XjmcviI64Qe1",
        "outputId": "d4167f7b-547b-404f-93ba-04df3ebbd448"
      },
      "outputs": [
        {
          "output_type": "stream",
          "name": "stdout",
          "text": [
            "\u001b[2K     \u001b[90m━━━━━━━━━━━━━━━━━━━━━━━━━━━━━━━━━━━━━━━━\u001b[0m \u001b[32m719.8/719.8 kB\u001b[0m \u001b[31m7.3 MB/s\u001b[0m eta \u001b[36m0:00:00\u001b[0m\n",
            "\u001b[2K     \u001b[90m━━━━━━━━━━━━━━━━━━━━━━━━━━━━━━━━━━━━━━━━\u001b[0m \u001b[32m507.1/507.1 kB\u001b[0m \u001b[31m31.6 MB/s\u001b[0m eta \u001b[36m0:00:00\u001b[0m\n",
            "\u001b[2K     \u001b[90m━━━━━━━━━━━━━━━━━━━━━━━━━━━━━━━━━━━━━━━━\u001b[0m \u001b[32m1.3/1.3 MB\u001b[0m \u001b[31m25.7 MB/s\u001b[0m eta \u001b[36m0:00:00\u001b[0m\n",
            "\u001b[2K     \u001b[90m━━━━━━━━━━━━━━━━━━━━━━━━━━━━━━━━━━━━━━━━\u001b[0m \u001b[32m115.3/115.3 kB\u001b[0m \u001b[31m7.8 MB/s\u001b[0m eta \u001b[36m0:00:00\u001b[0m\n",
            "\u001b[2K     \u001b[90m━━━━━━━━━━━━━━━━━━━━━━━━━━━━━━━━━━━━━━━━\u001b[0m \u001b[32m134.8/134.8 kB\u001b[0m \u001b[31m10.2 MB/s\u001b[0m eta \u001b[36m0:00:00\u001b[0m\n",
            "\u001b[2K     \u001b[90m━━━━━━━━━━━━━━━━━━━━━━━━━━━━━━━━━━━━━━━━\u001b[0m \u001b[32m1.6/1.6 MB\u001b[0m \u001b[31m34.2 MB/s\u001b[0m eta \u001b[36m0:00:00\u001b[0m\n",
            "\u001b[?25hMounted at /content/gdrive\n"
          ]
        }
      ],
      "source": [
        "#hide\n",
        "#This imports and sets up everything you will need for this notebook\n",
        "! [ -e /content ] && pip install -Uqq fastbook\n",
        "import fastbook\n",
        "fastbook.setup_book()"
      ]
    },
    {
      "cell_type": "code",
      "execution_count": 2,
      "metadata": {
        "id": "McH5oRs3pv3l"
      },
      "outputs": [],
      "source": [
        "#hide\n",
        "from fastai.vision.all import *\n",
        "from fastbook import *\n",
        "import numpy as np\n",
        "\n",
        "matplotlib.rc('image', cmap='Greys')"
      ]
    },
    {
      "cell_type": "markdown",
      "source": [
        "#Under The Hood : Training A Digit Classifier\n",
        "\n",
        "Here we build a computer vision model from scratch using the we are using the famous [MNIST](https://en.wikipedia.org/wiki/MNIST_database#:~:text=Article%20Talk,the%20field%20of%20machine%20learning.), a dataset containing images of Handwritten digits. This was first used by Yan LeCun to build Lenet5, a handwritten digit classifier.\n",
        "\n",
        "We do this while introducing the fundamental concepts and tools for deep learning such as\n",
        "\n",
        "*   How to use NumPy arrays and PyTorch tensors\n",
        "*   Application of broadcasting to them\n",
        "*   Calculating gradients\n",
        "*   Definition and choice of a loss function for our problem\n",
        "*   Updating of the weights using Stochastic Gradient Descent and the role of mini batches.\n",
        "\n",
        "We finally put all the math together to build a simple neural network to classify images"
      ],
      "metadata": {
        "id": "qlEVzFx2jU2O"
      }
    },
    {
      "cell_type": "markdown",
      "source": [
        "##Pixels : Computer Vision Foundations"
      ],
      "metadata": {
        "id": "lsWzNiTyqdQ4"
      }
    },
    {
      "cell_type": "markdown",
      "source": [
        "First things first, lets consider how computers handle images.As we shall see later on, in a computer everything has to represented as numbers.\n",
        "To do this we shall first download the dataset.\n",
        "\n",
        "For the initial example, We are building a model to classify an image as a 3 or 7. With the code below, we download a sample from the original MNIST dataset which contains images of just these two digits.(3 and 7)"
      ],
      "metadata": {
        "id": "ScX9ollAq5Fi"
      }
    },
    {
      "cell_type": "markdown",
      "source": [
        "-download dataset\n",
        "- create list containing folders\n",
        "- view image, pil\n",
        "-convert images to numpy array, pytorch tensors\n",
        "-view images\n",
        "-build baseline"
      ],
      "metadata": {
        "id": "22dbDlyIOhfi"
      }
    },
    {
      "cell_type": "code",
      "execution_count": 3,
      "metadata": {
        "id": "m84ARw-vpxjx",
        "colab": {
          "base_uri": "https://localhost:8080/",
          "height": 37
        },
        "outputId": "09fe2f69-3127-47b5-ba8f-33356e7fcbc9"
      },
      "outputs": [
        {
          "output_type": "display_data",
          "data": {
            "text/plain": [
              "<IPython.core.display.HTML object>"
            ],
            "text/html": [
              "\n",
              "<style>\n",
              "    /* Turns off some styling */\n",
              "    progress {\n",
              "        /* gets rid of default border in Firefox and Opera. */\n",
              "        border: none;\n",
              "        /* Needs to be in here for Safari polyfill so background images work as expected. */\n",
              "        background-size: auto;\n",
              "    }\n",
              "    progress:not([value]), progress:not([value])::-webkit-progress-bar {\n",
              "        background: repeating-linear-gradient(45deg, #7e7e7e, #7e7e7e 10px, #5c5c5c 10px, #5c5c5c 20px);\n",
              "    }\n",
              "    .progress-bar-interrupted, .progress-bar-interrupted::-webkit-progress-bar {\n",
              "        background: #F44336;\n",
              "    }\n",
              "</style>\n"
            ]
          },
          "metadata": {}
        },
        {
          "output_type": "display_data",
          "data": {
            "text/plain": [
              "<IPython.core.display.HTML object>"
            ],
            "text/html": [
              "\n",
              "    <div>\n",
              "      <progress value='3219456' class='' max='3214948' style='width:300px; height:20px; vertical-align: middle;'></progress>\n",
              "      100.14% [3219456/3214948 00:00&lt;00:00]\n",
              "    </div>\n",
              "    "
            ]
          },
          "metadata": {}
        }
      ],
      "source": [
        "path = untar_data(URLs.MNIST_SAMPLE)"
      ]
    },
    {
      "cell_type": "code",
      "execution_count": 4,
      "metadata": {
        "id": "HctukwiXsA6d"
      },
      "outputs": [],
      "source": [
        "#hide\n",
        "Path.BASE_PATH = path"
      ]
    },
    {
      "cell_type": "markdown",
      "source": [
        "Fastai provides a method ls which we can use to see and get a count of whats inside the path directory.\n",
        "\n",
        "This method returns an object of a special fastai class called L, which has the same functionality as a python's Buily in List but supports adavncwed functionality such as advanced indexing, additional methods and encourages use of expressive code making it easier to work with Python lists.\n",
        "\n",
        "\n"
      ],
      "metadata": {
        "id": "FMotlZpd7otH"
      }
    },
    {
      "cell_type": "code",
      "execution_count": 5,
      "metadata": {
        "colab": {
          "base_uri": "https://localhost:8080/"
        },
        "id": "57J5slJDsG8M",
        "outputId": "6d571207-f429-4f16-99a8-64504ce290be"
      },
      "outputs": [
        {
          "output_type": "execute_result",
          "data": {
            "text/plain": [
              "(#3) [Path('valid'),Path('labels.csv'),Path('train')]"
            ]
          },
          "metadata": {},
          "execution_count": 5
        }
      ],
      "source": [
        "path.ls()"
      ]
    },
    {
      "cell_type": "markdown",
      "metadata": {
        "id": "CB7XL_oxif37"
      },
      "source": [
        "As we can see above, the dataset follows a common pattern for machine learning datasets, where the data is separated into separate train and valid folders.\n"
      ]
    },
    {
      "cell_type": "code",
      "execution_count": 6,
      "metadata": {
        "colab": {
          "base_uri": "https://localhost:8080/"
        },
        "id": "51wUPhMPsHvF",
        "outputId": "bb58fbf0-37fb-419c-c94c-07d500add2f6"
      },
      "outputs": [
        {
          "output_type": "execute_result",
          "data": {
            "text/plain": [
              "(#6131) [Path('train/3/49077.png'),Path('train/3/4256.png'),Path('train/3/13836.png'),Path('train/3/11341.png'),Path('train/3/46702.png'),Path('train/3/48465.png'),Path('train/3/44191.png'),Path('train/3/51811.png'),Path('train/3/16407.png'),Path('train/3/31311.png')...]"
            ]
          },
          "metadata": {},
          "execution_count": 6
        }
      ],
      "source": [
        "(path/'train/3').ls()"
      ]
    },
    {
      "cell_type": "code",
      "source": [
        "(path/'valid/3').ls()"
      ],
      "metadata": {
        "colab": {
          "base_uri": "https://localhost:8080/"
        },
        "id": "gM9U7KL7v_qc",
        "outputId": "da989cf0-67b6-4f31-e408-393e523d09a2"
      },
      "execution_count": 7,
      "outputs": [
        {
          "output_type": "execute_result",
          "data": {
            "text/plain": [
              "(#1010) [Path('valid/3/4256.png'),Path('valid/3/2011.png'),Path('valid/3/3717.png'),Path('valid/3/2501.png'),Path('valid/3/4703.png'),Path('valid/3/1204.png'),Path('valid/3/6116.png'),Path('valid/3/8924.png'),Path('valid/3/5408.png'),Path('valid/3/4492.png')...]"
            ]
          },
          "metadata": {},
          "execution_count": 7
        }
      ]
    },
    {
      "cell_type": "markdown",
      "source": [
        "The training dataset is divided into 3 and 7 which contains images of digits for 3 and 7 respectively.The '3' and '7' are the labels in this dataset.\n",
        "\n",
        "Lets us create a sorted list of our images for the 3's and 7's to ensure everybody gets the same order of files."
      ],
      "metadata": {
        "id": "6mIuh6Z_Gbr9"
      }
    },
    {
      "cell_type": "code",
      "source": [
        "#we use sorted to ensure we get files in the order\n",
        "threes = (path/'train/3').ls().sorted()\n",
        "sevens = (path/'train/7').ls().sorted()\n",
        "threes"
      ],
      "metadata": {
        "colab": {
          "base_uri": "https://localhost:8080/"
        },
        "id": "f60G64azGR-o",
        "outputId": "644fcf7b-9135-4aac-af4e-ac2ba07daa85"
      },
      "execution_count": 8,
      "outputs": [
        {
          "output_type": "execute_result",
          "data": {
            "text/plain": [
              "(#6131) [Path('train/3/10.png'),Path('train/3/10000.png'),Path('train/3/10011.png'),Path('train/3/10031.png'),Path('train/3/10034.png'),Path('train/3/10042.png'),Path('train/3/10052.png'),Path('train/3/1007.png'),Path('train/3/10074.png'),Path('train/3/10091.png')...]"
            ]
          },
          "metadata": {},
          "execution_count": 8
        }
      ]
    },
    {
      "cell_type": "code",
      "source": [
        "#we use sorted to ensure we get files in the order\n",
        "valid_threes = (path/'valid/3').ls().sorted()\n",
        "valid_sevens = (path/'valid/7').ls().sorted()\n",
        "valid_threes"
      ],
      "metadata": {
        "colab": {
          "base_uri": "https://localhost:8080/"
        },
        "id": "naotecGIvxSH",
        "outputId": "244ba92f-7789-4bd3-820e-392c625d4aba"
      },
      "execution_count": 9,
      "outputs": [
        {
          "output_type": "execute_result",
          "data": {
            "text/plain": [
              "(#1010) [Path('valid/3/1020.png'),Path('valid/3/1028.png'),Path('valid/3/1042.png'),Path('valid/3/1062.png'),Path('valid/3/1066.png'),Path('valid/3/1067.png'),Path('valid/3/1069.png'),Path('valid/3/1072.png'),Path('valid/3/1092.png'),Path('valid/3/1095.png')...]"
            ]
          },
          "metadata": {},
          "execution_count": 9
        }
      ]
    },
    {
      "cell_type": "code",
      "source": [
        "im3_path = threes[1]\n",
        "im3 = Image.open(im3_path)\n",
        "im3"
      ],
      "metadata": {
        "colab": {
          "base_uri": "https://localhost:8080/",
          "height": 45
        },
        "id": "7lzuN3EwEfrc",
        "outputId": "3a688f61-9d65-4a53-d6fa-6bc755f65313"
      },
      "execution_count": 10,
      "outputs": [
        {
          "output_type": "execute_result",
          "data": {
            "text/plain": [
              "<PIL.PngImagePlugin.PngImageFile image mode=L size=28x28>"
            ],
            "image/png": "[encoded data removed]"
          },
          "metadata": {},
          "execution_count": 10
        }
      ]
    },
    {
      "cell_type": "markdown",
      "source": [
        "We use the Image class from the Python Imaging Library (PIL) to display a sample image from the 3's folder.\n",
        "\n",
        "Everything in a computer is represented as a number,To represent an image as a number in a computer, We have to convert it to a NumPy array or a PyTorch tensor as shown below."
      ],
      "metadata": {
        "id": "kOQdaoe_Mbsj"
      }
    },
    {
      "cell_type": "code",
      "source": [
        "im3_array = array(im3)\n",
        "im3_array[4:10,4:10]"
      ],
      "metadata": {
        "colab": {
          "base_uri": "https://localhost:8080/"
        },
        "id": "lTYSYKSpPCum",
        "outputId": "e3e389ba-7786-4686-e34d-da3bb9a70daf"
      },
      "execution_count": 11,
      "outputs": [
        {
          "output_type": "execute_result",
          "data": {
            "text/plain": [
              "array([[  0,   0,   0,   0,   0,   0],\n",
              "       [  0,   0,   0,   0,   0,  29],\n",
              "       [  0,   0,   0,  48, 166, 224],\n",
              "       [  0,  93, 244, 249, 253, 187],\n",
              "       [  0, 107, 253, 253, 230,  48],\n",
              "       [  0,   3,  20,  20,  15,   0]], dtype=uint8)"
            ]
          },
          "metadata": {},
          "execution_count": 11
        }
      ]
    },
    {
      "cell_type": "code",
      "source": [
        "im3_array"
      ],
      "metadata": {
        "id": "9f4Icq-pbRT9",
        "colab": {
          "base_uri": "https://localhost:8080/"
        },
        "outputId": "257da61e-fc9e-42af-b9fe-e4c07de29e1b"
      },
      "execution_count": 12,
      "outputs": [
        {
          "output_type": "execute_result",
          "data": {
            "text/plain": [
              "array([[  0,   0,   0,   0,   0,   0,   0,   0,   0,   0,   0,   0,   0,   0,   0,   0,   0,   0,   0,   0,   0,   0,   0,   0,   0,   0,   0,   0],\n",
              "       [  0,   0,   0,   0,   0,   0,   0,   0,   0,   0,   0,   0,   0,   0,   0,   0,   0,   0,   0,   0,   0,   0,   0,   0,   0,   0,   0,   0],\n",
              "       [  0,   0,   0,   0,   0,   0,   0,   0,   0,   0,   0,   0,   0,   0,   0,   0,   0,   0,   0,   0,   0,   0,   0,   0,   0,   0,   0,   0],\n",
              "       [  0,   0,   0,   0,   0,   0,   0,   0,   0,   0,   0,   0,   0,   0,   0,   0,   0,   0,   0,   0,   0,   0,   0,   0,   0,   0,   0,   0],\n",
              "       [  0,   0,   0,   0,   0,   0,   0,   0,   0,   0,   0,   0,   0,   0,   0,   0,   0,   0,   0,   0,   0,   0,   0,   0,   0,   0,   0,   0],\n",
              "       [  0,   0,   0,   0,   0,   0,   0,   0,   0,  29, 150, 195, 254, 255, 254, 176, 193, 150,  96,   0,   0,   0,   0,   0,   0,   0,   0,   0],\n",
              "       [  0,   0,   0,   0,   0,   0,   0,  48, 166, 224, 253, 253, 234, 196, 253, 253, 253, 253, 233,   0,   0,   0,   0,   0,   0,   0,   0,   0],\n",
              "       [  0,   0,   0,   0,   0,  93, 244, 249, 253, 187,  46,  10,   8,   4,  10, 194, 253, 253, 233,   0,   0,   0,   0,   0,   0,   0,   0,   0],\n",
              "       [  0,   0,   0,   0,   0, 107, 253, 253, 230,  48,   0,   0,   0,   0,   0, 192, 253, 253, 156,   0,   0,   0,   0,   0,   0,   0,   0,   0],\n",
              "       [  0,   0,   0,   0,   0,   3,  20,  20,  15,   0,   0,   0,   0,   0,  43, 224, 253, 245,  74,   0,   0,   0,   0,   0,   0,   0,   0,   0],\n",
              "       [  0,   0,   0,   0,   0,   0,   0,   0,   0,   0,   0,   0,   0,   0, 249, 253, 245, 126,   0,   0,   0,   0,   0,   0,   0,   0,   0,   0],\n",
              "       [  0,   0,   0,   0,   0,   0,   0,   0,   0,   0,   0,  14, 101, 223, 253, 248, 124,   0,   0,   0,   0,   0,   0,   0,   0,   0,   0,   0],\n",
              "       [  0,   0,   0,   0,   0,   0,   0,   0,   0,  11, 166, 239, 253, 253, 253, 187,  30,   0,   0,   0,   0,   0,   0,   0,   0,   0,   0,   0],\n",
              "       [  0,   0,   0,   0,   0,   0,   0,   0,   0,  16, 248, 250, 253, 253, 253, 253, 232, 213, 111,   2,   0,   0,   0,   0,   0,   0,   0,   0],\n",
              "       [  0,   0,   0,   0,   0,   0,   0,   0,   0,   0,   0,  43,  98,  98, 208, 253, 253, 253, 253, 187,  22,   0,   0,   0,   0,   0,   0,   0],\n",
              "       [  0,   0,   0,   0,   0,   0,   0,   0,   0,   0,   0,   0,   0,   0,   9,  51, 119, 253, 253, 253,  76,   0,   0,   0,   0,   0,   0,   0],\n",
              "       [  0,   0,   0,   0,   0,   0,   0,   0,   0,   0,   0,   0,   0,   0,   0,   0,   1, 183, 253, 253, 139,   0,   0,   0,   0,   0,   0,   0],\n",
              "       [  0,   0,   0,   0,   0,   0,   0,   0,   0,   0,   0,   0,   0,   0,   0,   0,   0, 182, 253, 253, 104,   0,   0,   0,   0,   0,   0,   0],\n",
              "       [  0,   0,   0,   0,   0,   0,   0,   0,   0,   0,   0,   0,   0,   0,   0,   0,  85, 249, 253, 253,  36,   0,   0,   0,   0,   0,   0,   0],\n",
              "       [  0,   0,   0,   0,   0,   0,   0,   0,   0,   0,   0,   0,   0,   0,   0,  60, 214, 253, 253, 173,  11,   0,   0,   0,   0,   0,   0,   0],\n",
              "       [  0,   0,   0,   0,   0,   0,   0,   0,   0,   0,   0,   0,   0,   0,  98, 247, 253, 253, 226,   9,   0,   0,   0,   0,   0,   0,   0,   0],\n",
              "       [  0,   0,   0,   0,   0,   0,   0,   0,   0,   0,   0,   0,  42, 150, 252, 253, 253, 233,  53,   0,   0,   0,   0,   0,   0,   0,   0,   0],\n",
              "       [  0,   0,   0,   0,   0,   0,  42, 115,  42,  60, 115, 159, 240, 253, 253, 250, 175,  25,   0,   0,   0,   0,   0,   0,   0,   0,   0,   0],\n",
              "       [  0,   0,   0,   0,   0,   0, 187, 253, 253, 253, 253, 253, 253, 253, 197,  86,   0,   0,   0,   0,   0,   0,   0,   0,   0,   0,   0,   0],\n",
              "       [  0,   0,   0,   0,   0,   0, 103, 253, 253, 253, 253, 253, 232,  67,   1,   0,   0,   0,   0,   0,   0,   0,   0,   0,   0,   0,   0,   0],\n",
              "       [  0,   0,   0,   0,   0,   0,   0,   0,   0,   0,   0,   0,   0,   0,   0,   0,   0,   0,   0,   0,   0,   0,   0,   0,   0,   0,   0,   0],\n",
              "       [  0,   0,   0,   0,   0,   0,   0,   0,   0,   0,   0,   0,   0,   0,   0,   0,   0,   0,   0,   0,   0,   0,   0,   0,   0,   0,   0,   0],\n",
              "       [  0,   0,   0,   0,   0,   0,   0,   0,   0,   0,   0,   0,   0,   0,   0,   0,   0,   0,   0,   0,   0,   0,   0,   0,   0,   0,   0,   0]], dtype=uint8)"
            ]
          },
          "metadata": {},
          "execution_count": 12
        }
      ]
    },
    {
      "cell_type": "markdown",
      "source": [
        "NumPy indexes from top to bottom and from left to right, as shown above with the 4:10 indicating the rows at the 4th index to the 9th index for both rows and columns.\n",
        "\n",
        "The same applies to the tensor below."
      ],
      "metadata": {
        "id": "qQ36G9tjSOvZ"
      }
    },
    {
      "cell_type": "code",
      "source": [
        "im3_tensor = tensor(im3)\n",
        "im3_tensor[4:10,4:10]"
      ],
      "metadata": {
        "colab": {
          "base_uri": "https://localhost:8080/"
        },
        "id": "ckf1RxmMPHTa",
        "outputId": "c9b4b618-cf67-4c88-ab4d-6e7dafa5e7bb"
      },
      "execution_count": 13,
      "outputs": [
        {
          "output_type": "execute_result",
          "data": {
            "text/plain": [
              "tensor([[  0,   0,   0,   0,   0,   0],\n",
              "        [  0,   0,   0,   0,   0,  29],\n",
              "        [  0,   0,   0,  48, 166, 224],\n",
              "        [  0,  93, 244, 249, 253, 187],\n",
              "        [  0, 107, 253, 253, 230,  48],\n",
              "        [  0,   3,  20,  20,  15,   0]], dtype=torch.uint8)"
            ]
          },
          "metadata": {},
          "execution_count": 13
        }
      ]
    },
    {
      "cell_type": "code",
      "source": [
        "df = pd.DataFrame(im3_tensor[4:30,4:22])\n",
        "df.style.set_properties(**{'font-size':'6pt'}).background_gradient('Greys')"
      ],
      "metadata": {
        "id": "CA--1QbXbCw-",
        "colab": {
          "base_uri": "https://localhost:8080/",
          "height": 802
        },
        "outputId": "b12d3802-5505-4a73-d202-74f009755e66"
      },
      "execution_count": 14,
      "outputs": [
        {
          "output_type": "execute_result",
          "data": {
            "text/plain": [
              "<pandas.io.formats.style.Styler at 0x7a927673a710>"
            ],
            "text/html": [
              "<style type=\"text/css\">\n",
              "#T_bf24d_row0_col0, #T_bf24d_row0_col1, #T_bf24d_row0_col2, #T_bf24d_row0_col3, #T_bf24d_row0_col4, #T_bf24d_row0_col5, #T_bf24d_row0_col6, #T_bf24d_row0_col7, #T_bf24d_row0_col8, #T_bf24d_row0_col9, #T_bf24d_row0_col10, #T_bf24d_row0_col11, #T_bf24d_row0_col12, #T_bf24d_row0_col13, #T_bf24d_row0_col14, #T_bf24d_row0_col15, #T_bf24d_row0_col16, #T_bf24d_row0_col17, #T_bf24d_row1_col0, #T_bf24d_row1_col1, #T_bf24d_row1_col2, #T_bf24d_row1_col3, #T_bf24d_row1_col4, #T_bf24d_row1_col15, #T_bf24d_row1_col16, #T_bf24d_row1_col17, #T_bf24d_row2_col0, #T_bf24d_row2_col1, #T_bf24d_row2_col2, #T_bf24d_row2_col15, #T_bf24d_row2_col16, #T_bf24d_row2_col17, #T_bf24d_row3_col0, #T_bf24d_row3_col15, #T_bf24d_row3_col16, #T_bf24d_row3_col17, #T_bf24d_row4_col0, #T_bf24d_row4_col6, #T_bf24d_row4_col7, #T_bf24d_row4_col8, #T_bf24d_row4_col9, #T_bf24d_row4_col10, #T_bf24d_row4_col15, #T_bf24d_row4_col16, #T_bf24d_row4_col17, #T_bf24d_row5_col0, #T_bf24d_row5_col5, #T_bf24d_row5_col6, #T_bf24d_row5_col7, #T_bf24d_row5_col8, #T_bf24d_row5_col9, #T_bf24d_row5_col15, #T_bf24d_row5_col16, #T_bf24d_row5_col17, #T_bf24d_row6_col0, #T_bf24d_row6_col1, #T_bf24d_row6_col2, #T_bf24d_row6_col3, #T_bf24d_row6_col4, #T_bf24d_row6_col5, #T_bf24d_row6_col6, #T_bf24d_row6_col7, #T_bf24d_row6_col8, #T_bf24d_row6_col9, #T_bf24d_row6_col14, #T_bf24d_row6_col15, #T_bf24d_row6_col16, #T_bf24d_row6_col17, #T_bf24d_row7_col0, #T_bf24d_row7_col1, #T_bf24d_row7_col2, #T_bf24d_row7_col3, #T_bf24d_row7_col4, #T_bf24d_row7_col5, #T_bf24d_row7_col6, #T_bf24d_row7_col13, #T_bf24d_row7_col14, #T_bf24d_row7_col15, #T_bf24d_row7_col16, #T_bf24d_row7_col17, #T_bf24d_row8_col0, #T_bf24d_row8_col1, #T_bf24d_row8_col2, #T_bf24d_row8_col3, #T_bf24d_row8_col4, #T_bf24d_row8_col13, #T_bf24d_row8_col14, #T_bf24d_row8_col15, #T_bf24d_row8_col16, #T_bf24d_row8_col17, #T_bf24d_row9_col0, #T_bf24d_row9_col1, #T_bf24d_row9_col2, #T_bf24d_row9_col3, #T_bf24d_row9_col4, #T_bf24d_row9_col16, #T_bf24d_row9_col17, #T_bf24d_row10_col0, #T_bf24d_row10_col1, #T_bf24d_row10_col2, #T_bf24d_row10_col3, #T_bf24d_row10_col4, #T_bf24d_row10_col5, #T_bf24d_row10_col6, #T_bf24d_row10_col17, #T_bf24d_row11_col0, #T_bf24d_row11_col1, #T_bf24d_row11_col2, #T_bf24d_row11_col3, #T_bf24d_row11_col4, #T_bf24d_row11_col5, #T_bf24d_row11_col6, #T_bf24d_row11_col7, #T_bf24d_row11_col8, #T_bf24d_row11_col9, #T_bf24d_row11_col17, #T_bf24d_row12_col0, #T_bf24d_row12_col1, #T_bf24d_row12_col2, #T_bf24d_row12_col3, #T_bf24d_row12_col4, #T_bf24d_row12_col5, #T_bf24d_row12_col6, #T_bf24d_row12_col7, #T_bf24d_row12_col8, #T_bf24d_row12_col9, #T_bf24d_row12_col10, #T_bf24d_row12_col11, #T_bf24d_row12_col12, #T_bf24d_row12_col17, #T_bf24d_row13_col0, #T_bf24d_row13_col1, #T_bf24d_row13_col2, #T_bf24d_row13_col3, #T_bf24d_row13_col4, #T_bf24d_row13_col5, #T_bf24d_row13_col6, #T_bf24d_row13_col7, #T_bf24d_row13_col8, #T_bf24d_row13_col9, #T_bf24d_row13_col10, #T_bf24d_row13_col11, #T_bf24d_row13_col12, #T_bf24d_row13_col17, #T_bf24d_row14_col0, #T_bf24d_row14_col1, #T_bf24d_row14_col2, #T_bf24d_row14_col3, #T_bf24d_row14_col4, #T_bf24d_row14_col5, #T_bf24d_row14_col6, #T_bf24d_row14_col7, #T_bf24d_row14_col8, #T_bf24d_row14_col9, #T_bf24d_row14_col10, #T_bf24d_row14_col11, #T_bf24d_row14_col17, #T_bf24d_row15_col0, #T_bf24d_row15_col1, #T_bf24d_row15_col2, #T_bf24d_row15_col3, #T_bf24d_row15_col4, #T_bf24d_row15_col5, #T_bf24d_row15_col6, #T_bf24d_row15_col7, #T_bf24d_row15_col8, #T_bf24d_row15_col9, #T_bf24d_row15_col10, #T_bf24d_row15_col17, #T_bf24d_row16_col0, #T_bf24d_row16_col1, #T_bf24d_row16_col2, #T_bf24d_row16_col3, #T_bf24d_row16_col4, #T_bf24d_row16_col5, #T_bf24d_row16_col6, #T_bf24d_row16_col7, #T_bf24d_row16_col8, #T_bf24d_row16_col9, #T_bf24d_row16_col16, #T_bf24d_row16_col17, #T_bf24d_row17_col0, #T_bf24d_row17_col1, #T_bf24d_row17_col2, #T_bf24d_row17_col3, #T_bf24d_row17_col4, #T_bf24d_row17_col5, #T_bf24d_row17_col6, #T_bf24d_row17_col7, #T_bf24d_row17_col15, #T_bf24d_row17_col16, #T_bf24d_row17_col17, #T_bf24d_row18_col0, #T_bf24d_row18_col1, #T_bf24d_row18_col14, #T_bf24d_row18_col15, #T_bf24d_row18_col16, #T_bf24d_row18_col17, #T_bf24d_row19_col0, #T_bf24d_row19_col1, #T_bf24d_row19_col12, #T_bf24d_row19_col13, #T_bf24d_row19_col14, #T_bf24d_row19_col15, #T_bf24d_row19_col16, #T_bf24d_row19_col17, #T_bf24d_row20_col0, #T_bf24d_row20_col1, #T_bf24d_row20_col10, #T_bf24d_row20_col11, #T_bf24d_row20_col12, #T_bf24d_row20_col13, #T_bf24d_row20_col14, #T_bf24d_row20_col15, #T_bf24d_row20_col16, #T_bf24d_row20_col17, #T_bf24d_row21_col0, #T_bf24d_row21_col1, #T_bf24d_row21_col2, #T_bf24d_row21_col3, #T_bf24d_row21_col4, #T_bf24d_row21_col5, #T_bf24d_row21_col6, #T_bf24d_row21_col7, #T_bf24d_row21_col8, #T_bf24d_row21_col9, #T_bf24d_row21_col10, #T_bf24d_row21_col11, #T_bf24d_row21_col12, #T_bf24d_row21_col13, #T_bf24d_row21_col14, #T_bf24d_row21_col15, #T_bf24d_row21_col16, #T_bf24d_row21_col17, #T_bf24d_row22_col0, #T_bf24d_row22_col1, #T_bf24d_row22_col2, #T_bf24d_row22_col3, #T_bf24d_row22_col4, #T_bf24d_row22_col5, #T_bf24d_row22_col6, #T_bf24d_row22_col7, #T_bf24d_row22_col8, #T_bf24d_row22_col9, #T_bf24d_row22_col10, #T_bf24d_row22_col11, #T_bf24d_row22_col12, #T_bf24d_row22_col13, #T_bf24d_row22_col14, #T_bf24d_row22_col15, #T_bf24d_row22_col16, #T_bf24d_row22_col17, #T_bf24d_row23_col0, #T_bf24d_row23_col1, #T_bf24d_row23_col2, #T_bf24d_row23_col3, #T_bf24d_row23_col4, #T_bf24d_row23_col5, #T_bf24d_row23_col6, #T_bf24d_row23_col7, #T_bf24d_row23_col8, #T_bf24d_row23_col9, #T_bf24d_row23_col10, #T_bf24d_row23_col11, #T_bf24d_row23_col12, #T_bf24d_row23_col13, #T_bf24d_row23_col14, #T_bf24d_row23_col15, #T_bf24d_row23_col16, #T_bf24d_row23_col17 {\n",
              "  font-size: 6pt;\n",
              "  background-color: #ffffff;\n",
              "  color: #000000;\n",
              "}\n",
              "#T_bf24d_row1_col5, #T_bf24d_row8_col12 {\n",
              "  font-size: 6pt;\n",
              "  background-color: #f1f1f1;\n",
              "  color: #000000;\n",
              "}\n",
              "#T_bf24d_row1_col6, #T_bf24d_row1_col13 {\n",
              "  font-size: 6pt;\n",
              "  background-color: #7c7c7c;\n",
              "  color: #f1f1f1;\n",
              "}\n",
              "#T_bf24d_row1_col7 {\n",
              "  font-size: 6pt;\n",
              "  background-color: #4a4a4a;\n",
              "  color: #f1f1f1;\n",
              "}\n",
              "#T_bf24d_row1_col8, #T_bf24d_row1_col9, #T_bf24d_row1_col10, #T_bf24d_row2_col6, #T_bf24d_row2_col7, #T_bf24d_row2_col11, #T_bf24d_row2_col12, #T_bf24d_row2_col13, #T_bf24d_row3_col4, #T_bf24d_row3_col12, #T_bf24d_row3_col13, #T_bf24d_row4_col1, #T_bf24d_row4_col2, #T_bf24d_row4_col3, #T_bf24d_row4_col12, #T_bf24d_row4_col13, #T_bf24d_row5_col12, #T_bf24d_row6_col11, #T_bf24d_row9_col11, #T_bf24d_row10_col11, #T_bf24d_row10_col12, #T_bf24d_row10_col13, #T_bf24d_row10_col14, #T_bf24d_row11_col13, #T_bf24d_row11_col14, #T_bf24d_row11_col15, #T_bf24d_row12_col14, #T_bf24d_row12_col15, #T_bf24d_row12_col16, #T_bf24d_row13_col14, #T_bf24d_row13_col15, #T_bf24d_row14_col14, #T_bf24d_row14_col15, #T_bf24d_row15_col13, #T_bf24d_row15_col14, #T_bf24d_row16_col12, #T_bf24d_row16_col13, #T_bf24d_row17_col11, #T_bf24d_row17_col12, #T_bf24d_row19_col3, #T_bf24d_row19_col4, #T_bf24d_row19_col5, #T_bf24d_row19_col6, #T_bf24d_row19_col7, #T_bf24d_row20_col3, #T_bf24d_row20_col4, #T_bf24d_row20_col5, #T_bf24d_row20_col6, #T_bf24d_row20_col7 {\n",
              "  font-size: 6pt;\n",
              "  background-color: #000000;\n",
              "  color: #f1f1f1;\n",
              "}\n",
              "#T_bf24d_row1_col11 {\n",
              "  font-size: 6pt;\n",
              "  background-color: #606060;\n",
              "  color: #f1f1f1;\n",
              "}\n",
              "#T_bf24d_row1_col12 {\n",
              "  font-size: 6pt;\n",
              "  background-color: #4d4d4d;\n",
              "  color: #f1f1f1;\n",
              "}\n",
              "#T_bf24d_row1_col14 {\n",
              "  font-size: 6pt;\n",
              "  background-color: #bbbbbb;\n",
              "  color: #000000;\n",
              "}\n",
              "#T_bf24d_row2_col3, #T_bf24d_row4_col5 {\n",
              "  font-size: 6pt;\n",
              "  background-color: #e4e4e4;\n",
              "  color: #000000;\n",
              "}\n",
              "#T_bf24d_row2_col4, #T_bf24d_row8_col6 {\n",
              "  font-size: 6pt;\n",
              "  background-color: #6b6b6b;\n",
              "  color: #f1f1f1;\n",
              "}\n",
              "#T_bf24d_row2_col5, #T_bf24d_row5_col11 {\n",
              "  font-size: 6pt;\n",
              "  background-color: #222222;\n",
              "  color: #f1f1f1;\n",
              "}\n",
              "#T_bf24d_row2_col8, #T_bf24d_row2_col14, #T_bf24d_row3_col14, #T_bf24d_row17_col13 {\n",
              "  font-size: 6pt;\n",
              "  background-color: #171717;\n",
              "  color: #f1f1f1;\n",
              "}\n",
              "#T_bf24d_row2_col9, #T_bf24d_row3_col11 {\n",
              "  font-size: 6pt;\n",
              "  background-color: #4b4b4b;\n",
              "  color: #f1f1f1;\n",
              "}\n",
              "#T_bf24d_row2_col10, #T_bf24d_row7_col10, #T_bf24d_row8_col8, #T_bf24d_row8_col10, #T_bf24d_row9_col8, #T_bf24d_row9_col10, #T_bf24d_row18_col10, #T_bf24d_row19_col8 {\n",
              "  font-size: 6pt;\n",
              "  background-color: #010101;\n",
              "  color: #f1f1f1;\n",
              "}\n",
              "#T_bf24d_row3_col1 {\n",
              "  font-size: 6pt;\n",
              "  background-color: #272727;\n",
              "  color: #f1f1f1;\n",
              "}\n",
              "#T_bf24d_row3_col2 {\n",
              "  font-size: 6pt;\n",
              "  background-color: #0a0a0a;\n",
              "  color: #f1f1f1;\n",
              "}\n",
              "#T_bf24d_row3_col3, #T_bf24d_row14_col13 {\n",
              "  font-size: 6pt;\n",
              "  background-color: #050505;\n",
              "  color: #f1f1f1;\n",
              "}\n",
              "#T_bf24d_row3_col5, #T_bf24d_row8_col11, #T_bf24d_row10_col15, #T_bf24d_row19_col2 {\n",
              "  font-size: 6pt;\n",
              "  background-color: #545454;\n",
              "  color: #f1f1f1;\n",
              "}\n",
              "#T_bf24d_row3_col6 {\n",
              "  font-size: 6pt;\n",
              "  background-color: #e6e6e6;\n",
              "  color: #000000;\n",
              "}\n",
              "#T_bf24d_row3_col7, #T_bf24d_row3_col10, #T_bf24d_row8_col5 {\n",
              "  font-size: 6pt;\n",
              "  background-color: #fafafa;\n",
              "  color: #000000;\n",
              "}\n",
              "#T_bf24d_row3_col8, #T_bf24d_row11_col10, #T_bf24d_row16_col15 {\n",
              "  font-size: 6pt;\n",
              "  background-color: #fbfbfb;\n",
              "  color: #000000;\n",
              "}\n",
              "#T_bf24d_row3_col9 {\n",
              "  font-size: 6pt;\n",
              "  background-color: #fdfdfd;\n",
              "  color: #000000;\n",
              "}\n",
              "#T_bf24d_row4_col4 {\n",
              "  font-size: 6pt;\n",
              "  background-color: #1b1b1b;\n",
              "  color: #f1f1f1;\n",
              "}\n",
              "#T_bf24d_row4_col11 {\n",
              "  font-size: 6pt;\n",
              "  background-color: #4e4e4e;\n",
              "  color: #f1f1f1;\n",
              "}\n",
              "#T_bf24d_row4_col14 {\n",
              "  font-size: 6pt;\n",
              "  background-color: #767676;\n",
              "  color: #f1f1f1;\n",
              "}\n",
              "#T_bf24d_row5_col1 {\n",
              "  font-size: 6pt;\n",
              "  background-color: #fcfcfc;\n",
              "  color: #000000;\n",
              "}\n",
              "#T_bf24d_row5_col2, #T_bf24d_row5_col3, #T_bf24d_row15_col16 {\n",
              "  font-size: 6pt;\n",
              "  background-color: #f6f6f6;\n",
              "  color: #000000;\n",
              "}\n",
              "#T_bf24d_row5_col4, #T_bf24d_row7_col7 {\n",
              "  font-size: 6pt;\n",
              "  background-color: #f8f8f8;\n",
              "  color: #000000;\n",
              "}\n",
              "#T_bf24d_row5_col10, #T_bf24d_row10_col7 {\n",
              "  font-size: 6pt;\n",
              "  background-color: #e8e8e8;\n",
              "  color: #000000;\n",
              "}\n",
              "#T_bf24d_row5_col13, #T_bf24d_row6_col12 {\n",
              "  font-size: 6pt;\n",
              "  background-color: #090909;\n",
              "  color: #f1f1f1;\n",
              "}\n",
              "#T_bf24d_row5_col14 {\n",
              "  font-size: 6pt;\n",
              "  background-color: #d0d0d0;\n",
              "  color: #000000;\n",
              "}\n",
              "#T_bf24d_row6_col10, #T_bf24d_row7_col11, #T_bf24d_row9_col6 {\n",
              "  font-size: 6pt;\n",
              "  background-color: #060606;\n",
              "  color: #f1f1f1;\n",
              "}\n",
              "#T_bf24d_row6_col13 {\n",
              "  font-size: 6pt;\n",
              "  background-color: #979797;\n",
              "  color: #f1f1f1;\n",
              "}\n",
              "#T_bf24d_row7_col8 {\n",
              "  font-size: 6pt;\n",
              "  background-color: #b6b6b6;\n",
              "  color: #000000;\n",
              "}\n",
              "#T_bf24d_row7_col9 {\n",
              "  font-size: 6pt;\n",
              "  background-color: #252525;\n",
              "  color: #f1f1f1;\n",
              "}\n",
              "#T_bf24d_row7_col12 {\n",
              "  font-size: 6pt;\n",
              "  background-color: #999999;\n",
              "  color: #f1f1f1;\n",
              "}\n",
              "#T_bf24d_row8_col7, #T_bf24d_row18_col8 {\n",
              "  font-size: 6pt;\n",
              "  background-color: #101010;\n",
              "  color: #f1f1f1;\n",
              "}\n",
              "#T_bf24d_row8_col9, #T_bf24d_row9_col9, #T_bf24d_row17_col10, #T_bf24d_row18_col9, #T_bf24d_row19_col9 {\n",
              "  font-size: 6pt;\n",
              "  background-color: #020202;\n",
              "  color: #f1f1f1;\n",
              "}\n",
              "#T_bf24d_row9_col5 {\n",
              "  font-size: 6pt;\n",
              "  background-color: #f7f7f7;\n",
              "  color: #000000;\n",
              "}\n",
              "#T_bf24d_row9_col7, #T_bf24d_row18_col11 {\n",
              "  font-size: 6pt;\n",
              "  background-color: #030303;\n",
              "  color: #f1f1f1;\n",
              "}\n",
              "#T_bf24d_row9_col12 {\n",
              "  font-size: 6pt;\n",
              "  background-color: #181818;\n",
              "  color: #f1f1f1;\n",
              "}\n",
              "#T_bf24d_row9_col13 {\n",
              "  font-size: 6pt;\n",
              "  background-color: #303030;\n",
              "  color: #f1f1f1;\n",
              "}\n",
              "#T_bf24d_row9_col14 {\n",
              "  font-size: 6pt;\n",
              "  background-color: #a9a9a9;\n",
              "  color: #f1f1f1;\n",
              "}\n",
              "#T_bf24d_row9_col15 {\n",
              "  font-size: 6pt;\n",
              "  background-color: #fefefe;\n",
              "  color: #000000;\n",
              "}\n",
              "#T_bf24d_row10_col8, #T_bf24d_row10_col9, #T_bf24d_row16_col10 {\n",
              "  font-size: 6pt;\n",
              "  background-color: #bababa;\n",
              "  color: #000000;\n",
              "}\n",
              "#T_bf24d_row10_col10 {\n",
              "  font-size: 6pt;\n",
              "  background-color: #393939;\n",
              "  color: #f1f1f1;\n",
              "}\n",
              "#T_bf24d_row10_col16 {\n",
              "  font-size: 6pt;\n",
              "  background-color: #eaeaea;\n",
              "  color: #000000;\n",
              "}\n",
              "#T_bf24d_row11_col11 {\n",
              "  font-size: 6pt;\n",
              "  background-color: #e2e2e2;\n",
              "  color: #000000;\n",
              "}\n",
              "#T_bf24d_row11_col12 {\n",
              "  font-size: 6pt;\n",
              "  background-color: #9f9f9f;\n",
              "  color: #f1f1f1;\n",
              "}\n",
              "#T_bf24d_row11_col16 {\n",
              "  font-size: 6pt;\n",
              "  background-color: #898989;\n",
              "  color: #f1f1f1;\n",
              "}\n",
              "#T_bf24d_row12_col13 {\n",
              "  font-size: 6pt;\n",
              "  background-color: #585858;\n",
              "  color: #f1f1f1;\n",
              "}\n",
              "#T_bf24d_row13_col13 {\n",
              "  font-size: 6pt;\n",
              "  background-color: #5a5a5a;\n",
              "  color: #f1f1f1;\n",
              "}\n",
              "#T_bf24d_row13_col16 {\n",
              "  font-size: 6pt;\n",
              "  background-color: #525252;\n",
              "  color: #f1f1f1;\n",
              "}\n",
              "#T_bf24d_row14_col12, #T_bf24d_row19_col11 {\n",
              "  font-size: 6pt;\n",
              "  background-color: #c5c5c5;\n",
              "  color: #000000;\n",
              "}\n",
              "#T_bf24d_row14_col16 {\n",
              "  font-size: 6pt;\n",
              "  background-color: #d7d7d7;\n",
              "  color: #000000;\n",
              "}\n",
              "#T_bf24d_row15_col11, #T_bf24d_row18_col5 {\n",
              "  font-size: 6pt;\n",
              "  background-color: #dcdcdc;\n",
              "  color: #000000;\n",
              "}\n",
              "#T_bf24d_row15_col12 {\n",
              "  font-size: 6pt;\n",
              "  background-color: #2f2f2f;\n",
              "  color: #f1f1f1;\n",
              "}\n",
              "#T_bf24d_row15_col15 {\n",
              "  font-size: 6pt;\n",
              "  background-color: #636363;\n",
              "  color: #f1f1f1;\n",
              "}\n",
              "#T_bf24d_row16_col11 {\n",
              "  font-size: 6pt;\n",
              "  background-color: #070707;\n",
              "  color: #f1f1f1;\n",
              "}\n",
              "#T_bf24d_row16_col14 {\n",
              "  font-size: 6pt;\n",
              "  background-color: #1f1f1f;\n",
              "  color: #f1f1f1;\n",
              "}\n",
              "#T_bf24d_row17_col8, #T_bf24d_row18_col2, #T_bf24d_row18_col4 {\n",
              "  font-size: 6pt;\n",
              "  background-color: #e9e9e9;\n",
              "  color: #000000;\n",
              "}\n",
              "#T_bf24d_row17_col9 {\n",
              "  font-size: 6pt;\n",
              "  background-color: #7d7d7d;\n",
              "  color: #f1f1f1;\n",
              "}\n",
              "#T_bf24d_row17_col14 {\n",
              "  font-size: 6pt;\n",
              "  background-color: #e1e1e1;\n",
              "  color: #000000;\n",
              "}\n",
              "#T_bf24d_row18_col3, #T_bf24d_row18_col6 {\n",
              "  font-size: 6pt;\n",
              "  background-color: #a4a4a4;\n",
              "  color: #f1f1f1;\n",
              "}\n",
              "#T_bf24d_row18_col7 {\n",
              "  font-size: 6pt;\n",
              "  background-color: #727272;\n",
              "  color: #f1f1f1;\n",
              "}\n",
              "#T_bf24d_row18_col12 {\n",
              "  font-size: 6pt;\n",
              "  background-color: #616161;\n",
              "  color: #f1f1f1;\n",
              "}\n",
              "#T_bf24d_row18_col13 {\n",
              "  font-size: 6pt;\n",
              "  background-color: #f3f3f3;\n",
              "  color: #000000;\n",
              "}\n",
              "#T_bf24d_row19_col10 {\n",
              "  font-size: 6pt;\n",
              "  background-color: #484848;\n",
              "  color: #f1f1f1;\n",
              "}\n",
              "#T_bf24d_row20_col2 {\n",
              "  font-size: 6pt;\n",
              "  background-color: #b3b3b3;\n",
              "  color: #000000;\n",
              "}\n",
              "#T_bf24d_row20_col8 {\n",
              "  font-size: 6pt;\n",
              "  background-color: #1a1a1a;\n",
              "  color: #f1f1f1;\n",
              "}\n",
              "#T_bf24d_row20_col9 {\n",
              "  font-size: 6pt;\n",
              "  background-color: #d6d6d6;\n",
              "  color: #000000;\n",
              "}\n",
              "</style>\n",
              "<table id=\"T_bf24d\" class=\"dataframe\">\n",
              "  <thead>\n",
              "    <tr>\n",
              "      <th class=\"blank level0\" >&nbsp;</th>\n",
              "      <th id=\"T_bf24d_level0_col0\" class=\"col_heading level0 col0\" >0</th>\n",
              "      <th id=\"T_bf24d_level0_col1\" class=\"col_heading level0 col1\" >1</th>\n",
              "      <th id=\"T_bf24d_level0_col2\" class=\"col_heading level0 col2\" >2</th>\n",
              "      <th id=\"T_bf24d_level0_col3\" class=\"col_heading level0 col3\" >3</th>\n",
              "      <th id=\"T_bf24d_level0_col4\" class=\"col_heading level0 col4\" >4</th>\n",
              "      <th id=\"T_bf24d_level0_col5\" class=\"col_heading level0 col5\" >5</th>\n",
              "      <th id=\"T_bf24d_level0_col6\" class=\"col_heading level0 col6\" >6</th>\n",
              "      <th id=\"T_bf24d_level0_col7\" class=\"col_heading level0 col7\" >7</th>\n",
              "      <th id=\"T_bf24d_level0_col8\" class=\"col_heading level0 col8\" >8</th>\n",
              "      <th id=\"T_bf24d_level0_col9\" class=\"col_heading level0 col9\" >9</th>\n",
              "      <th id=\"T_bf24d_level0_col10\" class=\"col_heading level0 col10\" >10</th>\n",
              "      <th id=\"T_bf24d_level0_col11\" class=\"col_heading level0 col11\" >11</th>\n",
              "      <th id=\"T_bf24d_level0_col12\" class=\"col_heading level0 col12\" >12</th>\n",
              "      <th id=\"T_bf24d_level0_col13\" class=\"col_heading level0 col13\" >13</th>\n",
              "      <th id=\"T_bf24d_level0_col14\" class=\"col_heading level0 col14\" >14</th>\n",
              "      <th id=\"T_bf24d_level0_col15\" class=\"col_heading level0 col15\" >15</th>\n",
              "      <th id=\"T_bf24d_level0_col16\" class=\"col_heading level0 col16\" >16</th>\n",
              "      <th id=\"T_bf24d_level0_col17\" class=\"col_heading level0 col17\" >17</th>\n",
              "    </tr>\n",
              "  </thead>\n",
              "  <tbody>\n",
              "    <tr>\n",
              "      <th id=\"T_bf24d_level0_row0\" class=\"row_heading level0 row0\" >0</th>\n",
              "      <td id=\"T_bf24d_row0_col0\" class=\"data row0 col0\" >0</td>\n",
              "      <td id=\"T_bf24d_row0_col1\" class=\"data row0 col1\" >0</td>\n",
              "      <td id=\"T_bf24d_row0_col2\" class=\"data row0 col2\" >0</td>\n",
              "      <td id=\"T_bf24d_row0_col3\" class=\"data row0 col3\" >0</td>\n",
              "      <td id=\"T_bf24d_row0_col4\" class=\"data row0 col4\" >0</td>\n",
              "      <td id=\"T_bf24d_row0_col5\" class=\"data row0 col5\" >0</td>\n",
              "      <td id=\"T_bf24d_row0_col6\" class=\"data row0 col6\" >0</td>\n",
              "      <td id=\"T_bf24d_row0_col7\" class=\"data row0 col7\" >0</td>\n",
              "      <td id=\"T_bf24d_row0_col8\" class=\"data row0 col8\" >0</td>\n",
              "      <td id=\"T_bf24d_row0_col9\" class=\"data row0 col9\" >0</td>\n",
              "      <td id=\"T_bf24d_row0_col10\" class=\"data row0 col10\" >0</td>\n",
              "      <td id=\"T_bf24d_row0_col11\" class=\"data row0 col11\" >0</td>\n",
              "      <td id=\"T_bf24d_row0_col12\" class=\"data row0 col12\" >0</td>\n",
              "      <td id=\"T_bf24d_row0_col13\" class=\"data row0 col13\" >0</td>\n",
              "      <td id=\"T_bf24d_row0_col14\" class=\"data row0 col14\" >0</td>\n",
              "      <td id=\"T_bf24d_row0_col15\" class=\"data row0 col15\" >0</td>\n",
              "      <td id=\"T_bf24d_row0_col16\" class=\"data row0 col16\" >0</td>\n",
              "      <td id=\"T_bf24d_row0_col17\" class=\"data row0 col17\" >0</td>\n",
              "    </tr>\n",
              "    <tr>\n",
              "      <th id=\"T_bf24d_level0_row1\" class=\"row_heading level0 row1\" >1</th>\n",
              "      <td id=\"T_bf24d_row1_col0\" class=\"data row1 col0\" >0</td>\n",
              "      <td id=\"T_bf24d_row1_col1\" class=\"data row1 col1\" >0</td>\n",
              "      <td id=\"T_bf24d_row1_col2\" class=\"data row1 col2\" >0</td>\n",
              "      <td id=\"T_bf24d_row1_col3\" class=\"data row1 col3\" >0</td>\n",
              "      <td id=\"T_bf24d_row1_col4\" class=\"data row1 col4\" >0</td>\n",
              "      <td id=\"T_bf24d_row1_col5\" class=\"data row1 col5\" >29</td>\n",
              "      <td id=\"T_bf24d_row1_col6\" class=\"data row1 col6\" >150</td>\n",
              "      <td id=\"T_bf24d_row1_col7\" class=\"data row1 col7\" >195</td>\n",
              "      <td id=\"T_bf24d_row1_col8\" class=\"data row1 col8\" >254</td>\n",
              "      <td id=\"T_bf24d_row1_col9\" class=\"data row1 col9\" >255</td>\n",
              "      <td id=\"T_bf24d_row1_col10\" class=\"data row1 col10\" >254</td>\n",
              "      <td id=\"T_bf24d_row1_col11\" class=\"data row1 col11\" >176</td>\n",
              "      <td id=\"T_bf24d_row1_col12\" class=\"data row1 col12\" >193</td>\n",
              "      <td id=\"T_bf24d_row1_col13\" class=\"data row1 col13\" >150</td>\n",
              "      <td id=\"T_bf24d_row1_col14\" class=\"data row1 col14\" >96</td>\n",
              "      <td id=\"T_bf24d_row1_col15\" class=\"data row1 col15\" >0</td>\n",
              "      <td id=\"T_bf24d_row1_col16\" class=\"data row1 col16\" >0</td>\n",
              "      <td id=\"T_bf24d_row1_col17\" class=\"data row1 col17\" >0</td>\n",
              "    </tr>\n",
              "    <tr>\n",
              "      <th id=\"T_bf24d_level0_row2\" class=\"row_heading level0 row2\" >2</th>\n",
              "      <td id=\"T_bf24d_row2_col0\" class=\"data row2 col0\" >0</td>\n",
              "      <td id=\"T_bf24d_row2_col1\" class=\"data row2 col1\" >0</td>\n",
              "      <td id=\"T_bf24d_row2_col2\" class=\"data row2 col2\" >0</td>\n",
              "      <td id=\"T_bf24d_row2_col3\" class=\"data row2 col3\" >48</td>\n",
              "      <td id=\"T_bf24d_row2_col4\" class=\"data row2 col4\" >166</td>\n",
              "      <td id=\"T_bf24d_row2_col5\" class=\"data row2 col5\" >224</td>\n",
              "      <td id=\"T_bf24d_row2_col6\" class=\"data row2 col6\" >253</td>\n",
              "      <td id=\"T_bf24d_row2_col7\" class=\"data row2 col7\" >253</td>\n",
              "      <td id=\"T_bf24d_row2_col8\" class=\"data row2 col8\" >234</td>\n",
              "      <td id=\"T_bf24d_row2_col9\" class=\"data row2 col9\" >196</td>\n",
              "      <td id=\"T_bf24d_row2_col10\" class=\"data row2 col10\" >253</td>\n",
              "      <td id=\"T_bf24d_row2_col11\" class=\"data row2 col11\" >253</td>\n",
              "      <td id=\"T_bf24d_row2_col12\" class=\"data row2 col12\" >253</td>\n",
              "      <td id=\"T_bf24d_row2_col13\" class=\"data row2 col13\" >253</td>\n",
              "      <td id=\"T_bf24d_row2_col14\" class=\"data row2 col14\" >233</td>\n",
              "      <td id=\"T_bf24d_row2_col15\" class=\"data row2 col15\" >0</td>\n",
              "      <td id=\"T_bf24d_row2_col16\" class=\"data row2 col16\" >0</td>\n",
              "      <td id=\"T_bf24d_row2_col17\" class=\"data row2 col17\" >0</td>\n",
              "    </tr>\n",
              "    <tr>\n",
              "      <th id=\"T_bf24d_level0_row3\" class=\"row_heading level0 row3\" >3</th>\n",
              "      <td id=\"T_bf24d_row3_col0\" class=\"data row3 col0\" >0</td>\n",
              "      <td id=\"T_bf24d_row3_col1\" class=\"data row3 col1\" >93</td>\n",
              "      <td id=\"T_bf24d_row3_col2\" class=\"data row3 col2\" >244</td>\n",
              "      <td id=\"T_bf24d_row3_col3\" class=\"data row3 col3\" >249</td>\n",
              "      <td id=\"T_bf24d_row3_col4\" class=\"data row3 col4\" >253</td>\n",
              "      <td id=\"T_bf24d_row3_col5\" class=\"data row3 col5\" >187</td>\n",
              "      <td id=\"T_bf24d_row3_col6\" class=\"data row3 col6\" >46</td>\n",
              "      <td id=\"T_bf24d_row3_col7\" class=\"data row3 col7\" >10</td>\n",
              "      <td id=\"T_bf24d_row3_col8\" class=\"data row3 col8\" >8</td>\n",
              "      <td id=\"T_bf24d_row3_col9\" class=\"data row3 col9\" >4</td>\n",
              "      <td id=\"T_bf24d_row3_col10\" class=\"data row3 col10\" >10</td>\n",
              "      <td id=\"T_bf24d_row3_col11\" class=\"data row3 col11\" >194</td>\n",
              "      <td id=\"T_bf24d_row3_col12\" class=\"data row3 col12\" >253</td>\n",
              "      <td id=\"T_bf24d_row3_col13\" class=\"data row3 col13\" >253</td>\n",
              "      <td id=\"T_bf24d_row3_col14\" class=\"data row3 col14\" >233</td>\n",
              "      <td id=\"T_bf24d_row3_col15\" class=\"data row3 col15\" >0</td>\n",
              "      <td id=\"T_bf24d_row3_col16\" class=\"data row3 col16\" >0</td>\n",
              "      <td id=\"T_bf24d_row3_col17\" class=\"data row3 col17\" >0</td>\n",
              "    </tr>\n",
              "    <tr>\n",
              "      <th id=\"T_bf24d_level0_row4\" class=\"row_heading level0 row4\" >4</th>\n",
              "      <td id=\"T_bf24d_row4_col0\" class=\"data row4 col0\" >0</td>\n",
              "      <td id=\"T_bf24d_row4_col1\" class=\"data row4 col1\" >107</td>\n",
              "      <td id=\"T_bf24d_row4_col2\" class=\"data row4 col2\" >253</td>\n",
              "      <td id=\"T_bf24d_row4_col3\" class=\"data row4 col3\" >253</td>\n",
              "      <td id=\"T_bf24d_row4_col4\" class=\"data row4 col4\" >230</td>\n",
              "      <td id=\"T_bf24d_row4_col5\" class=\"data row4 col5\" >48</td>\n",
              "      <td id=\"T_bf24d_row4_col6\" class=\"data row4 col6\" >0</td>\n",
              "      <td id=\"T_bf24d_row4_col7\" class=\"data row4 col7\" >0</td>\n",
              "      <td id=\"T_bf24d_row4_col8\" class=\"data row4 col8\" >0</td>\n",
              "      <td id=\"T_bf24d_row4_col9\" class=\"data row4 col9\" >0</td>\n",
              "      <td id=\"T_bf24d_row4_col10\" class=\"data row4 col10\" >0</td>\n",
              "      <td id=\"T_bf24d_row4_col11\" class=\"data row4 col11\" >192</td>\n",
              "      <td id=\"T_bf24d_row4_col12\" class=\"data row4 col12\" >253</td>\n",
              "      <td id=\"T_bf24d_row4_col13\" class=\"data row4 col13\" >253</td>\n",
              "      <td id=\"T_bf24d_row4_col14\" class=\"data row4 col14\" >156</td>\n",
              "      <td id=\"T_bf24d_row4_col15\" class=\"data row4 col15\" >0</td>\n",
              "      <td id=\"T_bf24d_row4_col16\" class=\"data row4 col16\" >0</td>\n",
              "      <td id=\"T_bf24d_row4_col17\" class=\"data row4 col17\" >0</td>\n",
              "    </tr>\n",
              "    <tr>\n",
              "      <th id=\"T_bf24d_level0_row5\" class=\"row_heading level0 row5\" >5</th>\n",
              "      <td id=\"T_bf24d_row5_col0\" class=\"data row5 col0\" >0</td>\n",
              "      <td id=\"T_bf24d_row5_col1\" class=\"data row5 col1\" >3</td>\n",
              "      <td id=\"T_bf24d_row5_col2\" class=\"data row5 col2\" >20</td>\n",
              "      <td id=\"T_bf24d_row5_col3\" class=\"data row5 col3\" >20</td>\n",
              "      <td id=\"T_bf24d_row5_col4\" class=\"data row5 col4\" >15</td>\n",
              "      <td id=\"T_bf24d_row5_col5\" class=\"data row5 col5\" >0</td>\n",
              "      <td id=\"T_bf24d_row5_col6\" class=\"data row5 col6\" >0</td>\n",
              "      <td id=\"T_bf24d_row5_col7\" class=\"data row5 col7\" >0</td>\n",
              "      <td id=\"T_bf24d_row5_col8\" class=\"data row5 col8\" >0</td>\n",
              "      <td id=\"T_bf24d_row5_col9\" class=\"data row5 col9\" >0</td>\n",
              "      <td id=\"T_bf24d_row5_col10\" class=\"data row5 col10\" >43</td>\n",
              "      <td id=\"T_bf24d_row5_col11\" class=\"data row5 col11\" >224</td>\n",
              "      <td id=\"T_bf24d_row5_col12\" class=\"data row5 col12\" >253</td>\n",
              "      <td id=\"T_bf24d_row5_col13\" class=\"data row5 col13\" >245</td>\n",
              "      <td id=\"T_bf24d_row5_col14\" class=\"data row5 col14\" >74</td>\n",
              "      <td id=\"T_bf24d_row5_col15\" class=\"data row5 col15\" >0</td>\n",
              "      <td id=\"T_bf24d_row5_col16\" class=\"data row5 col16\" >0</td>\n",
              "      <td id=\"T_bf24d_row5_col17\" class=\"data row5 col17\" >0</td>\n",
              "    </tr>\n",
              "    <tr>\n",
              "      <th id=\"T_bf24d_level0_row6\" class=\"row_heading level0 row6\" >6</th>\n",
              "      <td id=\"T_bf24d_row6_col0\" class=\"data row6 col0\" >0</td>\n",
              "      <td id=\"T_bf24d_row6_col1\" class=\"data row6 col1\" >0</td>\n",
              "      <td id=\"T_bf24d_row6_col2\" class=\"data row6 col2\" >0</td>\n",
              "      <td id=\"T_bf24d_row6_col3\" class=\"data row6 col3\" >0</td>\n",
              "      <td id=\"T_bf24d_row6_col4\" class=\"data row6 col4\" >0</td>\n",
              "      <td id=\"T_bf24d_row6_col5\" class=\"data row6 col5\" >0</td>\n",
              "      <td id=\"T_bf24d_row6_col6\" class=\"data row6 col6\" >0</td>\n",
              "      <td id=\"T_bf24d_row6_col7\" class=\"data row6 col7\" >0</td>\n",
              "      <td id=\"T_bf24d_row6_col8\" class=\"data row6 col8\" >0</td>\n",
              "      <td id=\"T_bf24d_row6_col9\" class=\"data row6 col9\" >0</td>\n",
              "      <td id=\"T_bf24d_row6_col10\" class=\"data row6 col10\" >249</td>\n",
              "      <td id=\"T_bf24d_row6_col11\" class=\"data row6 col11\" >253</td>\n",
              "      <td id=\"T_bf24d_row6_col12\" class=\"data row6 col12\" >245</td>\n",
              "      <td id=\"T_bf24d_row6_col13\" class=\"data row6 col13\" >126</td>\n",
              "      <td id=\"T_bf24d_row6_col14\" class=\"data row6 col14\" >0</td>\n",
              "      <td id=\"T_bf24d_row6_col15\" class=\"data row6 col15\" >0</td>\n",
              "      <td id=\"T_bf24d_row6_col16\" class=\"data row6 col16\" >0</td>\n",
              "      <td id=\"T_bf24d_row6_col17\" class=\"data row6 col17\" >0</td>\n",
              "    </tr>\n",
              "    <tr>\n",
              "      <th id=\"T_bf24d_level0_row7\" class=\"row_heading level0 row7\" >7</th>\n",
              "      <td id=\"T_bf24d_row7_col0\" class=\"data row7 col0\" >0</td>\n",
              "      <td id=\"T_bf24d_row7_col1\" class=\"data row7 col1\" >0</td>\n",
              "      <td id=\"T_bf24d_row7_col2\" class=\"data row7 col2\" >0</td>\n",
              "      <td id=\"T_bf24d_row7_col3\" class=\"data row7 col3\" >0</td>\n",
              "      <td id=\"T_bf24d_row7_col4\" class=\"data row7 col4\" >0</td>\n",
              "      <td id=\"T_bf24d_row7_col5\" class=\"data row7 col5\" >0</td>\n",
              "      <td id=\"T_bf24d_row7_col6\" class=\"data row7 col6\" >0</td>\n",
              "      <td id=\"T_bf24d_row7_col7\" class=\"data row7 col7\" >14</td>\n",
              "      <td id=\"T_bf24d_row7_col8\" class=\"data row7 col8\" >101</td>\n",
              "      <td id=\"T_bf24d_row7_col9\" class=\"data row7 col9\" >223</td>\n",
              "      <td id=\"T_bf24d_row7_col10\" class=\"data row7 col10\" >253</td>\n",
              "      <td id=\"T_bf24d_row7_col11\" class=\"data row7 col11\" >248</td>\n",
              "      <td id=\"T_bf24d_row7_col12\" class=\"data row7 col12\" >124</td>\n",
              "      <td id=\"T_bf24d_row7_col13\" class=\"data row7 col13\" >0</td>\n",
              "      <td id=\"T_bf24d_row7_col14\" class=\"data row7 col14\" >0</td>\n",
              "      <td id=\"T_bf24d_row7_col15\" class=\"data row7 col15\" >0</td>\n",
              "      <td id=\"T_bf24d_row7_col16\" class=\"data row7 col16\" >0</td>\n",
              "      <td id=\"T_bf24d_row7_col17\" class=\"data row7 col17\" >0</td>\n",
              "    </tr>\n",
              "    <tr>\n",
              "      <th id=\"T_bf24d_level0_row8\" class=\"row_heading level0 row8\" >8</th>\n",
              "      <td id=\"T_bf24d_row8_col0\" class=\"data row8 col0\" >0</td>\n",
              "      <td id=\"T_bf24d_row8_col1\" class=\"data row8 col1\" >0</td>\n",
              "      <td id=\"T_bf24d_row8_col2\" class=\"data row8 col2\" >0</td>\n",
              "      <td id=\"T_bf24d_row8_col3\" class=\"data row8 col3\" >0</td>\n",
              "      <td id=\"T_bf24d_row8_col4\" class=\"data row8 col4\" >0</td>\n",
              "      <td id=\"T_bf24d_row8_col5\" class=\"data row8 col5\" >11</td>\n",
              "      <td id=\"T_bf24d_row8_col6\" class=\"data row8 col6\" >166</td>\n",
              "      <td id=\"T_bf24d_row8_col7\" class=\"data row8 col7\" >239</td>\n",
              "      <td id=\"T_bf24d_row8_col8\" class=\"data row8 col8\" >253</td>\n",
              "      <td id=\"T_bf24d_row8_col9\" class=\"data row8 col9\" >253</td>\n",
              "      <td id=\"T_bf24d_row8_col10\" class=\"data row8 col10\" >253</td>\n",
              "      <td id=\"T_bf24d_row8_col11\" class=\"data row8 col11\" >187</td>\n",
              "      <td id=\"T_bf24d_row8_col12\" class=\"data row8 col12\" >30</td>\n",
              "      <td id=\"T_bf24d_row8_col13\" class=\"data row8 col13\" >0</td>\n",
              "      <td id=\"T_bf24d_row8_col14\" class=\"data row8 col14\" >0</td>\n",
              "      <td id=\"T_bf24d_row8_col15\" class=\"data row8 col15\" >0</td>\n",
              "      <td id=\"T_bf24d_row8_col16\" class=\"data row8 col16\" >0</td>\n",
              "      <td id=\"T_bf24d_row8_col17\" class=\"data row8 col17\" >0</td>\n",
              "    </tr>\n",
              "    <tr>\n",
              "      <th id=\"T_bf24d_level0_row9\" class=\"row_heading level0 row9\" >9</th>\n",
              "      <td id=\"T_bf24d_row9_col0\" class=\"data row9 col0\" >0</td>\n",
              "      <td id=\"T_bf24d_row9_col1\" class=\"data row9 col1\" >0</td>\n",
              "      <td id=\"T_bf24d_row9_col2\" class=\"data row9 col2\" >0</td>\n",
              "      <td id=\"T_bf24d_row9_col3\" class=\"data row9 col3\" >0</td>\n",
              "      <td id=\"T_bf24d_row9_col4\" class=\"data row9 col4\" >0</td>\n",
              "      <td id=\"T_bf24d_row9_col5\" class=\"data row9 col5\" >16</td>\n",
              "      <td id=\"T_bf24d_row9_col6\" class=\"data row9 col6\" >248</td>\n",
              "      <td id=\"T_bf24d_row9_col7\" class=\"data row9 col7\" >250</td>\n",
              "      <td id=\"T_bf24d_row9_col8\" class=\"data row9 col8\" >253</td>\n",
              "      <td id=\"T_bf24d_row9_col9\" class=\"data row9 col9\" >253</td>\n",
              "      <td id=\"T_bf24d_row9_col10\" class=\"data row9 col10\" >253</td>\n",
              "      <td id=\"T_bf24d_row9_col11\" class=\"data row9 col11\" >253</td>\n",
              "      <td id=\"T_bf24d_row9_col12\" class=\"data row9 col12\" >232</td>\n",
              "      <td id=\"T_bf24d_row9_col13\" class=\"data row9 col13\" >213</td>\n",
              "      <td id=\"T_bf24d_row9_col14\" class=\"data row9 col14\" >111</td>\n",
              "      <td id=\"T_bf24d_row9_col15\" class=\"data row9 col15\" >2</td>\n",
              "      <td id=\"T_bf24d_row9_col16\" class=\"data row9 col16\" >0</td>\n",
              "      <td id=\"T_bf24d_row9_col17\" class=\"data row9 col17\" >0</td>\n",
              "    </tr>\n",
              "    <tr>\n",
              "      <th id=\"T_bf24d_level0_row10\" class=\"row_heading level0 row10\" >10</th>\n",
              "      <td id=\"T_bf24d_row10_col0\" class=\"data row10 col0\" >0</td>\n",
              "      <td id=\"T_bf24d_row10_col1\" class=\"data row10 col1\" >0</td>\n",
              "      <td id=\"T_bf24d_row10_col2\" class=\"data row10 col2\" >0</td>\n",
              "      <td id=\"T_bf24d_row10_col3\" class=\"data row10 col3\" >0</td>\n",
              "      <td id=\"T_bf24d_row10_col4\" class=\"data row10 col4\" >0</td>\n",
              "      <td id=\"T_bf24d_row10_col5\" class=\"data row10 col5\" >0</td>\n",
              "      <td id=\"T_bf24d_row10_col6\" class=\"data row10 col6\" >0</td>\n",
              "      <td id=\"T_bf24d_row10_col7\" class=\"data row10 col7\" >43</td>\n",
              "      <td id=\"T_bf24d_row10_col8\" class=\"data row10 col8\" >98</td>\n",
              "      <td id=\"T_bf24d_row10_col9\" class=\"data row10 col9\" >98</td>\n",
              "      <td id=\"T_bf24d_row10_col10\" class=\"data row10 col10\" >208</td>\n",
              "      <td id=\"T_bf24d_row10_col11\" class=\"data row10 col11\" >253</td>\n",
              "      <td id=\"T_bf24d_row10_col12\" class=\"data row10 col12\" >253</td>\n",
              "      <td id=\"T_bf24d_row10_col13\" class=\"data row10 col13\" >253</td>\n",
              "      <td id=\"T_bf24d_row10_col14\" class=\"data row10 col14\" >253</td>\n",
              "      <td id=\"T_bf24d_row10_col15\" class=\"data row10 col15\" >187</td>\n",
              "      <td id=\"T_bf24d_row10_col16\" class=\"data row10 col16\" >22</td>\n",
              "      <td id=\"T_bf24d_row10_col17\" class=\"data row10 col17\" >0</td>\n",
              "    </tr>\n",
              "    <tr>\n",
              "      <th id=\"T_bf24d_level0_row11\" class=\"row_heading level0 row11\" >11</th>\n",
              "      <td id=\"T_bf24d_row11_col0\" class=\"data row11 col0\" >0</td>\n",
              "      <td id=\"T_bf24d_row11_col1\" class=\"data row11 col1\" >0</td>\n",
              "      <td id=\"T_bf24d_row11_col2\" class=\"data row11 col2\" >0</td>\n",
              "      <td id=\"T_bf24d_row11_col3\" class=\"data row11 col3\" >0</td>\n",
              "      <td id=\"T_bf24d_row11_col4\" class=\"data row11 col4\" >0</td>\n",
              "      <td id=\"T_bf24d_row11_col5\" class=\"data row11 col5\" >0</td>\n",
              "      <td id=\"T_bf24d_row11_col6\" class=\"data row11 col6\" >0</td>\n",
              "      <td id=\"T_bf24d_row11_col7\" class=\"data row11 col7\" >0</td>\n",
              "      <td id=\"T_bf24d_row11_col8\" class=\"data row11 col8\" >0</td>\n",
              "      <td id=\"T_bf24d_row11_col9\" class=\"data row11 col9\" >0</td>\n",
              "      <td id=\"T_bf24d_row11_col10\" class=\"data row11 col10\" >9</td>\n",
              "      <td id=\"T_bf24d_row11_col11\" class=\"data row11 col11\" >51</td>\n",
              "      <td id=\"T_bf24d_row11_col12\" class=\"data row11 col12\" >119</td>\n",
              "      <td id=\"T_bf24d_row11_col13\" class=\"data row11 col13\" >253</td>\n",
              "      <td id=\"T_bf24d_row11_col14\" class=\"data row11 col14\" >253</td>\n",
              "      <td id=\"T_bf24d_row11_col15\" class=\"data row11 col15\" >253</td>\n",
              "      <td id=\"T_bf24d_row11_col16\" class=\"data row11 col16\" >76</td>\n",
              "      <td id=\"T_bf24d_row11_col17\" class=\"data row11 col17\" >0</td>\n",
              "    </tr>\n",
              "    <tr>\n",
              "      <th id=\"T_bf24d_level0_row12\" class=\"row_heading level0 row12\" >12</th>\n",
              "      <td id=\"T_bf24d_row12_col0\" class=\"data row12 col0\" >0</td>\n",
              "      <td id=\"T_bf24d_row12_col1\" class=\"data row12 col1\" >0</td>\n",
              "      <td id=\"T_bf24d_row12_col2\" class=\"data row12 col2\" >0</td>\n",
              "      <td id=\"T_bf24d_row12_col3\" class=\"data row12 col3\" >0</td>\n",
              "      <td id=\"T_bf24d_row12_col4\" class=\"data row12 col4\" >0</td>\n",
              "      <td id=\"T_bf24d_row12_col5\" class=\"data row12 col5\" >0</td>\n",
              "      <td id=\"T_bf24d_row12_col6\" class=\"data row12 col6\" >0</td>\n",
              "      <td id=\"T_bf24d_row12_col7\" class=\"data row12 col7\" >0</td>\n",
              "      <td id=\"T_bf24d_row12_col8\" class=\"data row12 col8\" >0</td>\n",
              "      <td id=\"T_bf24d_row12_col9\" class=\"data row12 col9\" >0</td>\n",
              "      <td id=\"T_bf24d_row12_col10\" class=\"data row12 col10\" >0</td>\n",
              "      <td id=\"T_bf24d_row12_col11\" class=\"data row12 col11\" >0</td>\n",
              "      <td id=\"T_bf24d_row12_col12\" class=\"data row12 col12\" >1</td>\n",
              "      <td id=\"T_bf24d_row12_col13\" class=\"data row12 col13\" >183</td>\n",
              "      <td id=\"T_bf24d_row12_col14\" class=\"data row12 col14\" >253</td>\n",
              "      <td id=\"T_bf24d_row12_col15\" class=\"data row12 col15\" >253</td>\n",
              "      <td id=\"T_bf24d_row12_col16\" class=\"data row12 col16\" >139</td>\n",
              "      <td id=\"T_bf24d_row12_col17\" class=\"data row12 col17\" >0</td>\n",
              "    </tr>\n",
              "    <tr>\n",
              "      <th id=\"T_bf24d_level0_row13\" class=\"row_heading level0 row13\" >13</th>\n",
              "      <td id=\"T_bf24d_row13_col0\" class=\"data row13 col0\" >0</td>\n",
              "      <td id=\"T_bf24d_row13_col1\" class=\"data row13 col1\" >0</td>\n",
              "      <td id=\"T_bf24d_row13_col2\" class=\"data row13 col2\" >0</td>\n",
              "      <td id=\"T_bf24d_row13_col3\" class=\"data row13 col3\" >0</td>\n",
              "      <td id=\"T_bf24d_row13_col4\" class=\"data row13 col4\" >0</td>\n",
              "      <td id=\"T_bf24d_row13_col5\" class=\"data row13 col5\" >0</td>\n",
              "      <td id=\"T_bf24d_row13_col6\" class=\"data row13 col6\" >0</td>\n",
              "      <td id=\"T_bf24d_row13_col7\" class=\"data row13 col7\" >0</td>\n",
              "      <td id=\"T_bf24d_row13_col8\" class=\"data row13 col8\" >0</td>\n",
              "      <td id=\"T_bf24d_row13_col9\" class=\"data row13 col9\" >0</td>\n",
              "      <td id=\"T_bf24d_row13_col10\" class=\"data row13 col10\" >0</td>\n",
              "      <td id=\"T_bf24d_row13_col11\" class=\"data row13 col11\" >0</td>\n",
              "      <td id=\"T_bf24d_row13_col12\" class=\"data row13 col12\" >0</td>\n",
              "      <td id=\"T_bf24d_row13_col13\" class=\"data row13 col13\" >182</td>\n",
              "      <td id=\"T_bf24d_row13_col14\" class=\"data row13 col14\" >253</td>\n",
              "      <td id=\"T_bf24d_row13_col15\" class=\"data row13 col15\" >253</td>\n",
              "      <td id=\"T_bf24d_row13_col16\" class=\"data row13 col16\" >104</td>\n",
              "      <td id=\"T_bf24d_row13_col17\" class=\"data row13 col17\" >0</td>\n",
              "    </tr>\n",
              "    <tr>\n",
              "      <th id=\"T_bf24d_level0_row14\" class=\"row_heading level0 row14\" >14</th>\n",
              "      <td id=\"T_bf24d_row14_col0\" class=\"data row14 col0\" >0</td>\n",
              "      <td id=\"T_bf24d_row14_col1\" class=\"data row14 col1\" >0</td>\n",
              "      <td id=\"T_bf24d_row14_col2\" class=\"data row14 col2\" >0</td>\n",
              "      <td id=\"T_bf24d_row14_col3\" class=\"data row14 col3\" >0</td>\n",
              "      <td id=\"T_bf24d_row14_col4\" class=\"data row14 col4\" >0</td>\n",
              "      <td id=\"T_bf24d_row14_col5\" class=\"data row14 col5\" >0</td>\n",
              "      <td id=\"T_bf24d_row14_col6\" class=\"data row14 col6\" >0</td>\n",
              "      <td id=\"T_bf24d_row14_col7\" class=\"data row14 col7\" >0</td>\n",
              "      <td id=\"T_bf24d_row14_col8\" class=\"data row14 col8\" >0</td>\n",
              "      <td id=\"T_bf24d_row14_col9\" class=\"data row14 col9\" >0</td>\n",
              "      <td id=\"T_bf24d_row14_col10\" class=\"data row14 col10\" >0</td>\n",
              "      <td id=\"T_bf24d_row14_col11\" class=\"data row14 col11\" >0</td>\n",
              "      <td id=\"T_bf24d_row14_col12\" class=\"data row14 col12\" >85</td>\n",
              "      <td id=\"T_bf24d_row14_col13\" class=\"data row14 col13\" >249</td>\n",
              "      <td id=\"T_bf24d_row14_col14\" class=\"data row14 col14\" >253</td>\n",
              "      <td id=\"T_bf24d_row14_col15\" class=\"data row14 col15\" >253</td>\n",
              "      <td id=\"T_bf24d_row14_col16\" class=\"data row14 col16\" >36</td>\n",
              "      <td id=\"T_bf24d_row14_col17\" class=\"data row14 col17\" >0</td>\n",
              "    </tr>\n",
              "    <tr>\n",
              "      <th id=\"T_bf24d_level0_row15\" class=\"row_heading level0 row15\" >15</th>\n",
              "      <td id=\"T_bf24d_row15_col0\" class=\"data row15 col0\" >0</td>\n",
              "      <td id=\"T_bf24d_row15_col1\" class=\"data row15 col1\" >0</td>\n",
              "      <td id=\"T_bf24d_row15_col2\" class=\"data row15 col2\" >0</td>\n",
              "      <td id=\"T_bf24d_row15_col3\" class=\"data row15 col3\" >0</td>\n",
              "      <td id=\"T_bf24d_row15_col4\" class=\"data row15 col4\" >0</td>\n",
              "      <td id=\"T_bf24d_row15_col5\" class=\"data row15 col5\" >0</td>\n",
              "      <td id=\"T_bf24d_row15_col6\" class=\"data row15 col6\" >0</td>\n",
              "      <td id=\"T_bf24d_row15_col7\" class=\"data row15 col7\" >0</td>\n",
              "      <td id=\"T_bf24d_row15_col8\" class=\"data row15 col8\" >0</td>\n",
              "      <td id=\"T_bf24d_row15_col9\" class=\"data row15 col9\" >0</td>\n",
              "      <td id=\"T_bf24d_row15_col10\" class=\"data row15 col10\" >0</td>\n",
              "      <td id=\"T_bf24d_row15_col11\" class=\"data row15 col11\" >60</td>\n",
              "      <td id=\"T_bf24d_row15_col12\" class=\"data row15 col12\" >214</td>\n",
              "      <td id=\"T_bf24d_row15_col13\" class=\"data row15 col13\" >253</td>\n",
              "      <td id=\"T_bf24d_row15_col14\" class=\"data row15 col14\" >253</td>\n",
              "      <td id=\"T_bf24d_row15_col15\" class=\"data row15 col15\" >173</td>\n",
              "      <td id=\"T_bf24d_row15_col16\" class=\"data row15 col16\" >11</td>\n",
              "      <td id=\"T_bf24d_row15_col17\" class=\"data row15 col17\" >0</td>\n",
              "    </tr>\n",
              "    <tr>\n",
              "      <th id=\"T_bf24d_level0_row16\" class=\"row_heading level0 row16\" >16</th>\n",
              "      <td id=\"T_bf24d_row16_col0\" class=\"data row16 col0\" >0</td>\n",
              "      <td id=\"T_bf24d_row16_col1\" class=\"data row16 col1\" >0</td>\n",
              "      <td id=\"T_bf24d_row16_col2\" class=\"data row16 col2\" >0</td>\n",
              "      <td id=\"T_bf24d_row16_col3\" class=\"data row16 col3\" >0</td>\n",
              "      <td id=\"T_bf24d_row16_col4\" class=\"data row16 col4\" >0</td>\n",
              "      <td id=\"T_bf24d_row16_col5\" class=\"data row16 col5\" >0</td>\n",
              "      <td id=\"T_bf24d_row16_col6\" class=\"data row16 col6\" >0</td>\n",
              "      <td id=\"T_bf24d_row16_col7\" class=\"data row16 col7\" >0</td>\n",
              "      <td id=\"T_bf24d_row16_col8\" class=\"data row16 col8\" >0</td>\n",
              "      <td id=\"T_bf24d_row16_col9\" class=\"data row16 col9\" >0</td>\n",
              "      <td id=\"T_bf24d_row16_col10\" class=\"data row16 col10\" >98</td>\n",
              "      <td id=\"T_bf24d_row16_col11\" class=\"data row16 col11\" >247</td>\n",
              "      <td id=\"T_bf24d_row16_col12\" class=\"data row16 col12\" >253</td>\n",
              "      <td id=\"T_bf24d_row16_col13\" class=\"data row16 col13\" >253</td>\n",
              "      <td id=\"T_bf24d_row16_col14\" class=\"data row16 col14\" >226</td>\n",
              "      <td id=\"T_bf24d_row16_col15\" class=\"data row16 col15\" >9</td>\n",
              "      <td id=\"T_bf24d_row16_col16\" class=\"data row16 col16\" >0</td>\n",
              "      <td id=\"T_bf24d_row16_col17\" class=\"data row16 col17\" >0</td>\n",
              "    </tr>\n",
              "    <tr>\n",
              "      <th id=\"T_bf24d_level0_row17\" class=\"row_heading level0 row17\" >17</th>\n",
              "      <td id=\"T_bf24d_row17_col0\" class=\"data row17 col0\" >0</td>\n",
              "      <td id=\"T_bf24d_row17_col1\" class=\"data row17 col1\" >0</td>\n",
              "      <td id=\"T_bf24d_row17_col2\" class=\"data row17 col2\" >0</td>\n",
              "      <td id=\"T_bf24d_row17_col3\" class=\"data row17 col3\" >0</td>\n",
              "      <td id=\"T_bf24d_row17_col4\" class=\"data row17 col4\" >0</td>\n",
              "      <td id=\"T_bf24d_row17_col5\" class=\"data row17 col5\" >0</td>\n",
              "      <td id=\"T_bf24d_row17_col6\" class=\"data row17 col6\" >0</td>\n",
              "      <td id=\"T_bf24d_row17_col7\" class=\"data row17 col7\" >0</td>\n",
              "      <td id=\"T_bf24d_row17_col8\" class=\"data row17 col8\" >42</td>\n",
              "      <td id=\"T_bf24d_row17_col9\" class=\"data row17 col9\" >150</td>\n",
              "      <td id=\"T_bf24d_row17_col10\" class=\"data row17 col10\" >252</td>\n",
              "      <td id=\"T_bf24d_row17_col11\" class=\"data row17 col11\" >253</td>\n",
              "      <td id=\"T_bf24d_row17_col12\" class=\"data row17 col12\" >253</td>\n",
              "      <td id=\"T_bf24d_row17_col13\" class=\"data row17 col13\" >233</td>\n",
              "      <td id=\"T_bf24d_row17_col14\" class=\"data row17 col14\" >53</td>\n",
              "      <td id=\"T_bf24d_row17_col15\" class=\"data row17 col15\" >0</td>\n",
              "      <td id=\"T_bf24d_row17_col16\" class=\"data row17 col16\" >0</td>\n",
              "      <td id=\"T_bf24d_row17_col17\" class=\"data row17 col17\" >0</td>\n",
              "    </tr>\n",
              "    <tr>\n",
              "      <th id=\"T_bf24d_level0_row18\" class=\"row_heading level0 row18\" >18</th>\n",
              "      <td id=\"T_bf24d_row18_col0\" class=\"data row18 col0\" >0</td>\n",
              "      <td id=\"T_bf24d_row18_col1\" class=\"data row18 col1\" >0</td>\n",
              "      <td id=\"T_bf24d_row18_col2\" class=\"data row18 col2\" >42</td>\n",
              "      <td id=\"T_bf24d_row18_col3\" class=\"data row18 col3\" >115</td>\n",
              "      <td id=\"T_bf24d_row18_col4\" class=\"data row18 col4\" >42</td>\n",
              "      <td id=\"T_bf24d_row18_col5\" class=\"data row18 col5\" >60</td>\n",
              "      <td id=\"T_bf24d_row18_col6\" class=\"data row18 col6\" >115</td>\n",
              "      <td id=\"T_bf24d_row18_col7\" class=\"data row18 col7\" >159</td>\n",
              "      <td id=\"T_bf24d_row18_col8\" class=\"data row18 col8\" >240</td>\n",
              "      <td id=\"T_bf24d_row18_col9\" class=\"data row18 col9\" >253</td>\n",
              "      <td id=\"T_bf24d_row18_col10\" class=\"data row18 col10\" >253</td>\n",
              "      <td id=\"T_bf24d_row18_col11\" class=\"data row18 col11\" >250</td>\n",
              "      <td id=\"T_bf24d_row18_col12\" class=\"data row18 col12\" >175</td>\n",
              "      <td id=\"T_bf24d_row18_col13\" class=\"data row18 col13\" >25</td>\n",
              "      <td id=\"T_bf24d_row18_col14\" class=\"data row18 col14\" >0</td>\n",
              "      <td id=\"T_bf24d_row18_col15\" class=\"data row18 col15\" >0</td>\n",
              "      <td id=\"T_bf24d_row18_col16\" class=\"data row18 col16\" >0</td>\n",
              "      <td id=\"T_bf24d_row18_col17\" class=\"data row18 col17\" >0</td>\n",
              "    </tr>\n",
              "    <tr>\n",
              "      <th id=\"T_bf24d_level0_row19\" class=\"row_heading level0 row19\" >19</th>\n",
              "      <td id=\"T_bf24d_row19_col0\" class=\"data row19 col0\" >0</td>\n",
              "      <td id=\"T_bf24d_row19_col1\" class=\"data row19 col1\" >0</td>\n",
              "      <td id=\"T_bf24d_row19_col2\" class=\"data row19 col2\" >187</td>\n",
              "      <td id=\"T_bf24d_row19_col3\" class=\"data row19 col3\" >253</td>\n",
              "      <td id=\"T_bf24d_row19_col4\" class=\"data row19 col4\" >253</td>\n",
              "      <td id=\"T_bf24d_row19_col5\" class=\"data row19 col5\" >253</td>\n",
              "      <td id=\"T_bf24d_row19_col6\" class=\"data row19 col6\" >253</td>\n",
              "      <td id=\"T_bf24d_row19_col7\" class=\"data row19 col7\" >253</td>\n",
              "      <td id=\"T_bf24d_row19_col8\" class=\"data row19 col8\" >253</td>\n",
              "      <td id=\"T_bf24d_row19_col9\" class=\"data row19 col9\" >253</td>\n",
              "      <td id=\"T_bf24d_row19_col10\" class=\"data row19 col10\" >197</td>\n",
              "      <td id=\"T_bf24d_row19_col11\" class=\"data row19 col11\" >86</td>\n",
              "      <td id=\"T_bf24d_row19_col12\" class=\"data row19 col12\" >0</td>\n",
              "      <td id=\"T_bf24d_row19_col13\" class=\"data row19 col13\" >0</td>\n",
              "      <td id=\"T_bf24d_row19_col14\" class=\"data row19 col14\" >0</td>\n",
              "      <td id=\"T_bf24d_row19_col15\" class=\"data row19 col15\" >0</td>\n",
              "      <td id=\"T_bf24d_row19_col16\" class=\"data row19 col16\" >0</td>\n",
              "      <td id=\"T_bf24d_row19_col17\" class=\"data row19 col17\" >0</td>\n",
              "    </tr>\n",
              "    <tr>\n",
              "      <th id=\"T_bf24d_level0_row20\" class=\"row_heading level0 row20\" >20</th>\n",
              "      <td id=\"T_bf24d_row20_col0\" class=\"data row20 col0\" >0</td>\n",
              "      <td id=\"T_bf24d_row20_col1\" class=\"data row20 col1\" >0</td>\n",
              "      <td id=\"T_bf24d_row20_col2\" class=\"data row20 col2\" >103</td>\n",
              "      <td id=\"T_bf24d_row20_col3\" class=\"data row20 col3\" >253</td>\n",
              "      <td id=\"T_bf24d_row20_col4\" class=\"data row20 col4\" >253</td>\n",
              "      <td id=\"T_bf24d_row20_col5\" class=\"data row20 col5\" >253</td>\n",
              "      <td id=\"T_bf24d_row20_col6\" class=\"data row20 col6\" >253</td>\n",
              "      <td id=\"T_bf24d_row20_col7\" class=\"data row20 col7\" >253</td>\n",
              "      <td id=\"T_bf24d_row20_col8\" class=\"data row20 col8\" >232</td>\n",
              "      <td id=\"T_bf24d_row20_col9\" class=\"data row20 col9\" >67</td>\n",
              "      <td id=\"T_bf24d_row20_col10\" class=\"data row20 col10\" >1</td>\n",
              "      <td id=\"T_bf24d_row20_col11\" class=\"data row20 col11\" >0</td>\n",
              "      <td id=\"T_bf24d_row20_col12\" class=\"data row20 col12\" >0</td>\n",
              "      <td id=\"T_bf24d_row20_col13\" class=\"data row20 col13\" >0</td>\n",
              "      <td id=\"T_bf24d_row20_col14\" class=\"data row20 col14\" >0</td>\n",
              "      <td id=\"T_bf24d_row20_col15\" class=\"data row20 col15\" >0</td>\n",
              "      <td id=\"T_bf24d_row20_col16\" class=\"data row20 col16\" >0</td>\n",
              "      <td id=\"T_bf24d_row20_col17\" class=\"data row20 col17\" >0</td>\n",
              "    </tr>\n",
              "    <tr>\n",
              "      <th id=\"T_bf24d_level0_row21\" class=\"row_heading level0 row21\" >21</th>\n",
              "      <td id=\"T_bf24d_row21_col0\" class=\"data row21 col0\" >0</td>\n",
              "      <td id=\"T_bf24d_row21_col1\" class=\"data row21 col1\" >0</td>\n",
              "      <td id=\"T_bf24d_row21_col2\" class=\"data row21 col2\" >0</td>\n",
              "      <td id=\"T_bf24d_row21_col3\" class=\"data row21 col3\" >0</td>\n",
              "      <td id=\"T_bf24d_row21_col4\" class=\"data row21 col4\" >0</td>\n",
              "      <td id=\"T_bf24d_row21_col5\" class=\"data row21 col5\" >0</td>\n",
              "      <td id=\"T_bf24d_row21_col6\" class=\"data row21 col6\" >0</td>\n",
              "      <td id=\"T_bf24d_row21_col7\" class=\"data row21 col7\" >0</td>\n",
              "      <td id=\"T_bf24d_row21_col8\" class=\"data row21 col8\" >0</td>\n",
              "      <td id=\"T_bf24d_row21_col9\" class=\"data row21 col9\" >0</td>\n",
              "      <td id=\"T_bf24d_row21_col10\" class=\"data row21 col10\" >0</td>\n",
              "      <td id=\"T_bf24d_row21_col11\" class=\"data row21 col11\" >0</td>\n",
              "      <td id=\"T_bf24d_row21_col12\" class=\"data row21 col12\" >0</td>\n",
              "      <td id=\"T_bf24d_row21_col13\" class=\"data row21 col13\" >0</td>\n",
              "      <td id=\"T_bf24d_row21_col14\" class=\"data row21 col14\" >0</td>\n",
              "      <td id=\"T_bf24d_row21_col15\" class=\"data row21 col15\" >0</td>\n",
              "      <td id=\"T_bf24d_row21_col16\" class=\"data row21 col16\" >0</td>\n",
              "      <td id=\"T_bf24d_row21_col17\" class=\"data row21 col17\" >0</td>\n",
              "    </tr>\n",
              "    <tr>\n",
              "      <th id=\"T_bf24d_level0_row22\" class=\"row_heading level0 row22\" >22</th>\n",
              "      <td id=\"T_bf24d_row22_col0\" class=\"data row22 col0\" >0</td>\n",
              "      <td id=\"T_bf24d_row22_col1\" class=\"data row22 col1\" >0</td>\n",
              "      <td id=\"T_bf24d_row22_col2\" class=\"data row22 col2\" >0</td>\n",
              "      <td id=\"T_bf24d_row22_col3\" class=\"data row22 col3\" >0</td>\n",
              "      <td id=\"T_bf24d_row22_col4\" class=\"data row22 col4\" >0</td>\n",
              "      <td id=\"T_bf24d_row22_col5\" class=\"data row22 col5\" >0</td>\n",
              "      <td id=\"T_bf24d_row22_col6\" class=\"data row22 col6\" >0</td>\n",
              "      <td id=\"T_bf24d_row22_col7\" class=\"data row22 col7\" >0</td>\n",
              "      <td id=\"T_bf24d_row22_col8\" class=\"data row22 col8\" >0</td>\n",
              "      <td id=\"T_bf24d_row22_col9\" class=\"data row22 col9\" >0</td>\n",
              "      <td id=\"T_bf24d_row22_col10\" class=\"data row22 col10\" >0</td>\n",
              "      <td id=\"T_bf24d_row22_col11\" class=\"data row22 col11\" >0</td>\n",
              "      <td id=\"T_bf24d_row22_col12\" class=\"data row22 col12\" >0</td>\n",
              "      <td id=\"T_bf24d_row22_col13\" class=\"data row22 col13\" >0</td>\n",
              "      <td id=\"T_bf24d_row22_col14\" class=\"data row22 col14\" >0</td>\n",
              "      <td id=\"T_bf24d_row22_col15\" class=\"data row22 col15\" >0</td>\n",
              "      <td id=\"T_bf24d_row22_col16\" class=\"data row22 col16\" >0</td>\n",
              "      <td id=\"T_bf24d_row22_col17\" class=\"data row22 col17\" >0</td>\n",
              "    </tr>\n",
              "    <tr>\n",
              "      <th id=\"T_bf24d_level0_row23\" class=\"row_heading level0 row23\" >23</th>\n",
              "      <td id=\"T_bf24d_row23_col0\" class=\"data row23 col0\" >0</td>\n",
              "      <td id=\"T_bf24d_row23_col1\" class=\"data row23 col1\" >0</td>\n",
              "      <td id=\"T_bf24d_row23_col2\" class=\"data row23 col2\" >0</td>\n",
              "      <td id=\"T_bf24d_row23_col3\" class=\"data row23 col3\" >0</td>\n",
              "      <td id=\"T_bf24d_row23_col4\" class=\"data row23 col4\" >0</td>\n",
              "      <td id=\"T_bf24d_row23_col5\" class=\"data row23 col5\" >0</td>\n",
              "      <td id=\"T_bf24d_row23_col6\" class=\"data row23 col6\" >0</td>\n",
              "      <td id=\"T_bf24d_row23_col7\" class=\"data row23 col7\" >0</td>\n",
              "      <td id=\"T_bf24d_row23_col8\" class=\"data row23 col8\" >0</td>\n",
              "      <td id=\"T_bf24d_row23_col9\" class=\"data row23 col9\" >0</td>\n",
              "      <td id=\"T_bf24d_row23_col10\" class=\"data row23 col10\" >0</td>\n",
              "      <td id=\"T_bf24d_row23_col11\" class=\"data row23 col11\" >0</td>\n",
              "      <td id=\"T_bf24d_row23_col12\" class=\"data row23 col12\" >0</td>\n",
              "      <td id=\"T_bf24d_row23_col13\" class=\"data row23 col13\" >0</td>\n",
              "      <td id=\"T_bf24d_row23_col14\" class=\"data row23 col14\" >0</td>\n",
              "      <td id=\"T_bf24d_row23_col15\" class=\"data row23 col15\" >0</td>\n",
              "      <td id=\"T_bf24d_row23_col16\" class=\"data row23 col16\" >0</td>\n",
              "      <td id=\"T_bf24d_row23_col17\" class=\"data row23 col17\" >0</td>\n",
              "    </tr>\n",
              "  </tbody>\n",
              "</table>\n"
            ]
          },
          "metadata": {},
          "execution_count": 14
        }
      ]
    },
    {
      "cell_type": "markdown",
      "source": [
        "Pandas Dataframe has an attribute df.style which returns a Styler object which contains methods for building a styled HTML representation of the DataFrame.\n",
        "\n",
        "The set_properties method is used to set CSS properties for the each cell in the dataframe. In this case that is setting the font-size to 6pt for every cell.\n",
        "\n",
        "The background_gradient method is used to add a gradient background color to the DataFrame. The intensity of the color is determined by the value in a particular cell with the lowest values being specified at the start of the gradient in this case 0 being white and vice versa.In this case, we are using grey which means that our values will range from black to white.\n",
        "\n",
        "In summary, set_properties and background_gradient operations above will result in a dataframe with a font-size of 6pt and a gradient background color ranging from black to white.\n"
      ],
      "metadata": {
        "id": "Cn1WPg7Lh7_I"
      }
    },
    {
      "cell_type": "markdown",
      "source": [
        "Now the first question i had was cant you use the set_properties method to set the gradient background color as opposed to using the background_gradient method ?\n",
        "\n",
        "Based on my research, i find out that set_properties can only set a static background color adn we would have to write a custom function that calculates the color for each cell based on the value and applies it using set_properties.\n",
        "\n",
        "After taking a look at how our data looks like, we can go ahead to build a very simple model that recognizes 3's and 7's which we can use as our baseline."
      ],
      "metadata": {
        "id": "5vYWhBvhqCsq"
      }
    },
    {
      "cell_type": "markdown",
      "metadata": {
        "id": "N4KOkPb8yaBi"
      },
      "source": [
        "## Baseline Model\n",
        "\n",
        "A baseline model should be a simple to implement model that you are confident performs reasonably well, which we can use as our lower bound for the models we are building. We check if the models we are building are better than the baseline.\n",
        "\n",
        "Starting with a simple reasonable baseline helps us ensure that the super complex models we build later on are any good."
      ]
    },
    {
      "cell_type": "markdown",
      "metadata": {
        "id": "dDt7Q4aQydba"
      },
      "source": [
        "### Pixel Similarity\n",
        "\n",
        "For our baseline model, we can use the idea of pixel similarity.\n",
        "\n",
        "Here we find the average pixel values for every pixel position for all image groups of 3's and 7's giving us two group averages, One representing the 3's and another the 7's.\n",
        "This defines what we may call the \"ideal\" 3 and the ideal 7.\n",
        "\n",
        "To classfify a random image as a 3 or 7, we see which of these two ideal digits the image is most similar to.\n",
        "\n",
        "To build our model, we need to first stack all our respective images for each group together.First we convert our images to PyTorch tensors the same way we did for the individual images above.\n",
        "\n",
        "We can use python list comprehension to turn our images in each folder into tensors for example\n",
        "\n",
        "new_list = [f(0) for o in a_list if o>1].\n",
        "This returns every element in **a_list** that is **greater than 1** after applying function, **f**.\n"
      ]
    },
    {
      "cell_type": "markdown",
      "source": [
        "####Ideal digits for 3 and 7."
      ],
      "metadata": {
        "id": "-4R_ONZ9u24R"
      }
    },
    {
      "cell_type": "code",
      "source": [
        "threes_tensors = [tensor(Image.open(o)) for o in threes]\n",
        "sevens_tensors = [tensor(Image.open(o)) for o in sevens]\n",
        "len(threes_tensors), len(sevens_tensors)"
      ],
      "metadata": {
        "colab": {
          "base_uri": "https://localhost:8080/"
        },
        "id": "f9R9xGE52Ata",
        "outputId": "87afa4d6-eea1-4ac8-b000-005fd49e342c"
      },
      "execution_count": 15,
      "outputs": [
        {
          "output_type": "execute_result",
          "data": {
            "text/plain": [
              "(6131, 6265)"
            ]
          },
          "metadata": {},
          "execution_count": 15
        }
      ]
    },
    {
      "cell_type": "markdown",
      "source": [
        "We can now view any of the image tensors using fastai's show_image function"
      ],
      "metadata": {
        "id": "kkduOzsAkWbj"
      }
    },
    {
      "cell_type": "code",
      "source": [
        "show_image(threes_tensors[1]);"
      ],
      "metadata": {
        "colab": {
          "base_uri": "https://localhost:8080/",
          "height": 114
        },
        "id": "LXYN2eFikVpU",
        "outputId": "d4753177-3e9c-430f-8483-f0f05fe132a9"
      },
      "execution_count": 16,
      "outputs": [
        {
          "output_type": "display_data",
          "data": {
            "text/plain": [
              "<Figure size 100x100 with 1 Axes>"
            ],
            "image/png": "[encoded data removed]"
          },
          "metadata": {}
        }
      ]
    },
    {
      "cell_type": "markdown",
      "source": [
        "We need to stack our list of image tensors into a single 3d tensor. We can do this using PyTorch's stack function.\n",
        "\n",
        "Operations in PyTorch such as mean require floats so we cast our rank 3 tensor to float and divide it by 255 which is the max pixel value to get pixel values between 0 and 1."
      ],
      "metadata": {
        "id": "OSVgBa1fqJ2q"
      }
    },
    {
      "cell_type": "code",
      "source": [
        "stacked_threes = torch.stack(threes_tensors).float()/255\n",
        "stacked_sevens = torch.stack(sevens_tensors).float()/255\n",
        "stacked_threes.shape,stacked_sevens.shape"
      ],
      "metadata": {
        "colab": {
          "base_uri": "https://localhost:8080/"
        },
        "id": "KqAvykCPqvQB",
        "outputId": "e30b2adb-7787-4a93-a780-c66c6df6c221"
      },
      "execution_count": 17,
      "outputs": [
        {
          "output_type": "execute_result",
          "data": {
            "text/plain": [
              "(torch.Size([6131, 28, 28]), torch.Size([6265, 28, 28]))"
            ]
          },
          "metadata": {},
          "execution_count": 17
        }
      ]
    },
    {
      "cell_type": "markdown",
      "source": [
        "Here we see that for the threes we have 6131 image examples which is made up of a 28 x 28 matix.\n",
        "\n",
        "To get our ideal numbers, we want to compute the mean value intensity for every image pixel position in each tensor.To do this we take the mean over the 0th dimension specified by passing in the argument 0 in the mean function.\n",
        "\n",
        "This dimension indexes over all images and results in a single average pixel value for every position. We can view this single image tensor using show_image."
      ],
      "metadata": {
        "id": "QzmtbR8irci_"
      }
    },
    {
      "cell_type": "code",
      "source": [
        "ideal_three = stacked_threes.mean(0)\n",
        "ideal_seven = stacked_sevens.mean(0)\n",
        "show_image(ideal_three);"
      ],
      "metadata": {
        "colab": {
          "base_uri": "https://localhost:8080/",
          "height": 114
        },
        "id": "A79BmoNAuUAm",
        "outputId": "e5315e8b-f2cf-4146-f705-9ee6f8368d96"
      },
      "execution_count": 18,
      "outputs": [
        {
          "output_type": "display_data",
          "data": {
            "text/plain": [
              "<Figure size 100x100 with 1 Axes>"
            ],
            "image/png": "[encoded data removed]"
          },
          "metadata": {}
        }
      ]
    },
    {
      "cell_type": "code",
      "source": [
        "show_image(ideal_seven);"
      ],
      "metadata": {
        "colab": {
          "base_uri": "https://localhost:8080/",
          "height": 114
        },
        "id": "rLjUS-eErRom",
        "outputId": "82069cb7-66ce-4621-9248-1e0de0d4d0d0"
      },
      "execution_count": 19,
      "outputs": [
        {
          "output_type": "display_data",
          "data": {
            "text/plain": [
              "<Figure size 100x100 with 1 Axes>"
            ],
            "image/png": "[encoded data removed]"
          },
          "metadata": {}
        }
      ]
    },
    {
      "cell_type": "markdown",
      "source": [
        "Now that we have our ideal digits, we can compute our pixel similarity which is the distance from an abitrary image and our ideal image which we are using as our initial baseline.\n"
      ],
      "metadata": {
        "id": "IyPp5Gh04MvT"
      }
    },
    {
      "cell_type": "markdown",
      "source": [
        "####Measuring Distance\n",
        "\n",
        "How do we measure the distance from an abitrary number and an ideal number.One way would be to take the difference between each pixel position value for the abitrary and ideal images and add it up.\n",
        "\n",
        "If we do this, we notice that some differences are positive while some are negative and this causes the differences to cancel themselves out leading a sitution where an image that is too dark and too light in some postions might be shown as having zero differences from the ideal which is misleading.\n",
        "\n",
        "To avoid this data scientists usually measure distance in a different context by\n",
        "- Instead we could take the mean of the absolute value of the differences where the absolute value function in this case replaces negative numbers with positive numbers. This is called the mean absolute difference or the L1 norm.\n",
        "\n",
        "- Or we could take the mean of the square of the differences which makes the negative values positive, then take the square root to undo the squaring effect.This is called the Root Mean Squared Error (RMSE) or L2 norm.\n",
        "\n",
        "So lets now pick a random three from our stacked tensor and get the L1 and L2 norm with the random and ideal number."
      ],
      "metadata": {
        "id": "SuNYKS5j5AKI"
      }
    },
    {
      "cell_type": "code",
      "source": [
        "abitrary_three = stacked_threes[1]\n",
        "abitrary_seven = stacked_sevens[1]\n",
        "show_image(abitrary_three);"
      ],
      "metadata": {
        "colab": {
          "base_uri": "https://localhost:8080/",
          "height": 114
        },
        "id": "4sQXBC_u87Zq",
        "outputId": "725cb266-ec92-4e34-c2b8-10ca87296d22"
      },
      "execution_count": 20,
      "outputs": [
        {
          "output_type": "display_data",
          "data": {
            "text/plain": [
              "<Figure size 100x100 with 1 Axes>"
            ],
            "image/png": "[encoded data removed]"
          },
          "metadata": {}
        }
      ]
    },
    {
      "cell_type": "code",
      "source": [
        "#L1 norm\n",
        "distance_from_ideal_three_l1 = (abitrary_three - ideal_three).abs().mean()\n",
        "distance_from_ideal_seven_l1 = (abitrary_three - ideal_seven).abs().mean()\n",
        "distance_from_ideal_three_l1,distance_from_ideal_seven_l1"
      ],
      "metadata": {
        "colab": {
          "base_uri": "https://localhost:8080/"
        },
        "id": "Vu6o5N_m9e8_",
        "outputId": "686c7193-f96f-4f64-8c06-2a5ba8d24f86"
      },
      "execution_count": 21,
      "outputs": [
        {
          "output_type": "execute_result",
          "data": {
            "text/plain": [
              "(tensor(0.1114), tensor(0.1586))"
            ]
          },
          "metadata": {},
          "execution_count": 21
        }
      ]
    },
    {
      "cell_type": "code",
      "source": [
        "#L2 norm\n",
        "distance_from_ideal_three_l2 = ((abitrary_three - ideal_three)**2).mean().sqrt()\n",
        "distance_from_ideal_seven_l2 = ((abitrary_three - ideal_seven)**2).mean().sqrt()\n",
        "distance_from_ideal_three_l2,distance_from_ideal_seven_l2"
      ],
      "metadata": {
        "colab": {
          "base_uri": "https://localhost:8080/"
        },
        "id": "AgOJWz5Q_4fb",
        "outputId": "595c1b1f-cc75-4610-df7c-adbf839bc9f6"
      },
      "execution_count": 22,
      "outputs": [
        {
          "output_type": "execute_result",
          "data": {
            "text/plain": [
              "(tensor(0.2021), tensor(0.3021))"
            ]
          },
          "metadata": {},
          "execution_count": 22
        }
      ]
    },
    {
      "cell_type": "markdown",
      "source": [
        "We see that in both cases the distance from the abitrary number to the ideal three is less than the distance from the abitrary number to the ideal seven.\n",
        "\n",
        "This is as expected as the random number was a 3 meaning our simple baseline model gives the right prediction in both cases.\n",
        "\n",
        "Luckily PyTorch provide both the L1 norm and the L2 norm as loss functions you can import from the torch.nn.functional module which are also provided by fastai. We shall import these as F and pass in the abitrary and ideal numbers as arguments."
      ],
      "metadata": {
        "id": "J7qgCFI2-C4S"
      }
    },
    {
      "cell_type": "code",
      "source": [
        "F.l1_loss(abitrary_three.float(),ideal_three),F.l1_loss(abitrary_three.float(),ideal_seven)"
      ],
      "metadata": {
        "colab": {
          "base_uri": "https://localhost:8080/"
        },
        "id": "JYA6JJcBC797",
        "outputId": "76fb29d5-ecaf-4e15-e160-cf4fc183d265"
      },
      "execution_count": 23,
      "outputs": [
        {
          "output_type": "execute_result",
          "data": {
            "text/plain": [
              "(tensor(0.1114), tensor(0.1586))"
            ]
          },
          "metadata": {},
          "execution_count": 23
        }
      ]
    },
    {
      "cell_type": "code",
      "source": [
        "F.mse_loss(abitrary_three,ideal_three).sqrt(),F.mse_loss(abitrary_three,ideal_seven).sqrt()"
      ],
      "metadata": {
        "colab": {
          "base_uri": "https://localhost:8080/"
        },
        "id": "iYqODos9EJsn",
        "outputId": "9d3dade9-7ef3-4cd0-8d76-d72a2f371602"
      },
      "execution_count": 24,
      "outputs": [
        {
          "output_type": "execute_result",
          "data": {
            "text/plain": [
              "(tensor(0.2021), tensor(0.3021))"
            ]
          },
          "metadata": {},
          "execution_count": 24
        }
      ]
    },
    {
      "cell_type": "markdown",
      "source": [
        "  So now that we have our baseline model, we need to calculate how good the model is which we can represent using a metric.\n",
        "\n",
        "  Before we calculate a baseline lets look into the fundamental data structures we are working with, NumPy Arrays and PyTorch tensors."
      ],
      "metadata": {
        "id": "5zCl_v1lEkm4"
      }
    },
    {
      "cell_type": "markdown",
      "metadata": {
        "id": "aQnlC467IA1t"
      },
      "source": [
        "#### NumPy Array and PyTorch Tensor data structures"
      ]
    },
    {
      "cell_type": "markdown",
      "metadata": {
        "id": "vXyJp_fWif4G"
      },
      "source": [
        "Python is a slow language compared to most, anything fast in PyTorch is probably a wrapper of an object written, compiled and optimized in another language, usually C.\n",
        "C is a low level programming language, which is very fast compared to python.\n",
        "\n",
        "The fastai book describes Numpy Arrays and PyTorch tensors as follows\n",
        "\n",
        "\n",
        "\n",
        "> A NumPy array is a multidimensional table of data of the same type. This can be any type i.e. a list, matrix, cube or even an array of arrays (jagged array).If items are all of some simple type e.g. int, floats etc., NumPy arrays can be stored as compact c data structures in memory.NumPy has a wide variety of operators and methods it can use to perform computation on these data structures at the same speed optimized C which is a multitude faster than Python. This is because they are written in optimized C.\n",
        "\n",
        "> A PyTorch tensor is nearly the same thing as a numpy array, with the exception that the tensor can only be of a basic numerical type / simple type such as int, float etc for example a PyTorch tensor cannot be a jagged array, it will always be a multidimensional rectangular structure. PyTorch tensor can also live on GPU, and are also optimized for GPU, meaning it can perform faster computations given lots of values to work with.PyTorch also supports calculating gradients which is crucial for machine learning as our loss function, weight optimizations are calculated based of the gradients.\n",
        "It would be impossible to do machine learning without this ability.\n",
        "\n",
        "\n",
        "\n"
      ]
    },
    {
      "cell_type": "markdown",
      "metadata": {
        "id": "JPDYeRlgKBgO"
      },
      "source": [
        "### Computing Metrics Using Broadcasting"
      ]
    },
    {
      "cell_type": "markdown",
      "metadata": {
        "id": "luuzRdcHif4J"
      },
      "source": [
        "Remember above, we have a baseline model that tells us how if a number is a 3 or 7. To do machine learning we need to know how good that model is, to do this we define a metric which is just a number that tells us how good our model is. We do this using the correct labels of the data and the predictions of the model.\n",
        "\n",
        "We could use any of our above functions as a metric, in this case we shall use accuracy as the metric as it is more intepretable by end users.\n",
        "\n",
        "We want to calculate our metric based on the validation set, as this data has not been seen by the model during training. Calculating our metric based of our training set will inadvertently lead to the model overfitting on the train set which results in poor results when the model sees new data.\n",
        "Our baseline model has no training component, hence this doesn't matter but nonetheless we shall go ahead and use the validation set as a best practice.\n",
        "\n",
        "Since we already have our ideal value for 3 and 7, we create a stacked tensor as done before using the validation set."
      ]
    },
    {
      "cell_type": "code",
      "execution_count": 25,
      "metadata": {
        "id": "btrvB-Niif4J"
      },
      "outputs": [],
      "source": [
        "#We stack the sevens and threes in one tensor\n",
        "\n",
        "#qfinal\n",
        "valid_threes = (path/'valid/3').ls().sorted()\n",
        "valid_sevens = (path/'valid/7').ls().sorted()\n",
        "\n",
        "valid_three_tensors = [tensor(Image.open(o)) for o in valid_threes]\n",
        "valid_seven_tensors = [tensor(Image.open(o)) for o in valid_sevens]\n",
        "\n",
        "valid_stacked_threes = torch.stack(valid_three_tensors).float()/255\n",
        "valid_stacked_sevens = torch.stack(valid_seven_tensors).float()/255"
      ]
    },
    {
      "cell_type": "code",
      "source": [
        "valid_stacked_threes.shape"
      ],
      "metadata": {
        "colab": {
          "base_uri": "https://localhost:8080/"
        },
        "id": "3WTs_qGNY_a7",
        "outputId": "eba65f92-ed74-460f-adcb-8cfdf6c72e1a"
      },
      "execution_count": 26,
      "outputs": [
        {
          "output_type": "execute_result",
          "data": {
            "text/plain": [
              "torch.Size([1010, 28, 28])"
            ]
          },
          "metadata": {},
          "execution_count": 26
        }
      ]
    },
    {
      "cell_type": "markdown",
      "source": [
        "We write a function is_3, which classifies a digit by determing which ideal number the abitrary number is closer to.\n",
        "For this, we need to define some notion of distance by defining a function which calculates the distance between two images.We do this by defining a function which calculates the mean absolute error for image a and b as we had done before."
      ],
      "metadata": {
        "id": "ZE7E5ypoTNMS"
      }
    },
    {
      "cell_type": "code",
      "source": [
        "def mnist_distance(a,b):\n",
        "  return (a-b).abs().mean((-1,-2))\n",
        "\n",
        "mnist_distance(abitrary_three, ideal_three), mnist_distance(abitrary_three, ideal_seven)"
      ],
      "metadata": {
        "colab": {
          "base_uri": "https://localhost:8080/"
        },
        "id": "CqhvqML7TROV",
        "outputId": "7acea15f-efbc-4674-fdc1-2e02871a1f6e"
      },
      "execution_count": 27,
      "outputs": [
        {
          "output_type": "execute_result",
          "data": {
            "text/plain": [
              "(tensor(0.1114), tensor(0.1586))"
            ]
          },
          "metadata": {},
          "execution_count": 27
        }
      ]
    },
    {
      "cell_type": "code",
      "source": [
        "#effect of .mean((-1,-2))\n",
        "\n",
        "import numpy as np\n",
        "foo = np.random.randn(4, 3, 2)\n",
        "# array of 4 numbers and a single number\n",
        "foo.mean(axis=(-1, -2)), foo.mean()"
      ],
      "metadata": {
        "colab": {
          "base_uri": "https://localhost:8080/"
        },
        "id": "4oFTvb_AUjTf",
        "outputId": "bbe9574f-346c-4c32-ceaf-dc98b73842c0"
      },
      "execution_count": 28,
      "outputs": [
        {
          "output_type": "execute_result",
          "data": {
            "text/plain": [
              "(array([ 0.34347965,  0.24843096, -0.77618452, -0.40627921]),\n",
              " -0.1476382809136289)"
            ]
          },
          "metadata": {},
          "execution_count": 28
        }
      ]
    },
    {
      "cell_type": "markdown",
      "source": [
        "You will notice, we get the same values as previosly calculated for these images in distance_from_ideal_three_l1 and distance_from_ideal_seven_l1.\n",
        "\n",
        "This is the distance from the ideal 3 to the abitrary number and the ideal 7 to the abitrary number. We have the distance for one image but we want to calculate the distance between the ideal number and all images in the dataset.\n",
        "\n",
        "\n",
        "How do we go ahead doing this ? Traditionally we could create a python loop that takes each image tensor in our stack of shape torch.Size([1010, 28, 28]) which represents 1,010 28 x 28 pixel images stacked up and calculates the distance between each one and the ideal digits image tensor.\n",
        "\n",
        "Something interesting happens if we define a variable which takes our tensor stacked with all the images as input for our mnist_distance function which we defined to calculate the distance between two images.\n",
        "\n"
      ],
      "metadata": {
        "id": "jIZsX3wvWI56"
      }
    },
    {
      "cell_type": "code",
      "source": [
        "valid_three_distance = mnist_distance(valid_stacked_threes, ideal_three)\n",
        "valid_three_distance"
      ],
      "metadata": {
        "id": "43iOCXbYVkar",
        "colab": {
          "base_uri": "https://localhost:8080/"
        },
        "outputId": "11875a3b-d9bc-40b7-ac9a-d80f8111ace0"
      },
      "execution_count": 29,
      "outputs": [
        {
          "output_type": "execute_result",
          "data": {
            "text/plain": [
              "tensor([0.1280, 0.1623, 0.1242,  ..., 0.1508, 0.1263, 0.1260])"
            ]
          },
          "metadata": {},
          "execution_count": 29
        }
      ]
    },
    {
      "cell_type": "code",
      "source": [
        "valid_three_distance.shape"
      ],
      "metadata": {
        "colab": {
          "base_uri": "https://localhost:8080/"
        },
        "id": "tKzQJ3iMbAzj",
        "outputId": "2758e90c-473d-4385-8379-c8b4aafb8d44"
      },
      "execution_count": 30,
      "outputs": [
        {
          "output_type": "execute_result",
          "data": {
            "text/plain": [
              "torch.Size([1010])"
            ]
          },
          "metadata": {},
          "execution_count": 30
        }
      ]
    },
    {
      "cell_type": "code",
      "source": [
        "valid_stacked_threes.shape,ideal_three.shape"
      ],
      "metadata": {
        "colab": {
          "base_uri": "https://localhost:8080/"
        },
        "id": "Cypd-wxvgyvl",
        "outputId": "b7cb1118-ac18-4aa0-c15e-d2522142d220"
      },
      "execution_count": 31,
      "outputs": [
        {
          "output_type": "execute_result",
          "data": {
            "text/plain": [
              "(torch.Size([1010, 28, 28]), torch.Size([28, 28]))"
            ]
          },
          "metadata": {},
          "execution_count": 31
        }
      ]
    },
    {
      "cell_type": "markdown",
      "source": [
        "The valid_three_distance results in 1,010 different vector values of distance for every image tensor in the stack as opposed to returning an error complaining about mismatching shapes.\n",
        "\n",
        "The trick here is broadcasting.When we perform a simple calculation such as (a-b) on two tensors of different ranks, Broadcasting expands the smaller tensor in memory, to have the same size as the larger tensor.\n",
        "\n",
        "After broadcasting , PyTorch does it usual element wise subtraction.Lets take an example\n"
      ],
      "metadata": {
        "id": "CX6M9IQ_bIhP"
      }
    },
    {
      "cell_type": "code",
      "execution_count": 32,
      "metadata": {
        "id": "UPA-ZHtIif4w",
        "colab": {
          "base_uri": "https://localhost:8080/"
        },
        "outputId": "b9b6e4ae-c638-4c46-949b-82005bdd9bd5"
      },
      "outputs": [
        {
          "output_type": "execute_result",
          "data": {
            "text/plain": [
              "tensor([2, 3, 4])"
            ]
          },
          "metadata": {},
          "execution_count": 32
        }
      ],
      "source": [
        "tensor([1,2,3]) + tensor(1)"
      ]
    },
    {
      "cell_type": "markdown",
      "metadata": {
        "id": "PzvUZD5pif4x"
      },
      "source": [
        "This results in tensor([2,3,4]) which looks like an element wise addittion. PyTorch in this case treats tensor(1) as if it were three copies of the same tensor.Similary mean3, a rank 2 tensor representing a single image is treated as if it were 1,010 copies of the same image. It then subtracts each copy from an image in our valid_threes_dist calculating the distance between every 3 in the validation set and the ideal 3 resulting in 1,010 different values.\n",
        "\n",
        "When PyTorch performs broadcasting, it doesnt actually copy the image 1,010 times. It just pretends that a tensor is of that shape but it doesnt actually allocate any memory for this.\n",
        "PyTorch performs the whole computation in c code, and CUDA on GPU which is just C for GPU resulting in performance thousands of times faster than using pure python and millions of times faster on GPU.\n",
        "This is true of all broadcasting and element wise operations and functions done in PyTorch.\n",
        "\n",
        "In our function mnist_distance, we see .abs() which applies the method to every resulting element in a tensor returning a tensor that contains 1,010 absolute values.\n",
        "Then finally we call .mean((-1,-2)) which contains a tuple of (-1,-2) which are a range of axes which represents the last and second last elements. This tells PyTorch that we want to take the mean ranging over values indexed by the last two axes of the tensor, which are the horizontal and vertical dimensions of an image. After this we are left with the first tensor axis which takes the mean over all images in the tensor, meaning we calculate the average intensity of all pixels for an image."
      ]
    },
    {
      "cell_type": "markdown",
      "source": [
        "####**is_3**\n",
        "\n",
        "We now define a function is_3 to determine whether an image is a 3 or a 7.\n",
        "\n",
        "\n",
        "We can use mnsit_distance defined above to check whether an image is a 3 or 7 by using the following logic, if the distance between the selected image and the ideal 3 is less than the distance to the ideal 7, then the number is a 3.\n",
        "We define a function is_3 with the above logic"
      ],
      "metadata": {
        "id": "WK4kWYYjne_k"
      }
    },
    {
      "cell_type": "code",
      "execution_count": 33,
      "metadata": {
        "id": "if0RQ-5Kif4z"
      },
      "outputs": [],
      "source": [
        "#using a comparison or logical operator in a return statement of a function returns a boolean True Or False\n",
        "#when the above value is converted to float, the function returns 1 for True or 0 for false.\n",
        "def is_3(x):\n",
        "    return (mnist_distance(x,ideal_three) < mnist_distance(x, ideal_seven))"
      ]
    },
    {
      "cell_type": "code",
      "source": [
        "def is_7(x):\n",
        "  return (mnist_distance(ideal_seven, x) < (mnist_distance(ideal_three, x)))"
      ],
      "metadata": {
        "id": "fG-azbuo3mVq"
      },
      "execution_count": 34,
      "outputs": []
    },
    {
      "cell_type": "code",
      "source": [
        "is_3(ideal_three),is_3(ideal_seven)"
      ],
      "metadata": {
        "colab": {
          "base_uri": "https://localhost:8080/"
        },
        "id": "a-rUToowqWlm",
        "outputId": "d7bd2f88-1703-4003-ee8f-6bbe7493cefd"
      },
      "execution_count": 35,
      "outputs": [
        {
          "output_type": "execute_result",
          "data": {
            "text/plain": [
              "(tensor(True), tensor(False))"
            ]
          },
          "metadata": {},
          "execution_count": 35
        }
      ]
    },
    {
      "cell_type": "code",
      "source": [
        "is_3(ideal_three).float(), is_3(ideal_seven).float()"
      ],
      "metadata": {
        "colab": {
          "base_uri": "https://localhost:8080/"
        },
        "id": "n8jMjCX9qiSv",
        "outputId": "29ce8279-7644-47ee-83f0-8cf746938b49"
      },
      "execution_count": 36,
      "outputs": [
        {
          "output_type": "execute_result",
          "data": {
            "text/plain": [
              "(tensor(1.), tensor(0.))"
            ]
          },
          "metadata": {},
          "execution_count": 36
        }
      ]
    },
    {
      "cell_type": "markdown",
      "source": [
        "We can now run is_3 with the stacked_tensor of all images in it.This function will automatically apply broadcasting and do run this function elementwise for every image tensor."
      ],
      "metadata": {
        "id": "U9ED0wc_tyiH"
      }
    },
    {
      "cell_type": "code",
      "source": [
        "is_3(stacked_threes), is_3(stacked_threes).float()"
      ],
      "metadata": {
        "colab": {
          "base_uri": "https://localhost:8080/"
        },
        "id": "_O4eBZIDtyA7",
        "outputId": "107b8d5c-caae-4303-c30e-cb8f771f0c81"
      },
      "execution_count": 37,
      "outputs": [
        {
          "output_type": "execute_result",
          "data": {
            "text/plain": [
              "(tensor([True, True, True,  ..., True, True, True]),\n",
              " tensor([1., 1., 1.,  ..., 1., 1., 1.]))"
            ]
          },
          "metadata": {},
          "execution_count": 37
        }
      ]
    },
    {
      "cell_type": "code",
      "source": [
        "is_3(valid_stacked_threes), is_3(valid_stacked_threes).float()"
      ],
      "metadata": {
        "colab": {
          "base_uri": "https://localhost:8080/"
        },
        "id": "7K6akz-nx89_",
        "outputId": "e103181b-b174-4c18-842e-d56773935c36"
      },
      "execution_count": 38,
      "outputs": [
        {
          "output_type": "execute_result",
          "data": {
            "text/plain": [
              "(tensor([ True,  True,  True,  ..., False,  True,  True]),\n",
              " tensor([1., 1., 1.,  ..., 0., 1., 1.]))"
            ]
          },
          "metadata": {},
          "execution_count": 38
        }
      ]
    },
    {
      "cell_type": "markdown",
      "source": [
        "We take the average for all threes in the stacked tensor to get the accuracy for all the threes image tensors.\n",
        "To get the accuracy for the sevens, we take the inverse of the same function."
      ],
      "metadata": {
        "id": "vQAwW9Lvy2qP"
      }
    },
    {
      "cell_type": "code",
      "source": [
        "accuracy_threes = is_3(valid_stacked_threes).float().mean()\n",
        "accuracy_sevens = ( 1 - is_3(valid_stacked_sevens).float() ).mean()\n",
        "accuracy_sevens_a = is_7(valid_stacked_sevens).float().mean()\n",
        "accuracy_threes, accuracy_sevens, accuracy_sevens_a, (accuracy_threes + accuracy_sevens_a)/2\n"
      ],
      "metadata": {
        "colab": {
          "base_uri": "https://localhost:8080/"
        },
        "id": "YsHfsPyXytfL",
        "outputId": "a0735e5c-2f2f-4136-d1cb-9d2a41222dc6"
      },
      "execution_count": 39,
      "outputs": [
        {
          "output_type": "execute_result",
          "data": {
            "text/plain": [
              "(tensor(0.9168), tensor(0.9854), tensor(0.9854), tensor(0.9511))"
            ]
          },
          "metadata": {},
          "execution_count": 39
        }
      ]
    },
    {
      "cell_type": "markdown",
      "source": [
        "So we see we are getting over 90% accuracy for our model when classfying digits 3 and 7.\n",
        "\n",
        "But 3 and 7 are only 2 numbers and they also look quite different, we need to build a system that contiunuosly improve and is more robust.As we see our baseline pixel similarity model has no way to improving or learning.\n",
        "\n",
        "Lets try buidling a model that learns from previous predictions and automatically modifies itself to improve performance.We are going to see how we can train a model to learn."
      ],
      "metadata": {
        "id": "PIxg_IHizZAv"
      }
    },
    {
      "cell_type": "code",
      "source": [
        "#Boolean example\n",
        "def is_test(a,b,c):\n",
        "  return ((a-b) < (a-c))\n",
        "\n",
        "is_test(6,8,4)"
      ],
      "metadata": {
        "colab": {
          "base_uri": "https://localhost:8080/"
        },
        "id": "N7XsvelTnxOq",
        "outputId": "0e26893f-349f-400a-e58f-0aac1f2e4833"
      },
      "execution_count": 40,
      "outputs": [
        {
          "output_type": "execute_result",
          "data": {
            "text/plain": [
              "True"
            ]
          },
          "metadata": {},
          "execution_count": 40
        }
      ]
    },
    {
      "cell_type": "markdown",
      "metadata": {
        "id": "lv3DC2KKif43"
      },
      "source": [
        "### Stochastic Gradient Descent"
      ]
    },
    {
      "cell_type": "markdown",
      "metadata": {
        "id": "B7_qPkN9if43"
      },
      "source": [
        "In 1962, Arthur Samuels described machine learning in his classic essay \"Artificial Intelligence: A frontier of automation\". Here he suggests that instead of telling a computer the exact steps need to solve a problem as in regular programming, we could just show a number of examples and let it figure out how to solve a problem itself. This indeed turned out to be a powerful idea, as was later shown.\n",
        "\n",
        "Arthur Samuel's basic idea was\n",
        "\n",
        "Suppose we arrange for some automatic means of testing the effectiveness of any current weight assignment in terms of actual performance and provide a mechanism for altering the weight assignment so as to maximize the performance. We need not go into the details of such a procedure to see that it could be made entirely automatic and to see that a machine so programmed would \"learn\" from its experience.\n",
        "\n",
        "This spells out some powerful concepts\n",
        "- The idea of weight assignment\n",
        "- The fact that weight assignment has some actual performance that can be tested\n",
        "- The idea that there needs to be an automatic means of testing the weight assignment\n",
        "- The need for an automatic means of improving the performance by altering the weights"
      ]
    },
    {
      "cell_type": "markdown",
      "metadata": {
        "id": "-fuc3YSqif43"
      },
      "source": [
        "This is the key to building a model that continuously gets better, unfortunately our pixel similarity lacks a learning mechanism, meaning it cannot continuously get better. To take advantage of deep learning, we represent the problem in the form Arthur Samuels described above.\n",
        "To do this, we use the concepts of weights, instead of calculating the distance between the pixels of an image and the ideal image, we assign weights to each pixel whereby the highest weights are associated with the pixels that are most likely to be black.\n",
        "For example, if an image is a 7, the pixels in the bottom right corner are unlikely to be activated hence the pixels in the bottom right should have a low weight assignment for a 7 while if it was an 8 or a 9 say, the pixels would be activated hence they should have a high weight assignment for 8 or 9.\n",
        "This can be represented as a function and a set of weight values for each category, for example the probability of being an 8 can be represented as below\n"
      ]
    },
    {
      "cell_type": "code",
      "execution_count": 41,
      "metadata": {
        "id": "ZBc09zkKif44"
      },
      "outputs": [],
      "source": [
        "def pr_eight(x,w):\n",
        "    return (x*w).sum()"
      ]
    },
    {
      "cell_type": "markdown",
      "metadata": {
        "id": "g9HLWFDnif44"
      },
      "source": [
        "Here we assume that the x is an image with the rows stacked up into one line as a single tensor. w, represents the weights. With this we just need to update the weights in such a way that the model improves, we continuously improve the weights until we can't improve them any more, or we reach the selected number of epochs/iterations. We want the values of w to be high for numbers that are actually 8 and low for numbers that are not. With this just need to find the best weights for 8 to come up with the best function that can recognize 8's."
      ]
    },
    {
      "cell_type": "markdown",
      "metadata": {
        "id": "hZsr0nabif44"
      },
      "source": [
        "To find the above function into a machine learning classifier, we follow the specific steps\n",
        "1. We initialize the weights\n",
        "2. Using set weights, we calculate whether an image is a 3 or 7 and get predictions\n",
        "3. Using predictions from step 2, we calculate our loss which tell us how good our predictions are\n",
        "4. Based on the above loss, we calculate our gradients, which tell us how changing the weights affects the model\n",
        "5. Based on above gradients, we change the weights in the direction that improves the model\n",
        "6. Go back to step 2, and repeat the process\n",
        "7. Iterate until you usually stop because the model is good enough, or you are tired of waiting"
      ]
    },
    {
      "cell_type": "markdown",
      "metadata": {
        "id": "G2Z-xe4nif44"
      },
      "source": [
        "These steps are illustrated as shown below"
      ]
    },
    {
      "cell_type": "code",
      "execution_count": 42,
      "metadata": {
        "id": "-kZvqu8Iif45",
        "colab": {
          "base_uri": "https://localhost:8080/",
          "height": 126
        },
        "outputId": "4e446bb2-3b8f-4d9c-8b8e-dcc465e01a5a"
      },
      "outputs": [
        {
          "output_type": "execute_result",
          "data": {
            "image/svg+xml": "<?xml version=\"1.0\" encoding=\"UTF-8\" standalone=\"no\"?>\n<!DOCTYPE svg PUBLIC \"-//W3C//DTD SVG 1.1//EN\"\n \"http://www.w3.org/Graphics/SVG/1.1/DTD/svg11.dtd\">\n<!-- Generated by graphviz version 2.43.0 (0)\n -->\n<!-- Title: G Pages: 1 -->\n<svg width=\"591pt\" height=\"78pt\"\n viewBox=\"0.00 0.00 591.49 78.00\" xmlns=\"http://www.w3.org/2000/svg\" xmlns:xlink=\"http://www.w3.org/1999/xlink\">\n<g id=\"graph0\" class=\"graph\" transform=\"scale(1 1) rotate(0) translate(4 74)\">\n<title>G</title>\n<polygon fill=\"white\" stroke=\"transparent\" points=\"-4,4 -4,-74 587.49,-74 587.49,4 -4,4\"/>\n<!-- init -->\n<g id=\"node1\" class=\"node\">\n<title>init</title>\n<ellipse fill=\"none\" stroke=\"black\" cx=\"27\" cy=\"-18\" rx=\"27\" ry=\"18\"/>\n<text text-anchor=\"middle\" x=\"27\" y=\"-14.3\" font-family=\"Times,serif\" font-size=\"14.00\">init</text>\n</g>\n<!-- predict -->\n<g id=\"node2\" class=\"node\">\n<title>predict</title>\n<ellipse fill=\"none\" stroke=\"black\" cx=\"126.1\" cy=\"-18\" rx=\"35.19\" ry=\"18\"/>\n<text text-anchor=\"middle\" x=\"126.1\" y=\"-14.3\" font-family=\"Times,serif\" font-size=\"14.00\">predict</text>\n</g>\n<!-- init&#45;&gt;predict -->\n<g id=\"edge1\" class=\"edge\">\n<title>init&#45;&gt;predict</title>\n<path fill=\"none\" stroke=\"black\" d=\"M54.02,-18C62.26,-18 71.62,-18 80.78,-18\"/>\n<polygon fill=\"black\" stroke=\"black\" points=\"80.96,-21.5 90.96,-18 80.96,-14.5 80.96,-21.5\"/>\n</g>\n<!-- loss -->\n<g id=\"node3\" class=\"node\">\n<title>loss</title>\n<ellipse fill=\"none\" stroke=\"black\" cx=\"225.19\" cy=\"-52\" rx=\"27\" ry=\"18\"/>\n<text text-anchor=\"middle\" x=\"225.19\" y=\"-48.3\" font-family=\"Times,serif\" font-size=\"14.00\">loss</text>\n</g>\n<!-- predict&#45;&gt;loss -->\n<g id=\"edge2\" class=\"edge\">\n<title>predict&#45;&gt;loss</title>\n<path fill=\"none\" stroke=\"black\" d=\"M155.44,-27.93C166.61,-31.84 179.52,-36.36 191.11,-40.42\"/>\n<polygon fill=\"black\" stroke=\"black\" points=\"190.29,-43.84 200.88,-43.84 192.6,-37.23 190.29,-43.84\"/>\n</g>\n<!-- gradient -->\n<g id=\"node4\" class=\"node\">\n<title>gradient</title>\n<ellipse fill=\"none\" stroke=\"black\" cx=\"361.84\" cy=\"-52\" rx=\"39.79\" ry=\"18\"/>\n<text text-anchor=\"middle\" x=\"361.84\" y=\"-48.3\" font-family=\"Times,serif\" font-size=\"14.00\">gradient</text>\n</g>\n<!-- loss&#45;&gt;gradient -->\n<g id=\"edge3\" class=\"edge\">\n<title>loss&#45;&gt;gradient</title>\n<path fill=\"none\" stroke=\"black\" d=\"M252.47,-52C269.35,-52 291.8,-52 311.88,-52\"/>\n<polygon fill=\"black\" stroke=\"black\" points=\"312.13,-55.5 322.13,-52 312.13,-48.5 312.13,-55.5\"/>\n</g>\n<!-- step -->\n<g id=\"node5\" class=\"node\">\n<title>step</title>\n<ellipse fill=\"none\" stroke=\"black\" cx=\"465.49\" cy=\"-18\" rx=\"27\" ry=\"18\"/>\n<text text-anchor=\"middle\" x=\"465.49\" y=\"-14.3\" font-family=\"Times,serif\" font-size=\"14.00\">step</text>\n</g>\n<!-- gradient&#45;&gt;step -->\n<g id=\"edge4\" class=\"edge\">\n<title>gradient&#45;&gt;step</title>\n<path fill=\"none\" stroke=\"black\" d=\"M394.17,-41.52C405.92,-37.59 419.32,-33.11 431.25,-29.12\"/>\n<polygon fill=\"black\" stroke=\"black\" points=\"432.48,-32.4 440.85,-25.91 430.26,-25.76 432.48,-32.4\"/>\n</g>\n<!-- step&#45;&gt;predict -->\n<g id=\"edge6\" class=\"edge\">\n<title>step&#45;&gt;predict</title>\n<path fill=\"none\" stroke=\"black\" d=\"M438.29,-18C380.72,-18 242.6,-18 171.32,-18\"/>\n<polygon fill=\"black\" stroke=\"black\" points=\"171.3,-14.5 161.3,-18 171.3,-21.5 171.3,-14.5\"/>\n<text text-anchor=\"middle\" x=\"287.19\" y=\"-21.8\" font-family=\"Times,serif\" font-size=\"14.00\">repeat</text>\n</g>\n<!-- stop -->\n<g id=\"node6\" class=\"node\">\n<title>stop</title>\n<ellipse fill=\"none\" stroke=\"black\" cx=\"556.49\" cy=\"-18\" rx=\"27\" ry=\"18\"/>\n<text text-anchor=\"middle\" x=\"556.49\" y=\"-14.3\" font-family=\"Times,serif\" font-size=\"14.00\">stop</text>\n</g>\n<!-- step&#45;&gt;stop -->\n<g id=\"edge5\" class=\"edge\">\n<title>step&#45;&gt;stop</title>\n<path fill=\"none\" stroke=\"black\" d=\"M492.71,-18C501.04,-18 510.4,-18 519.3,-18\"/>\n<polygon fill=\"black\" stroke=\"black\" points=\"519.45,-21.5 529.45,-18 519.45,-14.5 519.45,-21.5\"/>\n</g>\n</g>\n</svg>\n",
            "text/plain": [
              "<graphviz.sources.Source at 0x7a9275cfeec0>"
            ]
          },
          "metadata": {},
          "execution_count": 42
        }
      ],
      "source": [
        "#id gradient_descent\n",
        "#caption The gradient descent process\n",
        "#alt Graph showing the steps for Gradient Descent\n",
        "gv('''\n",
        "init->predict->loss->gradient->step->stop\n",
        "step->predict[label=repeat]\n",
        "''')\n"
      ]
    },
    {
      "cell_type": "markdown",
      "metadata": {
        "id": "Wd8Xv63bif45"
      },
      "source": [
        "There are several ways to perfrom the seven steps listed above, but they all follow some general guidelines\n",
        "- initilize: we usually initialize the parameters to random values and because we have a means of automatically improving the weights, it means we shall iterate towards the correct weights no matter where we start at\n",
        "- Loss : This refers to the means of testing the effectiveness of any current weight assignment in terms of actual performance such that the function returns a small number if the performance is good.\n",
        "- Step, how do we know if we are taking the step in the right direction, we can try adjusting the loss in any direction and see if the loss goes up and down, with this we have the direction, then we take a step in the direction using different intensities until we find which amount works best.\n",
        "  Calculating gradients gives us an exact direction and number in which to adjust our weights."
      ]
    },
    {
      "cell_type": "markdown",
      "metadata": {
        "id": "3seXN3ZMif45"
      },
      "source": [
        "lets illustrate the above steps with a simple toy example where we assume that a quadratic function can work as as our loss function and x as the weight parameter.\n"
      ]
    },
    {
      "cell_type": "code",
      "execution_count": 49,
      "metadata": {
        "id": "keFSGS5yif45"
      },
      "outputs": [],
      "source": [
        "def f(x):\n",
        "    return x**2"
      ]
    },
    {
      "cell_type": "code",
      "execution_count": 50,
      "metadata": {
        "id": "-v8YWTAtif46",
        "colab": {
          "base_uri": "https://localhost:8080/",
          "height": 396
        },
        "outputId": "8481814c-64ad-4458-d047-c0e698addb17"
      },
      "outputs": [
        {
          "output_type": "display_data",
          "data": {
            "text/plain": [
              "<Figure size 600x400 with 1 Axes>"
            ],
            "image/png": "[encoded data removed]"
          },
          "metadata": {}
        }
      ],
      "source": [
        "#Lets plot the following equation\n",
        "#help(plot_function)\n",
        "plot_function(f, 'x', 'x**2')"
      ]
    },
    {
      "cell_type": "markdown",
      "source": [
        "The sequence of the 7 steps start by picking or initializing the weight with a random parameter value and calculating the loss. Here we use -1.5 and calculate the loss."
      ],
      "metadata": {
        "id": "iR9PT2lix83s"
      }
    },
    {
      "cell_type": "code",
      "execution_count": 56,
      "metadata": {
        "id": "2aupWjj1if46",
        "outputId": "b97990c4-a9e4-4b1c-c2c4-90e15c1a1ac8",
        "colab": {
          "base_uri": "https://localhost:8080/",
          "height": 413
        }
      },
      "outputs": [
        {
          "output_type": "execute_result",
          "data": {
            "text/plain": [
              "<matplotlib.collections.PathCollection at 0x7a9272cee110>"
            ]
          },
          "metadata": {},
          "execution_count": 56
        },
        {
          "output_type": "display_data",
          "data": {
            "text/plain": [
              "<Figure size 600x400 with 1 Axes>"
            ],
            "image/png": "[encoded data removed]"
          },
          "metadata": {}
        }
      ],
      "source": [
        "plot_function(f, 'x', 'x**2')\n",
        "plt.scatter(-1.5,f(-1.5), color=\"red\")"
      ]
    },
    {
      "cell_type": "markdown",
      "source": [
        "We see how well our parameter value does and pick another value in the direction that improves the slope, lets try picking a higher and lower value to see which direction gets closer to the optimal point."
      ],
      "metadata": {
        "id": "5r03PAUNyWFm"
      }
    },
    {
      "cell_type": "code",
      "source": [
        "plot_function(f, 'x', 'x**2')\n",
        "plt.scatter(-1.8,f(-1.8), color=\"red\")"
      ],
      "metadata": {
        "colab": {
          "base_uri": "https://localhost:8080/",
          "height": 413
        },
        "id": "2oUpDH0xxG-J",
        "outputId": "53491a93-99ad-43e7-f36a-d5c1a9f610cd"
      },
      "execution_count": 58,
      "outputs": [
        {
          "output_type": "execute_result",
          "data": {
            "text/plain": [
              "<matplotlib.collections.PathCollection at 0x7a9272bf7d00>"
            ]
          },
          "metadata": {},
          "execution_count": 58
        },
        {
          "output_type": "display_data",
          "data": {
            "text/plain": [
              "<Figure size 600x400 with 1 Axes>"
            ],
            "image/png": "[encoded data removed]"
          },
          "metadata": {}
        }
      ]
    },
    {
      "cell_type": "code",
      "source": [
        "plot_function(f, 'x', 'x**2')\n",
        "plt.scatter(-1.2,f(-1.2), color=\"red\")"
      ],
      "metadata": {
        "colab": {
          "base_uri": "https://localhost:8080/",
          "height": 413
        },
        "id": "UTWBU5e-wpQh",
        "outputId": "b9702f71-2530-4655-d097-e94bed34bbd9"
      },
      "execution_count": 59,
      "outputs": [
        {
          "output_type": "execute_result",
          "data": {
            "text/plain": [
              "<matplotlib.collections.PathCollection at 0x7a9272a957b0>"
            ]
          },
          "metadata": {},
          "execution_count": 59
        },
        {
          "output_type": "display_data",
          "data": {
            "text/plain": [
              "<Figure size 600x400 with 1 Axes>"
            ],
            "image/png": "[encoded data removed]"
          },
          "metadata": {}
        }
      ]
    },
    {
      "cell_type": "markdown",
      "source": [
        "With this, we see that taking lower values moves us closer to the lowest point on the curve, with this we continously adjust our weights until we reach the lowest point on the curve that minimizes the loss.We continously adjust our weights in the right direction until we reach the lowest point on the curve.\n",
        "\n",
        "We can optimize functions regardless of how complex they are this way with gradient decsent until we reach the otpimal point.\n"
      ],
      "metadata": {
        "id": "lTviIekHy4tT"
      }
    },
    {
      "cell_type": "code",
      "source": [
        "plot_function(f, 'x', 'x**2')\n",
        "plt.scatter(-0.5,f(-0.5), color=\"red\")"
      ],
      "metadata": {
        "colab": {
          "base_uri": "https://localhost:8080/",
          "height": 413
        },
        "id": "qGFWcLXRwupe",
        "outputId": "b589724a-2453-466b-c083-954ea44705d8"
      },
      "execution_count": 60,
      "outputs": [
        {
          "output_type": "execute_result",
          "data": {
            "text/plain": [
              "<matplotlib.collections.PathCollection at 0x7a9272b13b80>"
            ]
          },
          "metadata": {},
          "execution_count": 60
        },
        {
          "output_type": "display_data",
          "data": {
            "text/plain": [
              "<Figure size 600x400 with 1 Axes>"
            ],
            "image/png": "[encoded data removed]"
          },
          "metadata": {}
        }
      ]
    },
    {
      "cell_type": "code",
      "source": [
        "plot_function(f, 'x', 'x**2')\n",
        "plt.scatter(0.1,f(0.1), color=\"red\")"
      ],
      "metadata": {
        "colab": {
          "base_uri": "https://localhost:8080/",
          "height": 413
        },
        "id": "jbWL7H2Zw03n",
        "outputId": "62f3e2c3-936f-4c42-8f89-21e7a8ba7253"
      },
      "execution_count": 61,
      "outputs": [
        {
          "output_type": "execute_result",
          "data": {
            "text/plain": [
              "<matplotlib.collections.PathCollection at 0x7a92729c1270>"
            ]
          },
          "metadata": {},
          "execution_count": 61
        },
        {
          "output_type": "display_data",
          "data": {
            "text/plain": [
              "<Figure size 600x400 with 1 Axes>"
            ],
            "image/png": "[encoded data removed]"
          },
          "metadata": {}
        }
      ]
    },
    {
      "cell_type": "markdown",
      "metadata": {
        "id": "dHCY3x-lif47"
      },
      "source": [
        "### Gradients"
      ]
    },
    {
      "cell_type": "markdown",
      "source": [
        "Instead of manually adjusting the weight value, we can use calculus as a performance otpimization. This basically tells us how much our loss will go up or down when we adjust our parameter in a given direction telling us which direction to adjust our weight and by how much.\n",
        "\n",
        "From calculus, we know that a derivative of a function tells us how much a change in its parameters changes the result of a function.For any given function such as our quadratic function above, we can calculate its derivative which is just another function. We should note that the derivative of a function calculates the rate of change of the function not the value of the function.\n",
        "\n",
        "For example the derivative of our quadratic function at parameter value 3 tells us how much the quadratic function changes at 3.Once we know how our value changes we know what direction to adjust our weights in to make the function smaller.\n",
        "This is the key to machine learming, having a way to adjust the parameters to improve the model. Calculus provides a computational shortcut which lets us calculate the gradients of a function.These tells us which direction and by how far to adjust our weights.\n",
        "\n",
        "Remember that our function has a lot of weights that we need to adjsut.Intrestingly enpouh, we can calculate the gradient for each weight while taking the rest constant, then do this for each weight using broadcasting.\n",
        "\n",
        "We dont need need to calculate the gradients manually as PyTorch can do this for us."
      ],
      "metadata": {
        "id": "NrKkl0MN3cor"
      }
    },
    {
      "cell_type": "markdown",
      "source": [
        "#CHECKPOINT"
      ],
      "metadata": {
        "id": "3j9WAlHF34DY"
      }
    },
    {
      "cell_type": "markdown",
      "metadata": {
        "id": "PH7EX_I0if47"
      },
      "source": [
        "Calculus tells us how much our loss will go up or down when we adjust our parameter values up or down.\n",
        "A derivative of a function tells us about the rate of change of a function not the function value.\n",
        "Remember that a function usually has a bunch of gradients, here we calculate the gradient for each weight while taking the rest as constant, then repeat this for each weight."
      ]
    },
    {
      "cell_type": "markdown",
      "metadata": {
        "id": "A8ODfzcVif47"
      },
      "source": [
        "PyTorch can automatically calculate gradients for us but first lets pick a value where you want to calcualte derivatives of"
      ]
    },
    {
      "cell_type": "code",
      "execution_count": null,
      "metadata": {
        "id": "6ifIXhq-if49"
      },
      "outputs": [],
      "source": [
        "#this tells pytorch to calculate gradients with respect to a variable at the value,3\n",
        "#x values\n",
        "xt = tensor(3.).requires_grad_()"
      ]
    },
    {
      "cell_type": "code",
      "execution_count": null,
      "metadata": {
        "id": "a5NfBiCOif4-",
        "outputId": "a7242be9-4a67-4239-db2c-0bf03ce45dca"
      },
      "outputs": [
        {
          "data": {
            "text/plain": [
              "tensor(9., grad_fn=<PowBackward0>)"
            ]
          },
          "execution_count": 17,
          "metadata": {},
          "output_type": "execute_result"
        }
      ],
      "source": [
        "#yt prints out the values and the gradient function it uses to calculate gradients when asked to\n",
        "yt = f(xt)\n",
        "yt"
      ]
    },
    {
      "cell_type": "code",
      "execution_count": null,
      "metadata": {
        "id": "HZJ83-fgif4_"
      },
      "outputs": [],
      "source": [
        "#backward pass/ backpropagtion where we calculate the drivatives\n",
        "yt.backward()"
      ]
    },
    {
      "cell_type": "code",
      "execution_count": null,
      "metadata": {
        "id": "-yVLcbZSif4_",
        "outputId": "b254cb7b-418f-4505-bb65-f850916573f0"
      },
      "outputs": [
        {
          "data": {
            "text/plain": [
              "tensor(6.)"
            ]
          },
          "execution_count": 19,
          "metadata": {},
          "output_type": "execute_result"
        }
      ],
      "source": [
        "#We can view the gradient by calling the grad attribute of our input tensor\n",
        "xt.grad"
      ]
    },
    {
      "cell_type": "markdown",
      "metadata": {
        "id": "rI-GjySmif5B"
      },
      "source": [
        "The derivative of x**2 is 2*x, hence 2*3 results in 6 as shown above.Lets do the same for multiple values."
      ]
    },
    {
      "cell_type": "code",
      "execution_count": null,
      "metadata": {
        "id": "wG92kxwEif5C",
        "outputId": "aba54e16-1a08-4148-b263-8b9b2eaaecd7"
      },
      "outputs": [
        {
          "data": {
            "text/plain": [
              "tensor([3., 4., 5.], requires_grad=True)"
            ]
          },
          "execution_count": 25,
          "metadata": {},
          "output_type": "execute_result"
        }
      ],
      "source": [
        "xt = tensor([3.,4.,5.]).requires_grad_()\n",
        "xt"
      ]
    },
    {
      "cell_type": "markdown",
      "metadata": {
        "id": "ZB7hJfQUif5E"
      },
      "source": [
        "We redefine our function f(x) adding sum so the function takes a vector rank 1 tensor and converts into a scalar 0 rank tensor"
      ]
    },
    {
      "cell_type": "code",
      "execution_count": null,
      "metadata": {
        "id": "S1TZSXr8if5E",
        "outputId": "dd1c7b82-4398-4f3f-b159-69b673e2e834"
      },
      "outputs": [
        {
          "data": {
            "text/plain": [
              "tensor(50., grad_fn=<SumBackward0>)"
            ]
          },
          "execution_count": 28,
          "metadata": {},
          "output_type": "execute_result"
        }
      ],
      "source": [
        "def f(x):\n",
        "    return (x**2).sum()\n",
        "\n",
        "yt = f(xt)\n",
        "yt"
      ]
    },
    {
      "cell_type": "code",
      "execution_count": null,
      "metadata": {
        "id": "-gT6S6yEif5F"
      },
      "outputs": [],
      "source": [
        "yt.backward()"
      ]
    },
    {
      "cell_type": "code",
      "execution_count": null,
      "metadata": {
        "id": "ZdNXkB9Jif5G",
        "outputId": "9192a93e-f8ed-410b-a88f-74d15b7a097e"
      },
      "outputs": [
        {
          "data": {
            "text/plain": [
              "tensor([ 6.,  8., 10.])"
            ]
          },
          "execution_count": 30,
          "metadata": {},
          "output_type": "execute_result"
        }
      ],
      "source": [
        "xt.grad"
      ]
    },
    {
      "cell_type": "markdown",
      "metadata": {
        "id": "f27q_EeVif5G"
      },
      "source": [
        "This gives us the slope of a function, they dint actually tell us how far to adjust the parameters but it gives us an idea, large slope means we still have alot of adjustment to do while a small slope means we are closer to the optimum value."
      ]
    },
    {
      "cell_type": "markdown",
      "metadata": {
        "id": "ErxeBPidif5H"
      },
      "source": [
        "Stepping with learning rate"
      ]
    },
    {
      "cell_type": "markdown",
      "metadata": {
        "id": "_4e2Ynhfif5I"
      },
      "source": [
        "This involves changing the weights/parameters based on the gradients. It is commonplace to multiply the gradient values by a small number usually between 0.001 and 0.1 called the learning rate.This results in new paramter values.We can adjust the learning rate as follows"
      ]
    },
    {
      "cell_type": "code",
      "execution_count": null,
      "metadata": {
        "id": "DT5bva2cif5I"
      },
      "outputs": [],
      "source": [
        "w = -gradient * lr"
      ]
    },
    {
      "cell_type": "markdown",
      "metadata": {
        "id": "z23BGSK3if5I"
      },
      "source": [
        "We usually adjust our paramters in the direction of the slope as we are trying to find the minimum.The - ensures that the we increase the paramter if the slope is negative and we decrease the parameters if the slope is positive."
      ]
    },
    {
      "cell_type": "markdown",
      "metadata": {
        "id": "Roo5WcTkif5J"
      },
      "source": [
        "Example of SGD."
      ]
    },
    {
      "cell_type": "markdown",
      "metadata": {
        "id": "iUglCJogif5J"
      },
      "source": [
        "Here we use the gradients to find the minimum and we see how finding a minimum can be used to train a model to better fit the data."
      ]
    },
    {
      "cell_type": "markdown",
      "metadata": {
        "id": "OxxZbAxsif5J"
      },
      "source": [
        "Description\n",
        "Say you are measuring the speed of a roller coaster every 20 seconds as it goes over a hill , and slopes back down.\n",
        "The roller coaster would start fast, getting slower as it climbs the hill, would be slowest at the top then slowly accelerate and pick up speed as it descents down the hill."
      ]
    },
    {
      "cell_type": "code",
      "execution_count": null,
      "metadata": {
        "id": "OEayt2C-if5K",
        "outputId": "516aad6d-1a8c-4185-ce95-ec0484462d77"
      },
      "outputs": [
        {
          "data": {
            "text/plain": [
              "tensor([ 0.,  1.,  2.,  3.,  4.,  5.,  6.,  7.,  8.,  9., 10., 11., 12., 13., 14., 15., 16., 17., 18., 19.])"
            ]
          },
          "execution_count": 32,
          "metadata": {},
          "output_type": "execute_result"
        }
      ],
      "source": [
        "time = torch.arange(0,20).float()\n",
        "time"
      ]
    },
    {
      "cell_type": "code",
      "execution_count": null,
      "metadata": {
        "id": "qNYDJnkbif5K",
        "outputId": "6d7c6fa4-8440-4bec-8edc-ede30c09d181"
      },
      "outputs": [
        {
          "data": {
            "image/png": "[encoded data removed]",
            "text/plain": [
              "<Figure size 640x480 with 1 Axes>"
            ]
          },
          "metadata": {},
          "output_type": "display_data"
        }
      ],
      "source": [
        "speed = torch.randn(20)*3 + 0.75*(time-9.5)**2 + 1\n",
        "plt.scatter(time,speed);"
      ]
    },
    {
      "cell_type": "markdown",
      "metadata": {
        "id": "SUYkmSieif5L"
      },
      "source": [
        "Using stochastic gradient descent, we can build a function that matches the data. Lets start with a quadratic in the format ax**2 + bx + c assuming that this function can fit and match our observations"
      ]
    },
    {
      "cell_type": "code",
      "execution_count": null,
      "metadata": {
        "id": "ZaqM-joCif5L"
      },
      "outputs": [],
      "source": [
        "#time is the input and a,b,c are the parameters\n",
        "a(time)**2 + b(time) + c"
      ]
    },
    {
      "cell_type": "code",
      "execution_count": null,
      "metadata": {
        "id": "p_oBCz_kif5L"
      },
      "outputs": [],
      "source": [
        "#function that takes input and parameters as input and returns a prediction\n",
        "def f(t, params):\n",
        "    a,b,c = params\n",
        "    return a*(t**2) + b*t + c"
      ]
    },
    {
      "cell_type": "markdown",
      "metadata": {
        "id": "xZvjHqwVif5M"
      },
      "source": [
        "We distinguish clearly between the functions input and the parameters in the function above. What we have done is restrict the problem of finding the best quadartic that fits to finding the best paramter values for a,b, and c which greatly simplifies our problem as every quadrastic is fully defined by 3 paramaters a,b,c.\n",
        "In order to find the best quadratic function we  find the best values of a,b and c."
      ]
    },
    {
      "cell_type": "markdown",
      "metadata": {
        "id": "M-h8sN5uif5M"
      },
      "source": [
        "If we can solve the problem above, we can apply the same logic to solve other problems such as our mnist classification with more complex functions and parameters just like we are doing above. We also need to define what we mean by best values. We do this by choosing a loss function where smaller values correspond to bette predictions and vice versa.For the above continous data, we shall use mean squared error"
      ]
    },
    {
      "cell_type": "code",
      "execution_count": null,
      "metadata": {
        "id": "f-oI-XXrif5M"
      },
      "outputs": [],
      "source": [
        "#loss function\n",
        "def mse(preds,targets):\n",
        "    return ((preds - targets)**2).mean()\n"
      ]
    },
    {
      "cell_type": "code",
      "execution_count": null,
      "metadata": {
        "id": "Dt8jQSohif5N"
      },
      "outputs": [],
      "source": []
    },
    {
      "cell_type": "markdown",
      "metadata": {
        "id": "tdgORHQWif5N"
      },
      "source": [
        "We now go through our seven step process"
      ]
    },
    {
      "cell_type": "code",
      "execution_count": null,
      "metadata": {
        "id": "x8YtHNPXif5N"
      },
      "outputs": [],
      "source": [
        "#intialize and tell pytorch to compute gradients\n",
        "params = torch.rand(3).requires_grad_()\n",
        "orig_prams = params.clone()"
      ]
    },
    {
      "cell_type": "code",
      "execution_count": null,
      "metadata": {
        "id": "gUvimCshif5O",
        "outputId": "de1818c3-0f41-474d-9a80-2e4457d3a13d"
      },
      "outputs": [
        {
          "data": {
            "text/plain": [
              "tensor([0.5779, 0.9040, 0.5547], requires_grad=True)"
            ]
          },
          "execution_count": 39,
          "metadata": {},
          "output_type": "execute_result"
        }
      ],
      "source": [
        "params"
      ]
    },
    {
      "cell_type": "code",
      "execution_count": null,
      "metadata": {
        "id": "IRSpbZzJif5P",
        "outputId": "17a74599-11ac-4372-81d9-9fb350162499"
      },
      "outputs": [
        {
          "data": {
            "text/plain": [
              "tensor([  0.5547,   2.0366,   4.6743,   8.4679,  13.4174,  19.5227,  26.7839,  35.2009,  44.7737,  55.5025,  67.3870,  80.4274,  94.6237, 109.9758, 126.4838, 144.1476, 162.9673, 182.9428, 204.0741,\n",
              "        226.3614], grad_fn=<AddBackward0>)"
            ]
          },
          "execution_count": 41,
          "metadata": {},
          "output_type": "execute_result"
        }
      ],
      "source": [
        "#Calculate predictions\n",
        "preds = f(time, params)\n",
        "preds"
      ]
    },
    {
      "cell_type": "code",
      "execution_count": null,
      "metadata": {
        "id": "5QATU4TEif5P",
        "outputId": "a51714a2-c885-4fc4-b940-e34dac27445e"
      },
      "outputs": [
        {
          "data": {
            "text/plain": [
              "20"
            ]
          },
          "execution_count": 42,
          "metadata": {},
          "output_type": "execute_result"
        }
      ],
      "source": [
        "len(preds)"
      ]
    },
    {
      "cell_type": "code",
      "execution_count": null,
      "metadata": {
        "id": "uwUQup8kif5Q"
      },
      "outputs": [],
      "source": [
        "def show_preds(preds, ax=None):\n",
        " if ax is None: ax=plt.subplots()[1]\n",
        " ax.scatter(time, speed)\n",
        " ax.scatter(time, to_np(preds), color='red')\n",
        " ax.set_ylim(-300,100)\n"
      ]
    },
    {
      "cell_type": "code",
      "execution_count": null,
      "metadata": {
        "id": "_0Gj-FhOif5Q",
        "outputId": "ca7b4f62-88b4-44ed-f503-21a59ff8315a"
      },
      "outputs": [
        {
          "data": {
            "image/png": "[encoded data removed]",
            "text/plain": [
              "<Figure size 640x480 with 1 Axes>"
            ]
          },
          "metadata": {},
          "output_type": "display_data"
        }
      ],
      "source": [
        "show_preds(preds)"
      ]
    },
    {
      "cell_type": "code",
      "execution_count": null,
      "metadata": {
        "id": "Y-2gBZQ7if5R",
        "outputId": "fa2c1f34-8552-4507-f9e0-9c42ae2abdf7"
      },
      "outputs": [
        {
          "data": {
            "text/plain": [
              "tensor(7761.0767, grad_fn=<MeanBackward0>)"
            ]
          },
          "execution_count": 45,
          "metadata": {},
          "output_type": "execute_result"
        }
      ],
      "source": [
        "#calculate the loss\n",
        "loss = mse(preds,speed)\n",
        "loss"
      ]
    },
    {
      "cell_type": "code",
      "execution_count": null,
      "metadata": {
        "id": "otwU_VMyif5S",
        "outputId": "51543858-6234-435e-fed0-ab3aaa1e0a00"
      },
      "outputs": [
        {
          "data": {
            "text/plain": [
              "tensor([28189.2148,  1824.8007,   107.8606])"
            ]
          },
          "execution_count": 46,
          "metadata": {},
          "output_type": "execute_result"
        }
      ],
      "source": [
        "#calculate gradients\n",
        "loss.backward()\n",
        "params.grad"
      ]
    },
    {
      "cell_type": "code",
      "execution_count": null,
      "metadata": {
        "id": "AysYuVJfif5S"
      },
      "outputs": [],
      "source": [
        "lr = 1e-5"
      ]
    },
    {
      "cell_type": "code",
      "execution_count": null,
      "metadata": {
        "id": "vvjfoXufif5T",
        "outputId": "d5ea9e9d-13ea-42e6-c723-c0eda922169f"
      },
      "outputs": [
        {
          "data": {
            "text/plain": [
              "tensor([0.5779, 0.9040, 0.5547])"
            ]
          },
          "execution_count": 48,
          "metadata": {},
          "output_type": "execute_result"
        }
      ],
      "source": [
        "i = params.data\n",
        "i"
      ]
    },
    {
      "cell_type": "code",
      "execution_count": null,
      "metadata": {
        "id": "d0ob281yif5T",
        "outputId": "2ccf58f1-8dcd-40d7-9f58-00cbc31ed7f1"
      },
      "outputs": [
        {
          "data": {
            "text/plain": [
              "tensor([28189.2148,  1824.8007,   107.8606])"
            ]
          },
          "execution_count": 49,
          "metadata": {},
          "output_type": "execute_result"
        }
      ],
      "source": [
        "u = params.grad.data\n",
        "u"
      ]
    },
    {
      "cell_type": "code",
      "execution_count": null,
      "metadata": {
        "id": "A2xEaLSFif5U"
      },
      "outputs": [],
      "source": [
        "lr = 0.05\n",
        "params.data = - lr * params.grad.data"
      ]
    },
    {
      "cell_type": "code",
      "execution_count": null,
      "metadata": {
        "id": "Me1zvSZfif5U",
        "outputId": "8773e5d5-aadb-436c-ff56-e80c0ee20778"
      },
      "outputs": [
        {
          "data": {
            "text/plain": [
              "tensor([-792.6697,  -51.2920,   -2.6360])"
            ]
          },
          "execution_count": 107,
          "metadata": {},
          "output_type": "execute_result"
        }
      ],
      "source": [
        "#new params after adjustmemt\n",
        "#params.data represents the initial parameters\n",
        "#params.grad.data represents the gradients of these initial paramters\n",
        "# lr * params.grad.data changes multiplies the gradients of the parameters by a learning rate\n",
        "#params.data = - lr * params.grad.data sets the initial parameters to the result of gradients * lr\n",
        "#\n",
        "i = params.data\n",
        "i"
      ]
    },
    {
      "cell_type": "code",
      "execution_count": null,
      "metadata": {
        "id": "7KIbGcKNif5V"
      },
      "outputs": [],
      "source": [
        "#step\n",
        "lr = 1e-5\n",
        "params.data = - lr * params.grad.data\n",
        "params.grad = None"
      ]
    },
    {
      "cell_type": "code",
      "execution_count": null,
      "metadata": {
        "id": "mV8V2Aq2if5V",
        "outputId": "d5fb5d91-538f-4ef1-8e08-cfa77bcb756f"
      },
      "outputs": [
        {
          "data": {
            "text/plain": [
              "tensor(5674.8853, grad_fn=<MeanBackward0>)"
            ]
          },
          "execution_count": 51,
          "metadata": {},
          "output_type": "execute_result"
        }
      ],
      "source": [
        "#go back to step 2\n",
        "preds = f(time,params)\n",
        "loss = mse(preds, speed)\n",
        "loss"
      ]
    },
    {
      "cell_type": "code",
      "execution_count": null,
      "metadata": {
        "id": "ljSA-gU5if5Y",
        "outputId": "314f9030-44cf-420e-8899-cfe4bd6eb759"
      },
      "outputs": [
        {
          "data": {
            "image/png": "[encoded data removed]",
            "text/plain": [
              "<Figure size 640x480 with 1 Axes>"
            ]
          },
          "metadata": {},
          "output_type": "display_data"
        }
      ],
      "source": [
        "show_preds(preds)"
      ]
    },
    {
      "cell_type": "code",
      "execution_count": null,
      "metadata": {
        "id": "LujRFfdtif5Y"
      },
      "outputs": [],
      "source": [
        "#We need to do this a couple of times so we create one step\n",
        "def apply_step(params,prn= True):\n",
        "    preds = f(time,params)\n",
        "    loss = mse(preds, speed)\n",
        "    loss.backward()\n",
        "    params.data -=  lr * params.grad.data\n",
        "    params.grad = None\n",
        "    if prn: print(loss.item())\n",
        "    return preds"
      ]
    },
    {
      "cell_type": "code",
      "execution_count": null,
      "metadata": {
        "id": "5C5Zgw-0if5Z",
        "outputId": "485797aa-1ad5-44bd-c266-3ac366a3768d"
      },
      "outputs": [
        {
          "name": "stdout",
          "output_type": "stream",
          "text": [
            "5674.88525390625\n",
            "1642.954833984375\n",
            "879.9871215820312\n",
            "735.607177734375\n",
            "708.2830810546875\n",
            "703.1094970703125\n",
            "702.1275024414062\n",
            "701.9385986328125\n",
            "701.9000244140625\n",
            "701.8897094726562\n"
          ]
        }
      ],
      "source": [
        "for i in range(10):\n",
        "    apply_step(params)"
      ]
    },
    {
      "cell_type": "code",
      "execution_count": null,
      "metadata": {
        "id": "KMxx-NDeif5a",
        "outputId": "762fb440-c372-441d-bdcc-495bb6419615"
      },
      "outputs": [
        {
          "data": {
            "text/plain": [
              "tensor([0.5779, 0.9040, 0.5547], grad_fn=<CloneBackward0>)"
            ]
          },
          "execution_count": 55,
          "metadata": {},
          "output_type": "execute_result"
        }
      ],
      "source": [
        "orig_prams"
      ]
    },
    {
      "cell_type": "code",
      "execution_count": null,
      "metadata": {
        "id": "MnVYPwi8if5a"
      },
      "outputs": [],
      "source": [
        "params = orig_prams.detach().requires_grad_()\n"
      ]
    },
    {
      "cell_type": "code",
      "execution_count": null,
      "metadata": {
        "id": "qzSYI_Ikif5b",
        "outputId": "877befc8-1c98-4368-960d-08c56e3e1f03"
      },
      "outputs": [
        {
          "data": {
            "image/png": "[encoded data removed]",
            "text/plain": [
              "<Figure size 1200x300 with 4 Axes>"
            ]
          },
          "metadata": {},
          "output_type": "display_data"
        }
      ],
      "source": [
        "_,axs = plt.subplots(1,4,figsize=(12,3))\n",
        "for ax in axs: show_preds(apply_step(params, False), ax)\n",
        "plt.tight_layout()"
      ]
    },
    {
      "cell_type": "markdown",
      "metadata": {
        "id": "jfXZpltLif5b"
      },
      "source": [
        "To summarize at the beginning, we initialize the weights to random values, since we have a means of improving them or we can use weights from a pretrained model.\n",
        "In the first example, the initial weights wont be much good as well as in the second case.\n",
        "\n",
        "Once we have weights, we can use these to calculate a prediction. We then compare our prediction with our target which in this case is our labels, which we already have as we are using a labelled dataset.\n",
        "This gives us a number which we refer to as our loss, this measures the distance between the predictions and the target to tell us how good our model is.\n",
        "We now have a number that we want to make as low as possible as low values of loss correspond with better predictions.\n",
        "\n",
        "We can make the loss as low as possible by adjusting the parameters of the model also called the weights in the direction that minimizes the loss.\n",
        "Calculus gives us a way to calculate which direction to adjust our weights in, calculating the gradients of the above. We adjust the weights by taking the gradients and multi[plying them by a small learning rate. We then contiously iterate until we reach the lowest point\n"
      ]
    },
    {
      "cell_type": "markdown",
      "metadata": {
        "id": "akLA2Ylaif5c"
      },
      "source": [
        "All the above steps can be transposed and applied to the mnist dataset except the loss function. So lets now build a loss function for our mnsit dataset and apply the seven steps"
      ]
    },
    {
      "cell_type": "markdown",
      "metadata": {
        "id": "9ywSbVJdif5c"
      },
      "source": [
        "##MNIST LOSS FUNCTION"
      ]
    },
    {
      "cell_type": "markdown",
      "metadata": {
        "id": "X42NOySKif5d"
      },
      "source": [
        "We already have the independent variables, x which are the images themselves. We concatenate them into a single tensor and also change them from a list of matrices to a list of vectors, we do this using .view() a PyTorch method thay changes the shape of a tensor without changing its content. -1 is a special paramter for -1 that tells PyTorch to make this axis as big as neccesary to fit all the data."
      ]
    },
    {
      "cell_type": "code",
      "execution_count": null,
      "metadata": {
        "id": "zmuf-tGXif5d"
      },
      "outputs": [],
      "source": [
        "train_x = torch.cat([stacked_threes, stacked_sevens]).view(-1,28*28)"
      ]
    },
    {
      "cell_type": "code",
      "execution_count": null,
      "metadata": {
        "id": "-CdHA_Vxif5e"
      },
      "outputs": [],
      "source": [
        "#train_x = torch.cat([all digits]).view(-1,28*28)"
      ]
    },
    {
      "cell_type": "markdown",
      "metadata": {
        "id": "H1VezUvsif5f"
      },
      "source": [
        "We also need labels for our dataset, in this case we use 1 for the 3's and 0 for the 7's."
      ]
    },
    {
      "cell_type": "code",
      "execution_count": null,
      "metadata": {
        "id": "Yzh92xQkif5f"
      },
      "outputs": [],
      "source": [
        "#unsqueeze(1) adds an extra dimension of 1 to the train_y\n",
        "train_y = tensor([1]*len(threes) + [0]*len(sevens)).unsqueeze(1)"
      ]
    },
    {
      "cell_type": "code",
      "execution_count": null,
      "metadata": {
        "id": "N21pViKIif5f"
      },
      "outputs": [],
      "source": [
        "#train_y = tensor([0]*len(zeros) + [1]*len(ones) + [2]*len(twos)).unsqueeze(1)"
      ]
    },
    {
      "cell_type": "code",
      "execution_count": null,
      "metadata": {
        "id": "9XtibZDRif5g",
        "outputId": "59377901-739d-4256-96d0-d1ab03310e8c"
      },
      "outputs": [
        {
          "data": {
            "text/plain": [
              "(torch.Size([12396, 784]), torch.Size([12396, 1]))"
            ]
          },
          "execution_count": 70,
          "metadata": {},
          "output_type": "execute_result"
        }
      ],
      "source": [
        "train_x.shape,train_y.shape"
      ]
    },
    {
      "cell_type": "markdown",
      "metadata": {
        "id": "-EiUWKQrif5g"
      },
      "source": [
        "A DataSet is supposed to return a tuple of (x,y) when indexed. We can use the zip function which when combined with the list function provides a simple way to return this."
      ]
    },
    {
      "cell_type": "code",
      "execution_count": null,
      "metadata": {
        "id": "Jlr5h1Czif5g",
        "outputId": "f50d04b6-a4e5-4d0b-ce8f-67f01052b9e1"
      },
      "outputs": [
        {
          "data": {
            "text/plain": [
              "(torch.Size([784]), tensor([1]))"
            ]
          },
          "execution_count": 74,
          "metadata": {},
          "output_type": "execute_result"
        }
      ],
      "source": [
        "dset = list(zip(train_x,train_y))\n",
        "x,y = dset[0]\n",
        "x.shape,y"
      ]
    },
    {
      "cell_type": "code",
      "execution_count": null,
      "metadata": {
        "id": "nDoW7l-Xif5h",
        "outputId": "d25b56ea-4d7b-4db8-ee89-40966d0ecdc8"
      },
      "outputs": [
        {
          "data": {
            "image/jpeg": "[encoded data removed]",
            "image/png": "[encoded data removed]",
            "text/plain": [
              "<PIL.PngImagePlugin.PngImageFile image mode=L size=28x28>"
            ]
          },
          "execution_count": 78,
          "metadata": {},
          "output_type": "execute_result"
        }
      ],
      "source": [
        "Image.open(valid_threes[1])"
      ]
    },
    {
      "cell_type": "code",
      "execution_count": null,
      "metadata": {
        "id": "EA8lUHk0if5h"
      },
      "outputs": [],
      "source": [
        "valid_x = torch.cat([valid_stacked_threes, valid_stacked_sevens]).view(-1,28*28)\n",
        "valid_y = tensor([1]*len(valid_threes) + [0]*len(valid_sevens)).unsqueeze(1)\n",
        "dset = list(zip(valid_x,valid_y))\n"
      ]
    },
    {
      "cell_type": "markdown",
      "metadata": {
        "id": "ocJ4mBNkif5i"
      },
      "source": [
        "Sevens steps"
      ]
    },
    {
      "cell_type": "code",
      "execution_count": null,
      "metadata": {
        "id": "Eaa2RwOeif5i"
      },
      "outputs": [],
      "source": [
        "#initiliaze parameters\n",
        "def init_params(size,std=1.0):\n",
        "    return (torch.randn(size)*std).requires_grad_()"
      ]
    },
    {
      "cell_type": "markdown",
      "metadata": {
        "id": "OnbRnfTZif5i"
      },
      "source": [
        "#nb : what does std do in init_params function, it provides more variance in the parameters though this does nothing as it is a 1.\n",
        "\n",
        "#https://forums.fast.ai/t/mnist-loss-function-and-prediciton/81798/4\n",
        "\n",
        "also explains why we use weights.T which transposes the weights from a 784 * 1 to a 1 * 784 when calculating a prediction"
      ]
    },
    {
      "cell_type": "code",
      "execution_count": null,
      "metadata": {
        "id": "xv7BPsVHif5j"
      },
      "outputs": [],
      "source": [
        "weights = init_params(28*28,1)"
      ]
    },
    {
      "cell_type": "code",
      "execution_count": null,
      "metadata": {
        "id": "6FoE5vPWif5j"
      },
      "outputs": [],
      "source": [
        "weights"
      ]
    },
    {
      "cell_type": "markdown",
      "metadata": {
        "id": "qEvFeQJSif5k"
      },
      "source": [
        "The function weights * pixels wont be flexible enpough as it always returns 0 when the pixel is 0.The formula for a line is y = mx + b meaning we shall still need a b.we initilize it to a random number too."
      ]
    },
    {
      "cell_type": "code",
      "execution_count": null,
      "metadata": {
        "id": "-TE4-_dkif5k",
        "outputId": "f0e5aec2-fcca-4190-e97d-63aabdadac1e"
      },
      "outputs": [
        {
          "data": {
            "text/plain": [
              "tensor([0.6653], requires_grad=True)"
            ]
          },
          "execution_count": 84,
          "metadata": {},
          "output_type": "execute_result"
        }
      ],
      "source": [
        "bias = init_params(1)\n",
        "bias"
      ]
    },
    {
      "cell_type": "markdown",
      "metadata": {
        "id": "9mh5MsgTif5k"
      },
      "source": [
        "In a neural network the w represents the weights and the b represents the bias and together the weights and biases represent the parameters of a neural network."
      ]
    },
    {
      "cell_type": "code",
      "execution_count": null,
      "metadata": {
        "id": "EZ-wXoYdif5l",
        "outputId": "6b9c3d47-10e4-4d9b-8f4c-00219aaa4414"
      },
      "outputs": [
        {
          "name": "stderr",
          "output_type": "stream",
          "text": [
            "/tmp/ipykernel_550/1078514746.py:2: UserWarning: The use of `x.T` on tensors of dimension other than 2 to reverse their shape is deprecated and it will throw an error in a future release. Consider `x.mT` to transpose batches of matrices or `x.permute(*torch.arange(x.ndim - 1, -1, -1))` to reverse the dimensions of a tensor. (Triggered internally at /home/conda/feedstock_root/build_artifacts/pytorch-recipe_1696859728060/work/aten/src/ATen/native/TensorShape.cpp:3571.)\n",
            "  (train_x[0]*weights.T).sum() + bias\n"
          ]
        },
        {
          "data": {
            "text/plain": [
              "tensor([20.3636], grad_fn=<AddBackward0>)"
            ]
          },
          "execution_count": 87,
          "metadata": {},
          "output_type": "execute_result"
        }
      ],
      "source": [
        "#prediction for 1 image\n",
        "pred = (train_x[0]*weights.T).sum() + bias\n",
        "pred"
      ]
    },
    {
      "cell_type": "markdown",
      "metadata": {
        "id": "IH1ZI6UPif5l"
      },
      "source": [
        "NB: .T seems to be depreceated\n",
        "/tmp/ipykernel_550/1078514746.py:2:\n",
        "\n",
        " UserWarning: The use of `x.T` on tensors of dimension other than 2 to reverse their shape is deprecated and it will throw an error in a future release.\n",
        "\n",
        "Consider `x.mT` to transpose batches of matrices\n",
        "\n",
        "or `x.permute(*torch.arange(x.ndim - 1, -1, -1))` to reverse the dimensions of a tensor.\n",
        "\n",
        "(Triggered internally at /home/conda/feedstock_root/build_artifacts/pytorch-recipe_1696859728060/work/aten/src/ATen/native/TensorShape.cpp:3571.)\n",
        "  (train_x[0]*weights.T).sum( + bias\n",
        "\n"
      ]
    },
    {
      "cell_type": "markdown",
      "metadata": {
        "id": "PIt-OeMTif5m"
      },
      "source": [
        "While we could use a python for loop to calculate the predictions for each image, python for loops dont run on GPU and because python is also a slow language for loops in general, we need to represent as much of the calculation/computation in a model as possible using higher level functions as possible.\n",
        "\n",
        "We use matrix multiplication which is represented in python as an @ operator as shown below."
      ]
    },
    {
      "cell_type": "code",
      "execution_count": null,
      "metadata": {
        "id": "LxKkZKlHif5n"
      },
      "outputs": [],
      "source": [
        "#a function to return predictions for all images\n",
        "def linear1(xb):\n",
        "    return xb@weights + bias"
      ]
    },
    {
      "cell_type": "code",
      "execution_count": null,
      "metadata": {
        "id": "VuUrsPVDif5n",
        "outputId": "7b1e8058-3949-4ab5-c519-31a2a1fac5dc"
      },
      "outputs": [
        {
          "data": {
            "text/plain": [
              "tensor([20.3636, 11.2542, 11.3436,  ..., 11.0615,  4.1023, 13.1092], grad_fn=<AddBackward0>)"
            ]
          },
          "execution_count": 91,
          "metadata": {},
          "output_type": "execute_result"
        }
      ],
      "source": [
        "preds = linear1(train_x)\n",
        "preds"
      ]
    },
    {
      "cell_type": "code",
      "execution_count": null,
      "metadata": {
        "id": "V87-MPWTif5o",
        "outputId": "d1241bd7-9e90-450d-9ae5-9b069f925881"
      },
      "outputs": [
        {
          "data": {
            "text/plain": [
              "torch.Size([12396])"
            ]
          },
          "execution_count": 92,
          "metadata": {},
          "output_type": "execute_result"
        }
      ],
      "source": [
        "preds.shape"
      ]
    },
    {
      "cell_type": "markdown",
      "metadata": {
        "id": "26jJE_RVif5o"
      },
      "source": [
        "This equation batch@weights + bias is one of the two fundamental equations in deep learning with the other being the activation function which we shall see in a bit.\n",
        "\n",
        "Lets check our accuracy.To decide whether the numbers are a 3 or 7, we just check whether its greater than 0,and our accuracy for each image is calculated using broadcasting (no loops) as shown below"
      ]
    },
    {
      "cell_type": "code",
      "execution_count": null,
      "metadata": {
        "id": "EOHYCCGQif5p",
        "outputId": "bafb38f3-c340-40e6-ecee-71fd4fbccd22"
      },
      "outputs": [
        {
          "data": {
            "text/plain": [
              "tensor([[ True,  True,  True,  ...,  True,  True,  True],\n",
              "        [ True,  True,  True,  ...,  True,  True,  True],\n",
              "        [ True,  True,  True,  ...,  True,  True,  True],\n",
              "        ...,\n",
              "        [False, False, False,  ..., False, False, False],\n",
              "        [False, False, False,  ..., False, False, False],\n",
              "        [False, False, False,  ..., False, False, False]])"
            ]
          },
          "execution_count": 93,
          "metadata": {},
          "output_type": "execute_result"
        }
      ],
      "source": [
        "corrects = (preds > 0.0 ).float() == train_y\n",
        "corrects"
      ]
    },
    {
      "cell_type": "code",
      "execution_count": null,
      "metadata": {
        "id": "t00-q8b_if5q",
        "outputId": "3179b4eb-89bb-434b-c0bc-e62642682a0f"
      },
      "outputs": [
        {
          "data": {
            "text/plain": [
              "torch.Size([12396, 12396])"
            ]
          },
          "execution_count": 94,
          "metadata": {},
          "output_type": "execute_result"
        }
      ],
      "source": [
        "corrects.shape"
      ]
    },
    {
      "cell_type": "code",
      "execution_count": null,
      "metadata": {
        "id": "QpkOBa_Kif5q"
      },
      "outputs": [],
      "source": [
        "corrects.float().mean().item()"
      ]
    },
    {
      "cell_type": "code",
      "execution_count": null,
      "metadata": {
        "id": "JXhiRgE5if5r"
      },
      "outputs": [],
      "source": [
        "#change one weight and calucalate the new accuracy\n",
        "#torch.no_grad tells pytorch not to calculate gradients\n",
        "with torch.no_grad():\n",
        "    weights[0] *= 1.0001\n",
        "    preds = linear1(train_x)\n",
        "    (preds>0.0).float() == train_y).float().mean().item()"
      ]
    },
    {
      "cell_type": "markdown",
      "metadata": {
        "id": "HpRd86tQif5r"
      },
      "source": [
        "To improve our model using SGD, we need to calculate gradients which means we need a loss fucntion that represents hpw good our model is.The gradients are a measure of how the loss function changes with respect to the change in weights, so we definetly need a loss function.\n",
        "\n",
        "One option would be to use accuracy, which would get the prediction for one image for every image in the dataset, calcualte the avergae accuracy over the whole dataset and then calcualte the gradients for each weight of an image with respect to the overall accuracy.\n",
        "\n",
        "Accuracy doesnt repond to small changes in the weights hence it wont be useful as a loss function."
      ]
    },
    {
      "cell_type": "markdown",
      "metadata": {
        "id": "pYsjBdcwif5s"
      },
      "source": [
        "The gradient of a function is its slope/stepness i.e. rise over run, which is how much the value of the function goes up or down divided by how much the input changed.(y_new - y_old)/(x_new - x_old).\n",
        "\n",
        "This gives us a good approximation of the gradients when x_new is very similar to x_old, meaning their difference is very small. But accuracy only changes when a prediction changes from 3 to 7 or vice versa. The only problem is a small change in weights from x_old to x_new isnt likely to cause any prediction change, so y_new- y_old will almost always be 0, making the gradient 0 which is not a number a model can learn from.\n",
        "Basically a small change in weights doesnt result in a change in prediction, hence the gradient at that point will almost alwaysa be zero until the precition changes.This number 0 doesnt teach the model anything.\n",
        "\n",
        "We need a loss function which when our weights result in slighty better predictions gives us a slightly better loss.In this case if the answer is a 3, the answer is a little higher and if the answer is a 7, the loss is a little lower.\n",
        "\n",
        "Lets write this function which takes in the predictions as input. Lets make an argument prds of values between 0 and 1, where each value is the prediction that a number is a 3.\n",
        "Lets make another argument trgts which are the targets between 0 and 1 which tells whether an image is a 3 or not.\n",
        "A loss function calculates the difference between the predicted images and the targets.\n",
        "\n",
        "\"calculate the loss, get gradients, update params based on grad, repeat\".\n",
        "\n",
        "For instance, we might have three numbers which are 3, 7, 3.We pass these to the model which returns prediction of (0.9) for the first where the model predicted with high confidence that the value was a 3, the second value is a (0.4) where the model was fairly confident the number was a 7, and with fair confidence but incorrectly that the last was a 7 (0.2). Since 0.9, 0.4 and 0.2 are the prediction, we pass these to the model as input."
      ]
    },
    {
      "cell_type": "code",
      "execution_count": null,
      "metadata": {
        "id": "VY82RHu3if5s"
      },
      "outputs": [],
      "source": [
        "trgts = tensor([1,0,1])\n",
        "prds = tensor([0.9,0.4,0.2])"
      ]
    },
    {
      "cell_type": "code",
      "execution_count": null,
      "metadata": {
        "id": "QYSwqRXbif5t"
      },
      "outputs": [],
      "source": [
        "def mnist_loss(predictions, targets):\n",
        "    return torch.where(targets == 1, 1-predictions, predictions).mean()"
      ]
    },
    {
      "cell_type": "markdown",
      "metadata": {
        "id": "9D-6XoWsif5t"
      },
      "source": [
        "This calculates the distance between the target and 1 if it is supposed to be a one and the distance to 0, if its is supposed to be a 0. We then take the mean of those distances.\n",
        "\n",
        "Lets try it on our prds and tgts"
      ]
    },
    {
      "cell_type": "code",
      "execution_count": null,
      "metadata": {
        "id": "Zi4UXvfRif5u",
        "outputId": "da83a14d-7dc4-4de6-9ec0-2e1077ae8925"
      },
      "outputs": [
        {
          "data": {
            "text/plain": [
              "tensor([0.1000, 0.4000, 0.8000])"
            ]
          },
          "execution_count": 16,
          "metadata": {},
          "output_type": "execute_result"
        }
      ],
      "source": [
        "torch.where(trgts == 1, 1-prds, prds)"
      ]
    },
    {
      "cell_type": "code",
      "execution_count": null,
      "metadata": {
        "id": "0pEen4qZif5v",
        "outputId": "58926d2f-556c-4c34-9163-9e601f7458ab"
      },
      "outputs": [
        {
          "data": {
            "text/plain": [
              "tensor(0.4333)"
            ]
          },
          "execution_count": 26,
          "metadata": {},
          "output_type": "execute_result"
        }
      ],
      "source": [
        "mnist_loss(tensor([0.9,0.4,0.2]),trgts)"
      ]
    },
    {
      "cell_type": "code",
      "execution_count": null,
      "metadata": {
        "id": "TkSCTCcFif5w",
        "outputId": "4e25bdd4-0254-404f-fbc3-cd0d32be5d45"
      },
      "outputs": [
        {
          "data": {
            "text/plain": [
              "tensor(0.4333)"
            ]
          },
          "execution_count": 27,
          "metadata": {},
          "output_type": "execute_result"
        }
      ],
      "source": [
        "mnist_loss(prds,trgts)"
      ]
    },
    {
      "cell_type": "markdown",
      "metadata": {
        "id": "1EVZdpD4if5w"
      },
      "source": [
        "This function returns a lower number when the predictions are more accurate, when accurate predictions are more confidentand when inaccurate predicitons are less confident.We take the mean to give us a scalar for the final loss.With loss, a low number is always assuemned to be better i.e if we changed our last p[rediction from 0.2 to 0.8 inidcating high confidence in the number being a three our loss goes down as shown below."
      ]
    },
    {
      "cell_type": "code",
      "execution_count": null,
      "metadata": {
        "id": "ywkFdqHxif5x",
        "outputId": "a04799e0-cfd3-4fae-d0a5-142b58ec6166"
      },
      "outputs": [
        {
          "data": {
            "text/plain": [
              "tensor(0.2333)"
            ]
          },
          "execution_count": 28,
          "metadata": {},
          "output_type": "execute_result"
        }
      ],
      "source": [
        "mnist_loss(tensor([0.9,0.4,0.8]),trgts)"
      ]
    },
    {
      "cell_type": "markdown",
      "metadata": {
        "id": "icPpSXMqif5y"
      },
      "source": [
        "Our mnist loss function currently assumes that the preds are between 0 and 1. we need to ensure that is true.\n",
        "\n",
        "Luckily enough, there is a function that does just that."
      ]
    },
    {
      "cell_type": "markdown",
      "metadata": {
        "id": "bWMSXfYeif5y"
      },
      "source": [
        "Sigmoid\n",
        "\n",
        "The sigmoid function always outputs a number between 0 and 1.It takes in any value as input and squishes it into a value between 0 and 1.\n",
        "\n",
        "It is defined as follows"
      ]
    },
    {
      "cell_type": "code",
      "execution_count": null,
      "metadata": {
        "id": "BX4DUhyCif5z"
      },
      "outputs": [],
      "source": [
        "def sigmoid(x):\n",
        "    return 1/(1+torch.exp(-x))"
      ]
    },
    {
      "cell_type": "markdown",
      "metadata": {
        "id": "No4mVlwHif5z"
      },
      "source": [
        "Luckily enough PyTorch defines a sigmoid function for us, so we dont need to define one."
      ]
    },
    {
      "cell_type": "code",
      "execution_count": null,
      "metadata": {
        "id": "9i0GjoZbif50",
        "outputId": "ee1ed8d3-326a-4278-d7a3-aca733ee6878"
      },
      "outputs": [
        {
          "name": "stdout",
          "output_type": "stream",
          "text": [
            "Help on function plot_function in module fastbook:\n",
            "\n",
            "plot_function(f, tx=None, ty=None, title=None, min=-2, max=2, figsize=(6, 4))\n",
            "\n"
          ]
        }
      ],
      "source": [
        "help(plot_function)"
      ]
    },
    {
      "cell_type": "code",
      "execution_count": null,
      "metadata": {
        "id": "Dpr8Weerif51",
        "outputId": "2b8937b0-d684-4e4d-a8c8-6a81b29a7d53"
      },
      "outputs": [
        {
          "data": {
            "image/png": "[encoded data removed]",
            "text/plain": [
              "<Figure size 600x400 with 1 Axes>"
            ]
          },
          "metadata": {},
          "output_type": "display_data"
        }
      ],
      "source": [
        "plot_function(torch.sigmoid, title='Sigmoid', min=-4, max=4)"
      ]
    },
    {
      "cell_type": "markdown",
      "metadata": {
        "id": "NxlpxI_Tif52"
      },
      "source": [
        "As we can see the above function is a smooth curve that goes up, which is the type of function that gives us meaningful derivatives.This means that the function responds to small changes in the gradients.\n",
        "\n",
        "With this we update our mnist function as below"
      ]
    },
    {
      "cell_type": "code",
      "execution_count": null,
      "metadata": {
        "id": "qU7o4E7yif6K"
      },
      "outputs": [],
      "source": [
        "#calculates distance from 1 if target is 1,and distance from 0 if target is 0.\n",
        "def mnist_loss(predictions,targets):\n",
        "    predictions = prediction.sigmoid()\n",
        "    return torch.where(target == 1, 1 - predictions, predictions)"
      ]
    },
    {
      "cell_type": "markdown",
      "metadata": {
        "id": "-FlR7l4Uif6R"
      },
      "source": [
        "With this our loss function will work even the predictions are not between 0 and 1. All that is required is that higher values of predictions correspond to s higher confidence an image is a 3.\n",
        "\n",
        "We already have a metric so the question would be why did we define a loss function ?\n",
        "\n",
        "A metric is used to drive human understanding of how our model is actually performing while a loss function is to drive machine learning.To drive automated learning we need a function which returns meaningful derivatives and responds to small changes in the confidence level.\n",
        "This means that sometimes the loss function is not exaclty an approximation of what we want to achieve, but a compromise between the real goal and a function that can be opimtimized with gradients.\n",
        "\n",
        "The loss function is calculated for every item in the dataset and the end of our epoch the loss values are averaged to give us a single scalar value of the mean loss for each epoch.\n",
        "\n",
        "Metrics on the other hand show us how a model is really doing, we usually look at this  metric when judging the performance of a model."
      ]
    },
    {
      "cell_type": "markdown",
      "metadata": {
        "id": "oiKLS1v7if6S"
      },
      "source": [
        "SGD AND MINI-BATCHES"
      ]
    },
    {
      "cell_type": "markdown",
      "metadata": {
        "id": "91cGEseQif6T"
      },
      "source": [
        "The next step is to change the weights based of the gradients and learning rate, This is called the optimization step.\n",
        "\n",
        "While taking the optimization step, we take the loss over a couple of data items in the dataset.Taking the loss for all the items in the dataset will take long though yield more accurate gradients while taking the loss for one item will result in unstable gradients as calculating the loss on one item does not yield enough information to be helpful i.e. we would be updating the weights in relation to how those weights improve the perfromance of that one item."
      ]
    },
    {
      "cell_type": "markdown",
      "metadata": {
        "id": "Dgjpsemsif6U"
      },
      "source": [
        "A compromise would be to take the average loss for a couple of data items in the dataset at a time, this is called the mini batch.The number of data items in a batch is called the batch size.\n",
        "\n",
        "A large mini batch learns more stable and useful gradients but takes longer to converge and you end up having less mini batches per epoch. Deciding on a good batch size is one of the decisions you make as a deep learning practioneer when building models.\n",
        "\n",
        "Another good reason we want to use mini batches as opposed to using one data item is that in real-world we mostly used accelerated compute such as GPU's which work very well when provided with a lot of work to do, though if you provide too much you will run out of memory."
      ]
    },
    {
      "cell_type": "markdown",
      "metadata": {
        "id": "orjTLKAPif6U"
      },
      "source": [
        "random shuffle"
      ]
    },
    {
      "cell_type": "markdown",
      "metadata": {
        "id": "pTHxA9Nvif6U"
      },
      "source": [
        "In practice we get better generalization if we can vary things abit during training as shown in the antelope classifier blog.\n",
        "\n",
        "Instead of enumerating our dataset in order for every epoch, We can vary the items by randomly shuffling the items for every epoch before we create a mini batch.PyTorch and fastai provide a class DataLoader that does the shuffling and mini batch collation for us.\n",
        "\n",
        "A DataLoader takes any python collection such as a list etc. and turns it into an iterator over mini batches as shown below"
      ]
    },
    {
      "cell_type": "code",
      "execution_count": null,
      "metadata": {
        "id": "ngxdSJUPif6V"
      },
      "outputs": [],
      "source": [
        "coll = range(15)"
      ]
    },
    {
      "cell_type": "code",
      "execution_count": null,
      "metadata": {
        "id": "P1Gzmtdzif6V",
        "outputId": "4e545b48-e58d-4448-86cf-d18859d4f703"
      },
      "outputs": [
        {
          "data": {
            "text/plain": [
              "[0, 1, 2, 3, 4, 5, 6, 7, 8, 9, 10, 11, 12, 13, 14]"
            ]
          },
          "execution_count": 3,
          "metadata": {},
          "output_type": "execute_result"
        }
      ],
      "source": [
        "list(coll)"
      ]
    },
    {
      "cell_type": "code",
      "execution_count": null,
      "metadata": {
        "id": "7Af8Yb87if6W"
      },
      "outputs": [],
      "source": [
        "dl = DataLoader(coll, batch_size = 3, shuffle=True)\n",
        "list(dl)"
      ]
    },
    {
      "cell_type": "markdown",
      "metadata": {
        "id": "VJfCjlXZif6X"
      },
      "source": [
        "For training a model, we dont just want any collection but a collection containing the independent and dependent variables (inputs and targets). A collection containing the independent and dependent variables in PyTorch is known as a dataset.  \n",
        "This is why when indexed it returns a tuple of (x,y) as shown in the initial definition for dset.\n",
        "\n",
        "When we pass a dataset to a DataLoader, we gain back a mini batch contaning a tuple of tensors containing batches of independent and dependent variables.\n",
        "\n",
        "With this, lets write  training loop using SGD."
      ]
    },
    {
      "cell_type": "markdown",
      "metadata": {
        "id": "50zv8e60if6c"
      },
      "source": [
        "Putting it all together\n",
        "\n",
        "Here we fully implement our 7 step process that we saw in gradient descent.\n",
        "Our process shall be implemented as something like this"
      ]
    },
    {
      "cell_type": "code",
      "execution_count": null,
      "metadata": {
        "id": "4UFt3ldwif6d"
      },
      "outputs": [],
      "source": [
        "for x,y in dl:\n",
        "    prediction = model(x)\n",
        "    loss = loss_function(prediction, y)\n",
        "    loss.backward()\n",
        "    paramters -= parameters.grad * lr"
      ]
    },
    {
      "cell_type": "markdown",
      "metadata": {
        "id": "L79Nus_gif6f"
      },
      "source": [
        "First lets redo our 7 steps"
      ]
    },
    {
      "cell_type": "code",
      "execution_count": null,
      "metadata": {
        "id": "iIGAgUmlif6f",
        "outputId": "499c808b-0a6c-4f21-8f72-eb99bcde9b05"
      },
      "outputs": [
        {
          "name": "stdout",
          "output_type": "stream",
          "text": [
            "Help on function init_params in module __main__:\n",
            "\n",
            "init_params(size, std=1.0)\n",
            "    #initiliaze parameters\n",
            "\n"
          ]
        }
      ],
      "source": [
        "help(init_params)"
      ]
    },
    {
      "cell_type": "code",
      "execution_count": null,
      "metadata": {
        "id": "O1gYMycIif6g"
      },
      "outputs": [],
      "source": [
        "#reinitialize params\n",
        "weights = init_params(28*28,1)"
      ]
    },
    {
      "cell_type": "code",
      "execution_count": null,
      "metadata": {
        "id": "-r5tMC4rif6g"
      },
      "outputs": [],
      "source": [
        "bias = init_params(1)"
      ]
    },
    {
      "cell_type": "code",
      "execution_count": null,
      "metadata": {
        "id": "MNkMA3THif6h"
      },
      "outputs": [],
      "source": [
        "dset = list(zip(train_x,train_y))"
      ]
    },
    {
      "cell_type": "code",
      "execution_count": null,
      "metadata": {
        "id": "8A6ZsVZVif6i"
      },
      "outputs": [],
      "source": [
        "dl = DataLoader(dset, batch_size = 256, shuffle = True)\n",
        "#what does first(dl) do\n",
        "xb, yb = first(dl)\n",
        "xb.shape, yb.shape"
      ]
    },
    {
      "cell_type": "code",
      "execution_count": null,
      "metadata": {
        "id": "vMX7OGOQif6i"
      },
      "outputs": [],
      "source": [
        "valid_dl = DataLoader(list(zip(valid_x, valid_y)), batch_size= 256, shuffle=True)"
      ]
    },
    {
      "cell_type": "code",
      "execution_count": null,
      "metadata": {
        "id": "Whhi_Oprif6j"
      },
      "outputs": [],
      "source": [
        "#Mini batch\n",
        "batch = train_x[:4]\n",
        "batch"
      ]
    },
    {
      "cell_type": "code",
      "execution_count": null,
      "metadata": {
        "id": "BuHNHyWTif6j"
      },
      "outputs": [],
      "source": [
        "valid_batch = valid_x[:4]\n",
        "valid_batch"
      ]
    },
    {
      "cell_type": "code",
      "execution_count": null,
      "metadata": {
        "id": "nC8zy8NGif6j"
      },
      "outputs": [],
      "source": [
        "#linear1\n",
        "def linear1(xb):\n",
        "    return xb@weights + bias"
      ]
    },
    {
      "cell_type": "code",
      "execution_count": null,
      "metadata": {
        "id": "wYQGT5XNif6k"
      },
      "outputs": [],
      "source": [
        "#make predictions\n",
        "preds = linear1(batch)\n",
        "preds"
      ]
    },
    {
      "cell_type": "code",
      "execution_count": null,
      "metadata": {
        "id": "Svi13EEGif6k"
      },
      "outputs": [],
      "source": [
        "#calculate the loss\n",
        "#valid_batch = train_y[:4]\n",
        "#loss = mnist_loss(preds, valid_batch)\n",
        "loss = mnist_loss(preds, train_y[:4])"
      ]
    },
    {
      "cell_type": "code",
      "execution_count": null,
      "metadata": {
        "id": "oj4DHCLMif6l"
      },
      "outputs": [],
      "source": [
        "loss.backward()"
      ]
    },
    {
      "cell_type": "code",
      "execution_count": null,
      "metadata": {
        "id": "pmVbVbNpif6m"
      },
      "outputs": [],
      "source": [
        "weights.grad.shape, weights.grad.mean(), bias.grad"
      ]
    },
    {
      "cell_type": "markdown",
      "metadata": {
        "id": "r9AQHD46if6n"
      },
      "source": [
        "Lets put what we have done so far in a single function"
      ]
    },
    {
      "cell_type": "code",
      "execution_count": null,
      "metadata": {
        "id": "IV3CYwV7if6o"
      },
      "outputs": [],
      "source": [
        "def calc_grad(xb,yb,model):\n",
        "    preds = model(xb)\n",
        "    loss = mnist_loss(preds,yb)\n",
        "    loss.backward"
      ]
    },
    {
      "cell_type": "code",
      "execution_count": null,
      "metadata": {
        "id": "SVN5ZfcAif6p"
      },
      "outputs": [],
      "source": [
        "#test out calc_grad\n",
        "calc_grad(batch,valid_batch,linear1)\n",
        "weights.grad.mean(),bias.grad"
      ]
    },
    {
      "cell_type": "markdown",
      "metadata": {
        "id": "najSJFjdif6q"
      },
      "source": [
        "We test the function a second time"
      ]
    },
    {
      "cell_type": "code",
      "execution_count": null,
      "metadata": {
        "id": "f22JcSuQif6s"
      },
      "outputs": [],
      "source": [
        "#test out calc_grad again\n",
        "calc_grad(batch,valid_batch,linear1)\n",
        "weights.grad.mean(),bias.grad"
      ]
    },
    {
      "cell_type": "markdown",
      "metadata": {
        "id": "GPIpFEFyif6u"
      },
      "source": [
        "When calculating gradients,we see that loss.backward() actually adds the gradients computed to the gradients previously computed and stored. For this reason we always set the gradients to 0 whenever we calculate gradients.\n",
        "\n",
        "We add .zero() to weights.grad and bias.grad (the parameters gradients) which is an inplace operation that sets all elements of the tensor to 0.\n",
        "\n",
        "We now have to make a step where we update the weights and biases based on the gradients and the learning rate. While doing this, we have to tell PyTorch not to calculate the gradient at this point too. We do that by assigning our parameters a data attribute which tells PyTorch not to take gradients at that step.\n",
        "\n",
        "Below is our basic training loop"
      ]
    },
    {
      "cell_type": "code",
      "execution_count": null,
      "metadata": {
        "id": "EOzj2EiXif6u"
      },
      "outputs": [],
      "source": [
        "def train_epoch(model,lr,params):\n",
        "    for xb,yb in dl:\n",
        "        calc_grad(xb,yb,model)\n",
        "        for p in params:\n",
        "            p.data -= p.grad * lr\n",
        "            p.data.zero_()"
      ]
    },
    {
      "cell_type": "markdown",
      "metadata": {
        "id": "TRHlN8U-if6w"
      },
      "source": [
        "Accuracy check\n",
        "\n",
        "To check whether a number is a 3 or a 7, we can check whether the predixtion is greater than 0.\n",
        "\n",
        "Our accuracy for each item is calculated"
      ]
    },
    {
      "cell_type": "code",
      "execution_count": null,
      "metadata": {
        "id": "DSK8BR0yif6y"
      },
      "outputs": [],
      "source": [
        "(preds>0.0).float() == train_y[:4]"
      ]
    },
    {
      "cell_type": "markdown",
      "metadata": {
        "id": "TeXHI27kif6z"
      },
      "source": [
        "This gives us a function to calculate accuracyas defined below"
      ]
    },
    {
      "cell_type": "code",
      "execution_count": null,
      "metadata": {
        "id": "uEj9wWjTif63"
      },
      "outputs": [],
      "source": [
        "def batch_accuracy(xb,yb):\n",
        "    preds = xb.sigmoid()\n",
        "    corrects =(preds>0.5) == yb\n",
        "    return corrects.float().mean()"
      ]
    },
    {
      "cell_type": "code",
      "execution_count": null,
      "metadata": {
        "id": "OaP7c606if63"
      },
      "outputs": [],
      "source": [
        "batch_accuracy(linear1(batch),train_y[:4])"
      ]
    },
    {
      "cell_type": "markdown",
      "metadata": {
        "id": "CCMAGec0if64"
      },
      "source": [
        "Put all batches together"
      ]
    },
    {
      "cell_type": "code",
      "execution_count": null,
      "metadata": {
        "id": "eE-W6BMfif64"
      },
      "outputs": [],
      "source": [
        "def validate_epoch(model):\n",
        "    accs = [batch_accuracy(model(xb),yb)] for xb,yb in dl]\n",
        "    return round(torch.stack(accs).mean().item(),4)"
      ]
    },
    {
      "cell_type": "code",
      "execution_count": null,
      "metadata": {
        "id": "QKsUCxF_if65"
      },
      "outputs": [],
      "source": [
        "validate_epoch(linear1)"
      ]
    },
    {
      "cell_type": "markdown",
      "metadata": {
        "id": "4VSxpN4_if7A"
      },
      "source": [
        "Lets put together all the above for one epoch"
      ]
    },
    {
      "cell_type": "code",
      "execution_count": null,
      "metadata": {
        "id": "VuODBGMnif7A"
      },
      "outputs": [],
      "source": [
        "#one epoch\n",
        "lr = 1\n",
        "params = weights, bias\n",
        "train_epoch(linear1,lr,params)\n",
        "validate_epoch(linear1)"
      ]
    },
    {
      "cell_type": "code",
      "execution_count": null,
      "metadata": {
        "id": "Hw44w3j5if7B"
      },
      "outputs": [],
      "source": [
        "#We do a couple more epochs\n",
        "for i in range(15):\n",
        "    train_epoch(linear1,lr,params)\n",
        "    print(validate_epoch(linear1), end='')"
      ]
    },
    {
      "cell_type": "markdown",
      "metadata": {
        "id": "0x7VmOyxif7C"
      },
      "source": [
        "So as we see our model above is enough to atleast match the pixle similarity model we created before and provides a general fpundation we can build on\n",
        "\n",
        "Our next step will be to create an object called an optimizer in PyTorch, which handles our SGD step for us."
      ]
    },
    {
      "cell_type": "markdown",
      "metadata": {
        "id": "83O7H7Q7if7C"
      },
      "source": [
        "Optimizer"
      ]
    },
    {
      "cell_type": "markdown",
      "metadata": {
        "id": "FZeJbQHyif7D"
      },
      "source": [
        "PyTorch provides some classes to make the above SGD step we took easier to implement.\n",
        "\n",
        "Our first step would be to replace the linear1 function with PyTorch's nn.linear module.\n",
        "A module is an object of a class that inherits from PyTorch's nn.Module class.\n",
        "\n",
        "Objects of this class behave identically to PyTorch functions in that you camn call them using standard parantheses and they will return activations  of a model."
      ]
    },
    {
      "cell_type": "markdown",
      "metadata": {
        "id": "p3IRDJLtif7D"
      },
      "source": [
        "nn.linear does the same things as our init_params and linear1 together containing both weioghts and biases in a single class.\n",
        "\n",
        "We replicate the model from above as shown below"
      ]
    },
    {
      "cell_type": "code",
      "execution_count": null,
      "metadata": {
        "id": "rZU_u5LAif7D"
      },
      "outputs": [],
      "source": [
        "#replace init_params definition and initialization\n",
        "#replace bias definition and initialization\n",
        "#replace linear1 definition\n",
        "linear_model = nn.linear((28*28),1)"
      ]
    },
    {
      "cell_type": "markdown",
      "metadata": {
        "id": "CV_3Om8Qif7E"
      },
      "source": [
        "Every PyTorch module knows what parameters it has that can be trained, they can be accesed through the paramters method"
      ]
    },
    {
      "cell_type": "code",
      "execution_count": null,
      "metadata": {
        "id": "KJRAxfScif7E"
      },
      "outputs": [],
      "source": [
        "w,b = linear_model.parameters()\n",
        "w.shape, b.shape"
      ]
    },
    {
      "cell_type": "markdown",
      "metadata": {
        "id": "rofuYzmRif7G"
      },
      "source": [
        "We can use this information to create an optimizer"
      ]
    },
    {
      "cell_type": "code",
      "execution_count": null,
      "metadata": {
        "id": "Tq7dFz5oif7G"
      },
      "outputs": [],
      "source": [
        "class BasicOptim:\n",
        "    def __init__(self,params,lr):\n",
        "        self.params, self.lr = list(params),lr\n",
        "\n",
        "    def step(self,*args,**kwargs):\n",
        "        for p in self.params:\n",
        "            p.data -=  p.grad.data * self.lr\n",
        "\n",
        "    def zero_grad(self,*args,**kwargs):\n",
        "        for p in self.params:\n",
        "            p.grad = None\n"
      ]
    },
    {
      "cell_type": "code",
      "execution_count": null,
      "metadata": {
        "id": "PTthwXAPif7H"
      },
      "outputs": [],
      "source": [
        "#We can now create our optmizer by passing in a model's paramters\n",
        "opt = BasicOptim(linear_model.paramters(),lr)"
      ]
    },
    {
      "cell_type": "code",
      "execution_count": null,
      "metadata": {
        "id": "JwlIN8eyif7I"
      },
      "outputs": [],
      "source": [
        "#We simplify our training loop\n",
        "#we remove lr and params from our model definition\n",
        "def train_epoch(model):\n",
        "    for xb,yb in dl:\n",
        "        calc_grad(xb,yb,model)\n",
        "        opt.step()\n",
        "        opt.zero_grad()\n"
      ]
    },
    {
      "cell_type": "code",
      "execution_count": null,
      "metadata": {
        "id": "lWM76B5Jif7J"
      },
      "outputs": [],
      "source": [
        "#our validation_epoch deosnt change\n",
        "validate_epoch(linear_model)"
      ]
    },
    {
      "cell_type": "code",
      "execution_count": null,
      "metadata": {
        "id": "AWEzGXT_if7K"
      },
      "outputs": [],
      "source": [
        "def train_model(model,epochs):\n",
        "    train_epoch(model)\n",
        "    print(validate_epoch(model), end='')"
      ]
    },
    {
      "cell_type": "code",
      "execution_count": null,
      "metadata": {
        "id": "eTIRQgDOif7L"
      },
      "outputs": [],
      "source": [
        "train_model(linear_model,20)"
      ]
    },
    {
      "cell_type": "markdown",
      "metadata": {
        "id": "cVWtoIJkif7L"
      },
      "source": [
        "fastai provides the SGD class which does the same thing as our BasicOptim"
      ]
    },
    {
      "cell_type": "code",
      "execution_count": null,
      "metadata": {
        "id": "oUWEfeuZif7M"
      },
      "outputs": [],
      "source": [
        "linear_model = nn.Linear(28*28,1)\n",
        "opt = SGD(linear_model.paramters(),lr)\n",
        "train_model(linear_model,20)"
      ]
    },
    {
      "cell_type": "markdown",
      "metadata": {
        "id": "5M6bDIU7if7N"
      },
      "source": [
        "fastai also provides Learner.fit which we can use as our train_model function defined above. To create a learner, we first need to create a DataLoaders, by passing in our training and validation DataLoader 's"
      ]
    },
    {
      "cell_type": "code",
      "execution_count": null,
      "metadata": {
        "id": "I3bAd13kif7N"
      },
      "outputs": [],
      "source": [
        "dls = DataLoaders(dl, valid_dl)"
      ]
    },
    {
      "cell_type": "markdown",
      "metadata": {
        "id": "oXkOILM2if7O"
      },
      "source": [
        "To create a learner without using a specific application such as vision_learner, we need to pass in all the elements we have created in this chapter i.e. the DataLoaders, The model, the optimization function which is passed the paramters, the loss function and ,metrics if any."
      ]
    },
    {
      "cell_type": "code",
      "execution_count": null,
      "metadata": {
        "id": "SKUaeCMnif7P"
      },
      "outputs": [],
      "source": [
        "learn = Learner.fit(dls, nn.linear((28*28),1), opt_func=SGD, loss_func = mnist_loss, metrics=batch_accuracy)"
      ]
    },
    {
      "cell_type": "code",
      "execution_count": null,
      "metadata": {
        "id": "KOVcfIWHif7Q"
      },
      "outputs": [],
      "source": [
        "#now we call fit\n",
        "learn.fit(10, lr=lr)"
      ]
    },
    {
      "cell_type": "markdown",
      "metadata": {
        "id": "AKoJSeN-if7R"
      },
      "source": [
        "PyTorch and fastai classes are convinently pre-packaged pieces of code that make work somewhat easier.\n",
        "\n",
        "With all these classes defined, we can then replace a linear model with a neural network."
      ]
    },
    {
      "cell_type": "markdown",
      "metadata": {
        "id": "fbQvt06Hif7T"
      },
      "source": [
        "Adding Non-linearilty"
      ]
    },
    {
      "cell_type": "markdown",
      "metadata": {
        "id": "YViiCBfzif7U"
      },
      "source": [
        "#remember since we have the general procedure for optimizing the parameters of a function, to turn the above declared learn.fit into one with neural nets instead of a linear model,we repalce the model (nn.linear(28*28,1)) with the simple_net declared below"
      ]
    },
    {
      "cell_type": "markdown",
      "metadata": {
        "id": "5CYtGzVeif7V"
      },
      "source": [
        "So far we have a general procedure for optimizing the parameters of a function, and we tried it out on a very simple function i.e. a linear classifier.This linear classifier is contrained in terms of what it can do, To make it abit more complex and handle more tasks, we need to add something non linear between two linear classifiers, this is what gives us a neural network.\n",
        "\n",
        "Below is the entire definition of a basic neural network"
      ]
    },
    {
      "cell_type": "code",
      "execution_count": null,
      "metadata": {
        "id": "Ftd9kaOhif7V"
      },
      "outputs": [],
      "source": [
        "def simple_net(xb):\n",
        "    res = xb@w1 + b1\n",
        "    res = res.max(tensor(0.0))\n",
        "    res = res@w2 + b2\n",
        "    return res"
      ]
    },
    {
      "cell_type": "markdown",
      "metadata": {
        "id": "blrV-DFoif7W"
      },
      "source": [
        "All, we have in our simple net is two linear classifiers with a max function between them.\n",
        "\n",
        "w1 and w2 are weight tensors while b1 and b2 are bias tensors, i.e. randomly initiazed paramters of a function just like we did previously.\n"
      ]
    },
    {
      "cell_type": "code",
      "execution_count": null,
      "metadata": {
        "id": "wjI7U1TMif7X"
      },
      "outputs": [],
      "source": [
        "w1 = init_params((28*28,30))\n",
        "b1 = init_params(30)\n",
        "w2 = init_params(30,1)\n",
        "b2 = init_params(1)"
      ]
    },
    {
      "cell_type": "markdown",
      "metadata": {
        "id": "hXa1MDTeif7X"
      },
      "source": [
        "The key point is that w1 has 30 outputs activations hence w2 must have 30 input activations so they match.That means the first layer constructs 30 different features which represent different sets of pixels. You can change the 30 to any random number you like depending on how complex you want the model.\n",
        "\n",
        "The function res.max(tensor(0.0)) is called a rectified linear unit, also known as a ReLu. what this does is it replaces every negative number with a 0.\n",
        "\n",
        "This is available in PyTorch as F.relu"
      ]
    },
    {
      "cell_type": "code",
      "execution_count": null,
      "metadata": {
        "id": "RDGXVE9lif7Y"
      },
      "outputs": [],
      "source": [
        "plot_function(F.relu)"
      ]
    },
    {
      "cell_type": "markdown",
      "metadata": {
        "id": "8-1OF4KDif7Z"
      },
      "source": [
        "Two linear layers added together result in one linear layer, so we can stack as many layers on top of each other, without a non linear function between them, it is the same as one layer.\n",
        "\n",
        "By having our model have more layers we can do more complex computation, and therefore model more complex functions, but there is no point oin doing this as multiplying things multiple times and adding them up multiple times can be replaced by multiplying different things together and once and adding them up just once just as explained above.\n",
        "\n",
        "But if we put a non linear layer between them, then this is no longer true meaning each layer can do their own work as they are decoupled from the other layers.\n",
        "\n",
        "Interestingly, it can be mathematically proven that this little function can solve any computable problem to an abirtary high level of accuracy if we can find the right values of w1 and w2 and make the matrices big enough.\n",
        "\n",
        "The three lines of code in the simple_net each represent layers.The first and third layers being the linear layers, while the second line is know as a non -linearity or an activation function.\n",
        "\n",
        "By taking advantange of PyTorch we can replace the lines of code with some simpler easier to understand code"
      ]
    },
    {
      "cell_type": "code",
      "execution_count": null,
      "metadata": {
        "id": "I7SrDJ8Cif7a"
      },
      "outputs": [],
      "source": [
        "simple_net = nn.Sequential(\n",
        "    nn.Linear(28*28,30),\n",
        "    nn.ReLU(),\n",
        "    nn.Linear(30,1)\n",
        ")"
      ]
    },
    {
      "cell_type": "markdown",
      "metadata": {
        "id": "t9fkAV7bif7b"
      },
      "source": [
        "nn.Sequential creates a module that calls each of the listed layers or functions in turn.\n",
        "\n",
        "nn.ReLu is also a PyTorch module that does the same thing as the F.relu function. Most functions appearing in a model also have identical form that are modules.\n",
        "\n",
        "nn.Sequential requires us to use the module version and since modules are classes, we have to instantiate them such as nn.ReLU().\n",
        "\n",
        "nn.Sequential is a module, so we can get its parameters, which return a list of all the parameters of all the modules it contains. So lets try it out, we give our model a lower learning rate and more epochs as it is a deeper model."
      ]
    },
    {
      "cell_type": "code",
      "execution_count": null,
      "metadata": {
        "id": "AbebBu8jif7d"
      },
      "outputs": [],
      "source": [
        "learn = Learner(dls, simple_net,opt_func=SGD,loss_func=mnist_loss,metrics=batch_accuracy)"
      ]
    },
    {
      "cell_type": "code",
      "execution_count": null,
      "metadata": {
        "id": "KEmR2Bxuif7e"
      },
      "outputs": [],
      "source": [
        "learn.fit(40,0.1)"
      ]
    },
    {
      "cell_type": "markdown",
      "metadata": {
        "id": "gB7_wq1lif7f"
      },
      "source": [
        "The training process is recorded in learn.recoder with the outputs stored in the values attribute.\n",
        "\n",
        "We can plot the accuracy over training as shown below"
      ]
    },
    {
      "cell_type": "code",
      "execution_count": null,
      "metadata": {
        "id": "lgeXgdSQif7g"
      },
      "outputs": [],
      "source": [
        "plt.plot(L(learn.recorder.values).itemgot(2));"
      ]
    },
    {
      "cell_type": "code",
      "execution_count": null,
      "metadata": {
        "id": "rzfZ_NTkif7h"
      },
      "outputs": [],
      "source": [
        "#final accuracy\n",
        "learn.recorder.values[-1][2]"
      ]
    },
    {
      "cell_type": "markdown",
      "metadata": {
        "id": "fiwTx79xif7k"
      },
      "source": [
        "We now have\n",
        "1. A function that can solve any problem to any given level of accuracy (neural network) given the correct set of parameters.\n",
        "2.  A way to find the best parameters for any given function (Stochastic Gradient Descent)."
      ]
    },
    {
      "cell_type": "markdown",
      "metadata": {
        "id": "quOHHEU8if7k"
      },
      "source": [
        "To Quote Jeremy Howard/Sylvain\n",
        "\n",
        "This is why deep learning can do things which seem rather magical, such fantastic things.\n",
        "Believing that this combination of simple techniques can really solve any problem is one of the\n",
        "biggest steps that we find many students have to take. It seems too good to be true—surely\n",
        "things should be more difficult and complicated than this?\n",
        "\n",
        "We can build deeper models and add up as many layers as we want, as long there is a non-linearity between the linear layers. In practice the deeper a model is, the harder the parameters are to optimize.\n",
        "\n",
        "If two linear layers with a single linearity are enough to approximate any given function, they why use deeper models.Turns out if we use deeper models, we need less paramters which results in smaller matrices with more layers and get better results than using large matrices with few layers.\n",
        "\n",
        "This means we can train the model quicker and use less memory"
      ]
    },
    {
      "cell_type": "code",
      "execution_count": null,
      "metadata": {
        "id": "RveAqOUDif77"
      },
      "outputs": [],
      "source": [
        "#lets compare our results from our simple net to using an 18 layer resnet model\n",
        "\n",
        "dls = ImageDataLoaders.from_folder(path)\n",
        "learn = vision_learner(dls, resnet18, pretrained=False,\n",
        " loss_func=F.cross_entropy, metrics=accuracy)"
      ]
    },
    {
      "cell_type": "code",
      "execution_count": null,
      "metadata": {
        "id": "U-RcO6OWif8C"
      },
      "outputs": [],
      "source": [
        "learn.fit_one_cycle(1, 0.1)"
      ]
    },
    {
      "cell_type": "markdown",
      "metadata": {
        "id": "L2_8MMR6if8D"
      },
      "source": [
        "As you can see for the same dataset we got nearly 100% accuracy while using 1 epoch.That is some difference from our simple_net.\n",
        "\n",
        "A neural network contains alot of numbers but they can be generally summed up into to.\n",
        "- Numbers that are calculated by the linear and non-linear layers also called activations.\n",
        "- Parameters that these numbers are calculated from i.e. w,b which are randomly chosen and optimized.\n",
        "  "
      ]
    },
    {
      "cell_type": "markdown",
      "metadata": {
        "id": "lBbX7JHcif8E"
      },
      "source": [
        "Fastai concept summary as quoted from the fastai book\n",
        "\n",
        "|ReLU | Function that returns 0 for negative numbers and doesn't\n",
        "change positive numbers\n",
        ".\n",
        "|Mini-batch | A small group of inputs and labels gathered together\n",
        "in two arrays. A gradient descent step is updated on this batch\n",
        "(rather than a whole epo\n",
        "ch).\n",
        "|Forward pass | Applying the model to some input and computing the\n",
        "predic\n",
        "tions.\n",
        "|Loss | A value that represents how well (or badly) our m\n",
        "del is\n",
        "\n",
        "doing.\n",
        "|Gradient | The derivative of the loss with respect to some\n",
        "parameter of\n",
        "the model.\n",
        "|Backward pass | Computing the gradients of the loss with respect to\n",
        "all model\n",
        " |arameters.\n",
        "|Gradient descent | Taking a step in the directions opposite to the\n",
        "gradients to make the model parameters a litt\n",
        "le bit better.\n",
        "|Learning rate | The size of the step we take when applying SGD to\n",
        "update the parameters of the model.\n"
      ]
    },
    {
      "cell_type": "markdown",
      "metadata": {
        "id": "XCUGOvSsif8G"
      },
      "source": [
        "Questionnaire\n",
        "1. How is a grayscale image represented on a computer? How about a color image?\n",
        "2. How are the files and folders in the MNIST_SAMPLE dataset structured? Why?\n",
        "3. Explain how the \"pixel similarity\" approach to classifying digits works.\n",
        "4. What is a list comprehension? Create one now that selects odd numbers from a list and\n",
        "doubles them.\n",
        "5. What is a \"rank-3 tensor\"?\n",
        "6. What is the difference between tensor rank and shape? How do you get the rank from the\n",
        "shape?\n",
        "7. What are RMSE and L1 norm?\n",
        "10/10/23, 11:21 PM Notebooks\n",
        "https://github.com/fastai/fastbook/blob/master/04_mnist_basics.ipynb 53/54\n",
        "8. How can you apply a calculation on thousands of numbers at once, many thousands of\n",
        "times faster than a Python loop?\n",
        "9. Create a 3×3 tensor or array containing the numbers from 1 to 9. Double it. Select the\n",
        "bottom-right four numbers.\n",
        "10. What is broadcasting?\n",
        "11. Are metrics generally calculated using the training set, or the validation set? Why?\n",
        "12. What is SGD?\n",
        "13. Why does SGD use mini-batches?\n",
        "14. What are the seven steps in SGD for machine learning?\n",
        "15. How do we initialize the weights in a model?\n",
        "16. What is \"loss\"?\n",
        "17. Why can't we always use a high learning rate?\n",
        "18. What is a \"gradient\"?\n",
        "19. Do you need to know how to calculate gradients yourself?\n",
        "20. Why can't we use accuracy as a loss function?\n",
        "21. Draw the sigmoid function. What is special about its shape?\n",
        "22. What is the difference between a loss function and a metric?\n",
        "23. What is the function to calculate new weights using a learning rate?\n",
        "24. What does the DataLoader class do?\n",
        "25. Write pseudocode showing the basic steps taken in each epoch for SGD.\n",
        "26. Create a function that, if passed two arguments [1,2,3,4] and 'abcd' , returns [(1,\n",
        "'a'), (2, 'b'), (3, 'c'), (4, 'd')] . What is special about that output data\n",
        "structure?\n",
        "27. What does view do in PyTorch?\n",
        "28. What are the \"bias\" parameters in a neural network? Why do we need them?\n",
        "29. What does the @ operator do in Python?\n",
        "30. What does the backward method do?\n",
        "31. Why do we have to zero the gradients?\n",
        "32. What information do we have to pass to Learner ?\n",
        "33. Show Python or pseudocode for the basic steps of a training loop.\n",
        "34. What is \"ReLU\"? Draw a plot of it for values from -2 to +2 .\n",
        "35. What is an \"activation function\"?\n",
        "36. What's the difference between F.relu and nn.ReLU ?\n",
        "37. The universal approximation theorem shows that any function can be approximated as\n",
        "closely as needed using just one nonlinearity. So why do we normally use more?\n"
      ]
    },
    {
      "cell_type": "code",
      "execution_count": null,
      "metadata": {
        "id": "EiwADh8mif8J"
      },
      "outputs": [],
      "source": []
    }
  ],
  "metadata": {
    "colab": {
      "provenance": [],
      "include_colab_link": true
    },
    "kernelspec": {
      "display_name": "Python 3 (ipykernel)",
      "language": "python",
      "name": "python3"
    },
    "language_info": {
      "codemirror_mode": {
        "name": "ipython",
        "version": 3
      },
      "file_extension": ".py",
      "mimetype": "text/x-python",
      "name": "python",
      "nbconvert_exporter": "python",
      "pygments_lexer": "ipython3",
      "version": "3.10.12"
    }
  },
  "nbformat": 4,
  "nbformat_minor": 0
}